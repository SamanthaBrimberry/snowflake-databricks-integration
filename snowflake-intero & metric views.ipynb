{
 "cells": [
  {
   "cell_type": "markdown",
   "metadata": {
    "application/vnd.databricks.v1+cell": {
     "cellMetadata": {},
     "inputWidgets": {},
     "nuid": "5f35562b-4e0b-43dd-a0d4-09a3617c1eb0",
     "showTitle": false,
     "tableResultSettingsMap": {},
     "title": ""
    }
   },
   "source": [
    "# Interoperability\n",
    "Many customers need Databricks and Snowflake to work seamlessly together. We will be covering two different aspects of interoperability:\n",
    "- **Snowflake** `reads` from Databricks\n",
    "- **Databricks** `reads` from Snowflake*\n",
    "\n",
    "_Note: Databricks provides multiple ways to access data residing in Snowflake. Some options are best suited for ad-hoc or lightweight processing, some are better suited for strict governance requirements_"
   ]
  },
  {
   "cell_type": "code",
   "execution_count": 0,
   "metadata": {
    "application/vnd.databricks.v1+cell": {
     "cellMetadata": {
      "byteLimit": 2048000,
      "rowLimit": 10000
     },
     "inputWidgets": {},
     "nuid": "f0cdef0e-8ebc-41f7-8bed-b5243ba246e0",
     "showTitle": false,
     "tableResultSettingsMap": {},
     "title": ""
    }
   },
   "outputs": [],
   "source": [
    "dbutils.widgets.text(\"catalog\", \"\")\n",
    "dbutils.widgets.text(\"iceberg_catalog\", \"\")\n",
    "dbutils.widgets.text(\"iceberg_schema\", \"\")\n",
    "dbutils.widgets.text(\"schema\", \"\")\n",
    "\n",
    "catalog = dbutils.widgets.get(\"catalog\")\n",
    "iceberg_catalog = dbutils.widgets.get(\"iceberg_catalog\")\n",
    "iceberg_schema = dbutils.widgets.get(\"iceberg_schema\")\n",
    "schema = dbutils.widgets.get(\"schema\")"
   ]
  },
  {
   "cell_type": "markdown",
   "metadata": {
    "application/vnd.databricks.v1+cell": {
     "cellMetadata": {},
     "inputWidgets": {},
     "nuid": "a676b124-4e9d-4b09-81ed-56a6d8f38e0f",
     "showTitle": false,
     "tableResultSettingsMap": {},
     "title": ""
    }
   },
   "source": [
    "## Databricks Reads Snowflake Tables\n",
    "<img src = \"./setup/databricks_reads_snowflake_arch.png\" width=\"800\">\n"
   ]
  },
  {
   "cell_type": "code",
   "execution_count": 0,
   "metadata": {
    "application/vnd.databricks.v1+cell": {
     "cellMetadata": {
      "byteLimit": 2048000,
      "implicitDf": true,
      "rowLimit": 10000
     },
     "inputWidgets": {},
     "nuid": "7bcc7542-cdd0-4040-835a-3152178fa110",
     "showTitle": true,
     "tableResultSettingsMap": {},
     "title": "Create External Location for Iceberg Data"
    }
   },
   "outputs": [],
   "source": [
    "%sql\n",
    "CREATE EXTERNAL LOCATION IF NOT EXISTS `iceberg_external_loaction_theme_park`\n",
    "URL 's3://themeparkiceberg'\n",
    "WITH (CREDENTIAL databrics_iceberg_role) --you need to create a role in aws\n",
    "COMMENT 'External location for iceberg data';"
   ]
  },
  {
   "cell_type": "code",
   "execution_count": 0,
   "metadata": {
    "application/vnd.databricks.v1+cell": {
     "cellMetadata": {
      "byteLimit": 2048000,
      "implicitDf": true,
      "rowLimit": 10000
     },
     "collapsed": true,
     "inputWidgets": {},
     "nuid": "3f7d9236-d1d2-4c4e-b7cf-223359eedcd7",
     "showTitle": true,
     "tableResultSettingsMap": {},
     "title": "List External Data Storage Locations"
    }
   },
   "outputs": [
    {
     "output_type": "display_data",
     "data": {
      "text/html": [
       "<style scoped>\n",
       "  .table-result-container {\n",
       "    max-height: 300px;\n",
       "    overflow: auto;\n",
       "  }\n",
       "  table, th, td {\n",
       "    border: 1px solid black;\n",
       "    border-collapse: collapse;\n",
       "  }\n",
       "  th, td {\n",
       "    padding: 5px;\n",
       "  }\n",
       "  th {\n",
       "    text-align: left;\n",
       "  }\n",
       "</style><div class='table-result-container'><table class='table-result'><thead style='background-color: white'><tr><th>name</th><th>url</th><th>comment</th></tr></thead><tbody><tr><td>00-lk2311-cuj-fat-sandboxfeaturetest-externallocation</td><td>s3://00-lk2311-cuj-fat-sandboxfeaturetest-bucket/</td><td>This is the external location feature that will access the S3 bucket</td></tr><tr><td>_advait_boehringer_image_recog_poc</td><td>s3://one-env-uc-external-location/_advait_boehringer_image_recog_poc</td><td>null</td></tr><tr><td>_advait_dasco_boehringer</td><td>s3://one-env-uc-external-location/advaitgodbole</td><td>null</td></tr><tr><td>_satishsathiya_hmsfed</td><td>s3://one-env-uc-external-location/_satishsathiya_hmsfed</td><td>external location for hms fed testing</td></tr><tr><td>a9o-extlocation01</td><td>s3://a9o-extlocation01-s3/</td><td>null</td></tr><tr><td>aaboode_ext_loc</td><td>s3://one-env-uc-external-location/aaboode</td><td></td></tr><tr><td>aaugustyniak-external-location</td><td>s3://one-env-uc-external-location/aaugustyniak</td><td>Testing Volume</td></tr><tr><td>abdi_dlt_stream</td><td>s3://one-env-uc-external-location/abdi_aon_amazon</td><td>null</td></tr><tr><td>abe-demo-ext-loc</td><td>s3://one-env-uc-external-location/abe</td><td>null</td></tr><tr><td>abhi-one-env-ext</td><td>s3://one-env-uc-external-location/abhi</td><td>null</td></tr><tr><td>abhisaxena</td><td>s3://one-env-uc-external-location/abhisaxena</td><td>one-env external location</td></tr><tr><td>abs-criteo</td><td>s3://one-env/abs/criteo</td><td>null</td></tr><tr><td>abs-msd</td><td>s3://oetrta/abs/msd</td><td></td></tr><tr><td>abs-nba-video</td><td>s3://one-env/abs/nba_video</td><td>null</td></tr><tr><td>achu-external-location</td><td>s3://one-env-uc-external-location/achu</td><td>null</td></tr><tr><td>ad-demo-bucket-24</td><td>s3://ad-demo-bucket-24/</td><td>null</td></tr><tr><td>ad-demo-bucket-24-3</td><td>s3://ad-demo-bucket-24-3/</td><td>null</td></tr><tr><td>ad-s3-demo-auto-bucket-01</td><td>s3://ad-s3-demo-auto-bucket-01/</td><td>null</td></tr><tr><td>ad-s3-demo-auto-bucket-02</td><td>s3://ad-s3-demo-auto-bucket-02/</td><td>null</td></tr><tr><td>ad-s3-demo-auto-bucket-03</td><td>s3://ad-s3-demo-auto-bucket-03/</td><td>null</td></tr><tr><td>ad-s3-demo-bucket-01</td><td>s3://ad-s3-demo-bucket-01/</td><td>null</td></tr><tr><td>ad-s3-demo-bucket-02</td><td>s3://ad-s3-demo-bucket-02/</td><td>null</td></tr><tr><td>ad-s3-demo-bucket-03</td><td>s3://ad-s3-demo-bucket-03/</td><td>null</td></tr><tr><td>ad_auction_edge</td><td>s3://databricks-e2demofieldengwest/ad_auction_edge</td><td>null</td></tr><tr><td>ad_demo_s3</td><td>s3://databricks-e2demofieldengwest/ad_data</td><td>null</td></tr><tr><td>ad_hudi_table</td><td>s3://ad-demo-bucket1/hudi_demo/hudi_table</td><td>null</td></tr><tr><td>ada-observations-delta</td><td>s3://ada-observations-delta/</td><td>null</td></tr><tr><td>ada-test-observations</td><td>s3://ada-observations-west/</td><td>null</td></tr><tr><td>adarsh-vol1-el</td><td>s3://adarsh-vol1/</td><td>null</td></tr><tr><td>adarsh_extrenal_location1</td><td>s3://one-env-uc-external-location/adarsh1</td><td>null</td></tr><tr><td>adia_test</td><td>s3://one-env-uc-external-location/adia-test</td><td>null</td></tr><tr><td>aditya-mandiwal-robinhood</td><td>s3://aditya-mandiwal/robinhood</td><td>location for robinhood poc</td></tr><tr><td>adls-llm-mfg-demo</td><td>abfss://mfg-llm-demo@abhishekgdcindpsgen2.dfs.core.windows.net/</td><td>null</td></tr><tr><td>afsana_external_location_prefix_level_202409</td><td>s3://afsana-test-bucket-202409/regular_data_folder</td><td>null</td></tr><tr><td>ag-one-env-ext</td><td>s3://one-env-uc-external-location/ag-aws-s3</td><td>null</td></tr><tr><td>ag_ext</td><td>s3://databricks-e2demofieldengwest/ag_ext</td><td>null</td></tr><tr><td>aghadi-external-location</td><td>s3://one-env-uc-external-location/ankita-ghadi</td><td>null</td></tr><tr><td>ahc-demo-s3-sandbox</td><td>s3://ahc-demo-s3-west/</td><td>S3 bucket in databricks-admin-sandbox account</td></tr><tr><td>ahc_s3_sandbox_new</td><td>s3://ahc-s3-sandbox/</td><td>null</td></tr><tr><td>ahtsa</td><td>s3://one-env-uc-external-location/aht-sa</td><td>s3 access </td></tr><tr><td>aj-one-env-el</td><td>s3://one-env-uc-external-location/abhayjalisatgi</td><td>null</td></tr><tr><td>aj_ext_loc</td><td>s3://databricks-avnishjain/</td><td></td></tr><tr><td>ajinkya-ext-loc</td><td>s3://one-env-uc-external-location/ajinkya-ext-loc</td><td>null</td></tr><tr><td>aka-external-sandbox</td><td>s3://akaexternal/</td><td>null</td></tr><tr><td>aka-iceberg</td><td>s3://one-env-uc-external-location/aka-iceberg</td><td>null</td></tr><tr><td>aka_snowberg_federation</td><td>s3://akainterop/</td><td>null</td></tr><tr><td>akamanaged</td><td>s3://akamanaged/</td><td>null</td></tr><tr><td>akangsha-external-location</td><td>s3://one-env-uc-external-location/akangsha-external-location</td><td>null</td></tr><tr><td>akangsha-healthcare-sample</td><td>s3://one-env-uc-external-location/akangsha-healthcare-sample</td><td>External location linking to S3 bucket to upload healthcare sample data</td></tr><tr><td>akash_external_location</td><td>s3://one-env-uc-external-location/akash-external-location</td><td>null</td></tr><tr><td>akrishn_fe_dsa</td><td>s3://one-env-uc-external-location/akrishn_fe_dsa</td><td>null</td></tr><tr><td>akshay_ext</td><td>s3://akshayamin-demo-bucket/user_parquet_fam</td><td>null</td></tr><tr><td>akshay_ext_2</td><td>s3://databricks-akshayamin/</td><td>null</td></tr><tr><td>akshay_uc_to_glue_ext</td><td>s3://databricks-akshayamin-sbx/</td><td>null</td></tr><tr><td>akshay_uc_to_glue_ext_2</td><td>s3://databricks-akshayamin-sbx-2/</td><td>null</td></tr><tr><td>al135</td><td>s3://databricks-e2demofieldengwest/al135</td><td>null</td></tr><tr><td>al135_ext</td><td>s3://one-env-uc-external-location/al135</td><td>null</td></tr><tr><td>alan-demo</td><td>s3://databricks-e2demofieldengwest/alan</td><td>null</td></tr><tr><td>alan_choi_ext_loc</td><td>s3://one-env-uc-external-location/alanchoi</td><td>null</td></tr><tr><td>aleung</td><td>s3://one-env/aleung</td><td>null</td></tr><tr><td>alex-feng-s3</td><td>s3://one-env/alex-feng</td><td>null</td></tr><tr><td>alexandru_ext</td><td>s3://one-env-uc-external-location/alexandru</td><td>null</td></tr><tr><td>alexnextloc</td><td>s3://one-env-uc-external-location/alexn</td><td>null</td></tr><tr><td>ali_sayeed</td><td>s3://alisayeed/</td><td>null</td></tr><tr><td>ali_sayeed_fy26</td><td>s3://ali-sayeed-fy26/</td><td>null</td></tr><tr><td>alire-test-ext-loc</td><td>s3://databricks-e2demofieldengwest/alire</td><td>null</td></tr><tr><td>alp-extloc-realestatefr</td><td>s3://alp-realestatefr/</td><td>null</td></tr><tr><td>amir-test</td><td>s3://databricks-amir-retail-images/</td><td>null</td></tr><tr><td>ams-demo</td><td>s3://databricks-ams-demo/</td><td>null</td></tr><tr><td>anallan</td><td>s3://one-env-uc-external-location/anallan</td><td>null</td></tr><tr><td>andrea-santurbano-bkt</td><td>s3://andrea-santurbano-bkt/</td><td>null</td></tr><tr><td>andrea_santurbano_external</td><td>s3://one-env-uc-external-location/andrea_santurbano</td><td>null</td></tr><tr><td>andreatardif_test</td><td>s3://one-env-uc-external-location/andreatardif</td><td>null</td></tr><tr><td>animal_videos</td><td>s3://databricks-e2demofieldengwest/animal_videos</td><td>External Location for demos</td></tr><tr><td>anindita-dr-tokyo</td><td>s3://anindita-dr-tokyo/</td><td>null</td></tr><tr><td>anindita-west2-bucket</td><td>s3://one-env-uc-external-location/anindita-west2-bucket</td><td>null</td></tr><tr><td>anish-test</td><td>s3://one-env/anishtest</td><td>test</td></tr><tr><td>anish_test</td><td>s3://one-env-uc-external-location/anishtest</td><td>null</td></tr><tr><td>anjali_ext_location</td><td>s3://one-env-uc-external-location/demo_datasets</td><td>null</td></tr><tr><td>ankity-external-location</td><td>s3://ankity-test-bucket/</td><td>null</td></tr><tr><td>ankur</td><td>s3://one-env-uc-external-location/ankur</td><td>null</td></tr><tr><td>ankurexternnallocaation</td><td>s3://one-env-uc-external-location/ankurlocaation</td><td>null</td></tr><tr><td>antonb</td><td>s3://oetrta/antonb</td><td>null</td></tr><tr><td>arana-loc</td><td>s3://databricks-rafa/</td><td>null</td></tr><tr><td>archana-ext1</td><td>s3://one-env-uc-external-location/archana-ext/loc1</td><td>null</td></tr><tr><td>archana-uc-catlog1</td><td>s3://archana-uc-bucket/uc-catalog1</td><td></td></tr><tr><td>arcion_testing</td><td>s3://oetrta/arcion_testing</td><td>null</td></tr><tr><td>areese-external-location</td><td>s3://one-env-uc-external-location/areese</td><td>null</td></tr><tr><td>arnav-one-env-ext</td><td>s3://one-env-uc-external-location/arnav-aws-s3</td><td>external location for catalog</td></tr><tr><td>arnav_hms_test</td><td>s3://one-env-uc-external-location/arnav_hms_test</td><td>arnav-testing</td></tr><tr><td>aruna_b_ext</td><td>s3://oetrta/aruna_b</td><td>null</td></tr><tr><td>arv_s3_ext_loc_de_poc</td><td>s3://one-env-uc-external-location/arv-test</td><td>null</td></tr><tr><td>ash-ext-loc-allwyn</td><td>s3://databricks-ash/</td><td>null</td></tr><tr><td>asher</td><td>s3://databricks-e2demofieldengwest/asher</td><td>Asher Bartch demo location</td></tr><tr><td>ashwin-external-location</td><td>s3://one-env-uc-external-location/ashwin-sundaram</td><td>null</td></tr><tr><td>ashwin-sundaram-2</td><td>s3://one-env-uc-external-location/ashwin-sundaram-2</td><td>null</td></tr><tr><td>ask_external</td><td>s3://one-env-uc-external-location/karthik_subramanya_externalloc</td><td>null</td></tr><tr><td>ask_managed</td><td>s3://one-env-uc-external-location/karthik_subramanya_managedloc</td><td>null</td></tr><tr><td>asong_demo_loc</td><td>s3://databricks-e2demofieldengwest/aprilsong</td><td>null</td></tr><tr><td>atilak-managed-uniform</td><td>s3://atilak-managed-uniform/</td><td>null</td></tr><tr><td>atilak_lakehouse_s3</td><td>s3://atilak-lakehouse/</td><td>null</td></tr><tr><td>autoloader_checkpoint</td><td>s3://databricks-dev-autoloader/</td><td>Checkpoint and schema evolution for Autoloader</td></tr><tr><td>avc123</td><td>s3://derp.derpd/lurp/kerp</td><td>null</td></tr><tr><td>avlasov-reusable</td><td>s3://one-env-uc-external-location/avlasov_reusable</td><td>null</td></tr><tr><td>aweaver-external-location</td><td>s3://one-env-uc-external-location/aweaver</td><td>null</td></tr><tr><td>aweaver-us-west-2</td><td>s3://aweaver-us-west-2/</td><td>null</td></tr><tr><td>aws-external-storage-esteca-us-east-1</td><td>s3://s3-cross-regoion-bucket-e2/</td><td>null</td></tr><tr><td>aws-s3-hudi</td><td>s3://mayur-tayde/</td><td>null</td></tr><tr><td>az-autoloader-demo</td><td>s3://one-env-uc-external-location/az_autoloader_demo</td><td>null</td></tr><tr><td>bb-one-env</td><td>s3://one-env/tmp_bryn</td><td>null</td></tr><tr><td>bbbs3connect</td><td>s3://bbbtcbforvllmandhftwo/</td><td>null</td></tr><tr><td>bc-exp-uc-external-loc</td><td>s3://bc-uc-demo-us-west-2/</td><td>null</td></tr><tr><td>bchin_demo_external_location</td><td>s3://databricks-e2demofieldengwest/bchin_external_location</td><td>Testing External Location Functionality</td></tr><tr><td>bchin_external_volume_example</td><td>s3://databricks-e2demofieldengwest/bchin_volume_external_folder</td><td>null</td></tr><tr><td>bchin_managed_catalog_external_location</td><td>s3://databricks-e2demofieldengwest/bchin_managed_catalog</td><td>Managed Catalog Test for Ben C</td></tr><tr><td>beatrice_liew_ext</td><td>s3://one-env-uc-external-location/beatrice-liew</td><td>null</td></tr><tr><td>beatrice_read_only</td><td>s3://beatrice-bucket/</td><td>null</td></tr><tr><td>benchmark-databricks-general-usw2</td><td>s3://benchmark-databricks-general-usw2/</td><td>null</td></tr><tr><td>benchops_data</td><td>s3://benchops-data-west/</td><td>null</td></tr><tr><td>benjamin_chin_managed_catalog_location</td><td>s3://databricks-e2demofieldengwest/benjamin_chin_managed_catalog_location</td><td>External Location for benjamin_chin_managed_catalog_location</td></tr><tr><td>benjamin_chin_managed_schema_location</td><td>s3://databricks-e2demofieldengwest/benjamin_chin_managed_schema_location</td><td>External Location for benjamin_chin_managed_schema_location</td></tr><tr><td>bhagyashri_internal_demo</td><td>s3://one-env/bhagyashridemo</td><td>null</td></tr><tr><td>bharath-databricks-hms-storage</td><td>s3://bharath-databricks-hms-storage/</td><td>null</td></tr><tr><td>bharath-periyasamy</td><td>s3://one-env-uc-external-location/bharath-periyasamy</td><td>null</td></tr><tr><td>bharath_glue_authorized_paths_loc</td><td>s3://bharath-iceberg-federation-table-loc/</td><td>null</td></tr><tr><td>bharathp_ext_loc</td><td>s3://databricks-e2demofieldengwest/bharathp_ext</td><td>null</td></tr><tr><td>bhima_test_s3_location</td><td>s3://one-env-uc-external-location/Bhima</td><td>null</td></tr><tr><td>bjar-ext-loc</td><td>s3://one-env-uc-external-location/bjar</td><td>null</td></tr><tr><td>bjar-gen-sbx-bkt-usw1</td><td>s3://bjar-gen-sbx-bkt-usw1/</td><td>null</td></tr><tr><td>bk_demo</td><td>s3://one-env-uc-external-location/bk_demo</td><td>null</td></tr><tr><td>bkvarda-one-env</td><td>s3://one-env-uc-external-location/bkvarda</td><td>null</td></tr><tr><td>bloomberg_ext</td><td>s3://databricks-e2demofieldengwest/main/bloomberg</td><td>null</td></tr><tr><td>bmathew_external_location_1</td><td>s3://one-env-uc-external-location/bmathew_ext</td><td>null</td></tr><tr><td>bmathew_one_env</td><td>s3://one-env/bmathew/sample_delta_table</td><td>null</td></tr><tr><td>bmathew_uc_primary</td><td>s3://one-env-uc-external-location/bmathew/uc-primary</td><td>null</td></tr><tr><td>bmathew_uc_secondary</td><td>s3://oetrta/bmathew/uc-secondary</td><td>null</td></tr><tr><td>bo-cheng-glue-external-location</td><td>s3://oetrta/ah/example_userdata</td><td>null</td></tr><tr><td>borisbb_oneenv</td><td>s3://oetrta/boris</td><td>null</td></tr><tr><td>bq_profiling</td><td>s3://one-env-uc-external-location/bq_profiling</td><td>Do Not Delete: Data for BQ Profiler</td></tr><tr><td>bradford_oneenv_uc</td><td>s3://one-env-uc-external-location/bradford</td><td>null</td></tr><tr><td>brady-tello-uc-ws</td><td>s3://brady-tello-uc-ws/</td><td>null</td></tr><tr><td>brian-ham-test</td><td>s3://one-env-uc-external-location/brian-ham-test</td><td>null</td></tr><tr><td>bruno-oliveira-demo-db</td><td>s3://bruno-oliveira-demo-db-us-west-2-332745928618/</td><td>null</td></tr><tr><td>btafur-test</td><td>s3://one-env-uc-external-location/btafur-test</td><td>null</td></tr><tr><td>btafur_demos_external_location</td><td>s3://one-env-uc-external-location/btafur</td><td>null</td></tr><tr><td>btello_one_env_s3</td><td>s3://one-env-uc-external-location/btello</td><td>null</td></tr><tr><td>btello_target_one_env_s3</td><td>s3://one-env-uc-external-location/btello_target</td><td>null</td></tr><tr><td>caio-demo-airbnb</td><td>s3://caio-demo-airbnb/</td><td>Caio demo</td></tr><tr><td>camilaqueiroz</td><td>s3://one-env-uc-external-location/camilaqueiroz</td><td>To create demos</td></tr><tr><td>carrossoni</td><td>s3://one-env-uc-external-location/carrossoni</td><td>for luiz carrossoni demos</td></tr><tr><td>cb-external-location</td><td>s3://cb-test-external-location/</td><td>null</td></tr><tr><td>cb_aws_external</td><td>s3://one-env/cb-demos</td><td>null</td></tr><tr><td>cdc-map</td><td>s3://one-env-uc-external-location/mayureshp-folder</td><td>null</td></tr><tr><td>cdcp_hive_external</td><td>s3://oetrta/cdcp_hive</td><td>null</td></tr><tr><td>cdelecki_ext_loc</td><td>s3://one-env-uc-external-location/cdelecki</td><td>null</td></tr><tr><td>cdg-dork</td><td>s3://one-env-uc-external-location/cdg_dork</td><td>null</td></tr><tr><td>cdh_external_location_glue</td><td>s3://one-env-uc-external-location/glue</td><td>this location is having access to external storage</td></tr><tr><td>cengage</td><td>s3://cengage-demo/</td><td>External Location in Databricks</td></tr><tr><td>cgrant</td><td>s3://one-env-uc-external-location/cgrant</td><td>null</td></tr><tr><td>chaima-oneenv</td><td>s3://one-env-uc-external-location/cberrachdi</td><td>null</td></tr><tr><td>chaman-ext-loc-s3</td><td>s3://databricks-e2demofieldengwest/chaman-test-ext-loc</td><td>null</td></tr><tr><td>chandler_test_extloc</td><td>s3://databricks-e2demofieldengwest/chandler_test_extloc/twilio_lz</td><td>null</td></tr><tr><td>chang-ext-loc</td><td>s3://one-env-uc-external-location/chang-uc</td><td>null</td></tr><tr><td>chuang_external_location</td><td>s3://one-env-uc-external-location/chuang</td><td>null</td></tr><tr><td>chulkang_location</td><td>s3://databricks-e2demofieldengwest/chulkang</td><td>null</td></tr><tr><td>cigna-share</td><td>s3://cignahealthcare-databricks/</td><td>null</td></tr><tr><td>ckdr-ext-vol</td><td>s3://one-env-uc-external-location/ckdr-testdr</td><td>null</td></tr><tr><td>ckdr2ext</td><td>s3://one-env-uc-external-location/ckdr2</td><td>null</td></tr><tr><td>ckdrext</td><td>s3://one-env-uc-external-location/ckdr</td><td>null</td></tr><tr><td>clayton-demo-bucket</td><td>s3://claytondemobucket/</td><td>null</td></tr><tr><td>cmoore_oneenv</td><td>s3://one-env-uc-external-location/cmoore</td><td>null</td></tr><tr><td>cody_demos_location</td><td>s3://one-env-uc-external-location/cody_demos</td><td>null</td></tr><tr><td>compass_ext_location_1</td><td>s3://one-env-uc-external-location/compass_test_location</td><td>Deployed via TF</td></tr><tr><td>craig-lukasik-ext</td><td>s3://databricks-craig-lukasik-ext-loc/external-table</td><td>null</td></tr><tr><td>craig-lukasik-ext-demo</td><td>s3://databricks-craig-lukasik-ext-loc-demo/external-table</td><td>null</td></tr><tr><td>cs_external_location_test</td><td>s3://one-env-uc-external-location/test</td><td>null</td></tr><tr><td>csc168-one-env-ext-loc</td><td>s3://one-env/csc168</td><td>null</td></tr><tr><td>cyberdyne-bucket</td><td>s3://one-env-uc-external-location/cyberdyne</td><td>null</td></tr><tr><td>cyl_external_location</td><td>s3://databricks-e2demofieldengwest/chiayui_lee_sandbox</td><td>null</td></tr><tr><td>cyl_one_env_ext_location</td><td>s3://one-env-uc-external-location/chiayui-lee</td><td>Demo external location on one-env bucket</td></tr><tr><td>dahora-demo-01</td><td>s3://dahora-demo-01/</td><td>null</td></tr><tr><td>dahora-demo-bucket02</td><td>s3://dahora-demo-bucket02/</td><td>null</td></tr><tr><td>dahora-demo-bucket03</td><td>s3://dahora-demo-bucket03/</td><td>null</td></tr><tr><td>daniel-martinez-demos</td><td>s3://daniel-martinez-demos/</td><td>null</td></tr><tr><td>daniel-martinez-demos-2</td><td>s3://daniel-martinez-dbx-demo/</td><td>null</td></tr><tr><td>daniel-martinez-wh</td><td>s3://databricks-e2demofieldengwest/daniel-martinez</td><td>null</td></tr><tr><td>danielhaviv-one-env</td><td>s3://one-env-uc-external-location/danielhaviv</td><td>null</td></tr><tr><td>danielhaviv_oetrta</td><td>s3://oetrta/danielhaviv</td><td>null</td></tr><tr><td>dannywong</td><td>s3://databricks-dannywong-uc/external</td><td>null</td></tr><tr><td>databricks-acao-ext-loc</td><td>s3://databricks-acao/</td><td>null</td></tr><tr><td>databricks-aladda</td><td>s3://databricks-aladda/</td><td>null</td></tr><tr><td>databricks-benchmarks</td><td>s3://databricks-benchmarks/</td><td>null</td></tr><tr><td>databricks-bharath-ext-src-dir</td><td>s3://databricks-bharath-ext-src/source_dir</td><td>null</td></tr><tr><td>databricks-bharath-ext-target-dir</td><td>s3://databricks-bharath-ext-src/target_dir</td><td>null</td></tr><tr><td>databricks-bp-glue-table-loc</td><td>s3://databricks-bp-glue-table-loc/</td><td>null</td></tr><tr><td>databricks-demo-data-us-west-2</td><td>s3://databricks-demo-data-us-west-2/uc-data</td><td>null</td></tr><tr><td>databricks-dkushari</td><td>s3://databricks-dkushari/</td><td>null</td></tr><tr><td>databricks-edward-ext-test-s3</td><td>s3://databricks-ext-test-s3/</td><td>null</td></tr><tr><td>databricks-edward-external-s3</td><td>s3://databricks-edward-external-s3/</td><td>null</td></tr><tr><td>databricks-edward-iceberg</td><td>s3://databricks-edward-test/</td><td>null</td></tr><tr><td>databricks-edward-shin</td><td>s3://databricks-edward-shin/</td><td>null</td></tr><tr><td>databricks-edward-shin-s3</td><td>s3://databricks-edward-shin-test/</td><td>null</td></tr><tr><td>databricks-instanceprofile</td><td>s3://databricks-douglasmoore/</td><td>test Instance profile to storage credential</td></tr><tr><td>databricks-keappdatadev-ext-s3</td><td>s3://databricks-edward-kms/</td><td>null</td></tr><tr><td>databricks-marat-levit</td><td>s3://one-env-uc-external-location/marat-levit</td><td>null</td></tr><tr><td>databricks-pparikh-s3-location</td><td>s3://one-env-uc-external-location/pparikh</td><td>null</td></tr><tr><td>databricks-s3-ingest-pedro-zanela</td><td>s3://pz-bucket-ia/</td><td>null</td></tr><tr><td>databricks-smunigati</td><td>s3://databricks-smunigati/</td><td>null</td></tr><tr><td>databricks-smunigati-customer_a</td><td>s3://databricks-smunigati-customers/customer_a</td><td>test</td></tr><tr><td>databricks-solacc-marketplace</td><td>s3://databricks-solacc-marketplace/</td><td>null</td></tr><tr><td>databricks-wb-bigdata-paris-connection</td><td>s3://databricks-wb-bigdata-paris/</td><td>null</td></tr><tr><td>databricks_bharath_ext_loc_target_dir_notification</td><td>s3://databricks-bharath-ext-src/target_dir_notification</td><td>null</td></tr><tr><td>databricks_ip_test_s3_loc</td><td>s3://databricks-ip-test/</td><td>null</td></tr><tr><td>databricks_uc_ext_test</td><td>s3://databricks-e2demofieldengwest/giri_patchamatla_test</td><td>null</td></tr><tr><td>datasource</td><td>s3://one-env-uc-external-location/tarik/datasource</td><td>null</td></tr><tr><td>daveok-iceberg</td><td>s3://daveok-iceberg-catch/</td><td>null</td></tr><tr><td>daveok_external</td><td>s3://one-env-uc-external-location/daveok_external</td><td>Used for testing the Coles scenario</td></tr><tr><td>david-radford</td><td>s3://databricks-david-radford/</td><td>null</td></tr><tr><td>db-abhilash-use1</td><td>s3://db-abhilash-use1/</td><td>null</td></tr><tr><td>db-demo-yash</td><td>s3://db-demos-yash/</td><td>null</td></tr><tr><td>db-gtm-industry-solutions-el</td><td>s3://db-gtm-industry-solutions/data/rcg/comtrade</td><td>null</td></tr><tr><td>db-s3-rtsuboi</td><td>s3://db-s3-rtsuboi/data</td><td>null</td></tr><tr><td>db_s3_external_azofeifa-s3externalbucket</td><td>s3://azofeifas3bucket/</td><td>null</td></tr><tr><td>db_s3_external_databricks-s3-ingest-1dad3</td><td>s3://derekcleanroom/</td><td>null</td></tr><tr><td>db_s3_external_databricks-s3-ingest-25f9f</td><td>s3://rajeshag-demo-us-west-2-332745928618/</td><td>null</td></tr><tr><td>db_s3_external_databricks-s3-ingest-370e0</td><td>s3://nan-external-location-ap-southeast-1-332745928618/</td><td>null</td></tr><tr><td>db_s3_external_databricks-s3-ingest-378c4</td><td>s3://oracle-db-storage-mz/</td><td>null</td></tr><tr><td>db_s3_external_databricks-s3-ingest-3b502</td><td>s3://kuwano-demo-autoloader-s3/</td><td>null</td></tr><tr><td>db_s3_external_databricks-s3-ingest-3cc29</td><td>s3://pallavimishratestbucket/</td><td>null</td></tr><tr><td>db_s3_external_databricks-s3-ingest-46bd9</td><td>s3://workshop-bucket-396548483691/</td><td>null</td></tr><tr><td>db_s3_external_databricks-s3-ingest-48245</td><td>s3://test-smiles-1/</td><td>null</td></tr><tr><td>db_s3_external_databricks-s3-ingest-74d63</td><td>s3://deoawsbucket999/</td><td>null</td></tr><tr><td>db_s3_external_databricks-s3-ingest-7aafd</td><td>s3://tomi-schumacher-s3/</td><td>null</td></tr><tr><td>db_s3_external_databricks-s3-ingest-89fbe</td><td>s3://yubin-s3-ext-loc/</td><td>null</td></tr><tr><td>db_s3_external_databricks-s3-ingest-91b69</td><td>s3://mattcutini/</td><td>null</td></tr><tr><td>db_s3_external_databricks-s3-ingest-a2fdd</td><td>s3://venkytestbrick/</td><td>null</td></tr><tr><td>db_s3_external_databricks-s3-ingest-a43b7</td><td>s3://snow-iceberg-data/</td><td>null</td></tr><tr><td>db_s3_external_databricks-s3-ingest-b2f71</td><td>s3://testbucketbtafur/</td><td>null</td></tr><tr><td>db_s3_external_databricks-s3-ingest-ba353</td><td>s3://nan-ext-location/</td><td>null</td></tr><tr><td>db_s3_external_databricks-s3-ingest-c2347</td><td>s3://sts-julian-bucket-demo/</td><td>null</td></tr><tr><td>db_s3_external_databricks-s3-ingest-c2f3b</td><td>s3://sanjeev-bucket-2/</td><td>null</td></tr><tr><td>db_s3_external_databricks-s3-ingest-eb851</td><td>s3://ad-demo-bucket-24-1/</td><td>null</td></tr><tr><td>db_s3_external_databricks-s3-ingest-f24b3</td><td>s3://ss-hive-test2/</td><td>null</td></tr><tr><td>db_s3_external_databricks-s3-ingest-ff49f</td><td>s3://yuki-shiga-external-schema/</td><td>null</td></tr><tr><td>db_s3_external_databricks-s3-ingest-suv-dbx-stack</td><td>s3://suv-dbx-s3bucket/</td><td>null</td></tr><tr><td>db_s3_external_yuki-shiga-iceberg-test</td><td>s3://yuki-shiga-iceberg-test/</td><td>null</td></tr><tr><td>dbacademy_bo_z_databricks_com_schema</td><td>s3://one-env-uc-external-location/dbacademy_bo_z_databricks_com_schema</td><td>uc demo by bo</td></tr><tr><td>dbdemo-sk-01-s3</td><td>s3://dbdemo-sk-01/root/ext_tables</td><td>null</td></tr><tr><td>dbdemos_vp_tables</td><td>s3://one-env-uc-external-location/dbdemos_vp_tables</td><td>null</td></tr><tr><td>ddavis_demo</td><td>s3://ddavisdemobucket/</td><td>null</td></tr><tr><td>ddavis_demo_external_location</td><td>s3://one-env-uc-external-location/ddavis_demo</td><td>null</td></tr><tr><td>de-brick-demos-s3</td><td>s3://de-brick-demos/</td><td>null</td></tr><tr><td>declan_external_location</td><td>s3://one-env/declan_meaney</td><td>declan demo location</td></tr><tr><td>deltaoms-may24-external-location</td><td>s3://databricks-deltaoms/deltaoms-may24</td><td>DeltaOMS External Location</td></tr><tr><td>delvin_low_ext_loc</td><td>s3://one-env-uc-external-location/delvin.low/demo_sources</td><td>Demo location for AWS exernal data</td></tr><tr><td>demo-credit-card-data-analysisraw</td><td>s3://demo-credit-card-data-analysisraw/</td><td>null</td></tr><tr><td>demo_datta_s3_ext_loc</td><td>s3://demo-dattaw-test/</td><td>s3 uc demo</td></tr><tr><td>demo_ext_kilaris</td><td>s3://one-env-uc-external-location/kilaris</td><td>null</td></tr><tr><td>demo_parquet</td><td>s3://one-env-uc-external-location/sourav_parquet</td><td>null</td></tr><tr><td>demo_sourav_external</td><td>s3://one-env-uc-external-location/sourav_delta</td><td>null</td></tr><tr><td>demo_taran</td><td>s3://one-env-uc-external-location/demo-taran</td><td>null</td></tr><tr><td>dereksun</td><td>s3://dereksunbucket/</td><td>catalog on derek sun bucket</td></tr><tr><td>dgt</td><td>s3://databricks-e2demofieldengwest/dgt</td><td>null</td></tr><tr><td>dh-databricks-external-location</td><td>s3://dh-aws-databricks/</td><td>null</td></tr><tr><td>dhgdemoexternallocatoin</td><td>s3://dhgdemobucket0702/data</td><td>null</td></tr><tr><td>digan_location</td><td>s3://databricks-digan/</td><td>null</td></tr><tr><td>digan_one_env</td><td>s3://one-env-uc-external-location/diganparikh</td><td>null</td></tr><tr><td>dineshkumar_ext</td><td>s3://one-env-uc-external-location/dineshkumar</td><td>null</td></tr><tr><td>dkim_ext</td><td>s3://databricks-dkim/</td><td>null</td></tr><tr><td>dkushari-east-1-loc</td><td>s3://databricks-dkushari-useast1/</td><td>null</td></tr><tr><td>dkushari-uc-el</td><td>s3://dkushari-databricks-us-west-2/</td><td>null</td></tr><tr><td>dlt-autoloader-landing</td><td>s3://one-env-uc-external-location/am-auto-loader-test</td><td>This is Amin's folder for DLT autoloader landing</td></tr><tr><td>dnks-ext-location</td><td>s3://dnks-brenntag-bucket/</td><td>null</td></tr><tr><td>dongwook-databricks</td><td>s3://databricks-dongwook/databricks</td><td>null</td></tr><tr><td>dongwook-demos</td><td>s3://databricks-dongwook/demos</td><td>Customer DEMO </td></tr><tr><td>dongwook-one-env</td><td>s3://one-env-uc-external-location/dongwook</td><td>null</td></tr><tr><td>dongwook-test</td><td>s3://databricks-dongwook/test</td><td>null</td></tr><tr><td>donidoni-hanhwa</td><td>s3://donidoni-hanhwa-bucket/</td><td>null</td></tr><tr><td>douglas_mooore_field_demos_external_location</td><td>s3://databricks-e2demofieldengwest/douglas_moore_sandbox_demos</td><td>External Location for demos for douglas moore</td></tr><tr><td>dps-access-test</td><td>s3://wharmer-dps-bucket/data/csv</td><td>null</td></tr><tr><td>droy-uc-vol1</td><td>s3://one-env-uc-external-location/droy-uc-vol1</td><td>null</td></tr><tr><td>droy_uc_ext_s3</td><td>s3://one-env-uc-external-location/droy_uc_external_volume</td><td>null</td></tr><tr><td>ds100-external-location</td><td>s3://ds100-glue-federation/</td><td>null</td></tr><tr><td>dsatty-ext-location</td><td>s3://dsatty-demo-bucket/</td><td>null</td></tr><tr><td>dsml-tt-rw-files</td><td>s3://databricks-dsml-tt/rw_files</td><td>External location for reading and writing files in an s3 bucket. </td></tr><tr><td>dsml_tt_catalogs</td><td>s3://databricks-dsml-tt/uc_catalogs</td><td>Share Technical Serivces Team's location for creating catalogs with managed data for demo purposes. </td></tr><tr><td>dss_aps_demo</td><td>s3://one-env-uc-external-location/dss_aps_demo</td><td>null</td></tr><tr><td>dss_d4_dataextloc</td><td>s3://dssdatabucket4/</td><td>null</td></tr><tr><td>dss_d4_storageextloc</td><td>s3://dssbucketstoraged4/</td><td>null</td></tr><tr><td>dt_temp</td><td>s3://oetrta/dt_temp</td><td>null</td></tr><tr><td>dttemp</td><td>s3://oetrta/dttemp</td><td>null</td></tr><tr><td>dustin-vannoy-test2</td><td>s3://one-env-uc-external-location/dustin.vannoy2</td><td>null</td></tr><tr><td>dustinvannoy-ext-loc</td><td>s3://one-env-uc-external-location/dustin.vannoy</td><td>null</td></tr><tr><td>dw_dfe</td><td>s3://databricks-dannywong-uc/dfe_sa</td><td>null</td></tr><tr><td>edf</td><td>s3://one-env-uc-external-location/tarik/edf</td><td>null</td></tr><tr><td>efranceschi_glue</td><td>s3://efranceschi/</td><td>null</td></tr><tr><td>egb-test-emirates-uc</td><td>s3://egb-test-emirates-uc/</td><td>null</td></tr><tr><td>egb_external_location</td><td>s3://one-env-uc-external-location/egb</td><td>null</td></tr><tr><td>ehmsfed_loc</td><td>s3://oetrta/dkushari</td><td>null</td></tr><tr><td>ehoel_external_location</td><td>s3://databricks-e2demofieldengwest/ehoel</td><td>External Location for ehoel demos</td></tr><tr><td>elizabethsexternal</td><td>s3://elizabethsnewbucket2/</td><td>null</td></tr><tr><td>elizabethsexternal3</td><td>s3://elizabethsbucket3/</td><td>null</td></tr><tr><td>engie-bess</td><td>s3://bess-iot/</td><td>external location to access data generated for Engie BESS demonstrator</td></tr><tr><td>engie-cdh-datasource-lei</td><td>s3://one-env-uc-external-location/tarik/cdh-datasource-lei</td><td>null</td></tr><tr><td>engie-iceberg</td><td>s3://one-env/engie-iceberg</td><td>null</td></tr><tr><td>engie-landing</td><td>s3://one-env-uc-external-location/tarik/landing</td><td>landing zone for Engie</td></tr><tr><td>eo000_ext_loc0</td><td>s3://eo000ext/</td><td>this is here</td></tr><tr><td>eo000_ext_loc1</td><td>s3://eo000ext1/</td><td>this is here</td></tr><tr><td>eoneill</td><td>s3://one-env-uc-external-location/eoneill</td><td>null</td></tr><tr><td>eriadepoju-testdata</td><td>s3://eriadepoju-testdata/</td><td>null</td></tr><tr><td>es_demo</td><td>s3://one-env/emma</td><td>null</td></tr><tr><td>esteca-external-location</td><td>s3://one-env-uc-external-location/esteca-demo</td><td>null</td></tr><tr><td>etl_svemula_test</td><td>s3://one-env-uc-external-location/etl_svemula_test</td><td>null</td></tr><tr><td>eumar-one-env-external-location</td><td>s3://one-env-uc-external-location/eumar</td><td>null</td></tr><tr><td>eumar-one-env-external-location-eumaroms</td><td>s3://one-env-uc-external-location/eumar-oms</td><td>null</td></tr><tr><td>eumar-one-env-external-location-eumaromslogs</td><td>s3://one-env-uc-external-location/eumar-omslogs</td><td>null</td></tr><tr><td>eumar-one-env-external-location-novolume</td><td>s3://one-env-uc-external-location/eumar-ext</td><td>null</td></tr><tr><td>ext-aws-mdeng-sbx</td><td>s3://databricks-mdeng-sbx/</td><td></td></tr><tr><td>ext-borin</td><td>s3://one-env-uc-external-location/borin</td><td>null</td></tr><tr><td>ext-loc-mrap-east</td><td>s3://mrap-db-useast1/</td><td>null</td></tr><tr><td>ext-loc-mrap-west</td><td>s3://mrap-db-uswest2/</td><td>null</td></tr><tr><td>ext-location-ricardo</td><td>s3://one-env-uc-external-location/ricardo_sf</td><td>null</td></tr><tr><td>ext_ishikawa</td><td>s3://one-env-uc-external-location/ishikawa</td><td>null</td></tr><tr><td>ext_loc_mm</td><td>s3://one-env-uc-external-location/martin_mueller</td><td>null</td></tr><tr><td>ext_loc_saul</td><td>s3://one-env-uc-external-location/saulcaravaca</td><td>null</td></tr><tr><td>ext_location_s3_novartis_domain1</td><td>s3://one-env/novartis/domain1</td><td>UC POC - Novartis - domain1</td></tr><tr><td>ext_location_s3_novartis_domain2</td><td>s3://one-env/novartis/domain2</td><td>UC POC - Novartis - domain2</td></tr><tr><td>external-location-esteca</td><td>s3://s3-demo-esteca/</td><td>null</td></tr><tr><td>external_location</td><td>s3://yuki-shiga-cdcdb-dms-bucket/</td><td>null</td></tr><tr><td>external_location_td</td><td>s3://one-env-uc-external-location/td-external-data</td><td>null</td></tr><tr><td>f1</td><td>s3://one-env-uc-external-location/bhagyashri</td><td>null</td></tr><tr><td>fabio_goncalves</td><td>s3://one-env-uc-external-location/fabio_goncalves</td><td>null</td></tr><tr><td>fastweb-ai-demo</td><td>s3://one-env-uc-external-location/fastweb-ai-demo</td><td>null</td></tr><tr><td>fd_demo_el</td><td>s3://one-env-uc-external-location/shared/fd_uc_demo</td><td>null</td></tr><tr><td>fe-sandbox-loc-2</td><td>s3://fedramp-test-ext-loc-2/</td><td>us-east-1</td></tr><tr><td>fe_sandbox_demo_bucket</td><td>s3://fe-demo-8ax8zv-bucket/</td><td>null</td></tr><tr><td>feature-table-demo</td><td>s3://databricks-e2demofieldengwest/feature-table-demo</td><td>null</td></tr><tr><td>fedramp-test-ext-loc-5</td><td>s3://fedramp-test-ext-loc-5/fe_west</td><td>us-west-2</td></tr><tr><td>fedramp-test-ext-loc-5-ro</td><td>s3://fedramp-test-ext-loc-5/read_only</td><td>us-west-2\n",
       "RO test</td></tr><tr><td>field_demo_ad_session</td><td>s3://databricks-e2demofieldengwest/ad_session</td><td>External Location for demos</td></tr><tr><td>field_demos_bolun_external_location</td><td>s3://databricks-e2demofieldengwest/bolun_external_location</td><td>External Location for demos</td></tr><tr><td>field_demos_external_location</td><td>s3://databricks-e2demofieldengwest/external_location</td><td>External Location for demos</td></tr><tr><td>field_demos_external_location_uc_upgrade</td><td>s3://databricks-e2demofieldengwest/external_location_uc_upgrade</td><td>External Location of our legacy external tables</td></tr><tr><td>field_demos_movies</td><td>s3://databricks-e2demofieldengwest/movies</td><td>External Location for demos</td></tr><tr><td>firasf-one-env-ext-location</td><td>s3://one-env-uc-external-location/firasf</td><td>null</td></tr><tr><td>flavio_malavazi_external_location</td><td>s3://one-env-uc-external-location/flavio_malavazi_external_location</td><td>External location for table path selects</td></tr><tr><td>flodata</td><td>s3://one-env/fb_glue_dl</td><td>null</td></tr><tr><td>flow-logs</td><td>s3://databricks-deployment-fe/AWSLogs/997819012307/vpcflowlogs/us-west-2</td><td>null</td></tr><tr><td>flow-logs2</td><td>s3://databricks-deployment-fe/AWSLogs/997819012307/CloudTrail</td><td>null</td></tr><tr><td>flow-logs3</td><td>s3://databricks-deployment-fe/AWSLogs/997819012307/CloudTrail-Digest</td><td>null</td></tr><tr><td>fmrtest</td><td>s3://databricks-andyhfmr/</td><td>null</td></tr><tr><td>fneiva-one-env-external-location</td><td>s3://one-env-uc-external-location/fneiva</td><td>External location for Felipe's catalog of demos and projects</td></tr><tr><td>fouad_mnt_oetrta</td><td>s3://oetrta/fouad</td><td>null</td></tr><tr><td>fra-db-demos-credit</td><td>s3://fra-credit-demo/</td><td>null</td></tr><tr><td>freenet</td><td>s3://oetrta/freenet_oracle_profiler</td><td>null</td></tr><tr><td>game_analytics_data_export</td><td>s3://one-env-uc-external-location/randy-akerman/game-analytics</td><td>s3 bucket for GameAnalytics DataSuite</td></tr><tr><td>gannychan-chandr34-demo</td><td>s3://chandr34-demo/sf-iceberg</td><td>null</td></tr><tr><td>gaston_guitart_exlocation</td><td>s3://gg-db-playground/</td><td>null</td></tr><tr><td>gc-lakehouse-uc</td><td>s3://one-env-uc-external-location/gc</td><td>null</td></tr><tr><td>gc_read_clone_external</td><td>s3://one-env-uc-external-location/gc_read_clone_external</td><td>null</td></tr><tr><td>gdc-purge-archive</td><td>s3://databricks-test-archive-sudharshan/</td><td>null</td></tr><tr><td>getty</td><td>s3://oetrta/gettyimages</td><td>null</td></tr><tr><td>ggw_external</td><td>s3://databricks-ggw-uc-ext/</td><td>null</td></tr><tr><td>ghs-el1</td><td>s3://one-env-uc-external-location/ghs-el1</td><td>null</td></tr><tr><td>goodrx_external_location</td><td>s3://rytizzle-bucket/goodrx_demo_table</td><td>null</td></tr><tr><td>gp22_oetrta_test_iceberg</td><td>s3://oetrta/gp22-autoloader-testing</td><td>null</td></tr><tr><td>gp_one_env_ext</td><td>s3://one-env-uc-external-location/gp_ext</td><td>null</td></tr><tr><td>gp_sanbox_e2demo_testing</td><td>s3://e2demo-testing/data</td><td>null</td></tr><tr><td>gr-demo</td><td>s3://databricks-gr-demo/</td><td>null</td></tr><tr><td>gr-sandbox-demo</td><td>s3://databricks-gr-demo2/</td><td>null</td></tr><tr><td>gr_demo</td><td>s3://one-env-uc-external-location/gr_test</td><td>null</td></tr><tr><td>gs_projects</td><td>s3://databricks-e2demofieldengwest/gs_tasks_projects</td><td>For all custom demos</td></tr><tr><td>gs_test_ext</td><td>s3://databricks-e2demofieldengwest/gs_test_ext</td><td>null</td></tr><tr><td>gs_uni_test</td><td>s3://databricks-e2demofieldengwest/gs_uniform_test</td><td>null</td></tr><tr><td>gs_validate_scribe</td><td>s3://databricks-e2demofieldengwest/gs_scribe_test</td><td>null</td></tr><tr><td>gs_validate_uc_ui</td><td>s3://databricks-e2demofieldengwest/gs_ui_uc_test</td><td>Check and validate UC and schema mapping </td></tr><tr><td>gsethi-ms-ext-demo</td><td>s3://databricks-gsethi-bucket/</td><td>null</td></tr><tr><td>gshen_external_location</td><td>s3://one-env-uc-external-location/gshen</td><td>null</td></tr><tr><td>gtfs_volumes</td><td>s3://databricks-uc-lisasherin/gtfs_volumes</td><td>null</td></tr><tr><td>gtm_industry_solutions</td><td>s3://db-gtm-industry-solutions/data/fsi/capm</td><td>null</td></tr><tr><td>gustav_b_external_loc</td><td>s3://one-env-uc-external-location/gubyb</td><td>null</td></tr><tr><td>gustav_external</td><td>s3://one-env-uc-external-location/gustav</td><td>null</td></tr><tr><td>gwsc_countries</td><td>s3://one-env/hkadish/countries</td><td>null</td></tr><tr><td>haley-oetrta</td><td>s3://oetrta/haley</td><td>haekyung.won@databricks.com</td></tr><tr><td>hamidmoghaddam</td><td>s3://databricks-e2demofieldengwest/hamidmoghaddam</td><td>null</td></tr><tr><td>harrydu-one-env</td><td>s3://one-env-uc-external-location/harrydu</td><td>null</td></tr><tr><td>harrydu-sample-data2</td><td>s3://harrydu-sample-data2/</td><td>null</td></tr><tr><td>harsha-pasala-ingest</td><td>s3://harsha-pasala-s3/ingest</td><td>null</td></tr><tr><td>harshucmanagedlocation</td><td>s3://one-env-uc-external-location/Harsh/ucmanagedfolder</td><td>null</td></tr><tr><td>hasci</td><td>s3://one-env-uc-external-location/hasci</td><td>null</td></tr><tr><td>hasci-ext</td><td>s3://one-env-uc-external-location/hasci-ext</td><td>null</td></tr><tr><td>hb_external_location</td><td>s3://hemants-db/</td><td>external location manually created</td></tr><tr><td>heeren-dev-location</td><td>s3://one-env-uc-external-location/heeren-dev/uc-ext-location</td><td>Platform Administrator Data Management course</td></tr><tr><td>hemantborole-extlocation</td><td>s3://hemantborole-db/</td><td>null</td></tr><tr><td>hero-datasets-test</td><td>s3://one-env-uc-external-location/hero-datasets-test</td><td>null</td></tr><tr><td>hinak_catalog_usw2_external_location</td><td>s3://databricks-hinak-catalog-usw2/</td><td>null</td></tr><tr><td>hk_managed</td><td>s3://one-env/hkadish/managed-tables</td><td>null</td></tr><tr><td>hkadish_volume</td><td>s3://one-env/hkadish/volume</td><td>null</td></tr><tr><td>hls-eng-data-public</td><td>s3://hls-eng-data-public/</td><td>HLS Eng Data a public bucket for HLS demo data</td></tr><tr><td>hs-ext-bucket</td><td>s3://hs-uc-bucket/</td><td>null</td></tr><tr><td>hslock2</td><td>s3://databricks-hslock2/</td><td>null</td></tr><tr><td>hsoneenv</td><td>s3://one-env-uc-external-location/hs</td><td>null</td></tr><tr><td>hstest</td><td>s3://databricks-hslock/</td><td>null</td></tr><tr><td>hstest2</td><td>s3://databricks-hs-extlocation/</td><td>null</td></tr><tr><td>hyegin_external_location</td><td>s3://one-env/hyegin</td><td>null</td></tr><tr><td>ian-ward-external</td><td>s3://one-env-uc-external-location/ian-ward-external</td><td>null</td></tr><tr><td>ian_external_location</td><td>s3://databricks-e2demofieldengwest/ianLiao</td><td>null</td></tr><tr><td>ian_qlik_replicate_staging</td><td>s3://databricks-e2demofieldengwest/IanDatabricksTarget</td><td>null</td></tr><tr><td>iceberg_external_loaction</td><td>s3://databricks-e2demofieldengwest/theme_park_iceberg</td><td>External location for iceberg data</td></tr><tr><td>iceberg_external_loaction_theme_park</td><td>s3://themeparkiceberg/</td><td>External location for iceberg data</td></tr><tr><td>iceberg_external_location</td><td>s3://one-env-uc-external-location/paranoid_ext/warehouse/paranoid_iceberg_test</td><td>null</td></tr><tr><td>icm_one_env</td><td>s3://one-env/ian_murphy</td><td>null</td></tr><tr><td>iliao_iceberg_test</td><td>s3://databricks-e2demofieldengwest/iliao</td><td>null</td></tr><tr><td>imam_test</td><td>s3://one-env/test_s3</td><td>test</td></tr><tr><td>insung-ext-storage</td><td>s3://databricks-e2demofieldengwest/insung-ext-storage</td><td>insung</td></tr><tr><td>it_test_external</td><td>s3://oetrta/indranil-tarafdar</td><td>null</td></tr><tr><td>itau-malcoln</td><td>s3://itau-malcoln/</td><td>null</td></tr><tr><td>jack-freeman-one-env-uc-external-location</td><td>s3://one-env-uc-external-location/jf</td><td>jack freeman s3 external location for testing/demos</td></tr><tr><td>jadelauzon_external_location_demo</td><td>s3://ad-splu-demo/</td><td>null</td></tr><tr><td>jagjitnatt</td><td>s3://jagjitnatt/common</td><td>null</td></tr><tr><td>jagjitnatt_medicare</td><td>s3://jagjitnatt/data_intake/medicare_physicians</td><td>null</td></tr><tr><td>jake-wong-sg</td><td>s3://one-env-uc-external-location/jake-wong-sg</td><td>jake wong sg external location</td></tr><tr><td>jake_chen_ext_location</td><td>s3://one-env-uc-external-location/jake_chen_ext</td><td>jake chens bucket (guang.chen@databricks.com)</td></tr><tr><td>jake_test_location</td><td>s3://one-env-uc-external-location/jake_test_table</td><td>null</td></tr><tr><td>jass_storage_loaction</td><td>s3://databricks-e2demofieldengwest/jass-landing</td><td>null</td></tr><tr><td>jay-palaniappan-sandbox-data</td><td>s3://jay-palaniappan-sandbox-data/</td><td>null</td></tr><tr><td>jay_kumar_wmg</td><td>s3://one-env-uc-external-location/jay-kumar/wmg</td><td>null</td></tr><tr><td>jayp-one-env</td><td>s3://one-env-uc-external-location/jaypalaniappan</td><td>null</td></tr><tr><td>jayp-one-env-external-location</td><td>s3://one-env-uc-external-location/jayp</td><td>null</td></tr><tr><td>jayp_sandbox</td><td>s3://jayp-sandbox/</td><td>null</td></tr><tr><td>jb-ext-loc-fusion</td><td>s3://jboyd-test-ogsm-ext-loc-tf/FUSION</td><td>null</td></tr><tr><td>jboyd-r4a6-ext-loc-c1</td><td>s3://jboyd-r4a6-ext-loc-tf/FUSION/customer1</td><td>Managed by TF</td></tr><tr><td>jboyd-r4a6-ext-loc-c2</td><td>s3://jboyd-r4a6-ext-loc-tf/FUSION/customer2</td><td>Managed by TF</td></tr><tr><td>jboyd-r4a6-ext-loc-com</td><td>s3://jboyd-r4a6-ext-loc-tf/FUSION/common</td><td>Managed by TF</td></tr><tr><td>jboyd-wyr7-ext-loc-c1</td><td>s3://jboyd-wyr7-ext-loc-tf/FUSION/customer1</td><td>Managed by TF</td></tr><tr><td>jboyd-wyr7-ext-loc-c2</td><td>s3://jboyd-wyr7-ext-loc-tf/FUSION/customer2</td><td>Managed by TF</td></tr><tr><td>jboyd-wyr7-ext-loc-com</td><td>s3://jboyd-wyr7-ext-loc-tf/FUSION/common</td><td>Managed by TF</td></tr><tr><td>jchampion_oneenv</td><td>s3://oetrta/jchampion</td><td>null</td></tr><tr><td>jcrr_demos_external_location</td><td>s3://databricks-e2demofieldengwest/jcrr_demos</td><td>External Location for demos jcrr</td></tr><tr><td>jeff_test</td><td>s3://one-env/jeff</td><td>null</td></tr><tr><td>jennifer-test-external-location</td><td>s3://jennifer-wang-test/</td><td>null</td></tr><tr><td>jerrold</td><td>s3://one-env-uc-external-location/jerrold</td><td>null</td></tr><tr><td>jerrold-ais</td><td>s3://jerrold-ais/</td><td>null</td></tr><tr><td>jerrold-iceberg-external</td><td>s3://jerrold-iceberg-sg/</td><td>null</td></tr><tr><td>jerrold-mandiri-el</td><td>s3://bank-mandiri-databricks2/</td><td>null</td></tr><tr><td>jessie_external_tables</td><td>s3://one-env/jessie_wen/tables</td><td>null</td></tr><tr><td>jessie_external_vol1</td><td>s3://one-env/jessie_wen/uc_external_volume/vol1</td><td>null</td></tr><tr><td>jessie_wen_iceberg</td><td>s3://one-env/jessie_wen/iceberg</td><td>null</td></tr><tr><td>jessie_wen_uc_external_table</td><td>s3://one-env/jessie_wen/uc_external_table</td><td>null</td></tr><tr><td>jessyca_demos</td><td>s3://databricks-e2demofieldengwest/jessyca_demos</td><td>null</td></tr><tr><td>jewellwright-aws-s3</td><td>s3://codenamejewell-databricks-data/</td><td>null</td></tr><tr><td>jh-extvol</td><td>s3://databricks-e2demofieldengwest/jh-extvol</td><td>null</td></tr><tr><td>jh-extvol1</td><td>s3://databricks-e2demofieldengwest/jh-extvol1</td><td> </td></tr><tr><td>jh_extloc</td><td>s3://databricks-e2demofieldengwest/jh-extloc</td><td>null</td></tr><tr><td>jingos-location</td><td>s3://jingos/</td><td>null</td></tr><tr><td>jjames_external_location</td><td>s3://one-env-uc-external-location/jjames</td><td>null</td></tr><tr><td>jlaw-okx-poc</td><td>s3://jlaw-okx-poc/</td><td>null</td></tr><tr><td>jldev</td><td>s3://one-env-uc-external-location/jldev</td><td>null</td></tr><tr><td>jlew_ext_loc</td><td>s3://one-env-uc-external-location/jlew</td><td>null</td></tr><tr><td>jlewis_ext</td><td>s3://one-env-uc-external-location/jlewis</td><td>null</td></tr><tr><td>jlg_extloc</td><td>s3://one-env-uc-external-location/jgreen</td><td>null</td></tr><tr><td>jmaru_volume</td><td>s3://databricks-e2demofieldengwest/jmaru_volume</td><td>null</td></tr><tr><td>jmr_ext</td><td>s3://databricks-jmr-uc-test/</td><td>null</td></tr><tr><td>jmr_ext_clientb</td><td>s3://databricks-uc-ext-jmr/</td><td>null</td></tr><tr><td>jn_diabetes</td><td>s3://jagjitnatt/data_intake/diabetes</td><td>null</td></tr><tr><td>jn_sutter</td><td>s3://jagjitnatt/data_intake/sutter</td><td>null</td></tr><tr><td>jnshubham</td><td>s3://one-env/jnshubham</td><td>null</td></tr><tr><td>john_ward_external_location</td><td>s3://johnwardbucket/</td><td>null</td></tr><tr><td>john_ward_pangolinorders</td><td>s3://pangolinorders/FDA-2020-V-1200-0003_attachment_1.pdf</td><td>null</td></tr><tr><td>jok</td><td>s3://one-env-uc-external-location/jok</td><td>James O'Keeffe S3 bucket</td></tr><tr><td>jok-s3-ai</td><td>s3://jokuswest2s3/ai</td><td>null</td></tr><tr><td>jovi-external-location</td><td>s3://one-env/joviloo</td><td>null</td></tr><tr><td>joviloo_csv</td><td>s3://one-env/joviloo_csv</td><td>null</td></tr><tr><td>joviloo_parquet_ext_loc</td><td>s3://one-env/joviloo_parquet</td><td>parquet_to_delta_demo</td></tr><tr><td>joviloo_volumes</td><td>s3://one-env/joviloo_volumes</td><td>null</td></tr><tr><td>jp-external-loc</td><td>s3://one-env-uc-external-location/Jaideep/ExternalLocation</td><td>null</td></tr><tr><td>jp_external_uc</td><td>s3://one-env-uc-external-location/Jaideep/ucexternal/Volume</td><td>null</td></tr><tr><td>jp_zebrowski_ext_location</td><td>s3://jpzebrowski-demo-bucket/</td><td>null</td></tr><tr><td>jparham</td><td>s3://one-env-uc-external-location/jparham</td><td>null</td></tr><tr><td>jsf_glue_sa_teste</td><td>s3://jsfgluefedtest/</td><td>null</td></tr><tr><td>jsoldo_external</td><td>s3://jsoldo-west/</td><td>null</td></tr><tr><td>ju_test</td><td>s3://one-env/chijuwu</td><td>null</td></tr><tr><td>juan:dev</td><td>s3://one-env-uc-external-location/juan-dev-external-location</td><td>do-not-delete</td></tr><tr><td>juan:prod</td><td>s3://one-env-uc-external-location/juan-prod-external-location</td><td>do-not-delete</td></tr><tr><td>juliacc-external-catalog-location-name</td><td>s3://sts-juliancc-bucket-manual-demo/</td><td>null</td></tr><tr><td>julstah-testlocation</td><td>s3://julstah-testbucket/</td><td>null</td></tr><tr><td>juncliu-dave</td><td>s3://juncliu-dave/</td><td>null</td></tr><tr><td>juncliu-iceberg</td><td>s3://juncliu-iceberg/</td><td>null</td></tr><tr><td>jvasquez_s3</td><td>s3://one-env-uc-external-location/jvasquez_demo</td><td>null</td></tr><tr><td>jvasquez_s3_audit_logs</td><td>s3://jvasquez-audit-logs/</td><td>null</td></tr><tr><td>jvh_ext_location</td><td>s3://one-env-uc-external-location/jvh</td><td>null</td></tr><tr><td>jy-aws-s3-extern-location</td><td>s3://jy-aws-bucket/</td><td>null</td></tr><tr><td>jz000_external_location</td><td>s3://one-env-uc-external-location/external_location/jz000_external_location</td><td>external location for Jinyuan Zhou</td></tr><tr><td>kapil-s3-osm</td><td>s3://one-env-uc-external-location/kapil-osm</td><td>null</td></tr><tr><td>karthik_subramanya_extloc</td><td>s3://one-env-uc-external-location/karthik_subramanya</td><td>null</td></tr><tr><td>karve_ext_location</td><td>s3://one-env-uc-external-location/jaikarve</td><td>External location for Jai's stuff</td></tr><tr><td>katielunceford-volumes</td><td>s3://one-env-uc-external-location/katielunceford-volumes</td><td>null</td></tr><tr><td>kbarlow-external-location</td><td>s3://one-env-uc-external-location/kbarlow</td><td>null</td></tr><tr><td>kenpachi_test</td><td>s3://one-env-uc-external-location/kenpachi</td><td>External Location of Kenpachi Folder under one-env-uc-external-location bucket</td></tr><tr><td>kevo-el</td><td>s3://kevo-pdf-ingestion/</td><td>null</td></tr><tr><td>khal_ext_oneenv</td><td>s3://one-env-uc-external-location/kiryl_halozhyn</td><td>null</td></tr><tr><td>khalozhyn-ext-location</td><td>s3://databricks-khal-ext/</td><td>null</td></tr><tr><td>kilaris-external-loc</td><td>s3://one-env-uc-external-location/kilaris-demo</td><td>null</td></tr><tr><td>kiran-ext</td><td>s3://one-env/guidewire/delta</td><td>null</td></tr><tr><td>kjosyula-ext-loc</td><td>s3://one-env-uc-external-location/kjosyula</td><td>null</td></tr><tr><td>klook-one-env-jars</td><td>s3://one-env/klook/jars</td><td>null</td></tr><tr><td>klook_ext_loc</td><td>s3://one-env-uc-external-location/klook</td><td>testing location deletes on an external location. Uniform tables</td></tr><tr><td>klook_ext_location</td><td>s3://db-klook/</td><td>null</td></tr><tr><td>kohei_aws_el</td><td>s3://one-env-uc-external-location/kohei_arai</td><td>null</td></tr><tr><td>kolpak</td><td>s3://oetrta/kolpak</td><td>null</td></tr><tr><td>kolpak-external</td><td>s3://one-env-uc-external-location/kolpak</td><td>null</td></tr><tr><td>kolpak_ext_model_repo</td><td>s3://oetrta/justinkolpak/ext_model_repo</td><td>null</td></tr><tr><td>kolpaktestdot</td><td>s3://kolpak.test/</td><td>null</td></tr><tr><td>kone-aws-file-events-autolaoder-s3</td><td>s3://hedvig-cross-cloud-test/</td><td>null</td></tr><tr><td>kotahi_ext_loc</td><td>s3://one-env-uc-external-location/wscalioni/kotahi/datasets/customer</td><td>null</td></tr><tr><td>kowalski-s3</td><td>s3://kowalski-demo/databricks</td><td>null</td></tr><tr><td>kp_ml_demo_dev</td><td>s3://one-env-uc-external-location/kp_ml_demo_dev</td><td>null</td></tr><tr><td>krishnendutest</td><td>s3://one-env-uc-external-location/krishnendutest</td><td>null</td></tr><tr><td>kristin-demo</td><td>s3://one-env-uc-external-location/kristin</td><td>null</td></tr><tr><td>ks02ucdemo_ext_loc</td><td>s3://one-env-uc-external-location/ks02demo/data</td><td>null</td></tr><tr><td>ktb-data</td><td>s3://ktb-data/poc</td><td>null</td></tr><tr><td>ktksk-job-jar-example</td><td>s3://one-env-uc-external-location/ktksk-job-jar-example</td><td>null</td></tr><tr><td>ktksk_demos_external_location</td><td>s3://one-env-uc-external-location/external_location/ktksk_demo</td><td>External Location for demos</td></tr><tr><td>kulas_ext_oneenv</td><td>s3://oetrta/jakekulas</td><td>null</td></tr><tr><td>kuldeeps3-01</td><td>s3://databricks-e2demofieldengwest/kuldeepsingh</td><td>null</td></tr><tr><td>kuwano-test-20241223</td><td>s3://kuwano-test-20241223/</td><td>null</td></tr><tr><td>kuwano_s3_data</td><td>s3://one-env-uc-external-location/kuwano</td><td>null</td></tr><tr><td>kwang-accolade-external-location</td><td>s3://kevin-wang-accolade-test/</td><td>null</td></tr><tr><td>kwang-eq-ext-loc</td><td>s3://kwang-sandbox-bucket-databricks/</td><td>null</td></tr><tr><td>kwang-eq-ext-loc-west-2</td><td>s3://kwang-eq-bucket-databricks/</td><td>null</td></tr><tr><td>kwang-poc-lavamap</td><td>s3://kwang-databricks-test-bucket/lavamap</td><td>lavamap poc data drop location</td></tr><tr><td>kwpark-external-location</td><td>s3://one-env-uc-external-location/kwpark</td><td>null</td></tr><tr><td>laxmi_goodrx_ext_loc</td><td>s3://laxmi-s3-bucket-goodrx/</td><td>null</td></tr><tr><td>laxmi_one_env_ext_location</td><td>s3://one-env/laxmi</td><td>null</td></tr><tr><td>leigh_robertson_demo_location</td><td>s3://one-env/leigh_robertson</td><td>null</td></tr><tr><td>lenskart-test</td><td>s3://oetrta/lk-test</td><td>null</td></tr><tr><td>leo-one-env-ext-loc</td><td>s3://leo-one-env/</td><td>null</td></tr><tr><td>levelup-aws-ext-loc</td><td>s3://levelupdatabucket/</td><td>null</td></tr><tr><td>levelup-aws-metadata-extloc</td><td>s3://levelupmetdatabucket/</td><td>null</td></tr><tr><td>lf-demo</td><td>s3://one-env-uc-external-location/lf-demo</td><td>luke.fore@databricks external location for field demo.</td></tr><tr><td>lg143</td><td>s3://one-env-uc-external-location/LG143</td><td>null</td></tr><tr><td>liko-may-2025</td><td>s3://liko-may-2025/</td><td>null</td></tr><tr><td>lir-one-env-uc-ext</td><td>s3://one-env-uc-external-location/lir</td><td>null</td></tr><tr><td>lisa_image_volumes</td><td>s3://databricks-uc-lisasherin/image_volume</td><td>Folder with Transport Images</td></tr><tr><td>londeen-trv-demo</td><td>s3://londeen-trv-demo/</td><td>null</td></tr><tr><td>louis-one-env</td><td>s3://one-env/louis-test</td><td>null</td></tr><tr><td>lpt-weather-data</td><td>s3://one-env-uc-external-location/lpt/weather-data</td><td>null</td></tr><tr><td>lpt_external_pure_iceberg</td><td>s3://one-env-uc-external-location/lpt/iceberg</td><td>null</td></tr><tr><td>lpt_iceberg_data</td><td>s3://one-env-uc-external-location/lpt/iceberg-data</td><td>null</td></tr><tr><td>lseg-guidewie-test</td><td>s3://db-industry-gtm/</td><td>null</td></tr><tr><td>malcoln-test-stone</td><td>s3://malcoln-test-stone/</td><td>null</td></tr><tr><td>mandy-external-location</td><td>s3://one-env-uc-external-location/mbaker-external-location</td><td>null</td></tr><tr><td>marcin_managed_location</td><td>s3://one-env-uc-external-location/marcin_managed_db</td><td>null</td></tr><tr><td>marcindemo</td><td>s3://one-env-uc-external-location/marcindemo</td><td>null</td></tr><tr><td>marcos-bustos</td><td>s3://one-env-uc-external-location/marcos-bustos</td><td>null</td></tr><tr><td>mattaraghav</td><td>s3://one-env-uc-external-location/mattaraghav</td><td>null</td></tr><tr><td>matthew-m</td><td>s3://one-env-uc-external-location/matthew-m</td><td>null</td></tr><tr><td>matthew-tan-jpmc-external-location</td><td>s3://matthew-tan-jpmc-external-location/</td><td>null</td></tr><tr><td>matthew-tan-one-env-uc-external-location</td><td>s3://one-env-uc-external-location/matthewtan/ext_vol</td><td>null</td></tr><tr><td>matthew_tan_catalog_demo_location</td><td>s3://one-env-uc-external-location/matthew-tan-folder/jpmc/catalog_location</td><td>null</td></tr><tr><td>matthew_tan_jpmc_external</td><td>s3://one-env-uc-external-location/matthew-tan-folder/jpmc/external</td><td>null</td></tr><tr><td>matthieu_lamairesse</td><td>s3://one-env-uc-external-location/matthieu_lamairesse</td><td>owner : matthieu.lamairesse@databricks.com External location demo</td></tr><tr><td>mattslack</td><td>s3://one-env-uc-external-location/mattslack</td><td>null</td></tr><tr><td>matty-hms-el</td><td>s3://demomatty77yfch-rootbucket/</td><td>null</td></tr><tr><td>matty-schema-name-test</td><td>s3://matty.schema.name.mapping.test.v2/</td><td>null</td></tr><tr><td>maxime_testing</td><td>s3://one-env-uc-external-location/maxime_testing</td><td>null</td></tr><tr><td>mbarrett-onboarding-testing</td><td>s3://mbarrett-onboarding-testing/</td><td>null</td></tr><tr><td>mchan-demo-bucket</td><td>s3://one-env-uc-external-location/mchan-demo-bucket/tpcds-benchmark</td><td>s3://one-env-uc-external-location/mchan-demo-bucket/tpcds-benchmark</td></tr><tr><td>megha-upadhyay-externallocation</td><td>s3://megha-upadhyay-sb/</td><td>null</td></tr><tr><td>merck_hh_external_tables</td><td>s3://one-env-uc-external-location/Merck_HH_External_tables</td><td>null</td></tr><tr><td>merck_hh_external_volume_location</td><td>s3://one-env-uc-external-location/Merck_HH_External_Volume</td><td>null</td></tr><tr><td>merck_hh_test</td><td>s3://one-env-uc-external-location/Merck_HH_Test</td><td>null</td></tr><tr><td>messer-s3</td><td>s3://messer-s3-bucket-snd/</td><td>null</td></tr><tr><td>metastore_default_location</td><td>s3://databricks-e2demofieldengwest/b169b504-4c54-49f2-bc3a-adf4b128f36d</td><td>Auto-generated parent external location for Metastore: AccountId: e6e8162c-a42f-43a0-af86-312058795a14, MetastoreId: b169b504-4c54-49f2-bc3a-adf4b128f36d</td></tr><tr><td>mgm_snowflake_iceberg</td><td>s3://one-env-uc-external-location/mgmohler</td><td>null</td></tr><tr><td>mikekahn-databricks</td><td>s3://mikekahn-databricks/</td><td>null</td></tr><tr><td>mimiq-ext-loc</td><td>s3://one-env-uc-external-location/mimiq</td><td>null</td></tr><tr><td>minjae_external_bucket</td><td>s3://minjae-external-bucket-02/velymonkeys/data_parquet</td><td>null</td></tr><tr><td>mjm_one_env_ext_loc</td><td>s3://one-env-uc-external-location/mohan</td><td>null</td></tr><tr><td>ml-healthlake-s3-full</td><td>s3://ml-test-sample-external-332745928618/</td><td>null</td></tr><tr><td>mm_external_location</td><td>s3://one-env-uc-external-location/mm_external</td><td>null</td></tr><tr><td>mmt_external</td><td>s3://one-env-uc-external-location/mmt/dais24</td><td>null</td></tr><tr><td>mnt_ankur-delta-tests</td><td>s3://one-env-uc-external-location/ankur123</td><td>null</td></tr><tr><td>mnt_caio-test-mnt-flavio-malavazi</td><td>s3://caio-test-saeast1/</td><td>null</td></tr><tr><td>mnt_databricks-datasets-private</td><td>s3://databricks-datasets-private/</td><td>null</td></tr><tr><td>mnt_megc</td><td>s3://one-env-uc-external-location/megc</td><td>null</td></tr><tr><td>mnt_michele_external</td><td>s3://one-env-uc-external-location/michele</td><td>null</td></tr><tr><td>mnt_ztest_mntsa</td><td>s3://sa701db/</td><td>null</td></tr><tr><td>mohan_ext_loc</td><td>s3://databricks-e2demofieldengwest/mohan</td><td>Mohan Mathews</td></tr><tr><td>mohan_ext_loc_2</td><td>s3://databricks-e2demofieldengwest/mohanwithslash</td><td>null</td></tr><tr><td>mohana-el-oneenv</td><td>s3://one-env-uc-external-location/mohana</td><td>null</td></tr><tr><td>mohana-test-uc-loc</td><td>s3://databricks-mohana-test-1/prefix1</td><td>null</td></tr><tr><td>mohana_el_2</td><td>s3://databricks-mohana-test-1/uc</td><td>null</td></tr><tr><td>mohana_sandbox</td><td>s3://mohanatest1/</td><td>null</td></tr><tr><td>mohit_external</td><td>s3://one-env-uc-external-location/mohit</td><td>null</td></tr><tr><td>monitoring1-storage-east1</td><td>s3://monitoring1-ele-s3/data</td><td>null</td></tr><tr><td>morgan-oneenv-ext</td><td>s3://one-env/morgan</td><td>null</td></tr><tr><td>morgan_demo_streaming</td><td>s3://one-env-uc-external-location/morgan_demo_streaming</td><td>null</td></tr><tr><td>morgangluebucket</td><td>s3://morgantesting/</td><td>null</td></tr><tr><td>morgans3gluefed</td><td>s3://morgan-bucket-glue/</td><td>null</td></tr><tr><td>mpe-customer2</td><td>s3://mpe-customer2/root</td><td>null</td></tr><tr><td>mpelletier-customer1</td><td>s3://mpe-customer1/root</td><td>null</td></tr><tr><td>mpelletier-customer1-ext</td><td>s3://mpe-customer1/ext</td><td>External</td></tr><tr><td>mpelletier-customer2-ext</td><td>s3://mpe-customer2/ext</td><td>null</td></tr><tr><td>mps-external-location-testing</td><td>s3://mps.dbx.dlt.testing/</td><td>Using to test external location and dlt</td></tr><tr><td>msaltznew</td><td>s3://msaltznews3/</td><td>null</td></tr><tr><td>mujahid-temp</td><td>s3://oetrta/temp_mujahid</td><td>null</td></tr><tr><td>murali_one_env</td><td>s3://one-env-uc-external-location/murali_talluri</td><td>null</td></tr><tr><td>muschler-external-location</td><td>s3://muschler-external-storage-test/</td><td>null</td></tr><tr><td>my_external_location</td><td>s3://databricks-tomesdata-west/tmp4</td><td>null</td></tr><tr><td>nan-ext-vol-ap-southeast-1</td><td>s3://nan-ext-vol-ap-southeast-1/</td><td>null</td></tr><tr><td>neilp_playground</td><td>s3://databricks-neilp-playground/</td><td>Access to root of databricks-neilp-playground</td></tr><tr><td>neo-e2-fe-external-location</td><td>s3://neo-e2-fe-external-location/</td><td>null</td></tr><tr><td>nh-agreement1-el</td><td>s3://nh-agreement1/</td><td>null</td></tr><tr><td>nh-conformed-el</td><td>s3://nh-conformed/</td><td>null</td></tr><tr><td>nh-curated-el</td><td>s3://nh-curated/</td><td>null</td></tr><tr><td>nh-raw-el-rw</td><td>s3://nh-raw/</td><td>null</td></tr><tr><td>nhs-health-data</td><td>s3://databricks-health-data/</td><td>null</td></tr><tr><td>nhtsa-aws-s3</td><td>s3://one-env-uc-external-location/nhtsa-edmas</td><td>null</td></tr><tr><td>ni-sample-data</td><td>s3://one-env-uc-external-location/ni-sample-data</td><td>sample data sets</td></tr><tr><td>ni-sample-ext</td><td>s3://databricks-e2demofieldengwest/ni-sample-data</td><td>null</td></tr><tr><td>niko-rsa</td><td>s3://niko-rsa/</td><td>null</td></tr><tr><td>nirh</td><td>s3://one-env-uc-external-location/NirH</td><td>null</td></tr><tr><td>nithya_demo</td><td>s3://oetrta/nithya_demo</td><td>null</td></tr><tr><td>nmishra_el</td><td>s3://one-env-uc-external-location/nmishra_ctlg</td><td>null</td></tr><tr><td>nsangana_ext</td><td>s3://one-env-uc-external-location/nsangana</td><td>null</td></tr><tr><td>nvs_domain_a_nvs_domain_a_table_a</td><td>s3://one-env/sujen/nvs_db_a/table_a</td><td>Databricks external location created for nvs_domain_a_nvs_domain_a_table_a</td></tr><tr><td>nyounis_external_location</td><td>s3://one-env-uc-external-location/nyounis</td><td>null</td></tr><tr><td>ob-ext</td><td>s3://one-env-uc-external-location/ob-uc</td><td>null</td></tr><tr><td>ochi-ext-loc</td><td>s3://one-env-uc-external-location/ochi</td><td>null</td></tr><tr><td>oerta-sandbox-root</td><td>s3://oetrta/sandboxes</td><td>Sandbox root</td></tr><tr><td>oetra-daniel-brookes</td><td>s3://oetrta/daniel-brookes</td><td>null</td></tr><tr><td>oetra_fe_platform_1</td><td>s3://oetrta/emr_profiler_data</td><td>null</td></tr><tr><td>oetrta-fieldeng-platform-profilers</td><td>s3://oetrta/fieldeng-platform-profilers</td><td>null</td></tr><tr><td>oetrta_akashjaiswal</td><td>s3://oetrta/akashjaiswal</td><td>null</td></tr><tr><td>oetrta_alx</td><td>s3://oetrta/alex</td><td>null</td></tr><tr><td>oetrta_dmoore</td><td>s3://oetrta/dmoore</td><td>null</td></tr><tr><td>oetrta_ssc</td><td>s3://oetrta/ssc</td><td>null</td></tr><tr><td>oetrta_vh_tmp</td><td>s3://oetrta/vh_tmp</td><td>null</td></tr><tr><td>omae-test</td><td>s3://databricks-e2demofieldengwest/omae-test</td><td>omae demo env</td></tr><tr><td>one-env-acao</td><td>s3://one-env/acao</td><td>null</td></tr><tr><td>one-env-daniel-sequeira</td><td>s3://one-env/daniel-sequeira</td><td>null</td></tr><tr><td>one-env-dannywong</td><td>s3://one-env-uc-external-location/dannywong</td><td>null</td></tr><tr><td>one-env-davw-testing</td><td>s3://one-env/davw_testing</td><td>null</td></tr><tr><td>one-env-demo-sy-test</td><td>s3://one-env-uc-external-location/sy-test</td><td>null</td></tr><tr><td>one-env-external-location_avdhesh</td><td>s3://one-env-uc-external-location/avdhesh_s3</td><td>null</td></tr><tr><td>one-env-junchi-liu</td><td>s3://one-env-uc-external-location/junchi-liu</td><td>null</td></tr><tr><td>one-env-mdeng-ext</td><td>s3://one-env-uc-external-location/michelled</td><td>null</td></tr><tr><td>one-env-qtoulou</td><td>s3://one-env/qtoulou</td><td>External locations for Quentin Toulou - Test purpose</td></tr><tr><td>one-env-sbang_ext</td><td>s3://one-env-uc-external-location/sbang_ext</td><td>null</td></tr><tr><td>one-env-takero</td><td>s3://one-env/takero</td><td>null</td></tr><tr><td>one-env-uc-external-location</td><td>s3://one-env-uc-external-location/shared_location</td><td>RemoveAfter:2222-22-22</td></tr><tr><td>one-env-uc-external-location-jkdemos</td><td>s3://one-env-uc-external-location/jkdemos</td><td>null</td></tr><tr><td>one-env-uc-external-location-ktksk</td><td>s3://one-env-uc-external-location/ktksk</td><td>null</td></tr><tr><td>one-env-uc-external-location-oferoh</td><td>s3://one-env-uc-external-location/OferOh</td><td>null</td></tr><tr><td>one-env-uc-external-location-vk</td><td>s3://one-env-uc-external-location/vkumar</td><td>null</td></tr><tr><td>one-env-uc-external-location_ifi</td><td>s3://one-env-uc-external-location/ifi</td><td>null</td></tr><tr><td>one-env-uc-external-location_jim</td><td>s3://one-env-uc-external-location/jim</td><td>null</td></tr><tr><td>one-env-uc-external-location_saurabh</td><td>s3://one-env-uc-external-location/saurabhshukla</td><td>null</td></tr><tr><td>one-env-zach-king</td><td>s3://one-env-uc-external-location/zach-king</td><td>null</td></tr><tr><td>one_env_external_location_imane</td><td>s3://one-env-uc-external-location/imane</td><td>for demo purposes</td></tr><tr><td>one_env_external_location_trainor</td><td>s3://one-env-uc-external-location/trainor</td><td>null</td></tr><tr><td>one_env_isaac_test</td><td>s3://one-env-uc-external-location/isaac_test</td><td>null</td></tr><tr><td>one_env_jrus</td><td>s3://one-env-uc-external-location/jrus</td><td>null</td></tr><tr><td>one_env_jwlt</td><td>s3://one-env-uc-external-location/jwlt_external</td><td>external location for jake therianos demos</td></tr><tr><td>one_env_uc_de_webinar_2025</td><td>s3://one-env-uc-external-location/2025_uc_de_webinar</td><td>Location for AWS data for 2025 Unity Catalog webinar for Data Engineers</td></tr><tr><td>one_env_uc_ext_ciq_demo</td><td>s3://one-env-uc-external-location/vk/demos</td><td>null</td></tr><tr><td>oneenv-careem</td><td>s3://one-env-uc-external-location/careem</td><td>null</td></tr><tr><td>oneenv-ext-mkazia</td><td>s3://one-env-uc-external-location/mkazia</td><td>null</td></tr><tr><td>oneenv-pj</td><td>s3://one-env-uc-external-location/pj</td><td>null</td></tr><tr><td>oneenv_mattmiller</td><td>s3://one-env-uc-external-location/mattmiller</td><td>null</td></tr><tr><td>pamons_external_location</td><td>s3://databricks-e2demofieldengwest/pamons</td><td>null</td></tr><tr><td>patrick-fremont-ext-loc</td><td>s3://one-env-uc-external-location/patrick-fremont</td><td>null</td></tr><tr><td>pdextloc</td><td>s3://databricks-e2demofieldengwest/prakhar-4</td><td>Ext Location for testing writes </td></tr><tr><td>pj_s3_location</td><td>s3://databricks-s3-bucket-pj/</td><td>null</td></tr><tr><td>pkab</td><td>s3://databricks-e2demofieldengwest/pkab</td><td>null</td></tr><tr><td>pkab_edl_bronze</td><td>s3://databricks-e2demofieldengwest/pkab_edl_bronze</td><td>null</td></tr><tr><td>plima_csv_loc</td><td>s3://databricks-paulo.lima/csv-files</td><td>null</td></tr><tr><td>plima_ext_loc_with_dots</td><td>s3://databricks-uc.paulo.lima/tables</td><td>null</td></tr><tr><td>plima_one_env_ext_loc</td><td>s3://one-env/plima</td><td>null</td></tr><tr><td>plima_read_ext_loc</td><td>s3://plima-s3-bucket/test</td><td>External location for reading data</td></tr><tr><td>pnovok-ext-location</td><td>s3://pnovok-demo-workspace-ext/</td><td>null</td></tr><tr><td>pnovok-ext2-location</td><td>s3://pnovok-demo-workspace-ext2/</td><td>A new storage location which s3://pnovok-demo-workspace-ext2/ bucket</td></tr><tr><td>pp-bucket</td><td>s3://one-env-uc-external-location/ppareek</td><td>null</td></tr><tr><td>prakhar-ext-loc</td><td>s3://databricks-e2demofieldengwest/prakhar</td><td>External location for testing</td></tr><tr><td>prakhar-ext-loc-2</td><td>s3://databricks-e2demofieldengwest/prakhar-2</td><td>Secondary External Location</td></tr><tr><td>prakharnikext</td><td>s3://one-env-uc-external-location/prakhar</td><td>null</td></tr><tr><td>priyankak</td><td>s3://databricks-e2demofieldengwest/priyankak</td><td>null</td></tr><tr><td>prodesp-diario-oficial</td><td>s3://one-env-uc-external-location/prodesp-diario-oficial</td><td>null</td></tr><tr><td>pv-external-location</td><td>s3://pv-external-location-test/</td><td>null</td></tr><tr><td>pv-uc-test-location</td><td>s3://pv-uc-test-bucket/</td><td>null</td></tr><tr><td>qing-s3</td><td>s3://qing-s3/</td><td>null</td></tr><tr><td>qinziyuan-uc-ext-loc</td><td>s3://databricks-qinziyuan-uc-test/</td><td>null</td></tr><tr><td>qor-demo-sandbox</td><td>s3://qor-demo-sandbox/</td><td>null</td></tr><tr><td>quanli_s3_loc</td><td>s3://databricks-quanli/</td><td>Quan Li S3 Location</td></tr><tr><td>raghu-ext</td><td>s3://one-env-uc-external-location/raghu_ext</td><td>null</td></tr><tr><td>raghu-kreditbee-ext</td><td>s3://raghu-kreditbee-19122024/</td><td>null</td></tr><tr><td>raghu-ny-pub</td><td>s3://us-west-2.serverless-analytics/canonical/NY-Pub</td><td>null</td></tr><tr><td>rahulj_s3</td><td>s3://databricks-e2demofieldengwest/rahulj/user_uniform_iceberg</td><td>null</td></tr><tr><td>ramdaskm</td><td>s3://databricks-e2demofieldengwest/ramdaskm</td><td>null</td></tr><tr><td>rampim_external</td><td>s3://one-env-uc-external-location/rampim_external</td><td>null</td></tr><tr><td>ran-db-ubi</td><td>s3://db-ubi/</td><td>null</td></tr><tr><td>ran-db-uc-ext-delta</td><td>s3://db-uc-ext-delta/</td><td>null</td></tr><tr><td>randall_gonzalez_ext1</td><td>s3://one-env-uc-external-location/randall_gonzalez</td><td>null</td></tr><tr><td>randy-akerman-psyonix</td><td>s3://one-env-uc-external-location/randy-akerman/psyonix</td><td>null</td></tr><tr><td>raw_sbx</td><td>s3://one-env-uc-external-location/raw_sbx</td><td>null</td></tr><tr><td>rcg_uc_metastore_storage_external_location</td><td>s3://rcg-s3-sandbox/data</td><td>null</td></tr><tr><td>rd-external-location</td><td>s3://one-env-uc-external-location/rohit-dashora</td><td>null</td></tr><tr><td>readonly</td><td>s3://one-env-uc-external-location-read-only/</td><td>read-only</td></tr><tr><td>redshift_profiler</td><td>s3://oetrta/redshift_tempdir</td><td>null</td></tr><tr><td>renato-pedroso-external-location</td><td>s3://databricks-e2demofieldengwest/renatopedroso</td><td>null</td></tr><tr><td>renji-demo-uc-ext</td><td>s3://databricks-uc-renjiharold/tables</td><td></td></tr><tr><td>revanth-oneev</td><td>s3://one-env-uc-external-location/revanth-challuru</td><td>null</td></tr><tr><td>reynolds-pravindev-s3</td><td>s3://reynolds-pravindev-bucket/</td><td>null</td></tr><tr><td>rjt_e2demo</td><td>s3://databricks-e2demofieldengwest/rjt_e2demo</td><td>null</td></tr><tr><td>rjt_test</td><td>s3://one-env-uc-external-location/rjt_test</td><td>null</td></tr><tr><td>rkg_external</td><td>s3://databricks-e2demofieldengwest/rkg</td><td>null</td></tr><tr><td>rkh_external_access</td><td>s3://rkh-tpcdi-external/</td><td>null</td></tr><tr><td>rkh_sandbox_test</td><td>s3://rkh-sandbox-text/</td><td>null</td></tr><tr><td>rkm-external-location-storage</td><td>s3://databricks-rkm/data/storage</td><td>null</td></tr><tr><td>rmarx_ext_loc</td><td>s3://one-env-uc-external-location/rmarx</td><td>null</td></tr><tr><td>robertotesttest</td><td>s3://databricks-roberto/</td><td>null</td></tr><tr><td>robertouno</td><td>s3://databricks-robertouno/</td><td>null</td></tr><tr><td>rocksdb</td><td>s3://one-env-uc-external-location/ricardo_rocksdb</td><td>null</td></tr><tr><td>rodrigo-storage-s3</td><td>s3://databricks-rodrigo-oliveira/</td><td>null</td></tr><tr><td>rodsant</td><td>s3://rodsant/</td><td>null</td></tr><tr><td>rodsant2</td><td>s3://test-cnab-pago/test2</td><td>null</td></tr><tr><td>rohitb-oneenv</td><td>s3://one-env/rohitb</td><td>null</td></tr><tr><td>rohitkgopal_ext_location</td><td>s3://databricks-e2demofieldengwest/rohitkgopal</td><td>Owner: rohit.gopal@databricks.com</td></tr><tr><td>romulo_ext2</td><td>s3://romulo-uc/pasta_demo</td><td>null</td></tr><tr><td>rosalie_uc_demo</td><td>s3://databricks-uc-rosalie/</td><td>null</td></tr><tr><td>rosh-test-el</td><td>s3://one-env-uc-external-location/ra-test</td><td>null</td></tr><tr><td>roy_bang</td><td>s3://one-env-uc-external-location/roy_bang</td><td>null</td></tr><tr><td>rrc_ext_loc</td><td>s3://one-env-uc-external-location/rrc_bucket</td><td>null</td></tr><tr><td>rsoetrauno</td><td>s3://oetrta/roberto</td><td>abc</td></tr><tr><td>rsoetrta</td><td>s3://oetrta/robertostream</td><td>null</td></tr><tr><td>rushabhmehta</td><td>s3://one-env-uc-external-location/rushabhmehta</td><td>null</td></tr><tr><td>ryan-one-env</td><td>s3://rytizzle-bucket/UC</td><td>null</td></tr><tr><td>ryan_external_loc</td><td>s3://one-env-uc-external-location/ryank_external</td><td>null</td></tr><tr><td>ryanbates</td><td>s3://oetrta/ryanbates</td><td>null</td></tr><tr><td>ryank_ext</td><td>s3://one-env-uc-external-location/ryank</td><td>null</td></tr><tr><td>ryant-auto-location</td><td>s3://ryan-autoloader-test/</td><td>null</td></tr><tr><td>rytizzle-bucket-bug2</td><td>s3://rytizzle-bucket/bug_test2</td><td>null</td></tr><tr><td>s3_bucket_chola_01</td><td>s3://databricks-mschola-demo-01/</td><td>demo path created for POC test</td></tr><tr><td>s3_jul9</td><td>s3://jsoldo-jul9/</td><td>null</td></tr><tr><td>s3_uday-satapathy</td><td>s3://uday-satapathy/</td><td>null</td></tr><tr><td>sab-ext-loc1</td><td>s3://sab-bucket-edm/</td><td>null</td></tr><tr><td>sab-uc-rest-ext</td><td>s3://uc-rest-bucket/</td><td>null</td></tr><tr><td>sab_ext_loc</td><td>s3://databricks-sabir/</td><td>null</td></tr><tr><td>sab_ext_loc_1</td><td>s3://databricks-sabir-ue1/</td><td>null</td></tr><tr><td>sadra-ext-location-test-1-backup</td><td>s3://one-env-uc-external-location/sadra-ext-location/test1</td><td>null</td></tr><tr><td>sahill-onboarding-test</td><td>s3://sahill-onboarding-test/</td><td>null</td></tr><tr><td>saiv_ext_loc</td><td>s3://saiv-test-bucket/</td><td>null</td></tr><tr><td>sandbox-latam-uc-workshop-external-access</td><td>s3://latam-uc-workshop-external/benchmark</td><td>null</td></tr><tr><td>sangbae-demo</td><td>s3://sangbae-demo/</td><td>null</td></tr><tr><td>sangwon_ext</td><td>s3://databricks-sangwon-seoul/</td><td>null</td></tr><tr><td>sanjeev-dsv-conn</td><td>s3://sanjeev-bucket/dsv-testing/parquet_data</td><td>null</td></tr><tr><td>sascha-vetter-demo</td><td>s3://databricks-e2demofieldengwest/sascha_vetter</td><td>External Location for demos</td></tr><tr><td>saurav_ext_loc</td><td>s3://one-env-uc-external-location/saurav</td><td>null</td></tr><tr><td>sava_test</td><td>s3://one-env-uc-external-location/sava_test</td><td>null</td></tr><tr><td>sawang_external_location</td><td>s3://one-env-uc-external-location/sawang</td><td>sabrina's external location </td></tr><tr><td>sawang_external_test</td><td>s3://one-env-uc-external-location/sawang_test</td><td>test_external</td></tr><tr><td>sbang2</td><td>s3://databricks-e2demofieldengwest/sbang2</td><td>null</td></tr><tr><td>sbang_ext</td><td>s3://one-env-uc-external-location/sbang</td><td>null</td></tr><tr><td>sbang_ext_location</td><td>s3://databricks-e2demofieldengwest/sbang</td><td>null</td></tr><tr><td>sbet-overwatch-external-location</td><td>s3://one-env-uc-external-location/sbet_overwatch</td><td>null</td></tr><tr><td>scarman_external</td><td>s3://one-env-uc-external-location/shcarman</td><td>null</td></tr><tr><td>scb-ext-finance</td><td>s3://myexternalbucket-noacls/finance</td><td>null</td></tr><tr><td>scottish-water-demo</td><td>s3://one-env-uc-external-location/scottish-water-demo</td><td>null</td></tr><tr><td>scottish_llm</td><td>s3://one-env-uc-external-location/scottish-llm</td><td>null</td></tr><tr><td>sds</td><td>s3://one-env-uc-external-location/sds</td><td>null</td></tr><tr><td>sec_10k_demo</td><td>s3://databricks-e2demofieldengwest/sec_10k_demo</td><td>null</td></tr><tr><td>seif_loc</td><td>s3://one-env-uc-external-location/seif</td><td>null</td></tr><tr><td>sergios_test_oneenv</td><td>s3://one-env-uc-external-location/sergios_test</td><td>null</td></tr><tr><td>seungdon-oneenv</td><td>s3://one-env-uc-external-location/seungdon</td><td>test for autoloader notification mode </td></tr><tr><td>sevann_test</td><td>s3://one-env-uc-external-location/sevann_test</td><td>null</td></tr><tr><td>sewi-external-location</td><td>s3://one-env-uc-external-location/sewi</td><td>null</td></tr><tr><td>sgarla</td><td>s3://one-env-uc-external-location/sgarla</td><td>null</td></tr><tr><td>shammond_test</td><td>s3://one-env-uc-external-location/shammond_test</td><td>null</td></tr><tr><td>shao-profiler</td><td>s3://shao-profiler/</td><td>null</td></tr><tr><td>shirley-test-one-env</td><td>s3://one-env-uc-external-location/shirley-test</td><td>null</td></tr><tr><td>shirlywang_oneenv_s3</td><td>s3://one-env-uc-external-location/shirlywang_oneenv</td><td>null</td></tr><tr><td>shivam</td><td>s3://one-env-uc-external-location/shivamp</td><td>null</td></tr><tr><td>shj_s3_external_location</td><td>s3://shj-uc-volume-bucket/shjdata</td><td>null</td></tr><tr><td>shovakeemian_ext_location</td><td>s3://one-env-uc-external-location/shovakeemian</td><td>null</td></tr><tr><td>shudbfsoveruc</td><td>s3://one-env-uc-external-location/shulidbfsoveruc</td><td>null</td></tr><tr><td>shuli</td><td>s3://one-env-uc-external-location/shuli</td><td>null</td></tr><tr><td>shuwu_demo</td><td>s3://one-env-uc-external-location/shuwu_demo</td><td>null</td></tr><tr><td>shyam_rao</td><td>s3://one-env-uc-external-location/shyam.rao</td><td>null</td></tr><tr><td>sid-ext-loc</td><td>s3://one-env-uc-external-location/sid-pore</td><td>null</td></tr><tr><td>siddharth-external-location-s3</td><td>s3://siddharth-glue-storage/siddharth-glue-storage-db</td><td>null</td></tr><tr><td>sirui-test-location</td><td>s3://siruisun-external-bucket/</td><td>null</td></tr><tr><td>sisto-external-location</td><td>s3://one-env-uc-external-location/sisto</td><td>null</td></tr><tr><td>skar-external</td><td>s3://skar-external/</td><td>null</td></tr><tr><td>skato-s3</td><td>s3://skato-s3/</td><td>null</td></tr><tr><td>skyscanner-external-location</td><td>s3://oetrta/skyscanner-partition-test</td><td>null</td></tr><tr><td>slc_test</td><td>s3://one-env-uc-external-location/slc_test</td><td>null</td></tr><tr><td>slee_one_env</td><td>s3://one-env-uc-external-location/slee</td><td>null</td></tr><tr><td>slimdemo_ext</td><td>s3://one-env-uc-external-location/slimdemo</td><td>null</td></tr><tr><td>slog-aws</td><td>s3://slog-aws2/</td><td>null</td></tr><tr><td>smakubi</td><td>s3://one-env-uc-external-location/smakubi</td><td>null</td></tr><tr><td>smeg-dev</td><td>s3://one-env-uc-external-location/tarik/smeg/dev</td><td>null</td></tr><tr><td>smiles_bronze</td><td>s3://test-cnab-pago/smiles-bronze</td><td>null</td></tr><tr><td>smunigati</td><td>s3://smunigati/</td><td>null</td></tr><tr><td>smunigati_oetrta</td><td>s3://oetrta/smunigati</td><td>null</td></tr><tr><td>snowflake-uniform</td><td>s3://one-env-uc-external-location/snowflake-uniform</td><td>null</td></tr><tr><td>songkun-zencity-demo</td><td>s3://songkun-zencity-demo/</td><td>sandbox backed resource, to be deleted after demo </td></tr><tr><td>spaladugu_uc_extn</td><td>s3://databricks-e2demofieldengwest/sridharpaladugu</td><td>null</td></tr><tr><td>spalyam_external_location</td><td>s3://one-env-uc-external-location/shared_locations/spalyam</td><td>Sudheer Palyam Demos external location</td></tr><tr><td>spark-ext</td><td>s3://databricks-spark-ext/</td><td>null</td></tr><tr><td>sreddy-ext-location</td><td>s3://one-env-uc-external-location/shakti_reddy</td><td>null</td></tr><tr><td>sri-test-external-location</td><td>s3://one-env-uc-external-location/_srit_external_test</td><td>null</td></tr><tr><td>sridhar_paladugu_s3</td><td>s3://databricks-sridharpaladugu/test-data</td><td>null</td></tr><tr><td>sridharpaladugu_extnlc</td><td>s3://databricks-sridharpaladugu/sp_uc_catalog</td><td>null</td></tr><tr><td>sriharsha_jana_external_location</td><td>s3://databricks-e2demofieldengwest/sriharsha_jana/demo</td><td>External Location for demos</td></tr><tr><td>sriharsha_jana_uc_ext</td><td>s3://databricks-e2demofieldengwest/sriharsha_jana/uc_ext_location</td><td>null</td></tr><tr><td>stefano-s3</td><td>s3://databricks-stefano-s3/</td><td>stefano's external location(s3://databricks-stefano-s3)</td></tr><tr><td>stephbehrens_demo</td><td>s3://one-env-uc-external-location/StephanieBehrens_Demo</td><td>null</td></tr><tr><td>stephbehrens_external</td><td>s3://one-env-uc-external-location/StephBehrens_External</td><td>null</td></tr><tr><td>steve-johansen</td><td>s3://one-env-uc-external-location/steve-johansen</td><td>null</td></tr><tr><td>steve-johansen-uc</td><td>s3://databricks-uc-steve-johansen/</td><td>null</td></tr><tr><td>steven_test_cross_account_catalog</td><td>s3://steven-cross-account-testing/</td><td>null</td></tr><tr><td>stuart</td><td>s3://one-env-uc-external-location/stuart</td><td>null</td></tr><tr><td>suda-uctest-external</td><td>s3://databricks-sudagawa-teststore/</td><td>null</td></tr><tr><td>sugandha-chauhan</td><td>s3://one-env-uc-external-location/sc-reg-parquet</td><td>connection for field demos</td></tr><tr><td>sugandha-data</td><td>s3://databricks-e2demofieldengwest/data</td><td>Data stored</td></tr><tr><td>sugandha-schema</td><td>s3://databricks-e2demofieldengwest/sugandha-schema</td><td>schema location</td></tr><tr><td>supahotbucket</td><td>s3://supahotbucket/</td><td>tom.bai@databricks.com</td></tr><tr><td>suraj</td><td>s3://one-env-uc-external-location/suraj</td><td>null</td></tr><tr><td>suraj-ext</td><td>s3://surajsandboxeast2/</td><td>null</td></tr><tr><td>suraj_</td><td>s3://oetrta/suraj</td><td>null</td></tr><tr><td>suraj_ext</td><td>s3://surajdbx2/</td><td>null</td></tr><tr><td>suraj_iceberg_location</td><td>s3://oetrta/surajiceberg</td><td>null</td></tr><tr><td>suraj_iceberg_location1</td><td>s3://oetrta/surajiceberg1</td><td>null</td></tr><tr><td>suraj_iceberg_location3</td><td>s3://oetrta/surajiceberg3</td><td>null</td></tr><tr><td>suraj_iceberg_location4</td><td>s3://oetrta/surajiceberg4</td><td>null</td></tr><tr><td>suraj_iceberg_location5</td><td>s3://oetrta/surajiceberg5</td><td>null</td></tr><tr><td>suraj_iceberg_location6</td><td>s3://oetrta/surajiceberg6</td><td>null</td></tr><tr><td>sv-ext-location</td><td>s3://one-env-uc-external-location/sv-ext-location</td><td>null</td></tr><tr><td>sw_external_location_sandbox</td><td>s3://swangtbucket/</td><td>null</td></tr><tr><td>swaroop_external_test</td><td>s3://one-env-uc-external-location/swaroop_test</td><td>test_external</td></tr><tr><td>swaroopo_ext</td><td>s3://one-env/swaroopo</td><td>null</td></tr><tr><td>synthea-omop</td><td>s3://synthea-omop/</td><td>null</td></tr><tr><td>sz-uc-external-location-manual</td><td>s3://sz-uc-bucket-manual/external_location1</td><td>null</td></tr><tr><td>taka-external-location</td><td>s3://taka-external-location-bucket/external-tables</td><td>null</td></tr><tr><td>takahiro_tohchika_ext_location</td><td>s3://one-env-uc-external-location/takahiro_tochika_ext</td><td>null</td></tr><tr><td>takahirotochika</td><td>s3://one-env-uc-external-location/takahiro_tochika</td><td>null</td></tr><tr><td>takat_ext_test</td><td>s3://takat-202504-ext-vol/path</td><td>null</td></tr><tr><td>tania-hms-federation</td><td>s3://oetrta/tania</td><td>null</td></tr><tr><td>taran</td><td>s3://one-env-uc-external-location/taran</td><td>null</td></tr><tr><td>taras_ext_loc_read_only</td><td>s3://oetrta/datasets-123</td><td>null</td></tr><tr><td>taras_one_env_dataset</td><td>s3://oetrta/datasets</td><td>null</td></tr><tr><td>taru</td><td>s3://tarun-test/</td><td>null</td></tr><tr><td>tarun-test</td><td>s3://one-env-uc-external-location/tarun</td><td>null</td></tr><tr><td>td-detect-external-access-el</td><td>s3://td-detect-external-access/tables</td><td>null</td></tr><tr><td>td-server-logs-el</td><td>s3://td-detect-external-access-server-logs/logs</td><td>null</td></tr><tr><td>td_abn_external</td><td>s3://one-env-uc-external-location/td_abn_external</td><td>null</td></tr><tr><td>tdosborne-db-external-volume-test</td><td>s3://one-env-uc-external-location/invoca-uc-test</td><td>External location to test creating external volume with nested json for customer UC question</td></tr><tr><td>te_s3_ext_location</td><td>s3://te-demo-bucket/</td><td>null</td></tr><tr><td>test</td><td>s3://databricks-e2demofieldengwest/ramgoli</td><td>null</td></tr><tr><td>test-btafur</td><td>s3://genome-browser/</td><td>null</td></tr><tr><td>test-ext-loc-5-customer1</td><td>s3://fedramp-test-ext-loc-5/customer1</td><td>null</td></tr><tr><td>test-ext-loc-5-fusion</td><td>s3://fedramp-test-ext-loc-5/FUSION</td><td>null</td></tr><tr><td>test-lars-datasets</td><td>s3://one-env-uc-external-location/test-lars-datasets</td><td>null</td></tr><tr><td>test-uc-aman</td><td>s3://databricks-test-uc-pratt/</td><td>null</td></tr><tr><td>test-uc-pratt</td><td>s3://databricks-test-uc-pratt-2/</td><td>null</td></tr><tr><td>test_external_location</td><td>s3://databricks-e2demofieldengwest/test_external_location</td><td>External Location for demos</td></tr><tr><td>test_pago</td><td>s3://test-cnab-pago/test1</td><td>null</td></tr><tr><td>test_remorph</td><td>s3://db-remoprh-test/test</td><td>null</td></tr><tr><td>test_rosh</td><td>s3://oetrta/test-ra</td><td>null</td></tr><tr><td>test_ts42_s3_demo</td><td>s3://ts42s3demo/</td><td>null</td></tr><tr><td>test_vn</td><td>s3://dababababa/</td><td>null</td></tr><tr><td>test_william_uc1</td><td>s3://wh-sandbox-bucket-demo/williamc-test/use-case1</td><td>null</td></tr><tr><td>test_william_uc2</td><td>s3://wh-sandbox-bucket-demo/williamc-test/use-case2</td><td>null</td></tr><tr><td>tetan_demo</td><td>s3://one-env-uc-external-location/tetan_demo</td><td>null</td></tr><tr><td>thhart0</td><td>s3://one-env-uc-external-location/thhart0</td><td>null</td></tr><tr><td>thoom_iceberg_glue_s3_external_location</td><td>s3://databricks-thoom-demos/glue-database-storage/thoom_iceberg</td><td>External location to read from the S3 path used to store the Glue Iceberg table files. </td></tr><tr><td>thor-dev-ext-location</td><td>s3://databricks-thor-non-prod-useast1-bucket/dev-data-folder</td><td>null</td></tr><tr><td>thrusa-temp</td><td>s3://databricks-thrusa-srg-us-west-2-temp/fe-testing</td><td>null</td></tr><tr><td>tim-dikland-anglo-demo</td><td>s3://databricks-timdikland-anglo-demo/</td><td>Access to s3 location for UC Volumes (AngloAmerican demo)</td></tr><tr><td>timo-ext-location</td><td>s3://one-env-uc-external-location/timo</td><td>External Location for Demo</td></tr><tr><td>tko-demo-ext-loc</td><td>s3://tko-demo-2025/</td><td>null</td></tr><tr><td>tleider-external-location</td><td>s3://tleider-external-test/</td><td>null</td></tr><tr><td>tmk_demo</td><td>s3://one-env-uc-external-location/tmk_demo</td><td>null</td></tr><tr><td>tnovais_demos</td><td>s3://databricks-e2demofieldengwest/tnovais_demos</td><td>null</td></tr><tr><td>tnovais_teste_esteca</td><td>s3://databricks-e2demofieldengwest/tnovais_teste_esteca</td><td>bucket created in session learn with Estecoso</td></tr><tr><td>toast-demo-s3</td><td>s3://toast-demo-bucket/</td><td>null</td></tr><tr><td>tpcdi_benchmark</td><td>s3://one-env-uc-external-location/tpcdi_benchmark</td><td>null</td></tr><tr><td>tristen_ext_loc</td><td>s3://one-env-uc-external-location/tristen</td><td>null</td></tr><tr><td>ts42_external_location</td><td>s3://one-env-uc-external-location/ts42</td><td>null</td></tr><tr><td>ttan_test</td><td>s3://oetrta/ttan_test</td><td>null</td></tr><tr><td>ttan_volume_test</td><td>s3://oetrta/ttan_volume_test</td><td>null</td></tr><tr><td>tw_demo_ext_location</td><td>s3://one-env-uc-external-location/tanner_wendland</td><td>null</td></tr><tr><td>twatanabe-s3-for-external-table</td><td>s3://twatanabe-azure-databricks-to-aws-demo-bucket/</td><td>null</td></tr><tr><td>twilio_ext</td><td>s3://one-env-uc-external-location/twilio-demo</td><td>null</td></tr><tr><td>twilio_ext_rnd</td><td>s3://one-env-uc-external-location/twilio-demo_rnd</td><td>null</td></tr><tr><td>twx-one-env</td><td>s3://one-env/twx</td><td>null</td></tr><tr><td>ty-eps</td><td>s3://one-env-uc-external-location/thickey</td><td>null</td></tr><tr><td>ub_demo</td><td>s3://one-env-uc-external-location/ub_Demo</td><td>null</td></tr><tr><td>ub_demo_control</td><td>s3://one-env-uc-external-location/ub_Demo_Control</td><td>null</td></tr><tr><td>ubisoft_demo</td><td>s3://one-env/ubisoft_demo</td><td>null</td></tr><tr><td>uc-engie</td><td>s3://one-env-uc-external-location/tarik/engie_unity_managed</td><td>null</td></tr><tr><td>uday-s3-sandbox</td><td>s3://uday-aws-sandbox/</td><td>null</td></tr><tr><td>uma_test</td><td>s3://databricks-e2demofieldengwest/uma_test</td><td>null</td></tr><tr><td>user_aj</td><td>s3://one-env-uc-external-location/user_aj</td><td>null</td></tr><tr><td>vasan_ext</td><td>s3://one-env-uc-external-location/vasan_ext</td><td>null</td></tr><tr><td>vhd-bra-catalogs</td><td>s3://one-env-uc-external-location/vhd-bra-catalogs</td><td>null</td></tr><tr><td>vhd-bra-external-location</td><td>s3://one-env-uc-external-location/vhd-bra-external</td><td>null</td></tr><tr><td>vicent_iceberg_lab</td><td>s3://one-env-uc-external-location/vicent-iceberg-lab</td><td>null</td></tr><tr><td>victor-gomes-el-332745928618</td><td>s3://victor-gomes-storage/</td><td>null</td></tr><tr><td>vihaggupta_oneenv</td><td>s3://oetrta/vihaggupta</td><td>null</td></tr><tr><td>vik_one_env_el</td><td>s3://one-env-uc-external-location/vik_gp_ext</td><td>null</td></tr><tr><td>vinod_ext_location</td><td>s3://one-env-uc-external-location/vinod/matson</td><td>null</td></tr><tr><td>vinod_matson_ext</td><td>s3://one-env-uc-external-location/vinod/matson_ext</td><td>null</td></tr><tr><td>vishesh_ext</td><td>s3://one-env-uc-external-location/vishesh_ext</td><td>null</td></tr><tr><td>vk_external_location</td><td>s3://one-env-uc-external-location/vivekkr</td><td>null</td></tr><tr><td>vlad-el-test</td><td>s3://vlad-test-databricks/delta</td><td>null</td></tr><tr><td>vlad-entire-bucket-path</td><td>s3://vlad-2-us-west-2/</td><td>null</td></tr><tr><td>vlad_external_tables</td><td>s3://vlad-us-west-2/external_tables</td><td>null</td></tr><tr><td>vlad_external_volume</td><td>s3://vlad-us-west-2/external_volume</td><td>null</td></tr><tr><td>vlad_managed_tables</td><td>s3://vlad-us-west-2/managed_tables</td><td>null</td></tr><tr><td>vlad_managed_volume</td><td>s3://vlad-us-west-2/managed_volume</td><td>null</td></tr><tr><td>vol_icechunk</td><td>s3://one-env-uc-external-location/mjohns/icechunk</td><td>Location for AWS data for icechunk S3 support</td></tr><tr><td>vr_ext_location</td><td>s3://one-env/vr</td><td>null</td></tr><tr><td>vr_fraud_location</td><td>s3://databricks-vr/fraud</td><td>null</td></tr><tr><td>vr_iiot_location</td><td>s3://databricks-vr/iiot</td><td>null</td></tr><tr><td>vt-demo-ext</td><td>s3://one-env-uc-external-location/vt-demo</td><td>null</td></tr><tr><td>vuong_nguyen_sandbox</td><td>s3://databricks-e2demofieldengwest/vuong_nguyen_sandbox</td><td>## This is for Vuong\n",
       "\n",
       "\n",
       "\n",
       "#### This is another comment</td></tr><tr><td>wagner-santos-external-location</td><td>s3://one-env-uc-external-location/wagner-santos-external-location</td><td>null</td></tr><tr><td>wb</td><td>s3://one-env/hkadish/WB</td><td>null</td></tr><tr><td>weiyunna</td><td>s3://one-env-uc-external-location/weiyunna</td><td>null</td></tr><tr><td>wgirten_demo</td><td>s3://databricks-e2demofieldengwest/wgirten_demo</td><td>null</td></tr><tr><td>wh_ext_loc</td><td>s3://one-env-uc-external-location/wharmer</td><td>null</td></tr><tr><td>will-taff-external-location</td><td>s3://one-env-uc-external-location/will-taff</td><td>null</td></tr><tr><td>wjh_ext</td><td>s3://databricks-e2demofieldengwest/wjh_ext</td><td>null</td></tr><tr><td>wtaff_external_location</td><td>s3://wtaff/</td><td>null</td></tr><tr><td>xieming_external_location</td><td>s3://databricks-e2demofieldengwest/xieming_external_location</td><td>External Location for demos</td></tr><tr><td>ya_external</td><td>s3://one-env-uc-external-location/ya_test</td><td>null</td></tr><tr><td>yaext</td><td>s3://one-env-uc-external-location/Yatish</td><td>null</td></tr><tr><td>yangwang</td><td>s3://one-env-uc-external-location/yangwang</td><td>null</td></tr><tr><td>yashodhan-external-location-bronze</td><td>s3://yashodhan-aws-bucket/bronze</td><td>null</td></tr><tr><td>yashodhan-external-location-silver</td><td>s3://yashodhan-aws-bucket/silver</td><td>null</td></tr><tr><td>yatin-hkjc-test</td><td>s3://databricks-yatink-qgif-demo/hkjc</td><td>null</td></tr><tr><td>yatin_ext</td><td>s3://databricks-yatink-qgif-demo/testing_mpokket</td><td>null</td></tr><tr><td>yatin_test_scb</td><td>s3://databricks-yatink-qgif-demo/scb</td><td>null</td></tr><tr><td>yaucvolumetest</td><td>s3://one-env-uc-external-location/yaucvolumetest</td><td>null</td></tr><tr><td>yehan-test-tokyo</td><td>s3://yehan-test-tokyo/</td><td>null</td></tr><tr><td>ygowda-s3</td><td>s3://ygowda-s3/parent-folder</td><td>Access data in the bucket ygowda-s3/parent-folder/</td></tr><tr><td>ygowda-s3-inventory-ext-location</td><td>s3://ygowda-s3-inventory/</td><td>External location to access S3 bucket ygowda-s3-inventory</td></tr><tr><td>yh_test_ext_loc</td><td>s3://one-env-uc-external-location/yh_test</td><td>null</td></tr><tr><td>ykko_uswest2_extloc</td><td>s3://databricks-ykko-uc/extloc</td><td>ykko demo ext location</td></tr><tr><td>ymao_s3_test</td><td>s3://one-env-uc-external-location/ymao</td><td>null</td></tr><tr><td>yogesh_bucket</td><td>s3://one-env-uc-external-location/yogesh_test</td><td>null</td></tr><tr><td>yohei-dbx-demo-extdata</td><td>s3://dbx-demo-yohei/extdata</td><td>null</td></tr><tr><td>yohei-dbx-demo-ingest</td><td>s3://dbx-demo-yohei/ingest</td><td>null</td></tr><tr><td>yohei_handson_20250523</td><td>s3://handson-20250523/sample_data</td><td>null</td></tr><tr><td>youssef</td><td>s3://databricks-bk-s3/youssef</td><td>null</td></tr><tr><td>youssefm</td><td>s3://one-env-uc-external-location/youssef</td><td>null</td></tr><tr><td>ys_demo</td><td>s3://databricks-e2demofieldengwest/ys_demo</td><td>null</td></tr><tr><td>ysm</td><td>s3://one-env-uc-external-location/ysm/perf_chk</td><td>null</td></tr><tr><td>ysm-sandbox-el</td><td>s3://ysm-sandbox/</td><td>null</td></tr><tr><td>ysm-sandbox-ice-cmp</td><td>s3://ysm-sandbox-ice-cmp/</td><td>null</td></tr><tr><td>yubin-ext-loc</td><td>s3://yb-lbox-s3-bucket/</td><td>null</td></tr><tr><td>yubin-ext-test</td><td>s3://yubin-ext-test/</td><td>null</td></tr><tr><td>yubin-rs-ext-loc</td><td>s3://starbucks-rs-s3/</td><td>null</td></tr><tr><td>yubin_dable_ext_loc</td><td>s3://yubin-dable-s3-bucket/</td><td>null</td></tr><tr><td>yuki-shiga-al-test-external-location</td><td>s3://yuki-shiga-al-test/</td><td>null</td></tr><tr><td>yuki-shiga-external-location</td><td>s3://yuki-shiga-external-location/</td><td>null</td></tr><tr><td>yuki-shiga-snowflake-storage</td><td>s3://yuki-shiga-snowflake/</td><td>null</td></tr><tr><td>yuki_shiga_external</td><td>s3://one-env-uc-external-location/yuki_shiga</td><td>null</td></tr><tr><td>zach-oneenv</td><td>s3://one-env-uc-external-location/zach-hazen</td><td>null</td></tr><tr><td>zaxier_ext_loc1</td><td>s3://one-env-uc-external-location/zaxier/ext-loc1</td><td>null</td></tr><tr><td>zg-external-location</td><td>s3://databricks-zg/</td><td>null</td></tr><tr><td>zg_cdc</td><td>s3://databricks-zg-landing-zone/</td><td>store cdc data</td></tr><tr><td>zh-aws-bucket</td><td>s3://zh-aws-bucket/</td><td>null</td></tr><tr><td>zhl-external-sandbox</td><td>s3://zhl-glue-integration/</td><td>null</td></tr><tr><td>zhl-s3</td><td>s3://one-env-uc-external-location/zhl</td><td>null</td></tr><tr><td>zhtest1</td><td>s3://whackwhack/mole</td><td>null</td></tr><tr><td>zivile</td><td>s3://oetrta/ziviles</td><td>null</td></tr><tr><td>zivile-one-env</td><td>s3://oetrta/zivile</td><td>null</td></tr><tr><td>zvt-data-test</td><td>s3://zvt-data-test/</td><td>null</td></tr><tr><td>日本語ロケーション</td><td>s3://one-env-uc-external-location/takahirotochika</td><td>null</td></tr></tbody></table></div>"
      ]
     },
     "metadata": {
      "application/vnd.databricks.v1+output": {
       "addedWidgets": {},
       "aggData": [],
       "aggError": "",
       "aggOverflow": false,
       "aggSchema": [],
       "aggSeriesLimitReached": false,
       "aggType": "",
       "arguments": {},
       "columnCustomDisplayInfos": {},
       "data": [
        [
         "00-lk2311-cuj-fat-sandboxfeaturetest-externallocation",
         "s3://00-lk2311-cuj-fat-sandboxfeaturetest-bucket/",
         "This is the external location feature that will access the S3 bucket"
        ],
        [
         "_advait_boehringer_image_recog_poc",
         "s3://one-env-uc-external-location/_advait_boehringer_image_recog_poc",
         null
        ],
        [
         "_advait_dasco_boehringer",
         "s3://one-env-uc-external-location/advaitgodbole",
         null
        ],
        [
         "_satishsathiya_hmsfed",
         "s3://one-env-uc-external-location/_satishsathiya_hmsfed",
         "external location for hms fed testing"
        ],
        [
         "a9o-extlocation01",
         "s3://a9o-extlocation01-s3/",
         null
        ],
        [
         "aaboode_ext_loc",
         "s3://one-env-uc-external-location/aaboode",
         ""
        ],
        [
         "aaugustyniak-external-location",
         "s3://one-env-uc-external-location/aaugustyniak",
         "Testing Volume"
        ],
        [
         "abdi_dlt_stream",
         "s3://one-env-uc-external-location/abdi_aon_amazon",
         null
        ],
        [
         "abe-demo-ext-loc",
         "s3://one-env-uc-external-location/abe",
         null
        ],
        [
         "abhi-one-env-ext",
         "s3://one-env-uc-external-location/abhi",
         null
        ],
        [
         "abhisaxena",
         "s3://one-env-uc-external-location/abhisaxena",
         "one-env external location"
        ],
        [
         "abs-criteo",
         "s3://one-env/abs/criteo",
         null
        ],
        [
         "abs-msd",
         "s3://oetrta/abs/msd",
         ""
        ],
        [
         "abs-nba-video",
         "s3://one-env/abs/nba_video",
         null
        ],
        [
         "achu-external-location",
         "s3://one-env-uc-external-location/achu",
         null
        ],
        [
         "ad-demo-bucket-24",
         "s3://ad-demo-bucket-24/",
         null
        ],
        [
         "ad-demo-bucket-24-3",
         "s3://ad-demo-bucket-24-3/",
         null
        ],
        [
         "ad-s3-demo-auto-bucket-01",
         "s3://ad-s3-demo-auto-bucket-01/",
         null
        ],
        [
         "ad-s3-demo-auto-bucket-02",
         "s3://ad-s3-demo-auto-bucket-02/",
         null
        ],
        [
         "ad-s3-demo-auto-bucket-03",
         "s3://ad-s3-demo-auto-bucket-03/",
         null
        ],
        [
         "ad-s3-demo-bucket-01",
         "s3://ad-s3-demo-bucket-01/",
         null
        ],
        [
         "ad-s3-demo-bucket-02",
         "s3://ad-s3-demo-bucket-02/",
         null
        ],
        [
         "ad-s3-demo-bucket-03",
         "s3://ad-s3-demo-bucket-03/",
         null
        ],
        [
         "ad_auction_edge",
         "s3://databricks-e2demofieldengwest/ad_auction_edge",
         null
        ],
        [
         "ad_demo_s3",
         "s3://databricks-e2demofieldengwest/ad_data",
         null
        ],
        [
         "ad_hudi_table",
         "s3://ad-demo-bucket1/hudi_demo/hudi_table",
         null
        ],
        [
         "ada-observations-delta",
         "s3://ada-observations-delta/",
         null
        ],
        [
         "ada-test-observations",
         "s3://ada-observations-west/",
         null
        ],
        [
         "adarsh-vol1-el",
         "s3://adarsh-vol1/",
         null
        ],
        [
         "adarsh_extrenal_location1",
         "s3://one-env-uc-external-location/adarsh1",
         null
        ],
        [
         "adia_test",
         "s3://one-env-uc-external-location/adia-test",
         null
        ],
        [
         "aditya-mandiwal-robinhood",
         "s3://aditya-mandiwal/robinhood",
         "location for robinhood poc"
        ],
        [
         "adls-llm-mfg-demo",
         "abfss://mfg-llm-demo@abhishekgdcindpsgen2.dfs.core.windows.net/",
         null
        ],
        [
         "afsana_external_location_prefix_level_202409",
         "s3://afsana-test-bucket-202409/regular_data_folder",
         null
        ],
        [
         "ag-one-env-ext",
         "s3://one-env-uc-external-location/ag-aws-s3",
         null
        ],
        [
         "ag_ext",
         "s3://databricks-e2demofieldengwest/ag_ext",
         null
        ],
        [
         "aghadi-external-location",
         "s3://one-env-uc-external-location/ankita-ghadi",
         null
        ],
        [
         "ahc-demo-s3-sandbox",
         "s3://ahc-demo-s3-west/",
         "S3 bucket in databricks-admin-sandbox account"
        ],
        [
         "ahc_s3_sandbox_new",
         "s3://ahc-s3-sandbox/",
         null
        ],
        [
         "ahtsa",
         "s3://one-env-uc-external-location/aht-sa",
         "s3 access "
        ],
        [
         "aj-one-env-el",
         "s3://one-env-uc-external-location/abhayjalisatgi",
         null
        ],
        [
         "aj_ext_loc",
         "s3://databricks-avnishjain/",
         ""
        ],
        [
         "ajinkya-ext-loc",
         "s3://one-env-uc-external-location/ajinkya-ext-loc",
         null
        ],
        [
         "aka-external-sandbox",
         "s3://akaexternal/",
         null
        ],
        [
         "aka-iceberg",
         "s3://one-env-uc-external-location/aka-iceberg",
         null
        ],
        [
         "aka_snowberg_federation",
         "s3://akainterop/",
         null
        ],
        [
         "akamanaged",
         "s3://akamanaged/",
         null
        ],
        [
         "akangsha-external-location",
         "s3://one-env-uc-external-location/akangsha-external-location",
         null
        ],
        [
         "akangsha-healthcare-sample",
         "s3://one-env-uc-external-location/akangsha-healthcare-sample",
         "External location linking to S3 bucket to upload healthcare sample data"
        ],
        [
         "akash_external_location",
         "s3://one-env-uc-external-location/akash-external-location",
         null
        ],
        [
         "akrishn_fe_dsa",
         "s3://one-env-uc-external-location/akrishn_fe_dsa",
         null
        ],
        [
         "akshay_ext",
         "s3://akshayamin-demo-bucket/user_parquet_fam",
         null
        ],
        [
         "akshay_ext_2",
         "s3://databricks-akshayamin/",
         null
        ],
        [
         "akshay_uc_to_glue_ext",
         "s3://databricks-akshayamin-sbx/",
         null
        ],
        [
         "akshay_uc_to_glue_ext_2",
         "s3://databricks-akshayamin-sbx-2/",
         null
        ],
        [
         "al135",
         "s3://databricks-e2demofieldengwest/al135",
         null
        ],
        [
         "al135_ext",
         "s3://one-env-uc-external-location/al135",
         null
        ],
        [
         "alan-demo",
         "s3://databricks-e2demofieldengwest/alan",
         null
        ],
        [
         "alan_choi_ext_loc",
         "s3://one-env-uc-external-location/alanchoi",
         null
        ],
        [
         "aleung",
         "s3://one-env/aleung",
         null
        ],
        [
         "alex-feng-s3",
         "s3://one-env/alex-feng",
         null
        ],
        [
         "alexandru_ext",
         "s3://one-env-uc-external-location/alexandru",
         null
        ],
        [
         "alexnextloc",
         "s3://one-env-uc-external-location/alexn",
         null
        ],
        [
         "ali_sayeed",
         "s3://alisayeed/",
         null
        ],
        [
         "ali_sayeed_fy26",
         "s3://ali-sayeed-fy26/",
         null
        ],
        [
         "alire-test-ext-loc",
         "s3://databricks-e2demofieldengwest/alire",
         null
        ],
        [
         "alp-extloc-realestatefr",
         "s3://alp-realestatefr/",
         null
        ],
        [
         "amir-test",
         "s3://databricks-amir-retail-images/",
         null
        ],
        [
         "ams-demo",
         "s3://databricks-ams-demo/",
         null
        ],
        [
         "anallan",
         "s3://one-env-uc-external-location/anallan",
         null
        ],
        [
         "andrea-santurbano-bkt",
         "s3://andrea-santurbano-bkt/",
         null
        ],
        [
         "andrea_santurbano_external",
         "s3://one-env-uc-external-location/andrea_santurbano",
         null
        ],
        [
         "andreatardif_test",
         "s3://one-env-uc-external-location/andreatardif",
         null
        ],
        [
         "animal_videos",
         "s3://databricks-e2demofieldengwest/animal_videos",
         "External Location for demos"
        ],
        [
         "anindita-dr-tokyo",
         "s3://anindita-dr-tokyo/",
         null
        ],
        [
         "anindita-west2-bucket",
         "s3://one-env-uc-external-location/anindita-west2-bucket",
         null
        ],
        [
         "anish-test",
         "s3://one-env/anishtest",
         "test"
        ],
        [
         "anish_test",
         "s3://one-env-uc-external-location/anishtest",
         null
        ],
        [
         "anjali_ext_location",
         "s3://one-env-uc-external-location/demo_datasets",
         null
        ],
        [
         "ankity-external-location",
         "s3://ankity-test-bucket/",
         null
        ],
        [
         "ankur",
         "s3://one-env-uc-external-location/ankur",
         null
        ],
        [
         "ankurexternnallocaation",
         "s3://one-env-uc-external-location/ankurlocaation",
         null
        ],
        [
         "antonb",
         "s3://oetrta/antonb",
         null
        ],
        [
         "arana-loc",
         "s3://databricks-rafa/",
         null
        ],
        [
         "archana-ext1",
         "s3://one-env-uc-external-location/archana-ext/loc1",
         null
        ],
        [
         "archana-uc-catlog1",
         "s3://archana-uc-bucket/uc-catalog1",
         ""
        ],
        [
         "arcion_testing",
         "s3://oetrta/arcion_testing",
         null
        ],
        [
         "areese-external-location",
         "s3://one-env-uc-external-location/areese",
         null
        ],
        [
         "arnav-one-env-ext",
         "s3://one-env-uc-external-location/arnav-aws-s3",
         "external location for catalog"
        ],
        [
         "arnav_hms_test",
         "s3://one-env-uc-external-location/arnav_hms_test",
         "arnav-testing"
        ],
        [
         "aruna_b_ext",
         "s3://oetrta/aruna_b",
         null
        ],
        [
         "arv_s3_ext_loc_de_poc",
         "s3://one-env-uc-external-location/arv-test",
         null
        ],
        [
         "ash-ext-loc-allwyn",
         "s3://databricks-ash/",
         null
        ],
        [
         "asher",
         "s3://databricks-e2demofieldengwest/asher",
         "Asher Bartch demo location"
        ],
        [
         "ashwin-external-location",
         "s3://one-env-uc-external-location/ashwin-sundaram",
         null
        ],
        [
         "ashwin-sundaram-2",
         "s3://one-env-uc-external-location/ashwin-sundaram-2",
         null
        ],
        [
         "ask_external",
         "s3://one-env-uc-external-location/karthik_subramanya_externalloc",
         null
        ],
        [
         "ask_managed",
         "s3://one-env-uc-external-location/karthik_subramanya_managedloc",
         null
        ],
        [
         "asong_demo_loc",
         "s3://databricks-e2demofieldengwest/aprilsong",
         null
        ],
        [
         "atilak-managed-uniform",
         "s3://atilak-managed-uniform/",
         null
        ],
        [
         "atilak_lakehouse_s3",
         "s3://atilak-lakehouse/",
         null
        ],
        [
         "autoloader_checkpoint",
         "s3://databricks-dev-autoloader/",
         "Checkpoint and schema evolution for Autoloader"
        ],
        [
         "avc123",
         "s3://derp.derpd/lurp/kerp",
         null
        ],
        [
         "avlasov-reusable",
         "s3://one-env-uc-external-location/avlasov_reusable",
         null
        ],
        [
         "aweaver-external-location",
         "s3://one-env-uc-external-location/aweaver",
         null
        ],
        [
         "aweaver-us-west-2",
         "s3://aweaver-us-west-2/",
         null
        ],
        [
         "aws-external-storage-esteca-us-east-1",
         "s3://s3-cross-regoion-bucket-e2/",
         null
        ],
        [
         "aws-s3-hudi",
         "s3://mayur-tayde/",
         null
        ],
        [
         "az-autoloader-demo",
         "s3://one-env-uc-external-location/az_autoloader_demo",
         null
        ],
        [
         "bb-one-env",
         "s3://one-env/tmp_bryn",
         null
        ],
        [
         "bbbs3connect",
         "s3://bbbtcbforvllmandhftwo/",
         null
        ],
        [
         "bc-exp-uc-external-loc",
         "s3://bc-uc-demo-us-west-2/",
         null
        ],
        [
         "bchin_demo_external_location",
         "s3://databricks-e2demofieldengwest/bchin_external_location",
         "Testing External Location Functionality"
        ],
        [
         "bchin_external_volume_example",
         "s3://databricks-e2demofieldengwest/bchin_volume_external_folder",
         null
        ],
        [
         "bchin_managed_catalog_external_location",
         "s3://databricks-e2demofieldengwest/bchin_managed_catalog",
         "Managed Catalog Test for Ben C"
        ],
        [
         "beatrice_liew_ext",
         "s3://one-env-uc-external-location/beatrice-liew",
         null
        ],
        [
         "beatrice_read_only",
         "s3://beatrice-bucket/",
         null
        ],
        [
         "benchmark-databricks-general-usw2",
         "s3://benchmark-databricks-general-usw2/",
         null
        ],
        [
         "benchops_data",
         "s3://benchops-data-west/",
         null
        ],
        [
         "benjamin_chin_managed_catalog_location",
         "s3://databricks-e2demofieldengwest/benjamin_chin_managed_catalog_location",
         "External Location for benjamin_chin_managed_catalog_location"
        ],
        [
         "benjamin_chin_managed_schema_location",
         "s3://databricks-e2demofieldengwest/benjamin_chin_managed_schema_location",
         "External Location for benjamin_chin_managed_schema_location"
        ],
        [
         "bhagyashri_internal_demo",
         "s3://one-env/bhagyashridemo",
         null
        ],
        [
         "bharath-databricks-hms-storage",
         "s3://bharath-databricks-hms-storage/",
         null
        ],
        [
         "bharath-periyasamy",
         "s3://one-env-uc-external-location/bharath-periyasamy",
         null
        ],
        [
         "bharath_glue_authorized_paths_loc",
         "s3://bharath-iceberg-federation-table-loc/",
         null
        ],
        [
         "bharathp_ext_loc",
         "s3://databricks-e2demofieldengwest/bharathp_ext",
         null
        ],
        [
         "bhima_test_s3_location",
         "s3://one-env-uc-external-location/Bhima",
         null
        ],
        [
         "bjar-ext-loc",
         "s3://one-env-uc-external-location/bjar",
         null
        ],
        [
         "bjar-gen-sbx-bkt-usw1",
         "s3://bjar-gen-sbx-bkt-usw1/",
         null
        ],
        [
         "bk_demo",
         "s3://one-env-uc-external-location/bk_demo",
         null
        ],
        [
         "bkvarda-one-env",
         "s3://one-env-uc-external-location/bkvarda",
         null
        ],
        [
         "bloomberg_ext",
         "s3://databricks-e2demofieldengwest/main/bloomberg",
         null
        ],
        [
         "bmathew_external_location_1",
         "s3://one-env-uc-external-location/bmathew_ext",
         null
        ],
        [
         "bmathew_one_env",
         "s3://one-env/bmathew/sample_delta_table",
         null
        ],
        [
         "bmathew_uc_primary",
         "s3://one-env-uc-external-location/bmathew/uc-primary",
         null
        ],
        [
         "bmathew_uc_secondary",
         "s3://oetrta/bmathew/uc-secondary",
         null
        ],
        [
         "bo-cheng-glue-external-location",
         "s3://oetrta/ah/example_userdata",
         null
        ],
        [
         "borisbb_oneenv",
         "s3://oetrta/boris",
         null
        ],
        [
         "bq_profiling",
         "s3://one-env-uc-external-location/bq_profiling",
         "Do Not Delete: Data for BQ Profiler"
        ],
        [
         "bradford_oneenv_uc",
         "s3://one-env-uc-external-location/bradford",
         null
        ],
        [
         "brady-tello-uc-ws",
         "s3://brady-tello-uc-ws/",
         null
        ],
        [
         "brian-ham-test",
         "s3://one-env-uc-external-location/brian-ham-test",
         null
        ],
        [
         "bruno-oliveira-demo-db",
         "s3://bruno-oliveira-demo-db-us-west-2-332745928618/",
         null
        ],
        [
         "btafur-test",
         "s3://one-env-uc-external-location/btafur-test",
         null
        ],
        [
         "btafur_demos_external_location",
         "s3://one-env-uc-external-location/btafur",
         null
        ],
        [
         "btello_one_env_s3",
         "s3://one-env-uc-external-location/btello",
         null
        ],
        [
         "btello_target_one_env_s3",
         "s3://one-env-uc-external-location/btello_target",
         null
        ],
        [
         "caio-demo-airbnb",
         "s3://caio-demo-airbnb/",
         "Caio demo"
        ],
        [
         "camilaqueiroz",
         "s3://one-env-uc-external-location/camilaqueiroz",
         "To create demos"
        ],
        [
         "carrossoni",
         "s3://one-env-uc-external-location/carrossoni",
         "for luiz carrossoni demos"
        ],
        [
         "cb-external-location",
         "s3://cb-test-external-location/",
         null
        ],
        [
         "cb_aws_external",
         "s3://one-env/cb-demos",
         null
        ],
        [
         "cdc-map",
         "s3://one-env-uc-external-location/mayureshp-folder",
         null
        ],
        [
         "cdcp_hive_external",
         "s3://oetrta/cdcp_hive",
         null
        ],
        [
         "cdelecki_ext_loc",
         "s3://one-env-uc-external-location/cdelecki",
         null
        ],
        [
         "cdg-dork",
         "s3://one-env-uc-external-location/cdg_dork",
         null
        ],
        [
         "cdh_external_location_glue",
         "s3://one-env-uc-external-location/glue",
         "this location is having access to external storage"
        ],
        [
         "cengage",
         "s3://cengage-demo/",
         "External Location in Databricks"
        ],
        [
         "cgrant",
         "s3://one-env-uc-external-location/cgrant",
         null
        ],
        [
         "chaima-oneenv",
         "s3://one-env-uc-external-location/cberrachdi",
         null
        ],
        [
         "chaman-ext-loc-s3",
         "s3://databricks-e2demofieldengwest/chaman-test-ext-loc",
         null
        ],
        [
         "chandler_test_extloc",
         "s3://databricks-e2demofieldengwest/chandler_test_extloc/twilio_lz",
         null
        ],
        [
         "chang-ext-loc",
         "s3://one-env-uc-external-location/chang-uc",
         null
        ],
        [
         "chuang_external_location",
         "s3://one-env-uc-external-location/chuang",
         null
        ],
        [
         "chulkang_location",
         "s3://databricks-e2demofieldengwest/chulkang",
         null
        ],
        [
         "cigna-share",
         "s3://cignahealthcare-databricks/",
         null
        ],
        [
         "ckdr-ext-vol",
         "s3://one-env-uc-external-location/ckdr-testdr",
         null
        ],
        [
         "ckdr2ext",
         "s3://one-env-uc-external-location/ckdr2",
         null
        ],
        [
         "ckdrext",
         "s3://one-env-uc-external-location/ckdr",
         null
        ],
        [
         "clayton-demo-bucket",
         "s3://claytondemobucket/",
         null
        ],
        [
         "cmoore_oneenv",
         "s3://one-env-uc-external-location/cmoore",
         null
        ],
        [
         "cody_demos_location",
         "s3://one-env-uc-external-location/cody_demos",
         null
        ],
        [
         "compass_ext_location_1",
         "s3://one-env-uc-external-location/compass_test_location",
         "Deployed via TF"
        ],
        [
         "craig-lukasik-ext",
         "s3://databricks-craig-lukasik-ext-loc/external-table",
         null
        ],
        [
         "craig-lukasik-ext-demo",
         "s3://databricks-craig-lukasik-ext-loc-demo/external-table",
         null
        ],
        [
         "cs_external_location_test",
         "s3://one-env-uc-external-location/test",
         null
        ],
        [
         "csc168-one-env-ext-loc",
         "s3://one-env/csc168",
         null
        ],
        [
         "cyberdyne-bucket",
         "s3://one-env-uc-external-location/cyberdyne",
         null
        ],
        [
         "cyl_external_location",
         "s3://databricks-e2demofieldengwest/chiayui_lee_sandbox",
         null
        ],
        [
         "cyl_one_env_ext_location",
         "s3://one-env-uc-external-location/chiayui-lee",
         "Demo external location on one-env bucket"
        ],
        [
         "dahora-demo-01",
         "s3://dahora-demo-01/",
         null
        ],
        [
         "dahora-demo-bucket02",
         "s3://dahora-demo-bucket02/",
         null
        ],
        [
         "dahora-demo-bucket03",
         "s3://dahora-demo-bucket03/",
         null
        ],
        [
         "daniel-martinez-demos",
         "s3://daniel-martinez-demos/",
         null
        ],
        [
         "daniel-martinez-demos-2",
         "s3://daniel-martinez-dbx-demo/",
         null
        ],
        [
         "daniel-martinez-wh",
         "s3://databricks-e2demofieldengwest/daniel-martinez",
         null
        ],
        [
         "danielhaviv-one-env",
         "s3://one-env-uc-external-location/danielhaviv",
         null
        ],
        [
         "danielhaviv_oetrta",
         "s3://oetrta/danielhaviv",
         null
        ],
        [
         "dannywong",
         "s3://databricks-dannywong-uc/external",
         null
        ],
        [
         "databricks-acao-ext-loc",
         "s3://databricks-acao/",
         null
        ],
        [
         "databricks-aladda",
         "s3://databricks-aladda/",
         null
        ],
        [
         "databricks-benchmarks",
         "s3://databricks-benchmarks/",
         null
        ],
        [
         "databricks-bharath-ext-src-dir",
         "s3://databricks-bharath-ext-src/source_dir",
         null
        ],
        [
         "databricks-bharath-ext-target-dir",
         "s3://databricks-bharath-ext-src/target_dir",
         null
        ],
        [
         "databricks-bp-glue-table-loc",
         "s3://databricks-bp-glue-table-loc/",
         null
        ],
        [
         "databricks-demo-data-us-west-2",
         "s3://databricks-demo-data-us-west-2/uc-data",
         null
        ],
        [
         "databricks-dkushari",
         "s3://databricks-dkushari/",
         null
        ],
        [
         "databricks-edward-ext-test-s3",
         "s3://databricks-ext-test-s3/",
         null
        ],
        [
         "databricks-edward-external-s3",
         "s3://databricks-edward-external-s3/",
         null
        ],
        [
         "databricks-edward-iceberg",
         "s3://databricks-edward-test/",
         null
        ],
        [
         "databricks-edward-shin",
         "s3://databricks-edward-shin/",
         null
        ],
        [
         "databricks-edward-shin-s3",
         "s3://databricks-edward-shin-test/",
         null
        ],
        [
         "databricks-instanceprofile",
         "s3://databricks-douglasmoore/",
         "test Instance profile to storage credential"
        ],
        [
         "databricks-keappdatadev-ext-s3",
         "s3://databricks-edward-kms/",
         null
        ],
        [
         "databricks-marat-levit",
         "s3://one-env-uc-external-location/marat-levit",
         null
        ],
        [
         "databricks-pparikh-s3-location",
         "s3://one-env-uc-external-location/pparikh",
         null
        ],
        [
         "databricks-s3-ingest-pedro-zanela",
         "s3://pz-bucket-ia/",
         null
        ],
        [
         "databricks-smunigati",
         "s3://databricks-smunigati/",
         null
        ],
        [
         "databricks-smunigati-customer_a",
         "s3://databricks-smunigati-customers/customer_a",
         "test"
        ],
        [
         "databricks-solacc-marketplace",
         "s3://databricks-solacc-marketplace/",
         null
        ],
        [
         "databricks-wb-bigdata-paris-connection",
         "s3://databricks-wb-bigdata-paris/",
         null
        ],
        [
         "databricks_bharath_ext_loc_target_dir_notification",
         "s3://databricks-bharath-ext-src/target_dir_notification",
         null
        ],
        [
         "databricks_ip_test_s3_loc",
         "s3://databricks-ip-test/",
         null
        ],
        [
         "databricks_uc_ext_test",
         "s3://databricks-e2demofieldengwest/giri_patchamatla_test",
         null
        ],
        [
         "datasource",
         "s3://one-env-uc-external-location/tarik/datasource",
         null
        ],
        [
         "daveok-iceberg",
         "s3://daveok-iceberg-catch/",
         null
        ],
        [
         "daveok_external",
         "s3://one-env-uc-external-location/daveok_external",
         "Used for testing the Coles scenario"
        ],
        [
         "david-radford",
         "s3://databricks-david-radford/",
         null
        ],
        [
         "db-abhilash-use1",
         "s3://db-abhilash-use1/",
         null
        ],
        [
         "db-demo-yash",
         "s3://db-demos-yash/",
         null
        ],
        [
         "db-gtm-industry-solutions-el",
         "s3://db-gtm-industry-solutions/data/rcg/comtrade",
         null
        ],
        [
         "db-s3-rtsuboi",
         "s3://db-s3-rtsuboi/data",
         null
        ],
        [
         "db_s3_external_azofeifa-s3externalbucket",
         "s3://azofeifas3bucket/",
         null
        ],
        [
         "db_s3_external_databricks-s3-ingest-1dad3",
         "s3://derekcleanroom/",
         null
        ],
        [
         "db_s3_external_databricks-s3-ingest-25f9f",
         "s3://rajeshag-demo-us-west-2-332745928618/",
         null
        ],
        [
         "db_s3_external_databricks-s3-ingest-370e0",
         "s3://nan-external-location-ap-southeast-1-332745928618/",
         null
        ],
        [
         "db_s3_external_databricks-s3-ingest-378c4",
         "s3://oracle-db-storage-mz/",
         null
        ],
        [
         "db_s3_external_databricks-s3-ingest-3b502",
         "s3://kuwano-demo-autoloader-s3/",
         null
        ],
        [
         "db_s3_external_databricks-s3-ingest-3cc29",
         "s3://pallavimishratestbucket/",
         null
        ],
        [
         "db_s3_external_databricks-s3-ingest-46bd9",
         "s3://workshop-bucket-396548483691/",
         null
        ],
        [
         "db_s3_external_databricks-s3-ingest-48245",
         "s3://test-smiles-1/",
         null
        ],
        [
         "db_s3_external_databricks-s3-ingest-74d63",
         "s3://deoawsbucket999/",
         null
        ],
        [
         "db_s3_external_databricks-s3-ingest-7aafd",
         "s3://tomi-schumacher-s3/",
         null
        ],
        [
         "db_s3_external_databricks-s3-ingest-89fbe",
         "s3://yubin-s3-ext-loc/",
         null
        ],
        [
         "db_s3_external_databricks-s3-ingest-91b69",
         "s3://mattcutini/",
         null
        ],
        [
         "db_s3_external_databricks-s3-ingest-a2fdd",
         "s3://venkytestbrick/",
         null
        ],
        [
         "db_s3_external_databricks-s3-ingest-a43b7",
         "s3://snow-iceberg-data/",
         null
        ],
        [
         "db_s3_external_databricks-s3-ingest-b2f71",
         "s3://testbucketbtafur/",
         null
        ],
        [
         "db_s3_external_databricks-s3-ingest-ba353",
         "s3://nan-ext-location/",
         null
        ],
        [
         "db_s3_external_databricks-s3-ingest-c2347",
         "s3://sts-julian-bucket-demo/",
         null
        ],
        [
         "db_s3_external_databricks-s3-ingest-c2f3b",
         "s3://sanjeev-bucket-2/",
         null
        ],
        [
         "db_s3_external_databricks-s3-ingest-eb851",
         "s3://ad-demo-bucket-24-1/",
         null
        ],
        [
         "db_s3_external_databricks-s3-ingest-f24b3",
         "s3://ss-hive-test2/",
         null
        ],
        [
         "db_s3_external_databricks-s3-ingest-ff49f",
         "s3://yuki-shiga-external-schema/",
         null
        ],
        [
         "db_s3_external_databricks-s3-ingest-suv-dbx-stack",
         "s3://suv-dbx-s3bucket/",
         null
        ],
        [
         "db_s3_external_yuki-shiga-iceberg-test",
         "s3://yuki-shiga-iceberg-test/",
         null
        ],
        [
         "dbacademy_bo_z_databricks_com_schema",
         "s3://one-env-uc-external-location/dbacademy_bo_z_databricks_com_schema",
         "uc demo by bo"
        ],
        [
         "dbdemo-sk-01-s3",
         "s3://dbdemo-sk-01/root/ext_tables",
         null
        ],
        [
         "dbdemos_vp_tables",
         "s3://one-env-uc-external-location/dbdemos_vp_tables",
         null
        ],
        [
         "ddavis_demo",
         "s3://ddavisdemobucket/",
         null
        ],
        [
         "ddavis_demo_external_location",
         "s3://one-env-uc-external-location/ddavis_demo",
         null
        ],
        [
         "de-brick-demos-s3",
         "s3://de-brick-demos/",
         null
        ],
        [
         "declan_external_location",
         "s3://one-env/declan_meaney",
         "declan demo location"
        ],
        [
         "deltaoms-may24-external-location",
         "s3://databricks-deltaoms/deltaoms-may24",
         "DeltaOMS External Location"
        ],
        [
         "delvin_low_ext_loc",
         "s3://one-env-uc-external-location/delvin.low/demo_sources",
         "Demo location for AWS exernal data"
        ],
        [
         "demo-credit-card-data-analysisraw",
         "s3://demo-credit-card-data-analysisraw/",
         null
        ],
        [
         "demo_datta_s3_ext_loc",
         "s3://demo-dattaw-test/",
         "s3 uc demo"
        ],
        [
         "demo_ext_kilaris",
         "s3://one-env-uc-external-location/kilaris",
         null
        ],
        [
         "demo_parquet",
         "s3://one-env-uc-external-location/sourav_parquet",
         null
        ],
        [
         "demo_sourav_external",
         "s3://one-env-uc-external-location/sourav_delta",
         null
        ],
        [
         "demo_taran",
         "s3://one-env-uc-external-location/demo-taran",
         null
        ],
        [
         "dereksun",
         "s3://dereksunbucket/",
         "catalog on derek sun bucket"
        ],
        [
         "dgt",
         "s3://databricks-e2demofieldengwest/dgt",
         null
        ],
        [
         "dh-databricks-external-location",
         "s3://dh-aws-databricks/",
         null
        ],
        [
         "dhgdemoexternallocatoin",
         "s3://dhgdemobucket0702/data",
         null
        ],
        [
         "digan_location",
         "s3://databricks-digan/",
         null
        ],
        [
         "digan_one_env",
         "s3://one-env-uc-external-location/diganparikh",
         null
        ],
        [
         "dineshkumar_ext",
         "s3://one-env-uc-external-location/dineshkumar",
         null
        ],
        [
         "dkim_ext",
         "s3://databricks-dkim/",
         null
        ],
        [
         "dkushari-east-1-loc",
         "s3://databricks-dkushari-useast1/",
         null
        ],
        [
         "dkushari-uc-el",
         "s3://dkushari-databricks-us-west-2/",
         null
        ],
        [
         "dlt-autoloader-landing",
         "s3://one-env-uc-external-location/am-auto-loader-test",
         "This is Amin's folder for DLT autoloader landing"
        ],
        [
         "dnks-ext-location",
         "s3://dnks-brenntag-bucket/",
         null
        ],
        [
         "dongwook-databricks",
         "s3://databricks-dongwook/databricks",
         null
        ],
        [
         "dongwook-demos",
         "s3://databricks-dongwook/demos",
         "Customer DEMO "
        ],
        [
         "dongwook-one-env",
         "s3://one-env-uc-external-location/dongwook",
         null
        ],
        [
         "dongwook-test",
         "s3://databricks-dongwook/test",
         null
        ],
        [
         "donidoni-hanhwa",
         "s3://donidoni-hanhwa-bucket/",
         null
        ],
        [
         "douglas_mooore_field_demos_external_location",
         "s3://databricks-e2demofieldengwest/douglas_moore_sandbox_demos",
         "External Location for demos for douglas moore"
        ],
        [
         "dps-access-test",
         "s3://wharmer-dps-bucket/data/csv",
         null
        ],
        [
         "droy-uc-vol1",
         "s3://one-env-uc-external-location/droy-uc-vol1",
         null
        ],
        [
         "droy_uc_ext_s3",
         "s3://one-env-uc-external-location/droy_uc_external_volume",
         null
        ],
        [
         "ds100-external-location",
         "s3://ds100-glue-federation/",
         null
        ],
        [
         "dsatty-ext-location",
         "s3://dsatty-demo-bucket/",
         null
        ],
        [
         "dsml-tt-rw-files",
         "s3://databricks-dsml-tt/rw_files",
         "External location for reading and writing files in an s3 bucket. "
        ],
        [
         "dsml_tt_catalogs",
         "s3://databricks-dsml-tt/uc_catalogs",
         "Share Technical Serivces Team's location for creating catalogs with managed data for demo purposes. "
        ],
        [
         "dss_aps_demo",
         "s3://one-env-uc-external-location/dss_aps_demo",
         null
        ],
        [
         "dss_d4_dataextloc",
         "s3://dssdatabucket4/",
         null
        ],
        [
         "dss_d4_storageextloc",
         "s3://dssbucketstoraged4/",
         null
        ],
        [
         "dt_temp",
         "s3://oetrta/dt_temp",
         null
        ],
        [
         "dttemp",
         "s3://oetrta/dttemp",
         null
        ],
        [
         "dustin-vannoy-test2",
         "s3://one-env-uc-external-location/dustin.vannoy2",
         null
        ],
        [
         "dustinvannoy-ext-loc",
         "s3://one-env-uc-external-location/dustin.vannoy",
         null
        ],
        [
         "dw_dfe",
         "s3://databricks-dannywong-uc/dfe_sa",
         null
        ],
        [
         "edf",
         "s3://one-env-uc-external-location/tarik/edf",
         null
        ],
        [
         "efranceschi_glue",
         "s3://efranceschi/",
         null
        ],
        [
         "egb-test-emirates-uc",
         "s3://egb-test-emirates-uc/",
         null
        ],
        [
         "egb_external_location",
         "s3://one-env-uc-external-location/egb",
         null
        ],
        [
         "ehmsfed_loc",
         "s3://oetrta/dkushari",
         null
        ],
        [
         "ehoel_external_location",
         "s3://databricks-e2demofieldengwest/ehoel",
         "External Location for ehoel demos"
        ],
        [
         "elizabethsexternal",
         "s3://elizabethsnewbucket2/",
         null
        ],
        [
         "elizabethsexternal3",
         "s3://elizabethsbucket3/",
         null
        ],
        [
         "engie-bess",
         "s3://bess-iot/",
         "external location to access data generated for Engie BESS demonstrator"
        ],
        [
         "engie-cdh-datasource-lei",
         "s3://one-env-uc-external-location/tarik/cdh-datasource-lei",
         null
        ],
        [
         "engie-iceberg",
         "s3://one-env/engie-iceberg",
         null
        ],
        [
         "engie-landing",
         "s3://one-env-uc-external-location/tarik/landing",
         "landing zone for Engie"
        ],
        [
         "eo000_ext_loc0",
         "s3://eo000ext/",
         "this is here"
        ],
        [
         "eo000_ext_loc1",
         "s3://eo000ext1/",
         "this is here"
        ],
        [
         "eoneill",
         "s3://one-env-uc-external-location/eoneill",
         null
        ],
        [
         "eriadepoju-testdata",
         "s3://eriadepoju-testdata/",
         null
        ],
        [
         "es_demo",
         "s3://one-env/emma",
         null
        ],
        [
         "esteca-external-location",
         "s3://one-env-uc-external-location/esteca-demo",
         null
        ],
        [
         "etl_svemula_test",
         "s3://one-env-uc-external-location/etl_svemula_test",
         null
        ],
        [
         "eumar-one-env-external-location",
         "s3://one-env-uc-external-location/eumar",
         null
        ],
        [
         "eumar-one-env-external-location-eumaroms",
         "s3://one-env-uc-external-location/eumar-oms",
         null
        ],
        [
         "eumar-one-env-external-location-eumaromslogs",
         "s3://one-env-uc-external-location/eumar-omslogs",
         null
        ],
        [
         "eumar-one-env-external-location-novolume",
         "s3://one-env-uc-external-location/eumar-ext",
         null
        ],
        [
         "ext-aws-mdeng-sbx",
         "s3://databricks-mdeng-sbx/",
         ""
        ],
        [
         "ext-borin",
         "s3://one-env-uc-external-location/borin",
         null
        ],
        [
         "ext-loc-mrap-east",
         "s3://mrap-db-useast1/",
         null
        ],
        [
         "ext-loc-mrap-west",
         "s3://mrap-db-uswest2/",
         null
        ],
        [
         "ext-location-ricardo",
         "s3://one-env-uc-external-location/ricardo_sf",
         null
        ],
        [
         "ext_ishikawa",
         "s3://one-env-uc-external-location/ishikawa",
         null
        ],
        [
         "ext_loc_mm",
         "s3://one-env-uc-external-location/martin_mueller",
         null
        ],
        [
         "ext_loc_saul",
         "s3://one-env-uc-external-location/saulcaravaca",
         null
        ],
        [
         "ext_location_s3_novartis_domain1",
         "s3://one-env/novartis/domain1",
         "UC POC - Novartis - domain1"
        ],
        [
         "ext_location_s3_novartis_domain2",
         "s3://one-env/novartis/domain2",
         "UC POC - Novartis - domain2"
        ],
        [
         "external-location-esteca",
         "s3://s3-demo-esteca/",
         null
        ],
        [
         "external_location",
         "s3://yuki-shiga-cdcdb-dms-bucket/",
         null
        ],
        [
         "external_location_td",
         "s3://one-env-uc-external-location/td-external-data",
         null
        ],
        [
         "f1",
         "s3://one-env-uc-external-location/bhagyashri",
         null
        ],
        [
         "fabio_goncalves",
         "s3://one-env-uc-external-location/fabio_goncalves",
         null
        ],
        [
         "fastweb-ai-demo",
         "s3://one-env-uc-external-location/fastweb-ai-demo",
         null
        ],
        [
         "fd_demo_el",
         "s3://one-env-uc-external-location/shared/fd_uc_demo",
         null
        ],
        [
         "fe-sandbox-loc-2",
         "s3://fedramp-test-ext-loc-2/",
         "us-east-1"
        ],
        [
         "fe_sandbox_demo_bucket",
         "s3://fe-demo-8ax8zv-bucket/",
         null
        ],
        [
         "feature-table-demo",
         "s3://databricks-e2demofieldengwest/feature-table-demo",
         null
        ],
        [
         "fedramp-test-ext-loc-5",
         "s3://fedramp-test-ext-loc-5/fe_west",
         "us-west-2"
        ],
        [
         "fedramp-test-ext-loc-5-ro",
         "s3://fedramp-test-ext-loc-5/read_only",
         "us-west-2\nRO test"
        ],
        [
         "field_demo_ad_session",
         "s3://databricks-e2demofieldengwest/ad_session",
         "External Location for demos"
        ],
        [
         "field_demos_bolun_external_location",
         "s3://databricks-e2demofieldengwest/bolun_external_location",
         "External Location for demos"
        ],
        [
         "field_demos_external_location",
         "s3://databricks-e2demofieldengwest/external_location",
         "External Location for demos"
        ],
        [
         "field_demos_external_location_uc_upgrade",
         "s3://databricks-e2demofieldengwest/external_location_uc_upgrade",
         "External Location of our legacy external tables"
        ],
        [
         "field_demos_movies",
         "s3://databricks-e2demofieldengwest/movies",
         "External Location for demos"
        ],
        [
         "firasf-one-env-ext-location",
         "s3://one-env-uc-external-location/firasf",
         null
        ],
        [
         "flavio_malavazi_external_location",
         "s3://one-env-uc-external-location/flavio_malavazi_external_location",
         "External location for table path selects"
        ],
        [
         "flodata",
         "s3://one-env/fb_glue_dl",
         null
        ],
        [
         "flow-logs",
         "s3://databricks-deployment-fe/AWSLogs/997819012307/vpcflowlogs/us-west-2",
         null
        ],
        [
         "flow-logs2",
         "s3://databricks-deployment-fe/AWSLogs/997819012307/CloudTrail",
         null
        ],
        [
         "flow-logs3",
         "s3://databricks-deployment-fe/AWSLogs/997819012307/CloudTrail-Digest",
         null
        ],
        [
         "fmrtest",
         "s3://databricks-andyhfmr/",
         null
        ],
        [
         "fneiva-one-env-external-location",
         "s3://one-env-uc-external-location/fneiva",
         "External location for Felipe's catalog of demos and projects"
        ],
        [
         "fouad_mnt_oetrta",
         "s3://oetrta/fouad",
         null
        ],
        [
         "fra-db-demos-credit",
         "s3://fra-credit-demo/",
         null
        ],
        [
         "freenet",
         "s3://oetrta/freenet_oracle_profiler",
         null
        ],
        [
         "game_analytics_data_export",
         "s3://one-env-uc-external-location/randy-akerman/game-analytics",
         "s3 bucket for GameAnalytics DataSuite"
        ],
        [
         "gannychan-chandr34-demo",
         "s3://chandr34-demo/sf-iceberg",
         null
        ],
        [
         "gaston_guitart_exlocation",
         "s3://gg-db-playground/",
         null
        ],
        [
         "gc-lakehouse-uc",
         "s3://one-env-uc-external-location/gc",
         null
        ],
        [
         "gc_read_clone_external",
         "s3://one-env-uc-external-location/gc_read_clone_external",
         null
        ],
        [
         "gdc-purge-archive",
         "s3://databricks-test-archive-sudharshan/",
         null
        ],
        [
         "getty",
         "s3://oetrta/gettyimages",
         null
        ],
        [
         "ggw_external",
         "s3://databricks-ggw-uc-ext/",
         null
        ],
        [
         "ghs-el1",
         "s3://one-env-uc-external-location/ghs-el1",
         null
        ],
        [
         "goodrx_external_location",
         "s3://rytizzle-bucket/goodrx_demo_table",
         null
        ],
        [
         "gp22_oetrta_test_iceberg",
         "s3://oetrta/gp22-autoloader-testing",
         null
        ],
        [
         "gp_one_env_ext",
         "s3://one-env-uc-external-location/gp_ext",
         null
        ],
        [
         "gp_sanbox_e2demo_testing",
         "s3://e2demo-testing/data",
         null
        ],
        [
         "gr-demo",
         "s3://databricks-gr-demo/",
         null
        ],
        [
         "gr-sandbox-demo",
         "s3://databricks-gr-demo2/",
         null
        ],
        [
         "gr_demo",
         "s3://one-env-uc-external-location/gr_test",
         null
        ],
        [
         "gs_projects",
         "s3://databricks-e2demofieldengwest/gs_tasks_projects",
         "For all custom demos"
        ],
        [
         "gs_test_ext",
         "s3://databricks-e2demofieldengwest/gs_test_ext",
         null
        ],
        [
         "gs_uni_test",
         "s3://databricks-e2demofieldengwest/gs_uniform_test",
         null
        ],
        [
         "gs_validate_scribe",
         "s3://databricks-e2demofieldengwest/gs_scribe_test",
         null
        ],
        [
         "gs_validate_uc_ui",
         "s3://databricks-e2demofieldengwest/gs_ui_uc_test",
         "Check and validate UC and schema mapping "
        ],
        [
         "gsethi-ms-ext-demo",
         "s3://databricks-gsethi-bucket/",
         null
        ],
        [
         "gshen_external_location",
         "s3://one-env-uc-external-location/gshen",
         null
        ],
        [
         "gtfs_volumes",
         "s3://databricks-uc-lisasherin/gtfs_volumes",
         null
        ],
        [
         "gtm_industry_solutions",
         "s3://db-gtm-industry-solutions/data/fsi/capm",
         null
        ],
        [
         "gustav_b_external_loc",
         "s3://one-env-uc-external-location/gubyb",
         null
        ],
        [
         "gustav_external",
         "s3://one-env-uc-external-location/gustav",
         null
        ],
        [
         "gwsc_countries",
         "s3://one-env/hkadish/countries",
         null
        ],
        [
         "haley-oetrta",
         "s3://oetrta/haley",
         "haekyung.won@databricks.com"
        ],
        [
         "hamidmoghaddam",
         "s3://databricks-e2demofieldengwest/hamidmoghaddam",
         null
        ],
        [
         "harrydu-one-env",
         "s3://one-env-uc-external-location/harrydu",
         null
        ],
        [
         "harrydu-sample-data2",
         "s3://harrydu-sample-data2/",
         null
        ],
        [
         "harsha-pasala-ingest",
         "s3://harsha-pasala-s3/ingest",
         null
        ],
        [
         "harshucmanagedlocation",
         "s3://one-env-uc-external-location/Harsh/ucmanagedfolder",
         null
        ],
        [
         "hasci",
         "s3://one-env-uc-external-location/hasci",
         null
        ],
        [
         "hasci-ext",
         "s3://one-env-uc-external-location/hasci-ext",
         null
        ],
        [
         "hb_external_location",
         "s3://hemants-db/",
         "external location manually created"
        ],
        [
         "heeren-dev-location",
         "s3://one-env-uc-external-location/heeren-dev/uc-ext-location",
         "Platform Administrator Data Management course"
        ],
        [
         "hemantborole-extlocation",
         "s3://hemantborole-db/",
         null
        ],
        [
         "hero-datasets-test",
         "s3://one-env-uc-external-location/hero-datasets-test",
         null
        ],
        [
         "hinak_catalog_usw2_external_location",
         "s3://databricks-hinak-catalog-usw2/",
         null
        ],
        [
         "hk_managed",
         "s3://one-env/hkadish/managed-tables",
         null
        ],
        [
         "hkadish_volume",
         "s3://one-env/hkadish/volume",
         null
        ],
        [
         "hls-eng-data-public",
         "s3://hls-eng-data-public/",
         "HLS Eng Data a public bucket for HLS demo data"
        ],
        [
         "hs-ext-bucket",
         "s3://hs-uc-bucket/",
         null
        ],
        [
         "hslock2",
         "s3://databricks-hslock2/",
         null
        ],
        [
         "hsoneenv",
         "s3://one-env-uc-external-location/hs",
         null
        ],
        [
         "hstest",
         "s3://databricks-hslock/",
         null
        ],
        [
         "hstest2",
         "s3://databricks-hs-extlocation/",
         null
        ],
        [
         "hyegin_external_location",
         "s3://one-env/hyegin",
         null
        ],
        [
         "ian-ward-external",
         "s3://one-env-uc-external-location/ian-ward-external",
         null
        ],
        [
         "ian_external_location",
         "s3://databricks-e2demofieldengwest/ianLiao",
         null
        ],
        [
         "ian_qlik_replicate_staging",
         "s3://databricks-e2demofieldengwest/IanDatabricksTarget",
         null
        ],
        [
         "iceberg_external_loaction",
         "s3://databricks-e2demofieldengwest/theme_park_iceberg",
         "External location for iceberg data"
        ],
        [
         "iceberg_external_loaction_theme_park",
         "s3://themeparkiceberg/",
         "External location for iceberg data"
        ],
        [
         "iceberg_external_location",
         "s3://one-env-uc-external-location/paranoid_ext/warehouse/paranoid_iceberg_test",
         null
        ],
        [
         "icm_one_env",
         "s3://one-env/ian_murphy",
         null
        ],
        [
         "iliao_iceberg_test",
         "s3://databricks-e2demofieldengwest/iliao",
         null
        ],
        [
         "imam_test",
         "s3://one-env/test_s3",
         "test"
        ],
        [
         "insung-ext-storage",
         "s3://databricks-e2demofieldengwest/insung-ext-storage",
         "insung"
        ],
        [
         "it_test_external",
         "s3://oetrta/indranil-tarafdar",
         null
        ],
        [
         "itau-malcoln",
         "s3://itau-malcoln/",
         null
        ],
        [
         "jack-freeman-one-env-uc-external-location",
         "s3://one-env-uc-external-location/jf",
         "jack freeman s3 external location for testing/demos"
        ],
        [
         "jadelauzon_external_location_demo",
         "s3://ad-splu-demo/",
         null
        ],
        [
         "jagjitnatt",
         "s3://jagjitnatt/common",
         null
        ],
        [
         "jagjitnatt_medicare",
         "s3://jagjitnatt/data_intake/medicare_physicians",
         null
        ],
        [
         "jake-wong-sg",
         "s3://one-env-uc-external-location/jake-wong-sg",
         "jake wong sg external location"
        ],
        [
         "jake_chen_ext_location",
         "s3://one-env-uc-external-location/jake_chen_ext",
         "jake chens bucket (guang.chen@databricks.com)"
        ],
        [
         "jake_test_location",
         "s3://one-env-uc-external-location/jake_test_table",
         null
        ],
        [
         "jass_storage_loaction",
         "s3://databricks-e2demofieldengwest/jass-landing",
         null
        ],
        [
         "jay-palaniappan-sandbox-data",
         "s3://jay-palaniappan-sandbox-data/",
         null
        ],
        [
         "jay_kumar_wmg",
         "s3://one-env-uc-external-location/jay-kumar/wmg",
         null
        ],
        [
         "jayp-one-env",
         "s3://one-env-uc-external-location/jaypalaniappan",
         null
        ],
        [
         "jayp-one-env-external-location",
         "s3://one-env-uc-external-location/jayp",
         null
        ],
        [
         "jayp_sandbox",
         "s3://jayp-sandbox/",
         null
        ],
        [
         "jb-ext-loc-fusion",
         "s3://jboyd-test-ogsm-ext-loc-tf/FUSION",
         null
        ],
        [
         "jboyd-r4a6-ext-loc-c1",
         "s3://jboyd-r4a6-ext-loc-tf/FUSION/customer1",
         "Managed by TF"
        ],
        [
         "jboyd-r4a6-ext-loc-c2",
         "s3://jboyd-r4a6-ext-loc-tf/FUSION/customer2",
         "Managed by TF"
        ],
        [
         "jboyd-r4a6-ext-loc-com",
         "s3://jboyd-r4a6-ext-loc-tf/FUSION/common",
         "Managed by TF"
        ],
        [
         "jboyd-wyr7-ext-loc-c1",
         "s3://jboyd-wyr7-ext-loc-tf/FUSION/customer1",
         "Managed by TF"
        ],
        [
         "jboyd-wyr7-ext-loc-c2",
         "s3://jboyd-wyr7-ext-loc-tf/FUSION/customer2",
         "Managed by TF"
        ],
        [
         "jboyd-wyr7-ext-loc-com",
         "s3://jboyd-wyr7-ext-loc-tf/FUSION/common",
         "Managed by TF"
        ],
        [
         "jchampion_oneenv",
         "s3://oetrta/jchampion",
         null
        ],
        [
         "jcrr_demos_external_location",
         "s3://databricks-e2demofieldengwest/jcrr_demos",
         "External Location for demos jcrr"
        ],
        [
         "jeff_test",
         "s3://one-env/jeff",
         null
        ],
        [
         "jennifer-test-external-location",
         "s3://jennifer-wang-test/",
         null
        ],
        [
         "jerrold",
         "s3://one-env-uc-external-location/jerrold",
         null
        ],
        [
         "jerrold-ais",
         "s3://jerrold-ais/",
         null
        ],
        [
         "jerrold-iceberg-external",
         "s3://jerrold-iceberg-sg/",
         null
        ],
        [
         "jerrold-mandiri-el",
         "s3://bank-mandiri-databricks2/",
         null
        ],
        [
         "jessie_external_tables",
         "s3://one-env/jessie_wen/tables",
         null
        ],
        [
         "jessie_external_vol1",
         "s3://one-env/jessie_wen/uc_external_volume/vol1",
         null
        ],
        [
         "jessie_wen_iceberg",
         "s3://one-env/jessie_wen/iceberg",
         null
        ],
        [
         "jessie_wen_uc_external_table",
         "s3://one-env/jessie_wen/uc_external_table",
         null
        ],
        [
         "jessyca_demos",
         "s3://databricks-e2demofieldengwest/jessyca_demos",
         null
        ],
        [
         "jewellwright-aws-s3",
         "s3://codenamejewell-databricks-data/",
         null
        ],
        [
         "jh-extvol",
         "s3://databricks-e2demofieldengwest/jh-extvol",
         null
        ],
        [
         "jh-extvol1",
         "s3://databricks-e2demofieldengwest/jh-extvol1",
         " "
        ],
        [
         "jh_extloc",
         "s3://databricks-e2demofieldengwest/jh-extloc",
         null
        ],
        [
         "jingos-location",
         "s3://jingos/",
         null
        ],
        [
         "jjames_external_location",
         "s3://one-env-uc-external-location/jjames",
         null
        ],
        [
         "jlaw-okx-poc",
         "s3://jlaw-okx-poc/",
         null
        ],
        [
         "jldev",
         "s3://one-env-uc-external-location/jldev",
         null
        ],
        [
         "jlew_ext_loc",
         "s3://one-env-uc-external-location/jlew",
         null
        ],
        [
         "jlewis_ext",
         "s3://one-env-uc-external-location/jlewis",
         null
        ],
        [
         "jlg_extloc",
         "s3://one-env-uc-external-location/jgreen",
         null
        ],
        [
         "jmaru_volume",
         "s3://databricks-e2demofieldengwest/jmaru_volume",
         null
        ],
        [
         "jmr_ext",
         "s3://databricks-jmr-uc-test/",
         null
        ],
        [
         "jmr_ext_clientb",
         "s3://databricks-uc-ext-jmr/",
         null
        ],
        [
         "jn_diabetes",
         "s3://jagjitnatt/data_intake/diabetes",
         null
        ],
        [
         "jn_sutter",
         "s3://jagjitnatt/data_intake/sutter",
         null
        ],
        [
         "jnshubham",
         "s3://one-env/jnshubham",
         null
        ],
        [
         "john_ward_external_location",
         "s3://johnwardbucket/",
         null
        ],
        [
         "john_ward_pangolinorders",
         "s3://pangolinorders/FDA-2020-V-1200-0003_attachment_1.pdf",
         null
        ],
        [
         "jok",
         "s3://one-env-uc-external-location/jok",
         "James O'Keeffe S3 bucket"
        ],
        [
         "jok-s3-ai",
         "s3://jokuswest2s3/ai",
         null
        ],
        [
         "jovi-external-location",
         "s3://one-env/joviloo",
         null
        ],
        [
         "joviloo_csv",
         "s3://one-env/joviloo_csv",
         null
        ],
        [
         "joviloo_parquet_ext_loc",
         "s3://one-env/joviloo_parquet",
         "parquet_to_delta_demo"
        ],
        [
         "joviloo_volumes",
         "s3://one-env/joviloo_volumes",
         null
        ],
        [
         "jp-external-loc",
         "s3://one-env-uc-external-location/Jaideep/ExternalLocation",
         null
        ],
        [
         "jp_external_uc",
         "s3://one-env-uc-external-location/Jaideep/ucexternal/Volume",
         null
        ],
        [
         "jp_zebrowski_ext_location",
         "s3://jpzebrowski-demo-bucket/",
         null
        ],
        [
         "jparham",
         "s3://one-env-uc-external-location/jparham",
         null
        ],
        [
         "jsf_glue_sa_teste",
         "s3://jsfgluefedtest/",
         null
        ],
        [
         "jsoldo_external",
         "s3://jsoldo-west/",
         null
        ],
        [
         "ju_test",
         "s3://one-env/chijuwu",
         null
        ],
        [
         "juan:dev",
         "s3://one-env-uc-external-location/juan-dev-external-location",
         "do-not-delete"
        ],
        [
         "juan:prod",
         "s3://one-env-uc-external-location/juan-prod-external-location",
         "do-not-delete"
        ],
        [
         "juliacc-external-catalog-location-name",
         "s3://sts-juliancc-bucket-manual-demo/",
         null
        ],
        [
         "julstah-testlocation",
         "s3://julstah-testbucket/",
         null
        ],
        [
         "juncliu-dave",
         "s3://juncliu-dave/",
         null
        ],
        [
         "juncliu-iceberg",
         "s3://juncliu-iceberg/",
         null
        ],
        [
         "jvasquez_s3",
         "s3://one-env-uc-external-location/jvasquez_demo",
         null
        ],
        [
         "jvasquez_s3_audit_logs",
         "s3://jvasquez-audit-logs/",
         null
        ],
        [
         "jvh_ext_location",
         "s3://one-env-uc-external-location/jvh",
         null
        ],
        [
         "jy-aws-s3-extern-location",
         "s3://jy-aws-bucket/",
         null
        ],
        [
         "jz000_external_location",
         "s3://one-env-uc-external-location/external_location/jz000_external_location",
         "external location for Jinyuan Zhou"
        ],
        [
         "kapil-s3-osm",
         "s3://one-env-uc-external-location/kapil-osm",
         null
        ],
        [
         "karthik_subramanya_extloc",
         "s3://one-env-uc-external-location/karthik_subramanya",
         null
        ],
        [
         "karve_ext_location",
         "s3://one-env-uc-external-location/jaikarve",
         "External location for Jai's stuff"
        ],
        [
         "katielunceford-volumes",
         "s3://one-env-uc-external-location/katielunceford-volumes",
         null
        ],
        [
         "kbarlow-external-location",
         "s3://one-env-uc-external-location/kbarlow",
         null
        ],
        [
         "kenpachi_test",
         "s3://one-env-uc-external-location/kenpachi",
         "External Location of Kenpachi Folder under one-env-uc-external-location bucket"
        ],
        [
         "kevo-el",
         "s3://kevo-pdf-ingestion/",
         null
        ],
        [
         "khal_ext_oneenv",
         "s3://one-env-uc-external-location/kiryl_halozhyn",
         null
        ],
        [
         "khalozhyn-ext-location",
         "s3://databricks-khal-ext/",
         null
        ],
        [
         "kilaris-external-loc",
         "s3://one-env-uc-external-location/kilaris-demo",
         null
        ],
        [
         "kiran-ext",
         "s3://one-env/guidewire/delta",
         null
        ],
        [
         "kjosyula-ext-loc",
         "s3://one-env-uc-external-location/kjosyula",
         null
        ],
        [
         "klook-one-env-jars",
         "s3://one-env/klook/jars",
         null
        ],
        [
         "klook_ext_loc",
         "s3://one-env-uc-external-location/klook",
         "testing location deletes on an external location. Uniform tables"
        ],
        [
         "klook_ext_location",
         "s3://db-klook/",
         null
        ],
        [
         "kohei_aws_el",
         "s3://one-env-uc-external-location/kohei_arai",
         null
        ],
        [
         "kolpak",
         "s3://oetrta/kolpak",
         null
        ],
        [
         "kolpak-external",
         "s3://one-env-uc-external-location/kolpak",
         null
        ],
        [
         "kolpak_ext_model_repo",
         "s3://oetrta/justinkolpak/ext_model_repo",
         null
        ],
        [
         "kolpaktestdot",
         "s3://kolpak.test/",
         null
        ],
        [
         "kone-aws-file-events-autolaoder-s3",
         "s3://hedvig-cross-cloud-test/",
         null
        ],
        [
         "kotahi_ext_loc",
         "s3://one-env-uc-external-location/wscalioni/kotahi/datasets/customer",
         null
        ],
        [
         "kowalski-s3",
         "s3://kowalski-demo/databricks",
         null
        ],
        [
         "kp_ml_demo_dev",
         "s3://one-env-uc-external-location/kp_ml_demo_dev",
         null
        ],
        [
         "krishnendutest",
         "s3://one-env-uc-external-location/krishnendutest",
         null
        ],
        [
         "kristin-demo",
         "s3://one-env-uc-external-location/kristin",
         null
        ],
        [
         "ks02ucdemo_ext_loc",
         "s3://one-env-uc-external-location/ks02demo/data",
         null
        ],
        [
         "ktb-data",
         "s3://ktb-data/poc",
         null
        ],
        [
         "ktksk-job-jar-example",
         "s3://one-env-uc-external-location/ktksk-job-jar-example",
         null
        ],
        [
         "ktksk_demos_external_location",
         "s3://one-env-uc-external-location/external_location/ktksk_demo",
         "External Location for demos"
        ],
        [
         "kulas_ext_oneenv",
         "s3://oetrta/jakekulas",
         null
        ],
        [
         "kuldeeps3-01",
         "s3://databricks-e2demofieldengwest/kuldeepsingh",
         null
        ],
        [
         "kuwano-test-20241223",
         "s3://kuwano-test-20241223/",
         null
        ],
        [
         "kuwano_s3_data",
         "s3://one-env-uc-external-location/kuwano",
         null
        ],
        [
         "kwang-accolade-external-location",
         "s3://kevin-wang-accolade-test/",
         null
        ],
        [
         "kwang-eq-ext-loc",
         "s3://kwang-sandbox-bucket-databricks/",
         null
        ],
        [
         "kwang-eq-ext-loc-west-2",
         "s3://kwang-eq-bucket-databricks/",
         null
        ],
        [
         "kwang-poc-lavamap",
         "s3://kwang-databricks-test-bucket/lavamap",
         "lavamap poc data drop location"
        ],
        [
         "kwpark-external-location",
         "s3://one-env-uc-external-location/kwpark",
         null
        ],
        [
         "laxmi_goodrx_ext_loc",
         "s3://laxmi-s3-bucket-goodrx/",
         null
        ],
        [
         "laxmi_one_env_ext_location",
         "s3://one-env/laxmi",
         null
        ],
        [
         "leigh_robertson_demo_location",
         "s3://one-env/leigh_robertson",
         null
        ],
        [
         "lenskart-test",
         "s3://oetrta/lk-test",
         null
        ],
        [
         "leo-one-env-ext-loc",
         "s3://leo-one-env/",
         null
        ],
        [
         "levelup-aws-ext-loc",
         "s3://levelupdatabucket/",
         null
        ],
        [
         "levelup-aws-metadata-extloc",
         "s3://levelupmetdatabucket/",
         null
        ],
        [
         "lf-demo",
         "s3://one-env-uc-external-location/lf-demo",
         "luke.fore@databricks external location for field demo."
        ],
        [
         "lg143",
         "s3://one-env-uc-external-location/LG143",
         null
        ],
        [
         "liko-may-2025",
         "s3://liko-may-2025/",
         null
        ],
        [
         "lir-one-env-uc-ext",
         "s3://one-env-uc-external-location/lir",
         null
        ],
        [
         "lisa_image_volumes",
         "s3://databricks-uc-lisasherin/image_volume",
         "Folder with Transport Images"
        ],
        [
         "londeen-trv-demo",
         "s3://londeen-trv-demo/",
         null
        ],
        [
         "louis-one-env",
         "s3://one-env/louis-test",
         null
        ],
        [
         "lpt-weather-data",
         "s3://one-env-uc-external-location/lpt/weather-data",
         null
        ],
        [
         "lpt_external_pure_iceberg",
         "s3://one-env-uc-external-location/lpt/iceberg",
         null
        ],
        [
         "lpt_iceberg_data",
         "s3://one-env-uc-external-location/lpt/iceberg-data",
         null
        ],
        [
         "lseg-guidewie-test",
         "s3://db-industry-gtm/",
         null
        ],
        [
         "malcoln-test-stone",
         "s3://malcoln-test-stone/",
         null
        ],
        [
         "mandy-external-location",
         "s3://one-env-uc-external-location/mbaker-external-location",
         null
        ],
        [
         "marcin_managed_location",
         "s3://one-env-uc-external-location/marcin_managed_db",
         null
        ],
        [
         "marcindemo",
         "s3://one-env-uc-external-location/marcindemo",
         null
        ],
        [
         "marcos-bustos",
         "s3://one-env-uc-external-location/marcos-bustos",
         null
        ],
        [
         "mattaraghav",
         "s3://one-env-uc-external-location/mattaraghav",
         null
        ],
        [
         "matthew-m",
         "s3://one-env-uc-external-location/matthew-m",
         null
        ],
        [
         "matthew-tan-jpmc-external-location",
         "s3://matthew-tan-jpmc-external-location/",
         null
        ],
        [
         "matthew-tan-one-env-uc-external-location",
         "s3://one-env-uc-external-location/matthewtan/ext_vol",
         null
        ],
        [
         "matthew_tan_catalog_demo_location",
         "s3://one-env-uc-external-location/matthew-tan-folder/jpmc/catalog_location",
         null
        ],
        [
         "matthew_tan_jpmc_external",
         "s3://one-env-uc-external-location/matthew-tan-folder/jpmc/external",
         null
        ],
        [
         "matthieu_lamairesse",
         "s3://one-env-uc-external-location/matthieu_lamairesse",
         "owner : matthieu.lamairesse@databricks.com External location demo"
        ],
        [
         "mattslack",
         "s3://one-env-uc-external-location/mattslack",
         null
        ],
        [
         "matty-hms-el",
         "s3://demomatty77yfch-rootbucket/",
         null
        ],
        [
         "matty-schema-name-test",
         "s3://matty.schema.name.mapping.test.v2/",
         null
        ],
        [
         "maxime_testing",
         "s3://one-env-uc-external-location/maxime_testing",
         null
        ],
        [
         "mbarrett-onboarding-testing",
         "s3://mbarrett-onboarding-testing/",
         null
        ],
        [
         "mchan-demo-bucket",
         "s3://one-env-uc-external-location/mchan-demo-bucket/tpcds-benchmark",
         "s3://one-env-uc-external-location/mchan-demo-bucket/tpcds-benchmark"
        ],
        [
         "megha-upadhyay-externallocation",
         "s3://megha-upadhyay-sb/",
         null
        ],
        [
         "merck_hh_external_tables",
         "s3://one-env-uc-external-location/Merck_HH_External_tables",
         null
        ],
        [
         "merck_hh_external_volume_location",
         "s3://one-env-uc-external-location/Merck_HH_External_Volume",
         null
        ],
        [
         "merck_hh_test",
         "s3://one-env-uc-external-location/Merck_HH_Test",
         null
        ],
        [
         "messer-s3",
         "s3://messer-s3-bucket-snd/",
         null
        ],
        [
         "metastore_default_location",
         "s3://databricks-e2demofieldengwest/b169b504-4c54-49f2-bc3a-adf4b128f36d",
         "Auto-generated parent external location for Metastore: AccountId: e6e8162c-a42f-43a0-af86-312058795a14, MetastoreId: b169b504-4c54-49f2-bc3a-adf4b128f36d"
        ],
        [
         "mgm_snowflake_iceberg",
         "s3://one-env-uc-external-location/mgmohler",
         null
        ],
        [
         "mikekahn-databricks",
         "s3://mikekahn-databricks/",
         null
        ],
        [
         "mimiq-ext-loc",
         "s3://one-env-uc-external-location/mimiq",
         null
        ],
        [
         "minjae_external_bucket",
         "s3://minjae-external-bucket-02/velymonkeys/data_parquet",
         null
        ],
        [
         "mjm_one_env_ext_loc",
         "s3://one-env-uc-external-location/mohan",
         null
        ],
        [
         "ml-healthlake-s3-full",
         "s3://ml-test-sample-external-332745928618/",
         null
        ],
        [
         "mm_external_location",
         "s3://one-env-uc-external-location/mm_external",
         null
        ],
        [
         "mmt_external",
         "s3://one-env-uc-external-location/mmt/dais24",
         null
        ],
        [
         "mnt_ankur-delta-tests",
         "s3://one-env-uc-external-location/ankur123",
         null
        ],
        [
         "mnt_caio-test-mnt-flavio-malavazi",
         "s3://caio-test-saeast1/",
         null
        ],
        [
         "mnt_databricks-datasets-private",
         "s3://databricks-datasets-private/",
         null
        ],
        [
         "mnt_megc",
         "s3://one-env-uc-external-location/megc",
         null
        ],
        [
         "mnt_michele_external",
         "s3://one-env-uc-external-location/michele",
         null
        ],
        [
         "mnt_ztest_mntsa",
         "s3://sa701db/",
         null
        ],
        [
         "mohan_ext_loc",
         "s3://databricks-e2demofieldengwest/mohan",
         "Mohan Mathews"
        ],
        [
         "mohan_ext_loc_2",
         "s3://databricks-e2demofieldengwest/mohanwithslash",
         null
        ],
        [
         "mohana-el-oneenv",
         "s3://one-env-uc-external-location/mohana",
         null
        ],
        [
         "mohana-test-uc-loc",
         "s3://databricks-mohana-test-1/prefix1",
         null
        ],
        [
         "mohana_el_2",
         "s3://databricks-mohana-test-1/uc",
         null
        ],
        [
         "mohana_sandbox",
         "s3://mohanatest1/",
         null
        ],
        [
         "mohit_external",
         "s3://one-env-uc-external-location/mohit",
         null
        ],
        [
         "monitoring1-storage-east1",
         "s3://monitoring1-ele-s3/data",
         null
        ],
        [
         "morgan-oneenv-ext",
         "s3://one-env/morgan",
         null
        ],
        [
         "morgan_demo_streaming",
         "s3://one-env-uc-external-location/morgan_demo_streaming",
         null
        ],
        [
         "morgangluebucket",
         "s3://morgantesting/",
         null
        ],
        [
         "morgans3gluefed",
         "s3://morgan-bucket-glue/",
         null
        ],
        [
         "mpe-customer2",
         "s3://mpe-customer2/root",
         null
        ],
        [
         "mpelletier-customer1",
         "s3://mpe-customer1/root",
         null
        ],
        [
         "mpelletier-customer1-ext",
         "s3://mpe-customer1/ext",
         "External"
        ],
        [
         "mpelletier-customer2-ext",
         "s3://mpe-customer2/ext",
         null
        ],
        [
         "mps-external-location-testing",
         "s3://mps.dbx.dlt.testing/",
         "Using to test external location and dlt"
        ],
        [
         "msaltznew",
         "s3://msaltznews3/",
         null
        ],
        [
         "mujahid-temp",
         "s3://oetrta/temp_mujahid",
         null
        ],
        [
         "murali_one_env",
         "s3://one-env-uc-external-location/murali_talluri",
         null
        ],
        [
         "muschler-external-location",
         "s3://muschler-external-storage-test/",
         null
        ],
        [
         "my_external_location",
         "s3://databricks-tomesdata-west/tmp4",
         null
        ],
        [
         "nan-ext-vol-ap-southeast-1",
         "s3://nan-ext-vol-ap-southeast-1/",
         null
        ],
        [
         "neilp_playground",
         "s3://databricks-neilp-playground/",
         "Access to root of databricks-neilp-playground"
        ],
        [
         "neo-e2-fe-external-location",
         "s3://neo-e2-fe-external-location/",
         null
        ],
        [
         "nh-agreement1-el",
         "s3://nh-agreement1/",
         null
        ],
        [
         "nh-conformed-el",
         "s3://nh-conformed/",
         null
        ],
        [
         "nh-curated-el",
         "s3://nh-curated/",
         null
        ],
        [
         "nh-raw-el-rw",
         "s3://nh-raw/",
         null
        ],
        [
         "nhs-health-data",
         "s3://databricks-health-data/",
         null
        ],
        [
         "nhtsa-aws-s3",
         "s3://one-env-uc-external-location/nhtsa-edmas",
         null
        ],
        [
         "ni-sample-data",
         "s3://one-env-uc-external-location/ni-sample-data",
         "sample data sets"
        ],
        [
         "ni-sample-ext",
         "s3://databricks-e2demofieldengwest/ni-sample-data",
         null
        ],
        [
         "niko-rsa",
         "s3://niko-rsa/",
         null
        ],
        [
         "nirh",
         "s3://one-env-uc-external-location/NirH",
         null
        ],
        [
         "nithya_demo",
         "s3://oetrta/nithya_demo",
         null
        ],
        [
         "nmishra_el",
         "s3://one-env-uc-external-location/nmishra_ctlg",
         null
        ],
        [
         "nsangana_ext",
         "s3://one-env-uc-external-location/nsangana",
         null
        ],
        [
         "nvs_domain_a_nvs_domain_a_table_a",
         "s3://one-env/sujen/nvs_db_a/table_a",
         "Databricks external location created for nvs_domain_a_nvs_domain_a_table_a"
        ],
        [
         "nyounis_external_location",
         "s3://one-env-uc-external-location/nyounis",
         null
        ],
        [
         "ob-ext",
         "s3://one-env-uc-external-location/ob-uc",
         null
        ],
        [
         "ochi-ext-loc",
         "s3://one-env-uc-external-location/ochi",
         null
        ],
        [
         "oerta-sandbox-root",
         "s3://oetrta/sandboxes",
         "Sandbox root"
        ],
        [
         "oetra-daniel-brookes",
         "s3://oetrta/daniel-brookes",
         null
        ],
        [
         "oetra_fe_platform_1",
         "s3://oetrta/emr_profiler_data",
         null
        ],
        [
         "oetrta-fieldeng-platform-profilers",
         "s3://oetrta/fieldeng-platform-profilers",
         null
        ],
        [
         "oetrta_akashjaiswal",
         "s3://oetrta/akashjaiswal",
         null
        ],
        [
         "oetrta_alx",
         "s3://oetrta/alex",
         null
        ],
        [
         "oetrta_dmoore",
         "s3://oetrta/dmoore",
         null
        ],
        [
         "oetrta_ssc",
         "s3://oetrta/ssc",
         null
        ],
        [
         "oetrta_vh_tmp",
         "s3://oetrta/vh_tmp",
         null
        ],
        [
         "omae-test",
         "s3://databricks-e2demofieldengwest/omae-test",
         "omae demo env"
        ],
        [
         "one-env-acao",
         "s3://one-env/acao",
         null
        ],
        [
         "one-env-daniel-sequeira",
         "s3://one-env/daniel-sequeira",
         null
        ],
        [
         "one-env-dannywong",
         "s3://one-env-uc-external-location/dannywong",
         null
        ],
        [
         "one-env-davw-testing",
         "s3://one-env/davw_testing",
         null
        ],
        [
         "one-env-demo-sy-test",
         "s3://one-env-uc-external-location/sy-test",
         null
        ],
        [
         "one-env-external-location_avdhesh",
         "s3://one-env-uc-external-location/avdhesh_s3",
         null
        ],
        [
         "one-env-junchi-liu",
         "s3://one-env-uc-external-location/junchi-liu",
         null
        ],
        [
         "one-env-mdeng-ext",
         "s3://one-env-uc-external-location/michelled",
         null
        ],
        [
         "one-env-qtoulou",
         "s3://one-env/qtoulou",
         "External locations for Quentin Toulou - Test purpose"
        ],
        [
         "one-env-sbang_ext",
         "s3://one-env-uc-external-location/sbang_ext",
         null
        ],
        [
         "one-env-takero",
         "s3://one-env/takero",
         null
        ],
        [
         "one-env-uc-external-location",
         "s3://one-env-uc-external-location/shared_location",
         "RemoveAfter:2222-22-22"
        ],
        [
         "one-env-uc-external-location-jkdemos",
         "s3://one-env-uc-external-location/jkdemos",
         null
        ],
        [
         "one-env-uc-external-location-ktksk",
         "s3://one-env-uc-external-location/ktksk",
         null
        ],
        [
         "one-env-uc-external-location-oferoh",
         "s3://one-env-uc-external-location/OferOh",
         null
        ],
        [
         "one-env-uc-external-location-vk",
         "s3://one-env-uc-external-location/vkumar",
         null
        ],
        [
         "one-env-uc-external-location_ifi",
         "s3://one-env-uc-external-location/ifi",
         null
        ],
        [
         "one-env-uc-external-location_jim",
         "s3://one-env-uc-external-location/jim",
         null
        ],
        [
         "one-env-uc-external-location_saurabh",
         "s3://one-env-uc-external-location/saurabhshukla",
         null
        ],
        [
         "one-env-zach-king",
         "s3://one-env-uc-external-location/zach-king",
         null
        ],
        [
         "one_env_external_location_imane",
         "s3://one-env-uc-external-location/imane",
         "for demo purposes"
        ],
        [
         "one_env_external_location_trainor",
         "s3://one-env-uc-external-location/trainor",
         null
        ],
        [
         "one_env_isaac_test",
         "s3://one-env-uc-external-location/isaac_test",
         null
        ],
        [
         "one_env_jrus",
         "s3://one-env-uc-external-location/jrus",
         null
        ],
        [
         "one_env_jwlt",
         "s3://one-env-uc-external-location/jwlt_external",
         "external location for jake therianos demos"
        ],
        [
         "one_env_uc_de_webinar_2025",
         "s3://one-env-uc-external-location/2025_uc_de_webinar",
         "Location for AWS data for 2025 Unity Catalog webinar for Data Engineers"
        ],
        [
         "one_env_uc_ext_ciq_demo",
         "s3://one-env-uc-external-location/vk/demos",
         null
        ],
        [
         "oneenv-careem",
         "s3://one-env-uc-external-location/careem",
         null
        ],
        [
         "oneenv-ext-mkazia",
         "s3://one-env-uc-external-location/mkazia",
         null
        ],
        [
         "oneenv-pj",
         "s3://one-env-uc-external-location/pj",
         null
        ],
        [
         "oneenv_mattmiller",
         "s3://one-env-uc-external-location/mattmiller",
         null
        ],
        [
         "pamons_external_location",
         "s3://databricks-e2demofieldengwest/pamons",
         null
        ],
        [
         "patrick-fremont-ext-loc",
         "s3://one-env-uc-external-location/patrick-fremont",
         null
        ],
        [
         "pdextloc",
         "s3://databricks-e2demofieldengwest/prakhar-4",
         "Ext Location for testing writes "
        ],
        [
         "pj_s3_location",
         "s3://databricks-s3-bucket-pj/",
         null
        ],
        [
         "pkab",
         "s3://databricks-e2demofieldengwest/pkab",
         null
        ],
        [
         "pkab_edl_bronze",
         "s3://databricks-e2demofieldengwest/pkab_edl_bronze",
         null
        ],
        [
         "plima_csv_loc",
         "s3://databricks-paulo.lima/csv-files",
         null
        ],
        [
         "plima_ext_loc_with_dots",
         "s3://databricks-uc.paulo.lima/tables",
         null
        ],
        [
         "plima_one_env_ext_loc",
         "s3://one-env/plima",
         null
        ],
        [
         "plima_read_ext_loc",
         "s3://plima-s3-bucket/test",
         "External location for reading data"
        ],
        [
         "pnovok-ext-location",
         "s3://pnovok-demo-workspace-ext/",
         null
        ],
        [
         "pnovok-ext2-location",
         "s3://pnovok-demo-workspace-ext2/",
         "A new storage location which s3://pnovok-demo-workspace-ext2/ bucket"
        ],
        [
         "pp-bucket",
         "s3://one-env-uc-external-location/ppareek",
         null
        ],
        [
         "prakhar-ext-loc",
         "s3://databricks-e2demofieldengwest/prakhar",
         "External location for testing"
        ],
        [
         "prakhar-ext-loc-2",
         "s3://databricks-e2demofieldengwest/prakhar-2",
         "Secondary External Location"
        ],
        [
         "prakharnikext",
         "s3://one-env-uc-external-location/prakhar",
         null
        ],
        [
         "priyankak",
         "s3://databricks-e2demofieldengwest/priyankak",
         null
        ],
        [
         "prodesp-diario-oficial",
         "s3://one-env-uc-external-location/prodesp-diario-oficial",
         null
        ],
        [
         "pv-external-location",
         "s3://pv-external-location-test/",
         null
        ],
        [
         "pv-uc-test-location",
         "s3://pv-uc-test-bucket/",
         null
        ],
        [
         "qing-s3",
         "s3://qing-s3/",
         null
        ],
        [
         "qinziyuan-uc-ext-loc",
         "s3://databricks-qinziyuan-uc-test/",
         null
        ],
        [
         "qor-demo-sandbox",
         "s3://qor-demo-sandbox/",
         null
        ],
        [
         "quanli_s3_loc",
         "s3://databricks-quanli/",
         "Quan Li S3 Location"
        ],
        [
         "raghu-ext",
         "s3://one-env-uc-external-location/raghu_ext",
         null
        ],
        [
         "raghu-kreditbee-ext",
         "s3://raghu-kreditbee-19122024/",
         null
        ],
        [
         "raghu-ny-pub",
         "s3://us-west-2.serverless-analytics/canonical/NY-Pub",
         null
        ],
        [
         "rahulj_s3",
         "s3://databricks-e2demofieldengwest/rahulj/user_uniform_iceberg",
         null
        ],
        [
         "ramdaskm",
         "s3://databricks-e2demofieldengwest/ramdaskm",
         null
        ],
        [
         "rampim_external",
         "s3://one-env-uc-external-location/rampim_external",
         null
        ],
        [
         "ran-db-ubi",
         "s3://db-ubi/",
         null
        ],
        [
         "ran-db-uc-ext-delta",
         "s3://db-uc-ext-delta/",
         null
        ],
        [
         "randall_gonzalez_ext1",
         "s3://one-env-uc-external-location/randall_gonzalez",
         null
        ],
        [
         "randy-akerman-psyonix",
         "s3://one-env-uc-external-location/randy-akerman/psyonix",
         null
        ],
        [
         "raw_sbx",
         "s3://one-env-uc-external-location/raw_sbx",
         null
        ],
        [
         "rcg_uc_metastore_storage_external_location",
         "s3://rcg-s3-sandbox/data",
         null
        ],
        [
         "rd-external-location",
         "s3://one-env-uc-external-location/rohit-dashora",
         null
        ],
        [
         "readonly",
         "s3://one-env-uc-external-location-read-only/",
         "read-only"
        ],
        [
         "redshift_profiler",
         "s3://oetrta/redshift_tempdir",
         null
        ],
        [
         "renato-pedroso-external-location",
         "s3://databricks-e2demofieldengwest/renatopedroso",
         null
        ],
        [
         "renji-demo-uc-ext",
         "s3://databricks-uc-renjiharold/tables",
         ""
        ],
        [
         "revanth-oneev",
         "s3://one-env-uc-external-location/revanth-challuru",
         null
        ],
        [
         "reynolds-pravindev-s3",
         "s3://reynolds-pravindev-bucket/",
         null
        ],
        [
         "rjt_e2demo",
         "s3://databricks-e2demofieldengwest/rjt_e2demo",
         null
        ],
        [
         "rjt_test",
         "s3://one-env-uc-external-location/rjt_test",
         null
        ],
        [
         "rkg_external",
         "s3://databricks-e2demofieldengwest/rkg",
         null
        ],
        [
         "rkh_external_access",
         "s3://rkh-tpcdi-external/",
         null
        ],
        [
         "rkh_sandbox_test",
         "s3://rkh-sandbox-text/",
         null
        ],
        [
         "rkm-external-location-storage",
         "s3://databricks-rkm/data/storage",
         null
        ],
        [
         "rmarx_ext_loc",
         "s3://one-env-uc-external-location/rmarx",
         null
        ],
        [
         "robertotesttest",
         "s3://databricks-roberto/",
         null
        ],
        [
         "robertouno",
         "s3://databricks-robertouno/",
         null
        ],
        [
         "rocksdb",
         "s3://one-env-uc-external-location/ricardo_rocksdb",
         null
        ],
        [
         "rodrigo-storage-s3",
         "s3://databricks-rodrigo-oliveira/",
         null
        ],
        [
         "rodsant",
         "s3://rodsant/",
         null
        ],
        [
         "rodsant2",
         "s3://test-cnab-pago/test2",
         null
        ],
        [
         "rohitb-oneenv",
         "s3://one-env/rohitb",
         null
        ],
        [
         "rohitkgopal_ext_location",
         "s3://databricks-e2demofieldengwest/rohitkgopal",
         "Owner: rohit.gopal@databricks.com"
        ],
        [
         "romulo_ext2",
         "s3://romulo-uc/pasta_demo",
         null
        ],
        [
         "rosalie_uc_demo",
         "s3://databricks-uc-rosalie/",
         null
        ],
        [
         "rosh-test-el",
         "s3://one-env-uc-external-location/ra-test",
         null
        ],
        [
         "roy_bang",
         "s3://one-env-uc-external-location/roy_bang",
         null
        ],
        [
         "rrc_ext_loc",
         "s3://one-env-uc-external-location/rrc_bucket",
         null
        ],
        [
         "rsoetrauno",
         "s3://oetrta/roberto",
         "abc"
        ],
        [
         "rsoetrta",
         "s3://oetrta/robertostream",
         null
        ],
        [
         "rushabhmehta",
         "s3://one-env-uc-external-location/rushabhmehta",
         null
        ],
        [
         "ryan-one-env",
         "s3://rytizzle-bucket/UC",
         null
        ],
        [
         "ryan_external_loc",
         "s3://one-env-uc-external-location/ryank_external",
         null
        ],
        [
         "ryanbates",
         "s3://oetrta/ryanbates",
         null
        ],
        [
         "ryank_ext",
         "s3://one-env-uc-external-location/ryank",
         null
        ],
        [
         "ryant-auto-location",
         "s3://ryan-autoloader-test/",
         null
        ],
        [
         "rytizzle-bucket-bug2",
         "s3://rytizzle-bucket/bug_test2",
         null
        ],
        [
         "s3_bucket_chola_01",
         "s3://databricks-mschola-demo-01/",
         "demo path created for POC test"
        ],
        [
         "s3_jul9",
         "s3://jsoldo-jul9/",
         null
        ],
        [
         "s3_uday-satapathy",
         "s3://uday-satapathy/",
         null
        ],
        [
         "sab-ext-loc1",
         "s3://sab-bucket-edm/",
         null
        ],
        [
         "sab-uc-rest-ext",
         "s3://uc-rest-bucket/",
         null
        ],
        [
         "sab_ext_loc",
         "s3://databricks-sabir/",
         null
        ],
        [
         "sab_ext_loc_1",
         "s3://databricks-sabir-ue1/",
         null
        ],
        [
         "sadra-ext-location-test-1-backup",
         "s3://one-env-uc-external-location/sadra-ext-location/test1",
         null
        ],
        [
         "sahill-onboarding-test",
         "s3://sahill-onboarding-test/",
         null
        ],
        [
         "saiv_ext_loc",
         "s3://saiv-test-bucket/",
         null
        ],
        [
         "sandbox-latam-uc-workshop-external-access",
         "s3://latam-uc-workshop-external/benchmark",
         null
        ],
        [
         "sangbae-demo",
         "s3://sangbae-demo/",
         null
        ],
        [
         "sangwon_ext",
         "s3://databricks-sangwon-seoul/",
         null
        ],
        [
         "sanjeev-dsv-conn",
         "s3://sanjeev-bucket/dsv-testing/parquet_data",
         null
        ],
        [
         "sascha-vetter-demo",
         "s3://databricks-e2demofieldengwest/sascha_vetter",
         "External Location for demos"
        ],
        [
         "saurav_ext_loc",
         "s3://one-env-uc-external-location/saurav",
         null
        ],
        [
         "sava_test",
         "s3://one-env-uc-external-location/sava_test",
         null
        ],
        [
         "sawang_external_location",
         "s3://one-env-uc-external-location/sawang",
         "sabrina's external location "
        ],
        [
         "sawang_external_test",
         "s3://one-env-uc-external-location/sawang_test",
         "test_external"
        ],
        [
         "sbang2",
         "s3://databricks-e2demofieldengwest/sbang2",
         null
        ],
        [
         "sbang_ext",
         "s3://one-env-uc-external-location/sbang",
         null
        ],
        [
         "sbang_ext_location",
         "s3://databricks-e2demofieldengwest/sbang",
         null
        ],
        [
         "sbet-overwatch-external-location",
         "s3://one-env-uc-external-location/sbet_overwatch",
         null
        ],
        [
         "scarman_external",
         "s3://one-env-uc-external-location/shcarman",
         null
        ],
        [
         "scb-ext-finance",
         "s3://myexternalbucket-noacls/finance",
         null
        ],
        [
         "scottish-water-demo",
         "s3://one-env-uc-external-location/scottish-water-demo",
         null
        ],
        [
         "scottish_llm",
         "s3://one-env-uc-external-location/scottish-llm",
         null
        ],
        [
         "sds",
         "s3://one-env-uc-external-location/sds",
         null
        ],
        [
         "sec_10k_demo",
         "s3://databricks-e2demofieldengwest/sec_10k_demo",
         null
        ],
        [
         "seif_loc",
         "s3://one-env-uc-external-location/seif",
         null
        ],
        [
         "sergios_test_oneenv",
         "s3://one-env-uc-external-location/sergios_test",
         null
        ],
        [
         "seungdon-oneenv",
         "s3://one-env-uc-external-location/seungdon",
         "test for autoloader notification mode "
        ],
        [
         "sevann_test",
         "s3://one-env-uc-external-location/sevann_test",
         null
        ],
        [
         "sewi-external-location",
         "s3://one-env-uc-external-location/sewi",
         null
        ],
        [
         "sgarla",
         "s3://one-env-uc-external-location/sgarla",
         null
        ],
        [
         "shammond_test",
         "s3://one-env-uc-external-location/shammond_test",
         null
        ],
        [
         "shao-profiler",
         "s3://shao-profiler/",
         null
        ],
        [
         "shirley-test-one-env",
         "s3://one-env-uc-external-location/shirley-test",
         null
        ],
        [
         "shirlywang_oneenv_s3",
         "s3://one-env-uc-external-location/shirlywang_oneenv",
         null
        ],
        [
         "shivam",
         "s3://one-env-uc-external-location/shivamp",
         null
        ],
        [
         "shj_s3_external_location",
         "s3://shj-uc-volume-bucket/shjdata",
         null
        ],
        [
         "shovakeemian_ext_location",
         "s3://one-env-uc-external-location/shovakeemian",
         null
        ],
        [
         "shudbfsoveruc",
         "s3://one-env-uc-external-location/shulidbfsoveruc",
         null
        ],
        [
         "shuli",
         "s3://one-env-uc-external-location/shuli",
         null
        ],
        [
         "shuwu_demo",
         "s3://one-env-uc-external-location/shuwu_demo",
         null
        ],
        [
         "shyam_rao",
         "s3://one-env-uc-external-location/shyam.rao",
         null
        ],
        [
         "sid-ext-loc",
         "s3://one-env-uc-external-location/sid-pore",
         null
        ],
        [
         "siddharth-external-location-s3",
         "s3://siddharth-glue-storage/siddharth-glue-storage-db",
         null
        ],
        [
         "sirui-test-location",
         "s3://siruisun-external-bucket/",
         null
        ],
        [
         "sisto-external-location",
         "s3://one-env-uc-external-location/sisto",
         null
        ],
        [
         "skar-external",
         "s3://skar-external/",
         null
        ],
        [
         "skato-s3",
         "s3://skato-s3/",
         null
        ],
        [
         "skyscanner-external-location",
         "s3://oetrta/skyscanner-partition-test",
         null
        ],
        [
         "slc_test",
         "s3://one-env-uc-external-location/slc_test",
         null
        ],
        [
         "slee_one_env",
         "s3://one-env-uc-external-location/slee",
         null
        ],
        [
         "slimdemo_ext",
         "s3://one-env-uc-external-location/slimdemo",
         null
        ],
        [
         "slog-aws",
         "s3://slog-aws2/",
         null
        ],
        [
         "smakubi",
         "s3://one-env-uc-external-location/smakubi",
         null
        ],
        [
         "smeg-dev",
         "s3://one-env-uc-external-location/tarik/smeg/dev",
         null
        ],
        [
         "smiles_bronze",
         "s3://test-cnab-pago/smiles-bronze",
         null
        ],
        [
         "smunigati",
         "s3://smunigati/",
         null
        ],
        [
         "smunigati_oetrta",
         "s3://oetrta/smunigati",
         null
        ],
        [
         "snowflake-uniform",
         "s3://one-env-uc-external-location/snowflake-uniform",
         null
        ],
        [
         "songkun-zencity-demo",
         "s3://songkun-zencity-demo/",
         "sandbox backed resource, to be deleted after demo "
        ],
        [
         "spaladugu_uc_extn",
         "s3://databricks-e2demofieldengwest/sridharpaladugu",
         null
        ],
        [
         "spalyam_external_location",
         "s3://one-env-uc-external-location/shared_locations/spalyam",
         "Sudheer Palyam Demos external location"
        ],
        [
         "spark-ext",
         "s3://databricks-spark-ext/",
         null
        ],
        [
         "sreddy-ext-location",
         "s3://one-env-uc-external-location/shakti_reddy",
         null
        ],
        [
         "sri-test-external-location",
         "s3://one-env-uc-external-location/_srit_external_test",
         null
        ],
        [
         "sridhar_paladugu_s3",
         "s3://databricks-sridharpaladugu/test-data",
         null
        ],
        [
         "sridharpaladugu_extnlc",
         "s3://databricks-sridharpaladugu/sp_uc_catalog",
         null
        ],
        [
         "sriharsha_jana_external_location",
         "s3://databricks-e2demofieldengwest/sriharsha_jana/demo",
         "External Location for demos"
        ],
        [
         "sriharsha_jana_uc_ext",
         "s3://databricks-e2demofieldengwest/sriharsha_jana/uc_ext_location",
         null
        ],
        [
         "stefano-s3",
         "s3://databricks-stefano-s3/",
         "stefano's external location(s3://databricks-stefano-s3)"
        ],
        [
         "stephbehrens_demo",
         "s3://one-env-uc-external-location/StephanieBehrens_Demo",
         null
        ],
        [
         "stephbehrens_external",
         "s3://one-env-uc-external-location/StephBehrens_External",
         null
        ],
        [
         "steve-johansen",
         "s3://one-env-uc-external-location/steve-johansen",
         null
        ],
        [
         "steve-johansen-uc",
         "s3://databricks-uc-steve-johansen/",
         null
        ],
        [
         "steven_test_cross_account_catalog",
         "s3://steven-cross-account-testing/",
         null
        ],
        [
         "stuart",
         "s3://one-env-uc-external-location/stuart",
         null
        ],
        [
         "suda-uctest-external",
         "s3://databricks-sudagawa-teststore/",
         null
        ],
        [
         "sugandha-chauhan",
         "s3://one-env-uc-external-location/sc-reg-parquet",
         "connection for field demos"
        ],
        [
         "sugandha-data",
         "s3://databricks-e2demofieldengwest/data",
         "Data stored"
        ],
        [
         "sugandha-schema",
         "s3://databricks-e2demofieldengwest/sugandha-schema",
         "schema location"
        ],
        [
         "supahotbucket",
         "s3://supahotbucket/",
         "tom.bai@databricks.com"
        ],
        [
         "suraj",
         "s3://one-env-uc-external-location/suraj",
         null
        ],
        [
         "suraj-ext",
         "s3://surajsandboxeast2/",
         null
        ],
        [
         "suraj_",
         "s3://oetrta/suraj",
         null
        ],
        [
         "suraj_ext",
         "s3://surajdbx2/",
         null
        ],
        [
         "suraj_iceberg_location",
         "s3://oetrta/surajiceberg",
         null
        ],
        [
         "suraj_iceberg_location1",
         "s3://oetrta/surajiceberg1",
         null
        ],
        [
         "suraj_iceberg_location3",
         "s3://oetrta/surajiceberg3",
         null
        ],
        [
         "suraj_iceberg_location4",
         "s3://oetrta/surajiceberg4",
         null
        ],
        [
         "suraj_iceberg_location5",
         "s3://oetrta/surajiceberg5",
         null
        ],
        [
         "suraj_iceberg_location6",
         "s3://oetrta/surajiceberg6",
         null
        ],
        [
         "sv-ext-location",
         "s3://one-env-uc-external-location/sv-ext-location",
         null
        ],
        [
         "sw_external_location_sandbox",
         "s3://swangtbucket/",
         null
        ],
        [
         "swaroop_external_test",
         "s3://one-env-uc-external-location/swaroop_test",
         "test_external"
        ],
        [
         "swaroopo_ext",
         "s3://one-env/swaroopo",
         null
        ],
        [
         "synthea-omop",
         "s3://synthea-omop/",
         null
        ],
        [
         "sz-uc-external-location-manual",
         "s3://sz-uc-bucket-manual/external_location1",
         null
        ],
        [
         "taka-external-location",
         "s3://taka-external-location-bucket/external-tables",
         null
        ],
        [
         "takahiro_tohchika_ext_location",
         "s3://one-env-uc-external-location/takahiro_tochika_ext",
         null
        ],
        [
         "takahirotochika",
         "s3://one-env-uc-external-location/takahiro_tochika",
         null
        ],
        [
         "takat_ext_test",
         "s3://takat-202504-ext-vol/path",
         null
        ],
        [
         "tania-hms-federation",
         "s3://oetrta/tania",
         null
        ],
        [
         "taran",
         "s3://one-env-uc-external-location/taran",
         null
        ],
        [
         "taras_ext_loc_read_only",
         "s3://oetrta/datasets-123",
         null
        ],
        [
         "taras_one_env_dataset",
         "s3://oetrta/datasets",
         null
        ],
        [
         "taru",
         "s3://tarun-test/",
         null
        ],
        [
         "tarun-test",
         "s3://one-env-uc-external-location/tarun",
         null
        ],
        [
         "td-detect-external-access-el",
         "s3://td-detect-external-access/tables",
         null
        ],
        [
         "td-server-logs-el",
         "s3://td-detect-external-access-server-logs/logs",
         null
        ],
        [
         "td_abn_external",
         "s3://one-env-uc-external-location/td_abn_external",
         null
        ],
        [
         "tdosborne-db-external-volume-test",
         "s3://one-env-uc-external-location/invoca-uc-test",
         "External location to test creating external volume with nested json for customer UC question"
        ],
        [
         "te_s3_ext_location",
         "s3://te-demo-bucket/",
         null
        ],
        [
         "test",
         "s3://databricks-e2demofieldengwest/ramgoli",
         null
        ],
        [
         "test-btafur",
         "s3://genome-browser/",
         null
        ],
        [
         "test-ext-loc-5-customer1",
         "s3://fedramp-test-ext-loc-5/customer1",
         null
        ],
        [
         "test-ext-loc-5-fusion",
         "s3://fedramp-test-ext-loc-5/FUSION",
         null
        ],
        [
         "test-lars-datasets",
         "s3://one-env-uc-external-location/test-lars-datasets",
         null
        ],
        [
         "test-uc-aman",
         "s3://databricks-test-uc-pratt/",
         null
        ],
        [
         "test-uc-pratt",
         "s3://databricks-test-uc-pratt-2/",
         null
        ],
        [
         "test_external_location",
         "s3://databricks-e2demofieldengwest/test_external_location",
         "External Location for demos"
        ],
        [
         "test_pago",
         "s3://test-cnab-pago/test1",
         null
        ],
        [
         "test_remorph",
         "s3://db-remoprh-test/test",
         null
        ],
        [
         "test_rosh",
         "s3://oetrta/test-ra",
         null
        ],
        [
         "test_ts42_s3_demo",
         "s3://ts42s3demo/",
         null
        ],
        [
         "test_vn",
         "s3://dababababa/",
         null
        ],
        [
         "test_william_uc1",
         "s3://wh-sandbox-bucket-demo/williamc-test/use-case1",
         null
        ],
        [
         "test_william_uc2",
         "s3://wh-sandbox-bucket-demo/williamc-test/use-case2",
         null
        ],
        [
         "tetan_demo",
         "s3://one-env-uc-external-location/tetan_demo",
         null
        ],
        [
         "thhart0",
         "s3://one-env-uc-external-location/thhart0",
         null
        ],
        [
         "thoom_iceberg_glue_s3_external_location",
         "s3://databricks-thoom-demos/glue-database-storage/thoom_iceberg",
         "External location to read from the S3 path used to store the Glue Iceberg table files. "
        ],
        [
         "thor-dev-ext-location",
         "s3://databricks-thor-non-prod-useast1-bucket/dev-data-folder",
         null
        ],
        [
         "thrusa-temp",
         "s3://databricks-thrusa-srg-us-west-2-temp/fe-testing",
         null
        ],
        [
         "tim-dikland-anglo-demo",
         "s3://databricks-timdikland-anglo-demo/",
         "Access to s3 location for UC Volumes (AngloAmerican demo)"
        ],
        [
         "timo-ext-location",
         "s3://one-env-uc-external-location/timo",
         "External Location for Demo"
        ],
        [
         "tko-demo-ext-loc",
         "s3://tko-demo-2025/",
         null
        ],
        [
         "tleider-external-location",
         "s3://tleider-external-test/",
         null
        ],
        [
         "tmk_demo",
         "s3://one-env-uc-external-location/tmk_demo",
         null
        ],
        [
         "tnovais_demos",
         "s3://databricks-e2demofieldengwest/tnovais_demos",
         null
        ],
        [
         "tnovais_teste_esteca",
         "s3://databricks-e2demofieldengwest/tnovais_teste_esteca",
         "bucket created in session learn with Estecoso"
        ],
        [
         "toast-demo-s3",
         "s3://toast-demo-bucket/",
         null
        ],
        [
         "tpcdi_benchmark",
         "s3://one-env-uc-external-location/tpcdi_benchmark",
         null
        ],
        [
         "tristen_ext_loc",
         "s3://one-env-uc-external-location/tristen",
         null
        ],
        [
         "ts42_external_location",
         "s3://one-env-uc-external-location/ts42",
         null
        ],
        [
         "ttan_test",
         "s3://oetrta/ttan_test",
         null
        ],
        [
         "ttan_volume_test",
         "s3://oetrta/ttan_volume_test",
         null
        ],
        [
         "tw_demo_ext_location",
         "s3://one-env-uc-external-location/tanner_wendland",
         null
        ],
        [
         "twatanabe-s3-for-external-table",
         "s3://twatanabe-azure-databricks-to-aws-demo-bucket/",
         null
        ],
        [
         "twilio_ext",
         "s3://one-env-uc-external-location/twilio-demo",
         null
        ],
        [
         "twilio_ext_rnd",
         "s3://one-env-uc-external-location/twilio-demo_rnd",
         null
        ],
        [
         "twx-one-env",
         "s3://one-env/twx",
         null
        ],
        [
         "ty-eps",
         "s3://one-env-uc-external-location/thickey",
         null
        ],
        [
         "ub_demo",
         "s3://one-env-uc-external-location/ub_Demo",
         null
        ],
        [
         "ub_demo_control",
         "s3://one-env-uc-external-location/ub_Demo_Control",
         null
        ],
        [
         "ubisoft_demo",
         "s3://one-env/ubisoft_demo",
         null
        ],
        [
         "uc-engie",
         "s3://one-env-uc-external-location/tarik/engie_unity_managed",
         null
        ],
        [
         "uday-s3-sandbox",
         "s3://uday-aws-sandbox/",
         null
        ],
        [
         "uma_test",
         "s3://databricks-e2demofieldengwest/uma_test",
         null
        ],
        [
         "user_aj",
         "s3://one-env-uc-external-location/user_aj",
         null
        ],
        [
         "vasan_ext",
         "s3://one-env-uc-external-location/vasan_ext",
         null
        ],
        [
         "vhd-bra-catalogs",
         "s3://one-env-uc-external-location/vhd-bra-catalogs",
         null
        ],
        [
         "vhd-bra-external-location",
         "s3://one-env-uc-external-location/vhd-bra-external",
         null
        ],
        [
         "vicent_iceberg_lab",
         "s3://one-env-uc-external-location/vicent-iceberg-lab",
         null
        ],
        [
         "victor-gomes-el-332745928618",
         "s3://victor-gomes-storage/",
         null
        ],
        [
         "vihaggupta_oneenv",
         "s3://oetrta/vihaggupta",
         null
        ],
        [
         "vik_one_env_el",
         "s3://one-env-uc-external-location/vik_gp_ext",
         null
        ],
        [
         "vinod_ext_location",
         "s3://one-env-uc-external-location/vinod/matson",
         null
        ],
        [
         "vinod_matson_ext",
         "s3://one-env-uc-external-location/vinod/matson_ext",
         null
        ],
        [
         "vishesh_ext",
         "s3://one-env-uc-external-location/vishesh_ext",
         null
        ],
        [
         "vk_external_location",
         "s3://one-env-uc-external-location/vivekkr",
         null
        ],
        [
         "vlad-el-test",
         "s3://vlad-test-databricks/delta",
         null
        ],
        [
         "vlad-entire-bucket-path",
         "s3://vlad-2-us-west-2/",
         null
        ],
        [
         "vlad_external_tables",
         "s3://vlad-us-west-2/external_tables",
         null
        ],
        [
         "vlad_external_volume",
         "s3://vlad-us-west-2/external_volume",
         null
        ],
        [
         "vlad_managed_tables",
         "s3://vlad-us-west-2/managed_tables",
         null
        ],
        [
         "vlad_managed_volume",
         "s3://vlad-us-west-2/managed_volume",
         null
        ],
        [
         "vol_icechunk",
         "s3://one-env-uc-external-location/mjohns/icechunk",
         "Location for AWS data for icechunk S3 support"
        ],
        [
         "vr_ext_location",
         "s3://one-env/vr",
         null
        ],
        [
         "vr_fraud_location",
         "s3://databricks-vr/fraud",
         null
        ],
        [
         "vr_iiot_location",
         "s3://databricks-vr/iiot",
         null
        ],
        [
         "vt-demo-ext",
         "s3://one-env-uc-external-location/vt-demo",
         null
        ],
        [
         "vuong_nguyen_sandbox",
         "s3://databricks-e2demofieldengwest/vuong_nguyen_sandbox",
         "## This is for Vuong\n\n\n\n#### This is another comment"
        ],
        [
         "wagner-santos-external-location",
         "s3://one-env-uc-external-location/wagner-santos-external-location",
         null
        ],
        [
         "wb",
         "s3://one-env/hkadish/WB",
         null
        ],
        [
         "weiyunna",
         "s3://one-env-uc-external-location/weiyunna",
         null
        ],
        [
         "wgirten_demo",
         "s3://databricks-e2demofieldengwest/wgirten_demo",
         null
        ],
        [
         "wh_ext_loc",
         "s3://one-env-uc-external-location/wharmer",
         null
        ],
        [
         "will-taff-external-location",
         "s3://one-env-uc-external-location/will-taff",
         null
        ],
        [
         "wjh_ext",
         "s3://databricks-e2demofieldengwest/wjh_ext",
         null
        ],
        [
         "wtaff_external_location",
         "s3://wtaff/",
         null
        ],
        [
         "xieming_external_location",
         "s3://databricks-e2demofieldengwest/xieming_external_location",
         "External Location for demos"
        ],
        [
         "ya_external",
         "s3://one-env-uc-external-location/ya_test",
         null
        ],
        [
         "yaext",
         "s3://one-env-uc-external-location/Yatish",
         null
        ],
        [
         "yangwang",
         "s3://one-env-uc-external-location/yangwang",
         null
        ],
        [
         "yashodhan-external-location-bronze",
         "s3://yashodhan-aws-bucket/bronze",
         null
        ],
        [
         "yashodhan-external-location-silver",
         "s3://yashodhan-aws-bucket/silver",
         null
        ],
        [
         "yatin-hkjc-test",
         "s3://databricks-yatink-qgif-demo/hkjc",
         null
        ],
        [
         "yatin_ext",
         "s3://databricks-yatink-qgif-demo/testing_mpokket",
         null
        ],
        [
         "yatin_test_scb",
         "s3://databricks-yatink-qgif-demo/scb",
         null
        ],
        [
         "yaucvolumetest",
         "s3://one-env-uc-external-location/yaucvolumetest",
         null
        ],
        [
         "yehan-test-tokyo",
         "s3://yehan-test-tokyo/",
         null
        ],
        [
         "ygowda-s3",
         "s3://ygowda-s3/parent-folder",
         "Access data in the bucket ygowda-s3/parent-folder/"
        ],
        [
         "ygowda-s3-inventory-ext-location",
         "s3://ygowda-s3-inventory/",
         "External location to access S3 bucket ygowda-s3-inventory"
        ],
        [
         "yh_test_ext_loc",
         "s3://one-env-uc-external-location/yh_test",
         null
        ],
        [
         "ykko_uswest2_extloc",
         "s3://databricks-ykko-uc/extloc",
         "ykko demo ext location"
        ],
        [
         "ymao_s3_test",
         "s3://one-env-uc-external-location/ymao",
         null
        ],
        [
         "yogesh_bucket",
         "s3://one-env-uc-external-location/yogesh_test",
         null
        ],
        [
         "yohei-dbx-demo-extdata",
         "s3://dbx-demo-yohei/extdata",
         null
        ],
        [
         "yohei-dbx-demo-ingest",
         "s3://dbx-demo-yohei/ingest",
         null
        ],
        [
         "yohei_handson_20250523",
         "s3://handson-20250523/sample_data",
         null
        ],
        [
         "youssef",
         "s3://databricks-bk-s3/youssef",
         null
        ],
        [
         "youssefm",
         "s3://one-env-uc-external-location/youssef",
         null
        ],
        [
         "ys_demo",
         "s3://databricks-e2demofieldengwest/ys_demo",
         null
        ],
        [
         "ysm",
         "s3://one-env-uc-external-location/ysm/perf_chk",
         null
        ],
        [
         "ysm-sandbox-el",
         "s3://ysm-sandbox/",
         null
        ],
        [
         "ysm-sandbox-ice-cmp",
         "s3://ysm-sandbox-ice-cmp/",
         null
        ],
        [
         "yubin-ext-loc",
         "s3://yb-lbox-s3-bucket/",
         null
        ],
        [
         "yubin-ext-test",
         "s3://yubin-ext-test/",
         null
        ],
        [
         "yubin-rs-ext-loc",
         "s3://starbucks-rs-s3/",
         null
        ],
        [
         "yubin_dable_ext_loc",
         "s3://yubin-dable-s3-bucket/",
         null
        ],
        [
         "yuki-shiga-al-test-external-location",
         "s3://yuki-shiga-al-test/",
         null
        ],
        [
         "yuki-shiga-external-location",
         "s3://yuki-shiga-external-location/",
         null
        ],
        [
         "yuki-shiga-snowflake-storage",
         "s3://yuki-shiga-snowflake/",
         null
        ],
        [
         "yuki_shiga_external",
         "s3://one-env-uc-external-location/yuki_shiga",
         null
        ],
        [
         "zach-oneenv",
         "s3://one-env-uc-external-location/zach-hazen",
         null
        ],
        [
         "zaxier_ext_loc1",
         "s3://one-env-uc-external-location/zaxier/ext-loc1",
         null
        ],
        [
         "zg-external-location",
         "s3://databricks-zg/",
         null
        ],
        [
         "zg_cdc",
         "s3://databricks-zg-landing-zone/",
         "store cdc data"
        ],
        [
         "zh-aws-bucket",
         "s3://zh-aws-bucket/",
         null
        ],
        [
         "zhl-external-sandbox",
         "s3://zhl-glue-integration/",
         null
        ],
        [
         "zhl-s3",
         "s3://one-env-uc-external-location/zhl",
         null
        ],
        [
         "zhtest1",
         "s3://whackwhack/mole",
         null
        ],
        [
         "zivile",
         "s3://oetrta/ziviles",
         null
        ],
        [
         "zivile-one-env",
         "s3://oetrta/zivile",
         null
        ],
        [
         "zvt-data-test",
         "s3://zvt-data-test/",
         null
        ],
        [
         "日本語ロケーション",
         "s3://one-env-uc-external-location/takahirotochika",
         null
        ]
       ],
       "datasetInfos": [
        {
         "name": "_sqldf",
         "schema": {
          "fields": [
           {
            "metadata": {},
            "name": "name",
            "nullable": false,
            "type": "string"
           },
           {
            "metadata": {},
            "name": "url",
            "nullable": false,
            "type": "string"
           },
           {
            "metadata": {},
            "name": "comment",
            "nullable": true,
            "type": "string"
           }
          ],
          "type": "struct"
         },
         "tableIdentifier": null,
         "typeStr": "pyspark.sql.connect.dataframe.DataFrame"
        }
       ],
       "dbfsResultPath": null,
       "isJsonSchema": true,
       "metadata": {
        "createTempViewForImplicitDf": true,
        "dataframeName": "_sqldf",
        "executionCount": 93
       },
       "overflow": false,
       "plotOptions": {
        "customPlotOptions": {},
        "displayType": "table",
        "pivotAggregation": null,
        "pivotColumns": null,
        "xColumns": null,
        "yColumns": null
       },
       "removedWidgets": [],
       "schema": [
        {
         "metadata": "{}",
         "name": "name",
         "type": "\"string\""
        },
        {
         "metadata": "{}",
         "name": "url",
         "type": "\"string\""
        },
        {
         "metadata": "{}",
         "name": "comment",
         "type": "\"string\""
        }
       ],
       "type": "table"
      }
     },
     "output_type": "display_data"
    }
   ],
   "source": [
    "%sql\n",
    "SHOW EXTERNAL LOCATIONS"
   ]
  },
  {
   "cell_type": "markdown",
   "metadata": {
    "application/vnd.databricks.v1+cell": {
     "cellMetadata": {},
     "inputWidgets": {},
     "nuid": "6b53624f-c833-4364-aee0-857e49a631a2",
     "showTitle": false,
     "tableResultSettingsMap": {},
     "title": ""
    }
   },
   "source": [
    "## Create Iceberg Tables in Snowflake\n",
    "\n",
    "For customers who are looking to have their Snowflake Iceberg tables availible in Databrick:\n",
    "- Create an [External Iceberg Table](https://docs.snowflake.com/en/user-guide/tutorials/create-your-first-iceberg-table#create-an-external-volume) in Snowflake. The Volume in Snowflake should point to the location we designated above.\n",
    "- Hydrate the table with data (eg CTAS, Insert, etc).\n",
    "![](./setup/create_iceberg_snowflake_worksheet.png)"
   ]
  },
  {
   "cell_type": "markdown",
   "metadata": {
    "application/vnd.databricks.v1+cell": {
     "cellMetadata": {},
     "inputWidgets": {},
     "nuid": "5a848c64-e35e-4f89-b8c8-0231ff6d7e78",
     "showTitle": false,
     "tableResultSettingsMap": {},
     "title": ""
    }
   },
   "source": [
    "# Create Connection to Horizon Catalog\n",
    "We will create a [catalog connection](https://e2-demo-field-eng.cloud.databricks.com/explore/locations?o=1444828305810485) similar to a foriegn database connection. However we will specify:\n",
    "- The external location we created above\n",
    "- An external location to store metadata"
   ]
  },
  {
   "cell_type": "code",
   "execution_count": 0,
   "metadata": {
    "application/vnd.databricks.v1+cell": {
     "cellMetadata": {
      "byteLimit": 2048000,
      "rowLimit": 10000
     },
     "inputWidgets": {},
     "nuid": "f5d5ab2c-1bc3-4f19-ae21-cde9452114be",
     "showTitle": true,
     "tableResultSettingsMap": {},
     "title": "Convert PEM Private Key to Hex Format"
    }
   },
   "outputs": [],
   "source": [
    "from cryptography.hazmat.primitives import serialization\n",
    "from cryptography.hazmat.backends import default_backend\n",
    "import re\n",
    "\n",
    "with open(\"PATH/TO/YOUR/PRIVATE_KEY\", \"rb\") as key_file:\n",
    "    private_key = serialization.load_pem_private_key(\n",
    "        key_file.read(),\n",
    "        password=None,\n",
    "        backend=default_backend()\n",
    "    )\n",
    "private_key_pem = private_key.private_bytes(\n",
    "    encoding=serialization.Encoding.PEM,\n",
    "    format=serialization.PrivateFormat.PKCS8,\n",
    "    encryption_algorithm=serialization.NoEncryption()\n",
    ").decode(\"utf-8\")\n",
    "private_key_hex64 = re.sub(r\"-----.*-----|\\n\", \"\", private_key_pem)\n",
    "# print(private_key_hex64)"
   ]
  },
  {
   "cell_type": "code",
   "execution_count": 0,
   "metadata": {
    "application/vnd.databricks.v1+cell": {
     "cellMetadata": {
      "byteLimit": 2048000,
      "rowLimit": 10000
     },
     "inputWidgets": {},
     "nuid": "0f88e4ea-0502-4ff5-9300-47185f6491d2",
     "showTitle": true,
     "tableResultSettingsMap": {},
     "title": "Read Theme Park Visitor Data from Iceberg Table"
    }
   },
   "outputs": [
    {
     "output_type": "display_data",
     "data": {
      "text/html": [
       "<style scoped>\n",
       "  .table-result-container {\n",
       "    max-height: 300px;\n",
       "    overflow: auto;\n",
       "  }\n",
       "  table, th, td {\n",
       "    border: 1px solid black;\n",
       "    border-collapse: collapse;\n",
       "  }\n",
       "  th, td {\n",
       "    padding: 5px;\n",
       "  }\n",
       "  th {\n",
       "    text-align: left;\n",
       "  }\n",
       "</style><div class='table-result-container'><table class='table-result'><thead style='background-color: white'><tr><th>CUSTOMERID</th><th>PASTSKIPPASS</th><th>VISITFREQUENCY</th><th>TOTALSPENDINGUSD</th><th>AVGQUEUETIMEMIN</th><th>AVGRIDETIMEMIN</th><th>PREFERREDRIDE</th><th>GROUPTYPE</th><th>VISITTIMING</th><th>TICKETTYPE</th><th>AGEGROUP</th><th>LASTVISITDATE</th></tr></thead><tbody><tr><td>1</td><td>0</td><td>9.86849973612838700</td><td>935.18</td><td>53.4</td><td>3.5</td><td>Transformers: The Ride</td><td>Family (2+2)</td><td>Peak (Summer)</td><td>One-Day</td><td>45-54</td><td>2024-10-18</td></tr><tr><td>2</td><td>0</td><td>2.85282410046208100</td><td>1053.48</td><td>23.9</td><td>5.6</td><td>The Incredible Hulk Coaster</td><td>Family (2 adults)</td><td>Off-Peak (Weekend)</td><td>One-Day</td><td>55+</td><td>2024-10-13</td></tr><tr><td>3</td><td>0</td><td>5.00418779832708800</td><td>1053.65</td><td>103.8</td><td>7.0</td><td>The Incredible Hulk Coaster</td><td>Family (2 adults)</td><td>Peak (Holiday)</td><td>VIP Experience</td><td>18-24</td><td>2024-10-12</td></tr><tr><td>4</td><td>1</td><td>46.44851673084228600</td><td>949.19</td><td>55.9</td><td>6.4</td><td>Hagrid's Magical Creatures Motorbike Adventure</td><td>Couple</td><td>Off-Peak (Weekend)</td><td>Annual Pass</td><td>18-24</td><td>2024-08-14</td></tr><tr><td>5</td><td>1</td><td>9.76785602065858600</td><td>790.06</td><td>49.6</td><td>4.8</td><td>Transformers: The Ride</td><td>Family (2 adults)</td><td>Peak (Summer)</td><td>One-Day</td><td>55+</td><td>2024-09-08</td></tr><tr><td>6</td><td>0</td><td>17.32772917802489600</td><td>562.49</td><td>69.1</td><td>4.1</td><td>Revenge of the Mummy</td><td>Couple</td><td>Peak (Holiday)</td><td>Annual Pass</td><td>45-54</td><td>2024-12-14</td></tr><tr><td>7</td><td>1</td><td>8.96317421616424000</td><td>618.41</td><td>52.5</td><td>5.2</td><td>Jurassic Park River Adventure</td><td>Solo</td><td>Peak (Holiday)</td><td>Annual Pass</td><td>45-54</td><td>2024-08-09</td></tr><tr><td>8</td><td>0</td><td>6.71497473934111600</td><td>907.71</td><td>55.9</td><td>4.8</td><td>The Incredible Hulk Coaster</td><td>Large Group (5+)</td><td>Off-Peak (Weekend)</td><td>Multi-Day</td><td>18-24</td><td>2025-02-21</td></tr><tr><td>9</td><td>1</td><td>2.74431833462668200</td><td>1073.43</td><td>35.5</td><td>6.2</td><td>Spider-Man Ride</td><td>Family (2+2)</td><td>Peak (Holiday)</td><td>Annual Pass</td><td>35-44</td><td>2025-04-08</td></tr><tr><td>10</td><td>1</td><td>15.56773218101206300</td><td>575.23</td><td>78.0</td><td>6.0</td><td>Harry Potter and the Escape</td><td>Family (2+2)</td><td>Off-Peak (Weekday)</td><td>Annual Pass</td><td>45-54</td><td>2025-04-18</td></tr><tr><td>11</td><td>1</td><td>7.83526731400310400</td><td>1054.71</td><td>66.2</td><td>8.0</td><td>Hagrid's Magical Creatures Motorbike Adventure</td><td>Large Group (5+)</td><td>Off-Peak (Weekend)</td><td>VIP Experience</td><td>45-54</td><td>2024-08-14</td></tr><tr><td>12</td><td>1</td><td>5.34454949326166950</td><td>372.74</td><td>79.2</td><td>8.2</td><td>Hagrid's Magical Creatures Motorbike Adventure</td><td>Solo</td><td>Off-Peak (Weekday)</td><td>Multi-Day</td><td>25-34</td><td>2025-04-24</td></tr><tr><td>13</td><td>0</td><td>28.05178305257216200</td><td>464.56</td><td>68.3</td><td>4.0</td><td>Jurassic Park River Adventure</td><td>Solo</td><td>Off-Peak (Weekday)</td><td>Annual Pass</td><td>25-34</td><td>2024-06-22</td></tr><tr><td>14</td><td>0</td><td>6.59278561086561200</td><td>1073.64</td><td>92.1</td><td>4.0</td><td>Transformers: The Ride</td><td>Friends (3-4)</td><td>Off-Peak (Weekday)</td><td>One-Day</td><td>25-34</td><td>2024-06-19</td></tr><tr><td>15</td><td>0</td><td>27.48173680884878300</td><td>610.76</td><td>64.5</td><td>8.0</td><td>Hagrid's Magical Creatures Motorbike Adventure</td><td>Friends (3-4)</td><td>Off-Peak (Weekday)</td><td>Annual Pass</td><td>18-24</td><td>2025-01-29</td></tr><tr><td>16</td><td>1</td><td>18.58779505684696000</td><td>784.76</td><td>73.8</td><td>4.7</td><td>Transformers: The Ride</td><td>Family (2 adults)</td><td>Off-Peak (Weekend)</td><td>Annual Pass</td><td>45-54</td><td>2025-02-22</td></tr><tr><td>17</td><td>1</td><td>3.24481867358174900</td><td>573.62</td><td>27.9</td><td>6.9</td><td>Hagrid's Magical Creatures Motorbike Adventure</td><td>Large Group (5+)</td><td>Peak (Holiday)</td><td>Annual Pass</td><td>18-24</td><td>2025-04-15</td></tr><tr><td>18</td><td>0</td><td>4.77793406975153900</td><td>657.71</td><td>24.6</td><td>3.1</td><td>Jurassic Park River Adventure</td><td>Large Group (5+)</td><td>Peak (Holiday)</td><td>Annual Pass</td><td>35-44</td><td>2024-08-15</td></tr><tr><td>19</td><td>1</td><td>17.58606061152096000</td><td>825.98</td><td>41.7</td><td>8.5</td><td>The Incredible Hulk Coaster</td><td>Friends (3-4)</td><td>Off-Peak (Weekday)</td><td>Multi-Day</td><td>55+</td><td>2024-10-01</td></tr><tr><td>20</td><td>0</td><td>5.70605451014582100</td><td>1349.73</td><td>66.7</td><td>4.7</td><td>Spider-Man Ride</td><td>Solo</td><td>Peak (Holiday)</td><td>Annual Pass</td><td>45-54</td><td>2024-06-25</td></tr><tr><td>21</td><td>0</td><td>5.47302158428345550</td><td>488.28</td><td>73.0</td><td>7.7</td><td>Revenge of the Mummy</td><td>Solo</td><td>Peak (Holiday)</td><td>VIP Experience</td><td>25-34</td><td>2025-05-07</td></tr><tr><td>22</td><td>0</td><td>4.15325137304643500</td><td>1558.72</td><td>56.0</td><td>6.4</td><td>Harry Potter and the Escape</td><td>Couple</td><td>Off-Peak (Weekday)</td><td>One-Day</td><td>45-54</td><td>2024-06-25</td></tr><tr><td>23</td><td>0</td><td>22.50738063991865800</td><td>1377.67</td><td>80.3</td><td>5.2</td><td>Transformers: The Ride</td><td>Large Group (5+)</td><td>Peak (Summer)</td><td>Annual Pass</td><td>18-24</td><td>2025-01-11</td></tr><tr><td>24</td><td>0</td><td>9.05760690265045700</td><td>854.46</td><td>68.1</td><td>8.1</td><td>Hagrid's Magical Creatures Motorbike Adventure</td><td>Large Group (5+)</td><td>Off-Peak (Weekday)</td><td>Multi-Day</td><td>25-34</td><td>2024-07-12</td></tr><tr><td>25</td><td>1</td><td>0.40045284089872290</td><td>727.89</td><td>43.9</td><td>7.9</td><td>Spider-Man Ride</td><td>Large Group (5+)</td><td>Off-Peak (Weekday)</td><td>Multi-Day</td><td>35-44</td><td>2024-10-31</td></tr><tr><td>26</td><td>0</td><td>20.18576013142091000</td><td>813.16</td><td>83.5</td><td>4.4</td><td>Spider-Man Ride</td><td>Large Group (5+)</td><td>Peak (Summer)</td><td>Multi-Day</td><td>45-54</td><td>2024-12-09</td></tr><tr><td>27</td><td>0</td><td>19.33665618509833800</td><td>931.41</td><td>25.3</td><td>3.3</td><td>Revenge of the Mummy</td><td>Solo</td><td>Off-Peak (Weekday)</td><td>Multi-Day</td><td>25-34</td><td>2024-12-15</td></tr><tr><td>28</td><td>0</td><td>0.25711964405177680</td><td>1382.52</td><td>44.8</td><td>7.3</td><td>Transformers: The Ride</td><td>Solo</td><td>Off-Peak (Weekend)</td><td>Annual Pass</td><td>25-34</td><td>2025-06-13</td></tr><tr><td>29</td><td>0</td><td>7.66240974015693300</td><td>837.15</td><td>36.6</td><td>6.8</td><td>Hagrid's Magical Creatures Motorbike Adventure</td><td>Friends (3-4)</td><td>Off-Peak (Weekend)</td><td>Annual Pass</td><td>55+</td><td>2025-05-04</td></tr><tr><td>30</td><td>1</td><td>4.41893307661619900</td><td>983.98</td><td>30.8</td><td>4.7</td><td>The Incredible Hulk Coaster</td><td>Couple</td><td>Peak (Summer)</td><td>VIP Experience</td><td>35-44</td><td>2024-09-30</td></tr><tr><td>31</td><td>0</td><td>12.76764934452880200</td><td>693.92</td><td>93.3</td><td>5.1</td><td>The Incredible Hulk Coaster</td><td>Family (2 adults)</td><td>Peak (Summer)</td><td>One-Day</td><td>55+</td><td>2025-01-22</td></tr><tr><td>32</td><td>0</td><td>30.66291624870400400</td><td>804.21</td><td>21.3</td><td>4.0</td><td>Hagrid's Magical Creatures Motorbike Adventure</td><td>Family (2 adults)</td><td>Peak (Holiday)</td><td>VIP Experience</td><td>35-44</td><td>2025-04-27</td></tr><tr><td>33</td><td>1</td><td>2.78896337682261740</td><td>1248.14</td><td>28.8</td><td>2.8</td><td>Spider-Man Ride</td><td>Couple</td><td>Peak (Summer)</td><td>Annual Pass</td><td>25-34</td><td>2025-02-10</td></tr><tr><td>34</td><td>1</td><td>25.25836605442580000</td><td>500.88</td><td>56.2</td><td>5.3</td><td>Jurassic Park River Adventure</td><td>Large Group (5+)</td><td>Off-Peak (Weekend)</td><td>Annual Pass</td><td>55+</td><td>2024-10-06</td></tr><tr><td>35</td><td>0</td><td>11.25165746816122500</td><td>976.47</td><td>29.9</td><td>4.9</td><td>The Incredible Hulk Coaster</td><td>Large Group (5+)</td><td>Peak (Summer)</td><td>Annual Pass</td><td>35-44</td><td>2025-02-21</td></tr><tr><td>36</td><td>0</td><td>12.25987225233388100</td><td>50.00</td><td>60.6</td><td>7.6</td><td>Jurassic Park River Adventure</td><td>Couple</td><td>Peak (Summer)</td><td>Annual Pass</td><td>25-34</td><td>2024-12-17</td></tr><tr><td>37</td><td>1</td><td>9.84913634255934800</td><td>700.33</td><td>85.2</td><td>4.1</td><td>Hagrid's Magical Creatures Motorbike Adventure</td><td>Friends (3-4)</td><td>Peak (Holiday)</td><td>Multi-Day</td><td>18-24</td><td>2025-01-30</td></tr><tr><td>38</td><td>0</td><td>15.26704097486618000</td><td>1009.65</td><td>95.5</td><td>8.2</td><td>The Incredible Hulk Coaster</td><td>Solo</td><td>Peak (Holiday)</td><td>Multi-Day</td><td>45-54</td><td>2025-04-18</td></tr><tr><td>39</td><td>0</td><td>18.46570131208890700</td><td>821.76</td><td>38.1</td><td>2.5</td><td>Revenge of the Mummy</td><td>Large Group (5+)</td><td>Peak (Summer)</td><td>VIP Experience</td><td>55+</td><td>2024-08-12</td></tr><tr><td>40</td><td>0</td><td>7.90153789111172500</td><td>876.95</td><td>80.8</td><td>7.1</td><td>Harry Potter and the Escape</td><td>Couple</td><td>Peak (Summer)</td><td>Annual Pass</td><td>18-24</td><td>2024-12-19</td></tr><tr><td>41</td><td>0</td><td>5.44820211950405800</td><td>1200.12</td><td>33.8</td><td>3.1</td><td>Hagrid's Magical Creatures Motorbike Adventure</td><td>Solo</td><td>Peak (Holiday)</td><td>Multi-Day</td><td>25-34</td><td>2025-03-26</td></tr><tr><td>42</td><td>1</td><td>15.25399704939385800</td><td>929.85</td><td>26.6</td><td>3.9</td><td>Transformers: The Ride</td><td>Friends (3-4)</td><td>Peak (Holiday)</td><td>VIP Experience</td><td>18-24</td><td>2025-03-16</td></tr><tr><td>43</td><td>0</td><td>20.57454619002363600</td><td>875.14</td><td>39.8</td><td>5.8</td><td>The Incredible Hulk Coaster</td><td>Couple</td><td>Peak (Holiday)</td><td>One-Day</td><td>18-24</td><td>2024-12-09</td></tr><tr><td>44</td><td>0</td><td>9.67413680602292400</td><td>649.30</td><td>77.0</td><td>2.8</td><td>Revenge of the Mummy</td><td>Friends (3-4)</td><td>Off-Peak (Weekend)</td><td>Multi-Day</td><td>18-24</td><td>2024-12-25</td></tr><tr><td>45</td><td>0</td><td>10.98931889919662900</td><td>786.49</td><td>33.0</td><td>3.9</td><td>Hagrid's Magical Creatures Motorbike Adventure</td><td>Friends (3-4)</td><td>Peak (Summer)</td><td>One-Day</td><td>55+</td><td>2024-07-22</td></tr><tr><td>46</td><td>0</td><td>17.01002070445401800</td><td>158.72</td><td>60.9</td><td>7.5</td><td>The Incredible Hulk Coaster</td><td>Couple</td><td>Peak (Summer)</td><td>One-Day</td><td>18-24</td><td>2024-10-20</td></tr><tr><td>47</td><td>1</td><td>6.90283415544370500</td><td>1031.82</td><td>101.7</td><td>4.5</td><td>Harry Potter and the Escape</td><td>Family (2+2)</td><td>Off-Peak (Weekend)</td><td>Multi-Day</td><td>45-54</td><td>2024-10-24</td></tr><tr><td>48</td><td>0</td><td>17.47587334095901200</td><td>844.07</td><td>56.7</td><td>3.0</td><td>Transformers: The Ride</td><td>Solo</td><td>Peak (Holiday)</td><td>One-Day</td><td>35-44</td><td>2025-06-18</td></tr><tr><td>49</td><td>1</td><td>4.54421066657055600</td><td>744.04</td><td>36.9</td><td>7.1</td><td>The Incredible Hulk Coaster</td><td>Family (2+2)</td><td>Off-Peak (Weekday)</td><td>Multi-Day</td><td>45-54</td><td>2024-08-12</td></tr><tr><td>50</td><td>0</td><td>18.69981111273133200</td><td>694.85</td><td>89.6</td><td>6.3</td><td>Spider-Man Ride</td><td>Family (2+2)</td><td>Peak (Summer)</td><td>VIP Experience</td><td>18-24</td><td>2024-10-27</td></tr><tr><td>51</td><td>1</td><td>10.22625938671620300</td><td>761.65</td><td>26.3</td><td>8.4</td><td>Harry Potter and the Escape</td><td>Couple</td><td>Peak (Holiday)</td><td>One-Day</td><td>45-54</td><td>2024-11-08</td></tr><tr><td>52</td><td>0</td><td>20.59576266974156000</td><td>1394.22</td><td>65.9</td><td>6.6</td><td>The Incredible Hulk Coaster</td><td>Large Group (5+)</td><td>Off-Peak (Weekday)</td><td>Multi-Day</td><td>18-24</td><td>2025-04-09</td></tr><tr><td>53</td><td>0</td><td>8.00281935361772800</td><td>866.31</td><td>42.6</td><td>4.4</td><td>Jurassic Park River Adventure</td><td>Couple</td><td>Peak (Holiday)</td><td>One-Day</td><td>35-44</td><td>2025-04-02</td></tr><tr><td>54</td><td>1</td><td>17.98843898519593000</td><td>615.14</td><td>51.9</td><td>5.3</td><td>The Incredible Hulk Coaster</td><td>Large Group (5+)</td><td>Off-Peak (Weekday)</td><td>VIP Experience</td><td>45-54</td><td>2025-02-16</td></tr><tr><td>55</td><td>0</td><td>3.28389402268509500</td><td>1023.33</td><td>82.3</td><td>7.5</td><td>Hagrid's Magical Creatures Motorbike Adventure</td><td>Solo</td><td>Off-Peak (Weekday)</td><td>VIP Experience</td><td>45-54</td><td>2024-06-24</td></tr><tr><td>56</td><td>0</td><td>10.37163952389141200</td><td>1022.95</td><td>67.5</td><td>6.7</td><td>The Incredible Hulk Coaster</td><td>Couple</td><td>Off-Peak (Weekend)</td><td>One-Day</td><td>55+</td><td>2025-05-27</td></tr><tr><td>57</td><td>0</td><td>2.15047552772024100</td><td>480.39</td><td>39.7</td><td>7.9</td><td>Spider-Man Ride</td><td>Friends (3-4)</td><td>Peak (Holiday)</td><td>One-Day</td><td>55+</td><td>2025-04-07</td></tr><tr><td>58</td><td>1</td><td>7.11431272316720800</td><td>1481.71</td><td>14.6</td><td>3.6</td><td>Revenge of the Mummy</td><td>Large Group (5+)</td><td>Peak (Holiday)</td><td>One-Day</td><td>55+</td><td>2024-09-01</td></tr><tr><td>59</td><td>0</td><td>13.01615827265877000</td><td>741.24</td><td>79.8</td><td>4.4</td><td>Revenge of the Mummy</td><td>Family (2+2)</td><td>Off-Peak (Weekday)</td><td>Annual Pass</td><td>55+</td><td>2024-12-15</td></tr><tr><td>60</td><td>0</td><td>11.53580461859520200</td><td>955.34</td><td>75.2</td><td>4.9</td><td>The Incredible Hulk Coaster</td><td>Couple</td><td>Peak (Summer)</td><td>Multi-Day</td><td>35-44</td><td>2024-12-13</td></tr><tr><td>61</td><td>1</td><td>21.70200893861655800</td><td>704.22</td><td>67.6</td><td>7.9</td><td>Jurassic Park River Adventure</td><td>Couple</td><td>Peak (Holiday)</td><td>VIP Experience</td><td>25-34</td><td>2025-04-19</td></tr><tr><td>62</td><td>0</td><td>3.70379549228676550</td><td>845.13</td><td>54.1</td><td>3.4</td><td>Transformers: The Ride</td><td>Friends (3-4)</td><td>Off-Peak (Weekend)</td><td>Multi-Day</td><td>55+</td><td>2024-12-02</td></tr><tr><td>63</td><td>1</td><td>41.16172085828056000</td><td>1050.98</td><td>30.4</td><td>6.5</td><td>Transformers: The Ride</td><td>Large Group (5+)</td><td>Off-Peak (Weekday)</td><td>Annual Pass</td><td>45-54</td><td>2024-11-22</td></tr><tr><td>64</td><td>1</td><td>15.29234425109879000</td><td>1034.44</td><td>69.8</td><td>7.5</td><td>The Incredible Hulk Coaster</td><td>Solo</td><td>Peak (Holiday)</td><td>Annual Pass</td><td>25-34</td><td>2024-12-12</td></tr><tr><td>65</td><td>1</td><td>1.22391294994361800</td><td>619.17</td><td>57.6</td><td>3.4</td><td>The Incredible Hulk Coaster</td><td>Couple</td><td>Off-Peak (Weekend)</td><td>Annual Pass</td><td>55+</td><td>2024-09-11</td></tr><tr><td>66</td><td>1</td><td>29.52470205782896400</td><td>1529.21</td><td>66.7</td><td>4.4</td><td>Harry Potter and the Escape</td><td>Couple</td><td>Peak (Summer)</td><td>Annual Pass</td><td>25-34</td><td>2024-08-12</td></tr><tr><td>67</td><td>1</td><td>16.76044991104980400</td><td>471.98</td><td>89.8</td><td>7.2</td><td>Harry Potter and the Escape</td><td>Couple</td><td>Off-Peak (Weekday)</td><td>Multi-Day</td><td>55+</td><td>2024-11-18</td></tr><tr><td>68</td><td>0</td><td>12.01213168861904600</td><td>1009.83</td><td>67.8</td><td>7.1</td><td>Hagrid's Magical Creatures Motorbike Adventure</td><td>Friends (3-4)</td><td>Peak (Holiday)</td><td>VIP Experience</td><td>25-34</td><td>2024-11-30</td></tr><tr><td>69</td><td>1</td><td>13.27527571628058400</td><td>850.58</td><td>46.3</td><td>7.4</td><td>Jurassic Park River Adventure</td><td>Large Group (5+)</td><td>Off-Peak (Weekend)</td><td>VIP Experience</td><td>35-44</td><td>2025-05-14</td></tr><tr><td>70</td><td>0</td><td>12.13210616571451800</td><td>869.71</td><td>81.9</td><td>3.9</td><td>Spider-Man Ride</td><td>Solo</td><td>Off-Peak (Weekend)</td><td>One-Day</td><td>35-44</td><td>2024-11-27</td></tr><tr><td>71</td><td>1</td><td>6.94014657431548000</td><td>882.73</td><td>96.8</td><td>3.5</td><td>Harry Potter and the Escape</td><td>Friends (3-4)</td><td>Off-Peak (Weekday)</td><td>VIP Experience</td><td>35-44</td><td>2025-01-22</td></tr><tr><td>72</td><td>0</td><td>13.84856084275844700</td><td>335.32</td><td>39.2</td><td>7.2</td><td>Jurassic Park River Adventure</td><td>Large Group (5+)</td><td>Off-Peak (Weekend)</td><td>One-Day</td><td>35-44</td><td>2024-08-01</td></tr><tr><td>73</td><td>1</td><td>34.04849660866731400</td><td>517.42</td><td>74.2</td><td>3.5</td><td>Hagrid's Magical Creatures Motorbike Adventure</td><td>Solo</td><td>Off-Peak (Weekday)</td><td>Multi-Day</td><td>45-54</td><td>2024-06-21</td></tr><tr><td>74</td><td>1</td><td>21.82244615025987000</td><td>1112.51</td><td>82.5</td><td>6.7</td><td>Jurassic Park River Adventure</td><td>Couple</td><td>Off-Peak (Weekend)</td><td>One-Day</td><td>18-24</td><td>2024-07-21</td></tr><tr><td>75</td><td>1</td><td>39.26000005906619000</td><td>931.30</td><td>18.7</td><td>3.9</td><td>The Incredible Hulk Coaster</td><td>Family (2 adults)</td><td>Peak (Summer)</td><td>Multi-Day</td><td>45-54</td><td>2024-06-23</td></tr><tr><td>76</td><td>1</td><td>23.88789902243358300</td><td>993.32</td><td>75.3</td><td>6.9</td><td>Hagrid's Magical Creatures Motorbike Adventure</td><td>Couple</td><td>Peak (Holiday)</td><td>Multi-Day</td><td>35-44</td><td>2025-01-18</td></tr><tr><td>77</td><td>0</td><td>0.26209571220060890</td><td>561.90</td><td>81.5</td><td>7.5</td><td>Harry Potter and the Escape</td><td>Family (2 adults)</td><td>Peak (Summer)</td><td>Multi-Day</td><td>25-34</td><td>2024-07-30</td></tr><tr><td>78</td><td>1</td><td>33.62053851776347000</td><td>504.01</td><td>79.5</td><td>8.2</td><td>Jurassic Park River Adventure</td><td>Family (2+2)</td><td>Off-Peak (Weekend)</td><td>VIP Experience</td><td>45-54</td><td>2025-01-17</td></tr><tr><td>79</td><td>1</td><td>15.82779122115241300</td><td>570.87</td><td>59.4</td><td>3.9</td><td>Harry Potter and the Escape</td><td>Family (2+2)</td><td>Off-Peak (Weekday)</td><td>Multi-Day</td><td>25-34</td><td>2025-03-06</td></tr><tr><td>80</td><td>1</td><td>17.28151257328472000</td><td>774.02</td><td>82.4</td><td>6.0</td><td>Harry Potter and the Escape</td><td>Family (2 adults)</td><td>Off-Peak (Weekend)</td><td>One-Day</td><td>25-34</td><td>2024-09-23</td></tr><tr><td>81</td><td>0</td><td>10.51178206400722300</td><td>877.24</td><td>34.5</td><td>3.5</td><td>The Incredible Hulk Coaster</td><td>Solo</td><td>Peak (Summer)</td><td>One-Day</td><td>25-34</td><td>2025-01-12</td></tr><tr><td>82</td><td>0</td><td>3.61833746652923000</td><td>408.35</td><td>59.0</td><td>7.6</td><td>Jurassic Park River Adventure</td><td>Large Group (5+)</td><td>Off-Peak (Weekday)</td><td>Multi-Day</td><td>55+</td><td>2024-08-16</td></tr><tr><td>83</td><td>0</td><td>6.20187558227995300</td><td>434.03</td><td>91.6</td><td>6.6</td><td>Hagrid's Magical Creatures Motorbike Adventure</td><td>Family (2+2)</td><td>Peak (Holiday)</td><td>Multi-Day</td><td>25-34</td><td>2024-12-18</td></tr><tr><td>84</td><td>1</td><td>37.16596660891500000</td><td>799.12</td><td>69.3</td><td>5.4</td><td>Hagrid's Magical Creatures Motorbike Adventure</td><td>Friends (3-4)</td><td>Peak (Summer)</td><td>VIP Experience</td><td>35-44</td><td>2024-09-16</td></tr><tr><td>85</td><td>0</td><td>10.89944298517605300</td><td>1180.91</td><td>41.7</td><td>5.5</td><td>Hagrid's Magical Creatures Motorbike Adventure</td><td>Solo</td><td>Peak (Summer)</td><td>VIP Experience</td><td>55+</td><td>2025-03-05</td></tr><tr><td>86</td><td>1</td><td>12.54417071831260900</td><td>610.30</td><td>52.1</td><td>8.5</td><td>Harry Potter and the Escape</td><td>Couple</td><td>Off-Peak (Weekend)</td><td>One-Day</td><td>55+</td><td>2024-08-15</td></tr><tr><td>87</td><td>0</td><td>9.84337637223902600</td><td>1080.65</td><td>45.6</td><td>2.8</td><td>The Incredible Hulk Coaster</td><td>Friends (3-4)</td><td>Peak (Summer)</td><td>Multi-Day</td><td>18-24</td><td>2024-08-31</td></tr><tr><td>88</td><td>0</td><td>24.22602127279396500</td><td>650.36</td><td>25.1</td><td>6.9</td><td>Harry Potter and the Escape</td><td>Couple</td><td>Off-Peak (Weekday)</td><td>Annual Pass</td><td>55+</td><td>2024-07-24</td></tr><tr><td>89</td><td>0</td><td>10.63518920914546200</td><td>728.44</td><td>19.0</td><td>6.9</td><td>Hagrid's Magical Creatures Motorbike Adventure</td><td>Large Group (5+)</td><td>Off-Peak (Weekday)</td><td>Multi-Day</td><td>55+</td><td>2024-07-11</td></tr><tr><td>90</td><td>1</td><td>28.34980619422977800</td><td>570.94</td><td>28.5</td><td>5.2</td><td>Spider-Man Ride</td><td>Family (2 adults)</td><td>Off-Peak (Weekday)</td><td>Annual Pass</td><td>55+</td><td>2025-03-07</td></tr><tr><td>91</td><td>1</td><td>9.71050543012427500</td><td>681.41</td><td>23.1</td><td>3.0</td><td>Hagrid's Magical Creatures Motorbike Adventure</td><td>Couple</td><td>Peak (Holiday)</td><td>Annual Pass</td><td>45-54</td><td>2024-08-13</td></tr><tr><td>92</td><td>1</td><td>10.88790333151802500</td><td>1075.49</td><td>20.1</td><td>7.1</td><td>Spider-Man Ride</td><td>Friends (3-4)</td><td>Peak (Summer)</td><td>One-Day</td><td>35-44</td><td>2025-01-25</td></tr><tr><td>93</td><td>0</td><td>4.23861862818423400</td><td>757.20</td><td>114.4</td><td>8.4</td><td>Hagrid's Magical Creatures Motorbike Adventure</td><td>Friends (3-4)</td><td>Off-Peak (Weekend)</td><td>Annual Pass</td><td>25-34</td><td>2025-04-28</td></tr><tr><td>94</td><td>1</td><td>13.15156793938853500</td><td>734.41</td><td>25.3</td><td>3.4</td><td>Transformers: The Ride</td><td>Family (2 adults)</td><td>Peak (Summer)</td><td>Annual Pass</td><td>55+</td><td>2024-06-22</td></tr><tr><td>95</td><td>0</td><td>10.67800323392615300</td><td>1422.99</td><td>75.7</td><td>3.1</td><td>Jurassic Park River Adventure</td><td>Couple</td><td>Peak (Summer)</td><td>Multi-Day</td><td>25-34</td><td>2024-07-12</td></tr><tr><td>96</td><td>1</td><td>12.77783411531925100</td><td>1287.57</td><td>87.2</td><td>7.9</td><td>Jurassic Park River Adventure</td><td>Couple</td><td>Off-Peak (Weekend)</td><td>VIP Experience</td><td>18-24</td><td>2024-08-28</td></tr><tr><td>97</td><td>0</td><td>22.73631113297727800</td><td>886.17</td><td>46.5</td><td>3.7</td><td>The Incredible Hulk Coaster</td><td>Solo</td><td>Off-Peak (Weekend)</td><td>One-Day</td><td>45-54</td><td>2025-04-19</td></tr><tr><td>98</td><td>1</td><td>22.46800054599411200</td><td>222.40</td><td>84.1</td><td>7.9</td><td>Spider-Man Ride</td><td>Family (2 adults)</td><td>Peak (Summer)</td><td>Annual Pass</td><td>18-24</td><td>2025-02-21</td></tr><tr><td>99</td><td>0</td><td>39.99218020135119600</td><td>883.94</td><td>58.3</td><td>3.0</td><td>Revenge of the Mummy</td><td>Family (2+2)</td><td>Peak (Holiday)</td><td>One-Day</td><td>45-54</td><td>2024-07-13</td></tr><tr><td>100</td><td>0</td><td>1.30966102078318300</td><td>502.01</td><td>65.3</td><td>5.6</td><td>The Incredible Hulk Coaster</td><td>Family (2 adults)</td><td>Peak (Summer)</td><td>Annual Pass</td><td>55+</td><td>2025-01-11</td></tr><tr><td>101</td><td>0</td><td>19.58888658754238000</td><td>961.96</td><td>43.9</td><td>5.4</td><td>Hagrid's Magical Creatures Motorbike Adventure</td><td>Friends (3-4)</td><td>Off-Peak (Weekday)</td><td>Annual Pass</td><td>35-44</td><td>2025-04-21</td></tr><tr><td>102</td><td>0</td><td>14.91702278437204200</td><td>425.69</td><td>46.0</td><td>5.2</td><td>The Incredible Hulk Coaster</td><td>Couple</td><td>Off-Peak (Weekday)</td><td>One-Day</td><td>25-34</td><td>2024-11-21</td></tr><tr><td>103</td><td>0</td><td>16.78675977125123000</td><td>1031.09</td><td>104.2</td><td>8.5</td><td>Revenge of the Mummy</td><td>Couple</td><td>Off-Peak (Weekend)</td><td>VIP Experience</td><td>18-24</td><td>2025-01-13</td></tr><tr><td>104</td><td>1</td><td>4.89722753599491000</td><td>614.94</td><td>105.9</td><td>6.6</td><td>The Incredible Hulk Coaster</td><td>Solo</td><td>Peak (Summer)</td><td>Multi-Day</td><td>18-24</td><td>2025-04-13</td></tr><tr><td>105</td><td>0</td><td>11.79335648598701500</td><td>1503.73</td><td>51.0</td><td>5.6</td><td>The Incredible Hulk Coaster</td><td>Couple</td><td>Peak (Summer)</td><td>Multi-Day</td><td>55+</td><td>2024-10-17</td></tr><tr><td>106</td><td>1</td><td>19.42939697737526200</td><td>506.44</td><td>86.3</td><td>8.5</td><td>Transformers: The Ride</td><td>Friends (3-4)</td><td>Off-Peak (Weekday)</td><td>Multi-Day</td><td>35-44</td><td>2025-04-19</td></tr><tr><td>107</td><td>0</td><td>7.83956785187730500</td><td>738.20</td><td>17.9</td><td>7.4</td><td>Harry Potter and the Escape</td><td>Large Group (5+)</td><td>Off-Peak (Weekday)</td><td>Multi-Day</td><td>25-34</td><td>2025-02-12</td></tr><tr><td>108</td><td>1</td><td>20.96937824701544500</td><td>986.83</td><td>60.7</td><td>7.5</td><td>Transformers: The Ride</td><td>Couple</td><td>Peak (Holiday)</td><td>One-Day</td><td>18-24</td><td>2025-02-23</td></tr><tr><td>109</td><td>0</td><td>20.20465177685173700</td><td>1106.82</td><td>44.1</td><td>4.9</td><td>The Incredible Hulk Coaster</td><td>Solo</td><td>Off-Peak (Weekend)</td><td>One-Day</td><td>18-24</td><td>2025-05-26</td></tr><tr><td>110</td><td>1</td><td>1.23152291491457200</td><td>1048.60</td><td>52.7</td><td>3.7</td><td>Hagrid's Magical Creatures Motorbike Adventure</td><td>Family (2 adults)</td><td>Off-Peak (Weekend)</td><td>One-Day</td><td>35-44</td><td>2025-01-23</td></tr><tr><td>111</td><td>0</td><td>0.81885177746611800</td><td>960.58</td><td>28.0</td><td>4.0</td><td>Transformers: The Ride</td><td>Family (2 adults)</td><td>Peak (Holiday)</td><td>Multi-Day</td><td>45-54</td><td>2025-04-11</td></tr><tr><td>112</td><td>0</td><td>5.47681129382270800</td><td>503.97</td><td>32.9</td><td>7.2</td><td>Hagrid's Magical Creatures Motorbike Adventure</td><td>Family (2 adults)</td><td>Off-Peak (Weekend)</td><td>Annual Pass</td><td>25-34</td><td>2024-12-31</td></tr><tr><td>113</td><td>1</td><td>14.59806444699379200</td><td>810.25</td><td>26.8</td><td>5.9</td><td>Spider-Man Ride</td><td>Friends (3-4)</td><td>Off-Peak (Weekday)</td><td>VIP Experience</td><td>18-24</td><td>2024-11-23</td></tr><tr><td>114</td><td>1</td><td>15.41266764216666000</td><td>1123.60</td><td>50.2</td><td>7.3</td><td>Revenge of the Mummy</td><td>Family (2 adults)</td><td>Peak (Holiday)</td><td>VIP Experience</td><td>45-54</td><td>2024-08-14</td></tr><tr><td>115</td><td>1</td><td>13.96996470742708500</td><td>744.17</td><td>46.1</td><td>3.3</td><td>Harry Potter and the Escape</td><td>Solo</td><td>Off-Peak (Weekday)</td><td>VIP Experience</td><td>45-54</td><td>2025-01-14</td></tr><tr><td>116</td><td>0</td><td>3.12725847161487460</td><td>744.72</td><td>44.4</td><td>2.6</td><td>Transformers: The Ride</td><td>Family (2+2)</td><td>Off-Peak (Weekend)</td><td>Annual Pass</td><td>45-54</td><td>2024-07-07</td></tr><tr><td>117</td><td>0</td><td>12.68294021045099600</td><td>990.15</td><td>44.5</td><td>5.1</td><td>Revenge of the Mummy</td><td>Couple</td><td>Off-Peak (Weekday)</td><td>Multi-Day</td><td>25-34</td><td>2024-07-22</td></tr><tr><td>118</td><td>0</td><td>27.19676503998944700</td><td>692.84</td><td>33.0</td><td>6.7</td><td>Hagrid's Magical Creatures Motorbike Adventure</td><td>Large Group (5+)</td><td>Off-Peak (Weekend)</td><td>VIP Experience</td><td>45-54</td><td>2024-11-16</td></tr><tr><td>119</td><td>0</td><td>15.41542512943755100</td><td>689.31</td><td>65.3</td><td>7.1</td><td>Hagrid's Magical Creatures Motorbike Adventure</td><td>Family (2+2)</td><td>Off-Peak (Weekday)</td><td>VIP Experience</td><td>45-54</td><td>2025-02-26</td></tr><tr><td>120</td><td>1</td><td>27.58594156535410000</td><td>657.29</td><td>82.3</td><td>8.3</td><td>Harry Potter and the Escape</td><td>Couple</td><td>Peak (Summer)</td><td>One-Day</td><td>18-24</td><td>2025-06-12</td></tr><tr><td>121</td><td>0</td><td>31.53477609229939600</td><td>438.13</td><td>27.3</td><td>4.0</td><td>Hagrid's Magical Creatures Motorbike Adventure</td><td>Large Group (5+)</td><td>Peak (Holiday)</td><td>Multi-Day</td><td>55+</td><td>2024-08-15</td></tr><tr><td>122</td><td>0</td><td>2.49475331486439830</td><td>783.69</td><td>40.2</td><td>8.1</td><td>Revenge of the Mummy</td><td>Couple</td><td>Peak (Summer)</td><td>One-Day</td><td>35-44</td><td>2025-05-29</td></tr><tr><td>123</td><td>1</td><td>4.36097252323353900</td><td>107.56</td><td>30.6</td><td>2.7</td><td>Harry Potter and the Escape</td><td>Friends (3-4)</td><td>Off-Peak (Weekday)</td><td>One-Day</td><td>25-34</td><td>2025-05-26</td></tr><tr><td>124</td><td>0</td><td>1.51078809394488060</td><td>1206.79</td><td>81.9</td><td>4.8</td><td>Harry Potter and the Escape</td><td>Large Group (5+)</td><td>Peak (Summer)</td><td>Multi-Day</td><td>35-44</td><td>2024-10-28</td></tr><tr><td>125</td><td>0</td><td>14.05789556346394400</td><td>706.59</td><td>31.8</td><td>8.3</td><td>Hagrid's Magical Creatures Motorbike Adventure</td><td>Large Group (5+)</td><td>Peak (Summer)</td><td>VIP Experience</td><td>25-34</td><td>2024-07-29</td></tr><tr><td>126</td><td>0</td><td>4.56084472742506600</td><td>616.45</td><td>66.8</td><td>3.9</td><td>Transformers: The Ride</td><td>Large Group (5+)</td><td>Off-Peak (Weekday)</td><td>Multi-Day</td><td>25-34</td><td>2025-03-18</td></tr><tr><td>127</td><td>0</td><td>7.51271195303792500</td><td>769.39</td><td>51.5</td><td>4.9</td><td>Jurassic Park River Adventure</td><td>Friends (3-4)</td><td>Peak (Holiday)</td><td>One-Day</td><td>45-54</td><td>2024-11-18</td></tr><tr><td>128</td><td>0</td><td>12.22220593752904900</td><td>278.97</td><td>87.3</td><td>3.0</td><td>Spider-Man Ride</td><td>Family (2 adults)</td><td>Off-Peak (Weekday)</td><td>Annual Pass</td><td>45-54</td><td>2025-06-16</td></tr><tr><td>129</td><td>0</td><td>1.18724312180056120</td><td>1103.93</td><td>34.9</td><td>6.7</td><td>The Incredible Hulk Coaster</td><td>Family (2+2)</td><td>Peak (Holiday)</td><td>VIP Experience</td><td>25-34</td><td>2025-06-05</td></tr><tr><td>130</td><td>1</td><td>15.54646509963961200</td><td>892.80</td><td>52.0</td><td>3.8</td><td>The Incredible Hulk Coaster</td><td>Family (2+2)</td><td>Peak (Summer)</td><td>Annual Pass</td><td>55+</td><td>2025-02-13</td></tr><tr><td>131</td><td>1</td><td>9.50703825439607400</td><td>704.54</td><td>103.2</td><td>6.4</td><td>Jurassic Park River Adventure</td><td>Family (2 adults)</td><td>Off-Peak (Weekend)</td><td>One-Day</td><td>45-54</td><td>2024-07-11</td></tr><tr><td>132</td><td>1</td><td>12.81184802941861000</td><td>759.63</td><td>32.6</td><td>8.1</td><td>Hagrid's Magical Creatures Motorbike Adventure</td><td>Family (2+2)</td><td>Off-Peak (Weekday)</td><td>VIP Experience</td><td>35-44</td><td>2024-12-19</td></tr><tr><td>133</td><td>1</td><td>3.89467885578788660</td><td>1469.63</td><td>60.8</td><td>5.5</td><td>Revenge of the Mummy</td><td>Solo</td><td>Off-Peak (Weekday)</td><td>Annual Pass</td><td>45-54</td><td>2025-01-20</td></tr><tr><td>134</td><td>0</td><td>3.92357792468888500</td><td>1073.16</td><td>34.2</td><td>8.4</td><td>Transformers: The Ride</td><td>Friends (3-4)</td><td>Off-Peak (Weekday)</td><td>VIP Experience</td><td>18-24</td><td>2024-12-30</td></tr><tr><td>135</td><td>0</td><td>10.09661776268121400</td><td>300.57</td><td>39.3</td><td>8.5</td><td>Spider-Man Ride</td><td>Couple</td><td>Peak (Summer)</td><td>Annual Pass</td><td>18-24</td><td>2025-03-23</td></tr><tr><td>136</td><td>0</td><td>23.41898417753090200</td><td>716.88</td><td>49.4</td><td>4.5</td><td>Revenge of the Mummy</td><td>Large Group (5+)</td><td>Off-Peak (Weekend)</td><td>VIP Experience</td><td>45-54</td><td>2024-12-05</td></tr><tr><td>137</td><td>0</td><td>18.98694813412072700</td><td>759.67</td><td>93.5</td><td>3.9</td><td>Harry Potter and the Escape</td><td>Friends (3-4)</td><td>Off-Peak (Weekend)</td><td>Annual Pass</td><td>45-54</td><td>2025-04-29</td></tr><tr><td>138</td><td>0</td><td>18.12961877453990700</td><td>926.97</td><td>67.2</td><td>4.5</td><td>Spider-Man Ride</td><td>Solo</td><td>Off-Peak (Weekend)</td><td>VIP Experience</td><td>45-54</td><td>2024-08-31</td></tr><tr><td>139</td><td>0</td><td>14.35391993405268500</td><td>323.34</td><td>26.1</td><td>5.0</td><td>The Incredible Hulk Coaster</td><td>Large Group (5+)</td><td>Off-Peak (Weekend)</td><td>One-Day</td><td>18-24</td><td>2024-10-05</td></tr><tr><td>140</td><td>0</td><td>21.09403123125824000</td><td>729.97</td><td>46.1</td><td>8.4</td><td>Hagrid's Magical Creatures Motorbike Adventure</td><td>Solo</td><td>Off-Peak (Weekday)</td><td>Annual Pass</td><td>18-24</td><td>2025-02-04</td></tr><tr><td>141</td><td>0</td><td>19.51314749917684600</td><td>725.48</td><td>55.2</td><td>3.1</td><td>Harry Potter and the Escape</td><td>Family (2+2)</td><td>Peak (Summer)</td><td>VIP Experience</td><td>55+</td><td>2024-12-15</td></tr><tr><td>142</td><td>1</td><td>2.86762194709470000</td><td>420.86</td><td>47.1</td><td>3.5</td><td>Jurassic Park River Adventure</td><td>Solo</td><td>Peak (Holiday)</td><td>Annual Pass</td><td>18-24</td><td>2024-07-30</td></tr><tr><td>143</td><td>0</td><td>17.85814626933430200</td><td>795.04</td><td>73.7</td><td>3.5</td><td>Harry Potter and the Escape</td><td>Family (2+2)</td><td>Off-Peak (Weekend)</td><td>One-Day</td><td>45-54</td><td>2024-08-13</td></tr><tr><td>144</td><td>0</td><td>27.49739236051483000</td><td>1063.60</td><td>40.9</td><td>4.1</td><td>Harry Potter and the Escape</td><td>Family (2+2)</td><td>Off-Peak (Weekday)</td><td>Multi-Day</td><td>55+</td><td>2024-10-15</td></tr><tr><td>145</td><td>0</td><td>15.00833108375245600</td><td>1413.68</td><td>57.0</td><td>7.5</td><td>The Incredible Hulk Coaster</td><td>Solo</td><td>Off-Peak (Weekend)</td><td>VIP Experience</td><td>45-54</td><td>2024-12-25</td></tr><tr><td>146</td><td>0</td><td>12.09153614020492600</td><td>969.94</td><td>82.9</td><td>6.0</td><td>Transformers: The Ride</td><td>Solo</td><td>Peak (Holiday)</td><td>Multi-Day</td><td>35-44</td><td>2025-06-04</td></tr><tr><td>147</td><td>0</td><td>16.66255724150119700</td><td>818.09</td><td>84.5</td><td>6.1</td><td>Revenge of the Mummy</td><td>Friends (3-4)</td><td>Off-Peak (Weekend)</td><td>VIP Experience</td><td>55+</td><td>2025-06-09</td></tr><tr><td>148</td><td>0</td><td>20.82911988674400300</td><td>1097.09</td><td>69.8</td><td>6.4</td><td>The Incredible Hulk Coaster</td><td>Family (2 adults)</td><td>Off-Peak (Weekday)</td><td>One-Day</td><td>45-54</td><td>2024-09-04</td></tr><tr><td>149</td><td>0</td><td>7.21050575764697400</td><td>479.56</td><td>53.6</td><td>2.8</td><td>Revenge of the Mummy</td><td>Large Group (5+)</td><td>Off-Peak (Weekend)</td><td>VIP Experience</td><td>35-44</td><td>2025-02-22</td></tr><tr><td>150</td><td>1</td><td>20.32084307361928000</td><td>722.87</td><td>43.5</td><td>4.3</td><td>Jurassic Park River Adventure</td><td>Family (2 adults)</td><td>Peak (Holiday)</td><td>One-Day</td><td>55+</td><td>2024-12-13</td></tr><tr><td>151</td><td>0</td><td>14.86606933029856300</td><td>652.34</td><td>104.1</td><td>2.8</td><td>Transformers: The Ride</td><td>Couple</td><td>Off-Peak (Weekend)</td><td>Annual Pass</td><td>25-34</td><td>2024-09-01</td></tr><tr><td>152</td><td>0</td><td>33.45192163053475000</td><td>964.86</td><td>56.1</td><td>6.9</td><td>Hagrid's Magical Creatures Motorbike Adventure</td><td>Family (2 adults)</td><td>Peak (Summer)</td><td>One-Day</td><td>18-24</td><td>2025-01-09</td></tr><tr><td>153</td><td>0</td><td>4.44140741518824300</td><td>1051.15</td><td>57.7</td><td>3.4</td><td>Transformers: The Ride</td><td>Family (2+2)</td><td>Off-Peak (Weekday)</td><td>One-Day</td><td>45-54</td><td>2024-07-18</td></tr><tr><td>154</td><td>0</td><td>0.59769980798938200</td><td>800.45</td><td>104.0</td><td>6.1</td><td>Revenge of the Mummy</td><td>Family (2 adults)</td><td>Peak (Holiday)</td><td>Multi-Day</td><td>35-44</td><td>2024-12-29</td></tr><tr><td>155</td><td>0</td><td>1.71233795688288780</td><td>577.88</td><td>74.3</td><td>4.7</td><td>Transformers: The Ride</td><td>Couple</td><td>Peak (Holiday)</td><td>One-Day</td><td>18-24</td><td>2025-05-24</td></tr><tr><td>156</td><td>1</td><td>4.07751945647985200</td><td>1087.39</td><td>99.8</td><td>6.4</td><td>The Incredible Hulk Coaster</td><td>Couple</td><td>Off-Peak (Weekday)</td><td>Annual Pass</td><td>55+</td><td>2025-05-14</td></tr><tr><td>157</td><td>1</td><td>0.14787821342448737</td><td>1643.89</td><td>35.8</td><td>5.8</td><td>Revenge of the Mummy</td><td>Solo</td><td>Peak (Summer)</td><td>VIP Experience</td><td>25-34</td><td>2024-11-07</td></tr><tr><td>158</td><td>1</td><td>25.29437230962999000</td><td>284.82</td><td>69.0</td><td>4.6</td><td>Spider-Man Ride</td><td>Family (2+2)</td><td>Peak (Summer)</td><td>Annual Pass</td><td>18-24</td><td>2025-03-12</td></tr><tr><td>159</td><td>1</td><td>2.18078541069456480</td><td>947.47</td><td>87.4</td><td>5.2</td><td>Jurassic Park River Adventure</td><td>Couple</td><td>Off-Peak (Weekday)</td><td>Annual Pass</td><td>45-54</td><td>2025-04-16</td></tr><tr><td>160</td><td>1</td><td>9.75444744258399500</td><td>927.84</td><td>55.0</td><td>4.7</td><td>Spider-Man Ride</td><td>Family (2 adults)</td><td>Peak (Summer)</td><td>Annual Pass</td><td>18-24</td><td>2024-07-20</td></tr><tr><td>161</td><td>0</td><td>11.42071084329764500</td><td>800.22</td><td>72.9</td><td>2.9</td><td>Transformers: The Ride</td><td>Solo</td><td>Off-Peak (Weekday)</td><td>Annual Pass</td><td>45-54</td><td>2024-08-18</td></tr><tr><td>162</td><td>0</td><td>17.95704555457504000</td><td>797.22</td><td>108.1</td><td>6.6</td><td>The Incredible Hulk Coaster</td><td>Family (2 adults)</td><td>Peak (Summer)</td><td>Multi-Day</td><td>45-54</td><td>2025-02-28</td></tr><tr><td>163</td><td>1</td><td>14.46140343285292000</td><td>647.93</td><td>50.3</td><td>3.8</td><td>Jurassic Park River Adventure</td><td>Couple</td><td>Peak (Summer)</td><td>One-Day</td><td>25-34</td><td>2024-08-14</td></tr><tr><td>164</td><td>0</td><td>12.14513401107165800</td><td>1258.86</td><td>70.5</td><td>2.9</td><td>The Incredible Hulk Coaster</td><td>Family (2 adults)</td><td>Off-Peak (Weekday)</td><td>VIP Experience</td><td>18-24</td><td>2025-01-17</td></tr><tr><td>165</td><td>0</td><td>11.04486343022857000</td><td>903.10</td><td>38.3</td><td>4.5</td><td>Spider-Man Ride</td><td>Couple</td><td>Peak (Holiday)</td><td>Annual Pass</td><td>55+</td><td>2024-08-24</td></tr><tr><td>166</td><td>0</td><td>16.68610813764931000</td><td>1026.13</td><td>73.3</td><td>6.2</td><td>The Incredible Hulk Coaster</td><td>Large Group (5+)</td><td>Peak (Summer)</td><td>VIP Experience</td><td>25-34</td><td>2025-01-24</td></tr><tr><td>167</td><td>0</td><td>6.43036493705232550</td><td>357.83</td><td>100.2</td><td>4.0</td><td>Jurassic Park River Adventure</td><td>Solo</td><td>Peak (Summer)</td><td>VIP Experience</td><td>35-44</td><td>2025-03-14</td></tr><tr><td>168</td><td>0</td><td>3.41739224939090840</td><td>702.17</td><td>34.6</td><td>2.9</td><td>Harry Potter and the Escape</td><td>Friends (3-4)</td><td>Off-Peak (Weekend)</td><td>Multi-Day</td><td>55+</td><td>2025-03-06</td></tr><tr><td>169</td><td>0</td><td>17.96752370826965600</td><td>883.39</td><td>77.7</td><td>4.4</td><td>Jurassic Park River Adventure</td><td>Family (2+2)</td><td>Peak (Holiday)</td><td>Annual Pass</td><td>25-34</td><td>2025-03-17</td></tr><tr><td>170</td><td>1</td><td>5.65437396748047400</td><td>1064.01</td><td>94.7</td><td>5.5</td><td>Hagrid's Magical Creatures Motorbike Adventure</td><td>Large Group (5+)</td><td>Peak (Holiday)</td><td>Annual Pass</td><td>55+</td><td>2024-12-14</td></tr><tr><td>171</td><td>0</td><td>3.09444378578889800</td><td>764.03</td><td>104.7</td><td>3.6</td><td>Revenge of the Mummy</td><td>Family (2 adults)</td><td>Off-Peak (Weekday)</td><td>One-Day</td><td>45-54</td><td>2025-03-13</td></tr><tr><td>172</td><td>1</td><td>6.59712888877966600</td><td>1333.48</td><td>44.4</td><td>2.6</td><td>Transformers: The Ride</td><td>Friends (3-4)</td><td>Peak (Holiday)</td><td>Multi-Day</td><td>45-54</td><td>2024-08-03</td></tr><tr><td>173</td><td>0</td><td>5.66657035183462100</td><td>808.35</td><td>50.4</td><td>3.6</td><td>Revenge of the Mummy</td><td>Family (2 adults)</td><td>Off-Peak (Weekend)</td><td>Annual Pass</td><td>45-54</td><td>2025-02-04</td></tr><tr><td>174</td><td>1</td><td>15.13612253489377200</td><td>718.17</td><td>18.1</td><td>8.2</td><td>Revenge of the Mummy</td><td>Friends (3-4)</td><td>Peak (Holiday)</td><td>Annual Pass</td><td>18-24</td><td>2025-01-30</td></tr><tr><td>175</td><td>0</td><td>1.53482664156949440</td><td>1466.81</td><td>39.6</td><td>3.3</td><td>Hagrid's Magical Creatures Motorbike Adventure</td><td>Couple</td><td>Peak (Summer)</td><td>Annual Pass</td><td>45-54</td><td>2025-01-09</td></tr><tr><td>176</td><td>0</td><td>7.37471031751943900</td><td>1166.31</td><td>43.0</td><td>3.8</td><td>Harry Potter and the Escape</td><td>Family (2+2)</td><td>Peak (Holiday)</td><td>VIP Experience</td><td>35-44</td><td>2025-03-28</td></tr><tr><td>177</td><td>0</td><td>1.35606929215033430</td><td>184.46</td><td>67.2</td><td>5.0</td><td>Harry Potter and the Escape</td><td>Couple</td><td>Off-Peak (Weekend)</td><td>One-Day</td><td>25-34</td><td>2024-07-13</td></tr><tr><td>178</td><td>1</td><td>0.38894884681429710</td><td>1062.65</td><td>71.4</td><td>5.6</td><td>Spider-Man Ride</td><td>Solo</td><td>Off-Peak (Weekday)</td><td>One-Day</td><td>18-24</td><td>2024-06-18</td></tr><tr><td>179</td><td>0</td><td>9.39113229432131300</td><td>961.26</td><td>100.2</td><td>7.3</td><td>Transformers: The Ride</td><td>Solo</td><td>Off-Peak (Weekday)</td><td>Annual Pass</td><td>45-54</td><td>2024-10-26</td></tr><tr><td>180</td><td>0</td><td>2.29741367724722000</td><td>1080.27</td><td>84.3</td><td>7.2</td><td>Jurassic Park River Adventure</td><td>Solo</td><td>Peak (Holiday)</td><td>One-Day</td><td>45-54</td><td>2024-08-29</td></tr><tr><td>181</td><td>1</td><td>3.34691303937222600</td><td>644.40</td><td>17.3</td><td>6.5</td><td>Spider-Man Ride</td><td>Solo</td><td>Off-Peak (Weekend)</td><td>Multi-Day</td><td>18-24</td><td>2024-09-21</td></tr><tr><td>182</td><td>0</td><td>12.85743902411906900</td><td>682.85</td><td>51.6</td><td>6.3</td><td>Hagrid's Magical Creatures Motorbike Adventure</td><td>Solo</td><td>Peak (Summer)</td><td>Multi-Day</td><td>35-44</td><td>2024-07-29</td></tr><tr><td>183</td><td>0</td><td>0.71022176597071120</td><td>1003.01</td><td>69.1</td><td>4.0</td><td>Hagrid's Magical Creatures Motorbike Adventure</td><td>Family (2+2)</td><td>Off-Peak (Weekend)</td><td>VIP Experience</td><td>35-44</td><td>2024-12-29</td></tr><tr><td>184</td><td>0</td><td>17.43217881390745000</td><td>1250.98</td><td>17.5</td><td>8.4</td><td>Spider-Man Ride</td><td>Family (2 adults)</td><td>Peak (Holiday)</td><td>One-Day</td><td>35-44</td><td>2025-03-03</td></tr><tr><td>185</td><td>1</td><td>1.19767551384361400</td><td>1527.42</td><td>47.8</td><td>7.6</td><td>Transformers: The Ride</td><td>Large Group (5+)</td><td>Peak (Summer)</td><td>Annual Pass</td><td>55+</td><td>2025-02-19</td></tr><tr><td>186</td><td>0</td><td>34.25613784420370000</td><td>845.10</td><td>79.9</td><td>3.5</td><td>The Incredible Hulk Coaster</td><td>Family (2+2)</td><td>Off-Peak (Weekend)</td><td>Multi-Day</td><td>45-54</td><td>2024-12-05</td></tr><tr><td>187</td><td>0</td><td>0.72661520957638350</td><td>351.74</td><td>89.3</td><td>6.8</td><td>The Incredible Hulk Coaster</td><td>Family (2+2)</td><td>Peak (Holiday)</td><td>Multi-Day</td><td>45-54</td><td>2025-01-16</td></tr><tr><td>188</td><td>0</td><td>14.48377277499449900</td><td>286.16</td><td>52.5</td><td>8.5</td><td>Jurassic Park River Adventure</td><td>Couple</td><td>Peak (Summer)</td><td>Annual Pass</td><td>35-44</td><td>2024-08-14</td></tr><tr><td>189</td><td>1</td><td>23.79226192069952400</td><td>738.22</td><td>64.2</td><td>7.2</td><td>The Incredible Hulk Coaster</td><td>Couple</td><td>Off-Peak (Weekend)</td><td>VIP Experience</td><td>18-24</td><td>2024-09-06</td></tr><tr><td>190</td><td>0</td><td>5.80689388449755500</td><td>936.74</td><td>58.2</td><td>6.0</td><td>Transformers: The Ride</td><td>Friends (3-4)</td><td>Peak (Holiday)</td><td>One-Day</td><td>18-24</td><td>2024-11-27</td></tr><tr><td>191</td><td>0</td><td>39.16720343492834600</td><td>1075.84</td><td>50.9</td><td>6.5</td><td>Hagrid's Magical Creatures Motorbike Adventure</td><td>Large Group (5+)</td><td>Peak (Summer)</td><td>Multi-Day</td><td>35-44</td><td>2025-04-06</td></tr><tr><td>192</td><td>0</td><td>21.22040919219550400</td><td>608.10</td><td>53.9</td><td>2.8</td><td>Revenge of the Mummy</td><td>Solo</td><td>Peak (Holiday)</td><td>Annual Pass</td><td>18-24</td><td>2024-09-28</td></tr><tr><td>193</td><td>0</td><td>3.28311984418282500</td><td>297.39</td><td>78.3</td><td>6.5</td><td>Hagrid's Magical Creatures Motorbike Adventure</td><td>Friends (3-4)</td><td>Off-Peak (Weekday)</td><td>Annual Pass</td><td>55+</td><td>2024-11-26</td></tr><tr><td>194</td><td>0</td><td>5.91415718988781200</td><td>608.29</td><td>34.8</td><td>5.1</td><td>Revenge of the Mummy</td><td>Solo</td><td>Peak (Holiday)</td><td>One-Day</td><td>25-34</td><td>2025-03-20</td></tr><tr><td>195</td><td>0</td><td>8.10287166670773500</td><td>1072.47</td><td>79.3</td><td>5.8</td><td>Transformers: The Ride</td><td>Solo</td><td>Peak (Holiday)</td><td>Annual Pass</td><td>25-34</td><td>2025-01-29</td></tr><tr><td>196</td><td>0</td><td>10.90340353490578300</td><td>669.99</td><td>50.7</td><td>3.7</td><td>Revenge of the Mummy</td><td>Family (2 adults)</td><td>Peak (Summer)</td><td>Multi-Day</td><td>25-34</td><td>2024-11-18</td></tr><tr><td>197</td><td>0</td><td>2.99376320093841470</td><td>1074.06</td><td>12.3</td><td>6.2</td><td>Transformers: The Ride</td><td>Couple</td><td>Peak (Holiday)</td><td>VIP Experience</td><td>55+</td><td>2024-07-15</td></tr><tr><td>198</td><td>0</td><td>28.77553153640660400</td><td>473.06</td><td>38.2</td><td>7.2</td><td>Harry Potter and the Escape</td><td>Couple</td><td>Peak (Holiday)</td><td>VIP Experience</td><td>25-34</td><td>2025-05-15</td></tr><tr><td>199</td><td>0</td><td>2.01180511146419900</td><td>1252.86</td><td>86.0</td><td>5.9</td><td>Revenge of the Mummy</td><td>Family (2 adults)</td><td>Off-Peak (Weekday)</td><td>VIP Experience</td><td>35-44</td><td>2024-11-10</td></tr><tr><td>200</td><td>1</td><td>14.68165194263938700</td><td>1222.81</td><td>34.6</td><td>6.1</td><td>Harry Potter and the Escape</td><td>Couple</td><td>Peak (Holiday)</td><td>Annual Pass</td><td>45-54</td><td>2024-09-14</td></tr><tr><td>201</td><td>0</td><td>5.63883127581621050</td><td>1058.04</td><td>64.3</td><td>6.7</td><td>Transformers: The Ride</td><td>Solo</td><td>Off-Peak (Weekend)</td><td>One-Day</td><td>45-54</td><td>2025-06-06</td></tr><tr><td>202</td><td>0</td><td>10.27324574220778300</td><td>1407.53</td><td>68.9</td><td>5.4</td><td>Revenge of the Mummy</td><td>Couple</td><td>Peak (Summer)</td><td>One-Day</td><td>25-34</td><td>2025-05-05</td></tr><tr><td>203</td><td>1</td><td>4.93233051060430900</td><td>922.60</td><td>97.2</td><td>5.8</td><td>Spider-Man Ride</td><td>Friends (3-4)</td><td>Off-Peak (Weekend)</td><td>Annual Pass</td><td>35-44</td><td>2025-05-22</td></tr><tr><td>204</td><td>1</td><td>18.10732108211295400</td><td>844.83</td><td>66.3</td><td>6.7</td><td>Jurassic Park River Adventure</td><td>Couple</td><td>Peak (Summer)</td><td>One-Day</td><td>35-44</td><td>2024-08-04</td></tr><tr><td>205</td><td>0</td><td>11.53500298876320300</td><td>671.62</td><td>109.5</td><td>6.0</td><td>Transformers: The Ride</td><td>Solo</td><td>Peak (Summer)</td><td>Annual Pass</td><td>55+</td><td>2025-02-27</td></tr><tr><td>206</td><td>0</td><td>16.77759500448348000</td><td>975.73</td><td>59.2</td><td>7.6</td><td>Transformers: The Ride</td><td>Family (2+2)</td><td>Off-Peak (Weekday)</td><td>VIP Experience</td><td>35-44</td><td>2024-07-25</td></tr><tr><td>207</td><td>0</td><td>26.60454959928716000</td><td>1204.73</td><td>22.8</td><td>4.8</td><td>Jurassic Park River Adventure</td><td>Solo</td><td>Off-Peak (Weekend)</td><td>One-Day</td><td>25-34</td><td>2024-10-12</td></tr><tr><td>208</td><td>0</td><td>15.56066477743356200</td><td>945.14</td><td>35.5</td><td>6.7</td><td>Spider-Man Ride</td><td>Couple</td><td>Peak (Holiday)</td><td>One-Day</td><td>25-34</td><td>2024-08-28</td></tr><tr><td>209</td><td>0</td><td>3.79000826585133400</td><td>547.23</td><td>24.5</td><td>4.8</td><td>Harry Potter and the Escape</td><td>Large Group (5+)</td><td>Off-Peak (Weekday)</td><td>VIP Experience</td><td>25-34</td><td>2024-12-01</td></tr><tr><td>210</td><td>0</td><td>8.17696780960983500</td><td>485.94</td><td>89.3</td><td>8.4</td><td>Jurassic Park River Adventure</td><td>Large Group (5+)</td><td>Off-Peak (Weekend)</td><td>Multi-Day</td><td>35-44</td><td>2025-01-08</td></tr><tr><td>211</td><td>0</td><td>5.23154259751757600</td><td>739.61</td><td>102.0</td><td>8.0</td><td>Harry Potter and the Escape</td><td>Family (2+2)</td><td>Peak (Holiday)</td><td>One-Day</td><td>35-44</td><td>2025-04-02</td></tr><tr><td>212</td><td>1</td><td>13.09581372713153500</td><td>848.27</td><td>38.8</td><td>7.9</td><td>Hagrid's Magical Creatures Motorbike Adventure</td><td>Solo</td><td>Off-Peak (Weekend)</td><td>One-Day</td><td>45-54</td><td>2025-01-28</td></tr><tr><td>213</td><td>1</td><td>9.49577114080307200</td><td>953.76</td><td>89.5</td><td>3.3</td><td>Harry Potter and the Escape</td><td>Large Group (5+)</td><td>Peak (Summer)</td><td>Annual Pass</td><td>25-34</td><td>2024-10-21</td></tr><tr><td>214</td><td>1</td><td>21.83590917625404000</td><td>1464.20</td><td>65.3</td><td>2.8</td><td>Transformers: The Ride</td><td>Friends (3-4)</td><td>Off-Peak (Weekend)</td><td>VIP Experience</td><td>55+</td><td>2025-05-27</td></tr><tr><td>215</td><td>1</td><td>6.20823091312840300</td><td>256.87</td><td>80.4</td><td>7.8</td><td>Hagrid's Magical Creatures Motorbike Adventure</td><td>Family (2 adults)</td><td>Off-Peak (Weekend)</td><td>Multi-Day</td><td>55+</td><td>2025-04-08</td></tr><tr><td>216</td><td>0</td><td>16.99634583802098600</td><td>415.75</td><td>90.0</td><td>4.1</td><td>Harry Potter and the Escape</td><td>Family (2 adults)</td><td>Off-Peak (Weekend)</td><td>One-Day</td><td>45-54</td><td>2024-11-13</td></tr><tr><td>217</td><td>1</td><td>2.00634960166616950</td><td>933.25</td><td>40.6</td><td>5.2</td><td>Transformers: The Ride</td><td>Large Group (5+)</td><td>Peak (Summer)</td><td>One-Day</td><td>35-44</td><td>2025-05-31</td></tr><tr><td>218</td><td>0</td><td>13.13669606288261700</td><td>1047.92</td><td>97.8</td><td>3.4</td><td>The Incredible Hulk Coaster</td><td>Solo</td><td>Peak (Holiday)</td><td>VIP Experience</td><td>25-34</td><td>2024-09-09</td></tr><tr><td>219</td><td>0</td><td>35.67438810567633000</td><td>748.73</td><td>33.2</td><td>8.3</td><td>Harry Potter and the Escape</td><td>Solo</td><td>Off-Peak (Weekday)</td><td>VIP Experience</td><td>55+</td><td>2025-05-05</td></tr><tr><td>220</td><td>0</td><td>14.52398609102646900</td><td>634.78</td><td>47.2</td><td>7.3</td><td>Jurassic Park River Adventure</td><td>Friends (3-4)</td><td>Off-Peak (Weekday)</td><td>VIP Experience</td><td>45-54</td><td>2025-02-12</td></tr><tr><td>221</td><td>0</td><td>10.73480220293304700</td><td>1447.69</td><td>47.5</td><td>2.7</td><td>Spider-Man Ride</td><td>Friends (3-4)</td><td>Peak (Holiday)</td><td>Annual Pass</td><td>18-24</td><td>2025-04-28</td></tr><tr><td>222</td><td>0</td><td>10.22669202900859500</td><td>1288.18</td><td>51.5</td><td>5.2</td><td>Spider-Man Ride</td><td>Solo</td><td>Off-Peak (Weekend)</td><td>One-Day</td><td>45-54</td><td>2024-06-18</td></tr><tr><td>223</td><td>1</td><td>22.34914507508308000</td><td>671.84</td><td>35.1</td><td>6.6</td><td>Jurassic Park River Adventure</td><td>Family (2 adults)</td><td>Off-Peak (Weekend)</td><td>Multi-Day</td><td>35-44</td><td>2024-11-21</td></tr><tr><td>224</td><td>1</td><td>7.98816485457213000</td><td>927.85</td><td>57.7</td><td>6.1</td><td>Revenge of the Mummy</td><td>Family (2+2)</td><td>Peak (Holiday)</td><td>Annual Pass</td><td>35-44</td><td>2025-06-07</td></tr><tr><td>225</td><td>0</td><td>14.46098356580473300</td><td>807.43</td><td>79.6</td><td>4.0</td><td>Jurassic Park River Adventure</td><td>Solo</td><td>Off-Peak (Weekend)</td><td>Annual Pass</td><td>35-44</td><td>2025-06-12</td></tr><tr><td>226</td><td>0</td><td>7.51792282135596600</td><td>840.49</td><td>52.2</td><td>7.9</td><td>Harry Potter and the Escape</td><td>Family (2 adults)</td><td>Peak (Summer)</td><td>Multi-Day</td><td>55+</td><td>2024-08-20</td></tr><tr><td>227</td><td>0</td><td>18.68615952145710700</td><td>552.41</td><td>114.2</td><td>7.0</td><td>The Incredible Hulk Coaster</td><td>Large Group (5+)</td><td>Off-Peak (Weekend)</td><td>Annual Pass</td><td>35-44</td><td>2025-04-18</td></tr><tr><td>228</td><td>1</td><td>27.77994832108063500</td><td>1172.39</td><td>45.9</td><td>3.1</td><td>Spider-Man Ride</td><td>Family (2+2)</td><td>Off-Peak (Weekend)</td><td>One-Day</td><td>55+</td><td>2025-05-03</td></tr><tr><td>229</td><td>0</td><td>35.22166540150483600</td><td>1107.41</td><td>63.7</td><td>3.0</td><td>Spider-Man Ride</td><td>Friends (3-4)</td><td>Off-Peak (Weekend)</td><td>Annual Pass</td><td>45-54</td><td>2024-08-02</td></tr><tr><td>230</td><td>0</td><td>20.07300628171263300</td><td>632.94</td><td>50.2</td><td>7.1</td><td>Harry Potter and the Escape</td><td>Friends (3-4)</td><td>Peak (Summer)</td><td>Annual Pass</td><td>45-54</td><td>2025-03-10</td></tr><tr><td>231</td><td>1</td><td>5.12422760838528650</td><td>1003.14</td><td>87.3</td><td>8.5</td><td>Transformers: The Ride</td><td>Solo</td><td>Off-Peak (Weekday)</td><td>Multi-Day</td><td>25-34</td><td>2025-02-16</td></tr><tr><td>232</td><td>0</td><td>21.71718487389711800</td><td>738.93</td><td>65.4</td><td>7.2</td><td>Spider-Man Ride</td><td>Solo</td><td>Peak (Summer)</td><td>VIP Experience</td><td>45-54</td><td>2025-05-05</td></tr><tr><td>233</td><td>1</td><td>2.15369879066118500</td><td>156.62</td><td>39.9</td><td>5.2</td><td>Revenge of the Mummy</td><td>Friends (3-4)</td><td>Off-Peak (Weekend)</td><td>Annual Pass</td><td>25-34</td><td>2025-04-18</td></tr><tr><td>234</td><td>0</td><td>12.36559030009000700</td><td>544.39</td><td>31.9</td><td>7.9</td><td>The Incredible Hulk Coaster</td><td>Couple</td><td>Off-Peak (Weekend)</td><td>Annual Pass</td><td>45-54</td><td>2025-05-08</td></tr><tr><td>235</td><td>1</td><td>19.69128214691931700</td><td>505.33</td><td>75.5</td><td>4.7</td><td>Revenge of the Mummy</td><td>Friends (3-4)</td><td>Peak (Holiday)</td><td>VIP Experience</td><td>18-24</td><td>2025-04-05</td></tr><tr><td>236</td><td>1</td><td>9.13809085612238200</td><td>812.72</td><td>24.1</td><td>3.1</td><td>Jurassic Park River Adventure</td><td>Solo</td><td>Peak (Summer)</td><td>Multi-Day</td><td>35-44</td><td>2024-09-01</td></tr><tr><td>237</td><td>0</td><td>8.13607024015524300</td><td>249.85</td><td>86.8</td><td>5.4</td><td>Revenge of the Mummy</td><td>Family (2+2)</td><td>Off-Peak (Weekend)</td><td>Multi-Day</td><td>18-24</td><td>2024-09-14</td></tr><tr><td>238</td><td>1</td><td>1.25861288886942600</td><td>639.35</td><td>46.7</td><td>8.3</td><td>Hagrid's Magical Creatures Motorbike Adventure</td><td>Solo</td><td>Peak (Summer)</td><td>Annual Pass</td><td>35-44</td><td>2025-04-20</td></tr><tr><td>239</td><td>0</td><td>8.42817548659106200</td><td>885.93</td><td>39.5</td><td>7.3</td><td>The Incredible Hulk Coaster</td><td>Family (2 adults)</td><td>Off-Peak (Weekend)</td><td>VIP Experience</td><td>25-34</td><td>2025-06-14</td></tr><tr><td>240</td><td>0</td><td>0.83141862753656360</td><td>973.08</td><td>31.5</td><td>3.7</td><td>Harry Potter and the Escape</td><td>Family (2 adults)</td><td>Off-Peak (Weekend)</td><td>One-Day</td><td>25-34</td><td>2024-09-30</td></tr><tr><td>241</td><td>1</td><td>2.32912333429175120</td><td>1720.02</td><td>77.3</td><td>8.3</td><td>Transformers: The Ride</td><td>Large Group (5+)</td><td>Off-Peak (Weekday)</td><td>VIP Experience</td><td>55+</td><td>2025-02-02</td></tr><tr><td>242</td><td>0</td><td>8.33393456878443600</td><td>899.15</td><td>44.5</td><td>3.4</td><td>The Incredible Hulk Coaster</td><td>Couple</td><td>Off-Peak (Weekday)</td><td>VIP Experience</td><td>18-24</td><td>2024-07-23</td></tr><tr><td>243</td><td>1</td><td>14.11404007311342700</td><td>1277.86</td><td>38.6</td><td>6.1</td><td>Jurassic Park River Adventure</td><td>Family (2+2)</td><td>Peak (Summer)</td><td>Multi-Day</td><td>18-24</td><td>2025-06-02</td></tr><tr><td>244</td><td>1</td><td>7.75405285341679650</td><td>1007.54</td><td>69.6</td><td>7.7</td><td>Spider-Man Ride</td><td>Large Group (5+)</td><td>Peak (Summer)</td><td>VIP Experience</td><td>45-54</td><td>2024-08-03</td></tr><tr><td>245</td><td>1</td><td>29.24494121852700300</td><td>1091.02</td><td>43.2</td><td>3.8</td><td>Harry Potter and the Escape</td><td>Family (2+2)</td><td>Peak (Summer)</td><td>Multi-Day</td><td>35-44</td><td>2025-02-02</td></tr><tr><td>246</td><td>1</td><td>16.39178948508067200</td><td>1227.92</td><td>36.8</td><td>8.3</td><td>Transformers: The Ride</td><td>Solo</td><td>Peak (Summer)</td><td>One-Day</td><td>55+</td><td>2024-08-23</td></tr><tr><td>247</td><td>0</td><td>26.99723219365902300</td><td>647.25</td><td>24.3</td><td>6.2</td><td>Jurassic Park River Adventure</td><td>Solo</td><td>Off-Peak (Weekday)</td><td>One-Day</td><td>35-44</td><td>2025-01-01</td></tr><tr><td>248</td><td>0</td><td>2.79954082882150000</td><td>486.48</td><td>84.5</td><td>6.8</td><td>Revenge of the Mummy</td><td>Family (2+2)</td><td>Peak (Holiday)</td><td>Annual Pass</td><td>45-54</td><td>2024-07-04</td></tr><tr><td>249</td><td>0</td><td>2.85486955998859630</td><td>1119.86</td><td>37.8</td><td>3.2</td><td>Spider-Man Ride</td><td>Family (2 adults)</td><td>Peak (Summer)</td><td>One-Day</td><td>35-44</td><td>2025-03-21</td></tr><tr><td>250</td><td>0</td><td>28.34933645585794400</td><td>851.68</td><td>54.4</td><td>6.0</td><td>Hagrid's Magical Creatures Motorbike Adventure</td><td>Solo</td><td>Peak (Holiday)</td><td>Multi-Day</td><td>18-24</td><td>2024-09-02</td></tr><tr><td>251</td><td>0</td><td>20.36647412015199500</td><td>1035.72</td><td>36.2</td><td>5.5</td><td>Harry Potter and the Escape</td><td>Family (2+2)</td><td>Peak (Summer)</td><td>Annual Pass</td><td>45-54</td><td>2024-08-10</td></tr><tr><td>252</td><td>1</td><td>18.01294875142559300</td><td>1221.98</td><td>50.8</td><td>5.6</td><td>Harry Potter and the Escape</td><td>Family (2 adults)</td><td>Off-Peak (Weekday)</td><td>Multi-Day</td><td>25-34</td><td>2025-02-21</td></tr><tr><td>253</td><td>1</td><td>5.48881780244490600</td><td>1568.49</td><td>48.7</td><td>3.6</td><td>Revenge of the Mummy</td><td>Family (2 adults)</td><td>Peak (Summer)</td><td>VIP Experience</td><td>25-34</td><td>2025-01-10</td></tr><tr><td>254</td><td>1</td><td>28.63093924152787300</td><td>496.29</td><td>20.8</td><td>4.0</td><td>Hagrid's Magical Creatures Motorbike Adventure</td><td>Couple</td><td>Off-Peak (Weekend)</td><td>Multi-Day</td><td>25-34</td><td>2024-09-13</td></tr><tr><td>255</td><td>0</td><td>5.53937671612158800</td><td>854.29</td><td>38.5</td><td>4.1</td><td>Revenge of the Mummy</td><td>Large Group (5+)</td><td>Off-Peak (Weekday)</td><td>One-Day</td><td>25-34</td><td>2024-10-21</td></tr><tr><td>256</td><td>0</td><td>9.49519798769507200</td><td>364.81</td><td>77.3</td><td>3.8</td><td>Harry Potter and the Escape</td><td>Family (2+2)</td><td>Peak (Summer)</td><td>Annual Pass</td><td>25-34</td><td>2024-09-28</td></tr><tr><td>257</td><td>0</td><td>30.09969819281277700</td><td>1202.70</td><td>73.4</td><td>5.9</td><td>Transformers: The Ride</td><td>Large Group (5+)</td><td>Peak (Holiday)</td><td>One-Day</td><td>25-34</td><td>2025-05-08</td></tr><tr><td>258</td><td>0</td><td>20.56935906653083300</td><td>641.81</td><td>46.1</td><td>7.3</td><td>Jurassic Park River Adventure</td><td>Family (2 adults)</td><td>Off-Peak (Weekend)</td><td>Multi-Day</td><td>45-54</td><td>2024-09-01</td></tr><tr><td>259</td><td>0</td><td>30.24937715950231600</td><td>1294.22</td><td>91.5</td><td>4.0</td><td>Spider-Man Ride</td><td>Large Group (5+)</td><td>Off-Peak (Weekday)</td><td>Annual Pass</td><td>18-24</td><td>2025-01-13</td></tr><tr><td>260</td><td>0</td><td>17.24449254374301000</td><td>582.57</td><td>87.0</td><td>4.0</td><td>Transformers: The Ride</td><td>Family (2+2)</td><td>Peak (Holiday)</td><td>Annual Pass</td><td>45-54</td><td>2025-05-01</td></tr><tr><td>261</td><td>0</td><td>6.19167437330665200</td><td>533.38</td><td>85.2</td><td>6.1</td><td>Revenge of the Mummy</td><td>Solo</td><td>Off-Peak (Weekend)</td><td>Annual Pass</td><td>18-24</td><td>2024-11-01</td></tr><tr><td>262</td><td>1</td><td>26.34415670497778000</td><td>879.52</td><td>41.5</td><td>8.1</td><td>The Incredible Hulk Coaster</td><td>Family (2 adults)</td><td>Off-Peak (Weekday)</td><td>One-Day</td><td>18-24</td><td>2024-07-01</td></tr><tr><td>263</td><td>0</td><td>13.58365515730573500</td><td>699.06</td><td>57.4</td><td>7.3</td><td>Harry Potter and the Escape</td><td>Family (2+2)</td><td>Off-Peak (Weekday)</td><td>VIP Experience</td><td>18-24</td><td>2024-09-30</td></tr><tr><td>264</td><td>0</td><td>12.04491705130078000</td><td>628.41</td><td>63.3</td><td>8.2</td><td>The Incredible Hulk Coaster</td><td>Family (2 adults)</td><td>Peak (Summer)</td><td>One-Day</td><td>35-44</td><td>2025-04-18</td></tr><tr><td>265</td><td>0</td><td>12.37718923656136600</td><td>574.72</td><td>54.4</td><td>6.1</td><td>Jurassic Park River Adventure</td><td>Large Group (5+)</td><td>Off-Peak (Weekday)</td><td>Annual Pass</td><td>35-44</td><td>2024-10-11</td></tr><tr><td>266</td><td>0</td><td>3.15342791021807500</td><td>982.37</td><td>39.7</td><td>3.1</td><td>Jurassic Park River Adventure</td><td>Solo</td><td>Off-Peak (Weekend)</td><td>One-Day</td><td>35-44</td><td>2024-12-30</td></tr><tr><td>267</td><td>0</td><td>3.29280432757941800</td><td>708.08</td><td>27.9</td><td>6.2</td><td>Jurassic Park River Adventure</td><td>Family (2+2)</td><td>Off-Peak (Weekday)</td><td>VIP Experience</td><td>35-44</td><td>2025-01-17</td></tr><tr><td>268</td><td>0</td><td>8.70128003160199100</td><td>816.41</td><td>77.6</td><td>6.9</td><td>Transformers: The Ride</td><td>Large Group (5+)</td><td>Off-Peak (Weekend)</td><td>Annual Pass</td><td>25-34</td><td>2024-08-13</td></tr><tr><td>269</td><td>0</td><td>13.81402144335294600</td><td>603.47</td><td>49.5</td><td>5.2</td><td>Harry Potter and the Escape</td><td>Solo</td><td>Peak (Holiday)</td><td>One-Day</td><td>18-24</td><td>2024-09-21</td></tr><tr><td>270</td><td>1</td><td>1.61748065755524670</td><td>472.95</td><td>54.7</td><td>4.8</td><td>Jurassic Park River Adventure</td><td>Large Group (5+)</td><td>Off-Peak (Weekend)</td><td>Multi-Day</td><td>35-44</td><td>2024-07-26</td></tr><tr><td>271</td><td>0</td><td>21.92356286575081000</td><td>737.24</td><td>54.9</td><td>5.4</td><td>Revenge of the Mummy</td><td>Solo</td><td>Peak (Holiday)</td><td>VIP Experience</td><td>45-54</td><td>2024-07-16</td></tr><tr><td>272</td><td>0</td><td>0.80795349208240070</td><td>450.49</td><td>42.3</td><td>5.6</td><td>Hagrid's Magical Creatures Motorbike Adventure</td><td>Friends (3-4)</td><td>Peak (Summer)</td><td>Annual Pass</td><td>45-54</td><td>2024-12-13</td></tr><tr><td>273</td><td>0</td><td>14.85644597794262500</td><td>553.12</td><td>40.9</td><td>2.7</td><td>Spider-Man Ride</td><td>Couple</td><td>Off-Peak (Weekend)</td><td>Annual Pass</td><td>25-34</td><td>2024-09-04</td></tr><tr><td>274</td><td>1</td><td>21.39265589571142000</td><td>664.02</td><td>70.3</td><td>6.3</td><td>Revenge of the Mummy</td><td>Large Group (5+)</td><td>Peak (Holiday)</td><td>VIP Experience</td><td>18-24</td><td>2024-06-28</td></tr><tr><td>275</td><td>1</td><td>7.03180847870670800</td><td>633.27</td><td>63.9</td><td>6.7</td><td>Spider-Man Ride</td><td>Solo</td><td>Off-Peak (Weekend)</td><td>One-Day</td><td>55+</td><td>2024-10-29</td></tr><tr><td>276</td><td>0</td><td>27.85973542415686700</td><td>885.84</td><td>79.3</td><td>3.2</td><td>Jurassic Park River Adventure</td><td>Friends (3-4)</td><td>Peak (Holiday)</td><td>Annual Pass</td><td>25-34</td><td>2024-11-16</td></tr><tr><td>277</td><td>1</td><td>10.56797088079475300</td><td>1062.30</td><td>82.7</td><td>5.6</td><td>Hagrid's Magical Creatures Motorbike Adventure</td><td>Couple</td><td>Peak (Holiday)</td><td>Multi-Day</td><td>35-44</td><td>2024-12-11</td></tr><tr><td>278</td><td>0</td><td>1.48566529214837800</td><td>1402.91</td><td>56.0</td><td>5.6</td><td>Harry Potter and the Escape</td><td>Couple</td><td>Peak (Holiday)</td><td>Multi-Day</td><td>18-24</td><td>2025-05-11</td></tr><tr><td>279</td><td>0</td><td>4.09010143046310500</td><td>310.56</td><td>78.3</td><td>4.7</td><td>Revenge of the Mummy</td><td>Family (2+2)</td><td>Peak (Holiday)</td><td>Multi-Day</td><td>35-44</td><td>2024-12-21</td></tr><tr><td>280</td><td>0</td><td>8.81976678758951700</td><td>534.57</td><td>72.8</td><td>4.5</td><td>Revenge of the Mummy</td><td>Family (2 adults)</td><td>Off-Peak (Weekend)</td><td>Multi-Day</td><td>55+</td><td>2025-06-07</td></tr><tr><td>281</td><td>1</td><td>23.76565238654475000</td><td>688.59</td><td>69.7</td><td>2.8</td><td>Transformers: The Ride</td><td>Large Group (5+)</td><td>Off-Peak (Weekday)</td><td>Multi-Day</td><td>45-54</td><td>2025-05-23</td></tr><tr><td>282</td><td>0</td><td>0.09027993616313634</td><td>829.25</td><td>43.2</td><td>6.3</td><td>Revenge of the Mummy</td><td>Large Group (5+)</td><td>Off-Peak (Weekend)</td><td>One-Day</td><td>45-54</td><td>2024-07-03</td></tr><tr><td>283</td><td>1</td><td>7.48909094538348100</td><td>600.25</td><td>54.5</td><td>4.4</td><td>Spider-Man Ride</td><td>Large Group (5+)</td><td>Peak (Summer)</td><td>VIP Experience</td><td>25-34</td><td>2024-12-01</td></tr><tr><td>284</td><td>0</td><td>1.60089084455035510</td><td>660.33</td><td>28.8</td><td>8.1</td><td>Spider-Man Ride</td><td>Couple</td><td>Peak (Summer)</td><td>One-Day</td><td>25-34</td><td>2025-01-22</td></tr><tr><td>285</td><td>0</td><td>11.65245467182154300</td><td>663.79</td><td>72.8</td><td>5.2</td><td>Jurassic Park River Adventure</td><td>Friends (3-4)</td><td>Off-Peak (Weekend)</td><td>Annual Pass</td><td>25-34</td><td>2025-02-18</td></tr><tr><td>286</td><td>0</td><td>2.50046301188263160</td><td>998.62</td><td>53.4</td><td>7.5</td><td>Hagrid's Magical Creatures Motorbike Adventure</td><td>Couple</td><td>Off-Peak (Weekend)</td><td>Annual Pass</td><td>55+</td><td>2025-06-15</td></tr><tr><td>287</td><td>1</td><td>6.96638115482861050</td><td>950.77</td><td>99.4</td><td>4.4</td><td>Transformers: The Ride</td><td>Large Group (5+)</td><td>Off-Peak (Weekday)</td><td>VIP Experience</td><td>18-24</td><td>2024-07-04</td></tr><tr><td>288</td><td>0</td><td>6.16639478295624950</td><td>1478.11</td><td>41.0</td><td>6.2</td><td>Harry Potter and the Escape</td><td>Solo</td><td>Off-Peak (Weekend)</td><td>Multi-Day</td><td>55+</td><td>2025-05-26</td></tr><tr><td>289</td><td>0</td><td>20.44555745009660400</td><td>951.49</td><td>56.2</td><td>6.4</td><td>The Incredible Hulk Coaster</td><td>Family (2 adults)</td><td>Peak (Holiday)</td><td>One-Day</td><td>25-34</td><td>2024-08-23</td></tr><tr><td>290</td><td>0</td><td>8.42093600502531100</td><td>1026.51</td><td>86.8</td><td>3.7</td><td>The Incredible Hulk Coaster</td><td>Couple</td><td>Off-Peak (Weekend)</td><td>Annual Pass</td><td>18-24</td><td>2025-02-16</td></tr><tr><td>291</td><td>0</td><td>2.17018634169286170</td><td>759.08</td><td>44.0</td><td>5.3</td><td>Hagrid's Magical Creatures Motorbike Adventure</td><td>Large Group (5+)</td><td>Off-Peak (Weekend)</td><td>Multi-Day</td><td>55+</td><td>2024-12-28</td></tr><tr><td>292</td><td>0</td><td>7.78904290989140100</td><td>392.63</td><td>12.5</td><td>7.6</td><td>Hagrid's Magical Creatures Motorbike Adventure</td><td>Solo</td><td>Off-Peak (Weekend)</td><td>Annual Pass</td><td>35-44</td><td>2025-06-05</td></tr><tr><td>293</td><td>0</td><td>7.61582600751769200</td><td>1283.35</td><td>44.8</td><td>3.8</td><td>The Incredible Hulk Coaster</td><td>Friends (3-4)</td><td>Peak (Holiday)</td><td>Multi-Day</td><td>55+</td><td>2024-10-10</td></tr><tr><td>294</td><td>0</td><td>18.69962490754742400</td><td>738.61</td><td>32.7</td><td>2.6</td><td>Harry Potter and the Escape</td><td>Solo</td><td>Peak (Holiday)</td><td>Annual Pass</td><td>35-44</td><td>2024-10-11</td></tr><tr><td>295</td><td>0</td><td>2.82592466360766540</td><td>542.37</td><td>90.4</td><td>3.6</td><td>The Incredible Hulk Coaster</td><td>Solo</td><td>Peak (Summer)</td><td>Annual Pass</td><td>35-44</td><td>2025-01-13</td></tr><tr><td>296</td><td>1</td><td>11.79621516794997000</td><td>1169.45</td><td>15.2</td><td>5.3</td><td>Spider-Man Ride</td><td>Friends (3-4)</td><td>Peak (Holiday)</td><td>One-Day</td><td>45-54</td><td>2024-12-23</td></tr><tr><td>297</td><td>1</td><td>14.20176430092684100</td><td>677.09</td><td>49.8</td><td>7.7</td><td>Revenge of the Mummy</td><td>Large Group (5+)</td><td>Peak (Summer)</td><td>Multi-Day</td><td>45-54</td><td>2025-02-10</td></tr><tr><td>298</td><td>0</td><td>37.90611365104780400</td><td>829.75</td><td>96.6</td><td>3.6</td><td>The Incredible Hulk Coaster</td><td>Large Group (5+)</td><td>Off-Peak (Weekend)</td><td>Multi-Day</td><td>35-44</td><td>2025-04-08</td></tr><tr><td>299</td><td>1</td><td>12.45044463017209100</td><td>1072.93</td><td>73.4</td><td>3.0</td><td>Hagrid's Magical Creatures Motorbike Adventure</td><td>Large Group (5+)</td><td>Peak (Summer)</td><td>Multi-Day</td><td>35-44</td><td>2025-02-26</td></tr><tr><td>300</td><td>1</td><td>1.65151094821777990</td><td>1020.27</td><td>67.3</td><td>4.5</td><td>Hagrid's Magical Creatures Motorbike Adventure</td><td>Family (2+2)</td><td>Peak (Holiday)</td><td>Annual Pass</td><td>45-54</td><td>2025-02-08</td></tr><tr><td>301</td><td>0</td><td>19.15439620063202500</td><td>702.50</td><td>48.6</td><td>3.3</td><td>Jurassic Park River Adventure</td><td>Solo</td><td>Off-Peak (Weekend)</td><td>Multi-Day</td><td>18-24</td><td>2024-07-20</td></tr><tr><td>302</td><td>0</td><td>14.77599339433868600</td><td>806.43</td><td>43.3</td><td>4.0</td><td>Revenge of the Mummy</td><td>Solo</td><td>Peak (Summer)</td><td>Multi-Day</td><td>18-24</td><td>2024-08-14</td></tr><tr><td>303</td><td>0</td><td>29.64591862233462600</td><td>903.49</td><td>79.1</td><td>5.5</td><td>Revenge of the Mummy</td><td>Family (2 adults)</td><td>Off-Peak (Weekday)</td><td>VIP Experience</td><td>45-54</td><td>2025-04-24</td></tr><tr><td>304</td><td>0</td><td>11.32534440056560700</td><td>874.04</td><td>38.2</td><td>3.3</td><td>Hagrid's Magical Creatures Motorbike Adventure</td><td>Friends (3-4)</td><td>Peak (Holiday)</td><td>Annual Pass</td><td>35-44</td><td>2025-03-12</td></tr><tr><td>305</td><td>0</td><td>30.54308265507339000</td><td>804.37</td><td>47.5</td><td>4.4</td><td>Jurassic Park River Adventure</td><td>Friends (3-4)</td><td>Off-Peak (Weekend)</td><td>VIP Experience</td><td>25-34</td><td>2025-06-17</td></tr><tr><td>306</td><td>0</td><td>19.38959829586097800</td><td>799.58</td><td>34.5</td><td>8.2</td><td>Transformers: The Ride</td><td>Solo</td><td>Peak (Summer)</td><td>Multi-Day</td><td>18-24</td><td>2025-05-04</td></tr><tr><td>307</td><td>1</td><td>17.99723160724641200</td><td>755.79</td><td>55.3</td><td>3.8</td><td>Hagrid's Magical Creatures Motorbike Adventure</td><td>Family (2 adults)</td><td>Off-Peak (Weekend)</td><td>Multi-Day</td><td>18-24</td><td>2024-09-22</td></tr><tr><td>308</td><td>0</td><td>18.85202490697791000</td><td>917.97</td><td>58.8</td><td>6.7</td><td>Spider-Man Ride</td><td>Solo</td><td>Off-Peak (Weekend)</td><td>VIP Experience</td><td>55+</td><td>2025-04-30</td></tr><tr><td>309</td><td>0</td><td>1.77566996763586400</td><td>948.04</td><td>46.0</td><td>3.8</td><td>Spider-Man Ride</td><td>Large Group (5+)</td><td>Off-Peak (Weekend)</td><td>Multi-Day</td><td>18-24</td><td>2025-01-16</td></tr><tr><td>310</td><td>1</td><td>8.94369574339051400</td><td>1307.65</td><td>111.7</td><td>3.8</td><td>Spider-Man Ride</td><td>Friends (3-4)</td><td>Peak (Summer)</td><td>Annual Pass</td><td>55+</td><td>2024-10-05</td></tr><tr><td>311</td><td>0</td><td>1.36339508042060760</td><td>646.92</td><td>49.5</td><td>7.0</td><td>Harry Potter and the Escape</td><td>Solo</td><td>Off-Peak (Weekend)</td><td>Annual Pass</td><td>55+</td><td>2024-07-02</td></tr><tr><td>312</td><td>0</td><td>13.95326045107680100</td><td>533.13</td><td>111.2</td><td>6.3</td><td>Jurassic Park River Adventure</td><td>Friends (3-4)</td><td>Peak (Holiday)</td><td>Annual Pass</td><td>35-44</td><td>2024-12-10</td></tr><tr><td>313</td><td>1</td><td>2.79157660614026500</td><td>900.20</td><td>45.0</td><td>8.3</td><td>The Incredible Hulk Coaster</td><td>Family (2+2)</td><td>Peak (Summer)</td><td>VIP Experience</td><td>45-54</td><td>2024-11-17</td></tr><tr><td>314</td><td>0</td><td>7.14917422490426300</td><td>1186.60</td><td>50.5</td><td>6.5</td><td>Jurassic Park River Adventure</td><td>Solo</td><td>Peak (Holiday)</td><td>One-Day</td><td>18-24</td><td>2025-01-27</td></tr><tr><td>315</td><td>0</td><td>9.63674097244641300</td><td>846.62</td><td>108.3</td><td>3.1</td><td>Revenge of the Mummy</td><td>Solo</td><td>Peak (Holiday)</td><td>One-Day</td><td>35-44</td><td>2024-12-12</td></tr><tr><td>316</td><td>0</td><td>6.72642460446377200</td><td>854.03</td><td>53.8</td><td>7.7</td><td>Revenge of the Mummy</td><td>Couple</td><td>Off-Peak (Weekend)</td><td>Multi-Day</td><td>45-54</td><td>2024-12-01</td></tr><tr><td>317</td><td>0</td><td>4.69061855088277800</td><td>1466.40</td><td>58.4</td><td>2.8</td><td>Harry Potter and the Escape</td><td>Family (2+2)</td><td>Off-Peak (Weekend)</td><td>VIP Experience</td><td>55+</td><td>2025-03-27</td></tr><tr><td>318</td><td>0</td><td>13.22149778133257500</td><td>369.84</td><td>93.8</td><td>4.6</td><td>Jurassic Park River Adventure</td><td>Family (2 adults)</td><td>Peak (Holiday)</td><td>Multi-Day</td><td>55+</td><td>2024-07-07</td></tr><tr><td>319</td><td>0</td><td>12.61125267669609200</td><td>731.03</td><td>31.3</td><td>5.7</td><td>Hagrid's Magical Creatures Motorbike Adventure</td><td>Family (2 adults)</td><td>Off-Peak (Weekend)</td><td>VIP Experience</td><td>25-34</td><td>2025-06-16</td></tr><tr><td>320</td><td>1</td><td>20.97447075920154800</td><td>542.30</td><td>82.8</td><td>4.4</td><td>Harry Potter and the Escape</td><td>Family (2+2)</td><td>Off-Peak (Weekday)</td><td>Multi-Day</td><td>35-44</td><td>2024-11-25</td></tr><tr><td>321</td><td>0</td><td>10.77108739706566400</td><td>1357.87</td><td>74.0</td><td>8.3</td><td>Revenge of the Mummy</td><td>Solo</td><td>Peak (Holiday)</td><td>One-Day</td><td>35-44</td><td>2025-04-25</td></tr><tr><td>322</td><td>0</td><td>4.75137141044167950</td><td>1032.87</td><td>91.0</td><td>3.6</td><td>Jurassic Park River Adventure</td><td>Large Group (5+)</td><td>Off-Peak (Weekday)</td><td>Annual Pass</td><td>18-24</td><td>2024-11-13</td></tr><tr><td>323</td><td>1</td><td>34.37983911961073000</td><td>1380.29</td><td>29.5</td><td>8.3</td><td>Harry Potter and the Escape</td><td>Family (2+2)</td><td>Off-Peak (Weekend)</td><td>One-Day</td><td>25-34</td><td>2025-01-11</td></tr><tr><td>324</td><td>1</td><td>13.50541878914625500</td><td>468.23</td><td>34.9</td><td>6.0</td><td>Jurassic Park River Adventure</td><td>Family (2 adults)</td><td>Peak (Summer)</td><td>Multi-Day</td><td>18-24</td><td>2025-06-11</td></tr><tr><td>325</td><td>0</td><td>11.73830340874154700</td><td>882.41</td><td>73.9</td><td>6.3</td><td>Spider-Man Ride</td><td>Friends (3-4)</td><td>Peak (Summer)</td><td>Annual Pass</td><td>35-44</td><td>2025-01-22</td></tr><tr><td>326</td><td>0</td><td>16.61867976456038300</td><td>822.15</td><td>61.1</td><td>2.7</td><td>Jurassic Park River Adventure</td><td>Large Group (5+)</td><td>Off-Peak (Weekday)</td><td>Annual Pass</td><td>25-34</td><td>2024-11-10</td></tr><tr><td>327</td><td>0</td><td>18.83683531859195500</td><td>723.54</td><td>54.9</td><td>4.1</td><td>Harry Potter and the Escape</td><td>Couple</td><td>Peak (Holiday)</td><td>VIP Experience</td><td>25-34</td><td>2024-10-07</td></tr><tr><td>328</td><td>1</td><td>2.78221811835757700</td><td>1042.70</td><td>29.5</td><td>7.5</td><td>Jurassic Park River Adventure</td><td>Large Group (5+)</td><td>Peak (Holiday)</td><td>Annual Pass</td><td>25-34</td><td>2024-07-15</td></tr><tr><td>329</td><td>0</td><td>8.88730446830323500</td><td>50.00</td><td>47.7</td><td>3.2</td><td>Harry Potter and the Escape</td><td>Family (2 adults)</td><td>Off-Peak (Weekend)</td><td>Annual Pass</td><td>25-34</td><td>2024-10-27</td></tr><tr><td>330</td><td>0</td><td>14.92582246191377500</td><td>270.47</td><td>58.7</td><td>3.3</td><td>Revenge of the Mummy</td><td>Large Group (5+)</td><td>Off-Peak (Weekday)</td><td>Annual Pass</td><td>45-54</td><td>2024-08-27</td></tr><tr><td>331</td><td>0</td><td>31.72039884193952700</td><td>808.87</td><td>62.3</td><td>8.4</td><td>Transformers: The Ride</td><td>Large Group (5+)</td><td>Peak (Holiday)</td><td>VIP Experience</td><td>55+</td><td>2025-03-09</td></tr><tr><td>332</td><td>0</td><td>0.71821661792147440</td><td>1001.97</td><td>69.5</td><td>3.7</td><td>Jurassic Park River Adventure</td><td>Couple</td><td>Off-Peak (Weekend)</td><td>VIP Experience</td><td>18-24</td><td>2025-02-14</td></tr><tr><td>333</td><td>0</td><td>24.31067795579410000</td><td>1095.11</td><td>103.6</td><td>7.8</td><td>Spider-Man Ride</td><td>Friends (3-4)</td><td>Peak (Summer)</td><td>VIP Experience</td><td>35-44</td><td>2024-12-15</td></tr><tr><td>334</td><td>0</td><td>23.80765549406944400</td><td>948.54</td><td>27.1</td><td>4.8</td><td>Spider-Man Ride</td><td>Couple</td><td>Peak (Summer)</td><td>One-Day</td><td>55+</td><td>2025-05-15</td></tr><tr><td>335</td><td>0</td><td>17.98057656329003300</td><td>907.01</td><td>71.3</td><td>6.2</td><td>Hagrid's Magical Creatures Motorbike Adventure</td><td>Friends (3-4)</td><td>Off-Peak (Weekend)</td><td>Multi-Day</td><td>18-24</td><td>2024-12-08</td></tr><tr><td>336</td><td>0</td><td>21.14185657082225200</td><td>908.99</td><td>46.4</td><td>6.1</td><td>The Incredible Hulk Coaster</td><td>Friends (3-4)</td><td>Off-Peak (Weekday)</td><td>Annual Pass</td><td>45-54</td><td>2025-02-20</td></tr><tr><td>337</td><td>0</td><td>25.82371195988989000</td><td>364.95</td><td>40.8</td><td>5.1</td><td>Harry Potter and the Escape</td><td>Friends (3-4)</td><td>Peak (Holiday)</td><td>Multi-Day</td><td>35-44</td><td>2024-12-01</td></tr><tr><td>338</td><td>1</td><td>10.22658222937655600</td><td>1075.19</td><td>74.8</td><td>4.2</td><td>Revenge of the Mummy</td><td>Solo</td><td>Off-Peak (Weekday)</td><td>Annual Pass</td><td>55+</td><td>2025-01-24</td></tr><tr><td>339</td><td>0</td><td>5.40132907218097550</td><td>1268.46</td><td>14.8</td><td>7.7</td><td>Jurassic Park River Adventure</td><td>Family (2 adults)</td><td>Off-Peak (Weekend)</td><td>One-Day</td><td>45-54</td><td>2024-08-12</td></tr><tr><td>340</td><td>0</td><td>11.96191197899548300</td><td>1113.35</td><td>49.3</td><td>4.8</td><td>Transformers: The Ride</td><td>Friends (3-4)</td><td>Peak (Summer)</td><td>Annual Pass</td><td>45-54</td><td>2024-11-17</td></tr><tr><td>341</td><td>0</td><td>5.69143908422243300</td><td>572.89</td><td>37.7</td><td>7.6</td><td>Harry Potter and the Escape</td><td>Large Group (5+)</td><td>Peak (Holiday)</td><td>Multi-Day</td><td>55+</td><td>2025-05-09</td></tr><tr><td>342</td><td>0</td><td>32.38117812763733000</td><td>487.22</td><td>13.7</td><td>3.6</td><td>Harry Potter and the Escape</td><td>Couple</td><td>Peak (Holiday)</td><td>VIP Experience</td><td>18-24</td><td>2024-11-21</td></tr><tr><td>343</td><td>1</td><td>3.00961585665697750</td><td>1333.16</td><td>54.5</td><td>5.8</td><td>Harry Potter and the Escape</td><td>Solo</td><td>Peak (Summer)</td><td>Annual Pass</td><td>35-44</td><td>2024-10-02</td></tr><tr><td>344</td><td>0</td><td>2.09086369668536550</td><td>886.27</td><td>74.3</td><td>7.0</td><td>Transformers: The Ride</td><td>Couple</td><td>Peak (Summer)</td><td>Multi-Day</td><td>25-34</td><td>2024-11-16</td></tr><tr><td>345</td><td>0</td><td>4.58630417393275400</td><td>908.38</td><td>95.6</td><td>7.3</td><td>Jurassic Park River Adventure</td><td>Friends (3-4)</td><td>Off-Peak (Weekday)</td><td>Multi-Day</td><td>25-34</td><td>2025-01-30</td></tr><tr><td>346</td><td>1</td><td>5.71528998670738100</td><td>449.95</td><td>46.8</td><td>6.7</td><td>The Incredible Hulk Coaster</td><td>Couple</td><td>Off-Peak (Weekend)</td><td>Multi-Day</td><td>18-24</td><td>2024-07-10</td></tr><tr><td>347</td><td>1</td><td>23.82546929944895000</td><td>799.16</td><td>53.5</td><td>7.5</td><td>The Incredible Hulk Coaster</td><td>Friends (3-4)</td><td>Off-Peak (Weekday)</td><td>One-Day</td><td>55+</td><td>2025-02-11</td></tr><tr><td>348</td><td>0</td><td>2.96514669671334300</td><td>815.13</td><td>60.7</td><td>4.3</td><td>Harry Potter and the Escape</td><td>Solo</td><td>Off-Peak (Weekend)</td><td>Multi-Day</td><td>45-54</td><td>2024-06-24</td></tr><tr><td>349</td><td>0</td><td>11.17027672972803600</td><td>680.33</td><td>98.9</td><td>5.0</td><td>Harry Potter and the Escape</td><td>Couple</td><td>Peak (Holiday)</td><td>VIP Experience</td><td>35-44</td><td>2025-02-22</td></tr><tr><td>350</td><td>0</td><td>5.78687691093471200</td><td>1096.84</td><td>111.4</td><td>4.9</td><td>Spider-Man Ride</td><td>Friends (3-4)</td><td>Peak (Holiday)</td><td>One-Day</td><td>25-34</td><td>2024-07-25</td></tr><tr><td>351</td><td>0</td><td>12.41684369645314400</td><td>630.43</td><td>44.2</td><td>8.1</td><td>Spider-Man Ride</td><td>Family (2+2)</td><td>Peak (Holiday)</td><td>Multi-Day</td><td>25-34</td><td>2025-02-21</td></tr><tr><td>352</td><td>0</td><td>32.70795429946063000</td><td>888.89</td><td>50.1</td><td>4.3</td><td>Jurassic Park River Adventure</td><td>Solo</td><td>Peak (Holiday)</td><td>VIP Experience</td><td>45-54</td><td>2025-02-06</td></tr><tr><td>353</td><td>1</td><td>13.71656918227933100</td><td>1110.68</td><td>54.8</td><td>5.2</td><td>The Incredible Hulk Coaster</td><td>Family (2+2)</td><td>Peak (Holiday)</td><td>Annual Pass</td><td>25-34</td><td>2024-08-31</td></tr><tr><td>354</td><td>0</td><td>21.32792412351493600</td><td>625.65</td><td>25.7</td><td>7.3</td><td>Harry Potter and the Escape</td><td>Family (2 adults)</td><td>Off-Peak (Weekend)</td><td>Multi-Day</td><td>45-54</td><td>2025-02-22</td></tr><tr><td>355</td><td>1</td><td>7.98486931265304100</td><td>666.75</td><td>45.8</td><td>7.2</td><td>Harry Potter and the Escape</td><td>Family (2 adults)</td><td>Peak (Holiday)</td><td>One-Day</td><td>35-44</td><td>2025-02-24</td></tr><tr><td>356</td><td>0</td><td>11.20553029168586000</td><td>1198.39</td><td>33.0</td><td>6.3</td><td>Harry Potter and the Escape</td><td>Large Group (5+)</td><td>Peak (Summer)</td><td>Multi-Day</td><td>55+</td><td>2025-06-18</td></tr><tr><td>357</td><td>0</td><td>7.79576999564740500</td><td>771.29</td><td>90.9</td><td>4.1</td><td>Spider-Man Ride</td><td>Large Group (5+)</td><td>Off-Peak (Weekday)</td><td>VIP Experience</td><td>25-34</td><td>2024-10-20</td></tr><tr><td>358</td><td>1</td><td>9.25124654425810400</td><td>863.64</td><td>76.8</td><td>7.4</td><td>Jurassic Park River Adventure</td><td>Couple</td><td>Off-Peak (Weekend)</td><td>Multi-Day</td><td>25-34</td><td>2024-10-04</td></tr><tr><td>359</td><td>1</td><td>5.86215060960929800</td><td>877.65</td><td>35.5</td><td>5.5</td><td>Harry Potter and the Escape</td><td>Large Group (5+)</td><td>Off-Peak (Weekday)</td><td>One-Day</td><td>18-24</td><td>2025-05-13</td></tr><tr><td>360</td><td>0</td><td>33.70908793237406000</td><td>886.01</td><td>84.2</td><td>4.5</td><td>The Incredible Hulk Coaster</td><td>Large Group (5+)</td><td>Peak (Summer)</td><td>Multi-Day</td><td>18-24</td><td>2025-05-26</td></tr><tr><td>361</td><td>0</td><td>5.57014856914705200</td><td>835.95</td><td>49.2</td><td>8.4</td><td>Jurassic Park River Adventure</td><td>Large Group (5+)</td><td>Peak (Summer)</td><td>Annual Pass</td><td>25-34</td><td>2025-01-10</td></tr><tr><td>362</td><td>1</td><td>25.24602272040046800</td><td>717.17</td><td>52.0</td><td>7.6</td><td>The Incredible Hulk Coaster</td><td>Couple</td><td>Off-Peak (Weekend)</td><td>One-Day</td><td>35-44</td><td>2024-11-26</td></tr><tr><td>363</td><td>1</td><td>1.46624520972250540</td><td>871.71</td><td>85.8</td><td>2.8</td><td>The Incredible Hulk Coaster</td><td>Family (2+2)</td><td>Off-Peak (Weekday)</td><td>Annual Pass</td><td>55+</td><td>2025-02-27</td></tr><tr><td>364</td><td>0</td><td>6.85861864353333200</td><td>1284.72</td><td>77.5</td><td>4.0</td><td>Harry Potter and the Escape</td><td>Family (2+2)</td><td>Peak (Holiday)</td><td>Multi-Day</td><td>45-54</td><td>2025-01-31</td></tr><tr><td>365</td><td>0</td><td>4.50576806269100600</td><td>1297.08</td><td>46.2</td><td>7.5</td><td>The Incredible Hulk Coaster</td><td>Friends (3-4)</td><td>Peak (Holiday)</td><td>One-Day</td><td>35-44</td><td>2025-01-20</td></tr><tr><td>366</td><td>1</td><td>10.27155353508473500</td><td>1019.00</td><td>17.2</td><td>7.9</td><td>Hagrid's Magical Creatures Motorbike Adventure</td><td>Family (2+2)</td><td>Off-Peak (Weekday)</td><td>Annual Pass</td><td>55+</td><td>2025-01-11</td></tr><tr><td>367</td><td>1</td><td>14.88664602275339100</td><td>699.04</td><td>56.7</td><td>6.9</td><td>Transformers: The Ride</td><td>Large Group (5+)</td><td>Off-Peak (Weekend)</td><td>One-Day</td><td>18-24</td><td>2025-02-18</td></tr><tr><td>368</td><td>1</td><td>14.91640525448271300</td><td>954.38</td><td>65.7</td><td>5.5</td><td>Spider-Man Ride</td><td>Solo</td><td>Off-Peak (Weekday)</td><td>VIP Experience</td><td>45-54</td><td>2024-10-20</td></tr><tr><td>369</td><td>1</td><td>5.71705257889177100</td><td>1306.47</td><td>39.2</td><td>6.3</td><td>Transformers: The Ride</td><td>Family (2 adults)</td><td>Off-Peak (Weekend)</td><td>Multi-Day</td><td>25-34</td><td>2024-08-24</td></tr><tr><td>370</td><td>0</td><td>10.11663506780565000</td><td>512.95</td><td>27.4</td><td>5.8</td><td>Jurassic Park River Adventure</td><td>Family (2 adults)</td><td>Off-Peak (Weekday)</td><td>VIP Experience</td><td>25-34</td><td>2025-02-08</td></tr><tr><td>371</td><td>0</td><td>12.36597057766717700</td><td>685.33</td><td>52.1</td><td>3.8</td><td>Hagrid's Magical Creatures Motorbike Adventure</td><td>Large Group (5+)</td><td>Off-Peak (Weekend)</td><td>VIP Experience</td><td>25-34</td><td>2025-02-01</td></tr><tr><td>372</td><td>0</td><td>29.24118585806404600</td><td>351.47</td><td>95.4</td><td>2.6</td><td>The Incredible Hulk Coaster</td><td>Couple</td><td>Peak (Holiday)</td><td>Annual Pass</td><td>55+</td><td>2025-03-26</td></tr><tr><td>373</td><td>0</td><td>20.98822377761316500</td><td>1078.38</td><td>67.1</td><td>3.2</td><td>Revenge of the Mummy</td><td>Family (2 adults)</td><td>Off-Peak (Weekend)</td><td>Multi-Day</td><td>25-34</td><td>2024-10-20</td></tr><tr><td>374</td><td>1</td><td>6.50589069023893000</td><td>362.44</td><td>109.4</td><td>7.2</td><td>Jurassic Park River Adventure</td><td>Family (2+2)</td><td>Peak (Summer)</td><td>VIP Experience</td><td>55+</td><td>2024-08-19</td></tr><tr><td>375</td><td>0</td><td>26.69805349795095000</td><td>408.01</td><td>86.3</td><td>7.6</td><td>Spider-Man Ride</td><td>Family (2+2)</td><td>Off-Peak (Weekend)</td><td>Annual Pass</td><td>55+</td><td>2024-09-20</td></tr><tr><td>376</td><td>1</td><td>4.88535983700178460</td><td>1046.65</td><td>87.0</td><td>7.1</td><td>Hagrid's Magical Creatures Motorbike Adventure</td><td>Family (2 adults)</td><td>Off-Peak (Weekend)</td><td>Annual Pass</td><td>25-34</td><td>2024-10-17</td></tr><tr><td>377</td><td>0</td><td>4.74681082976561300</td><td>737.25</td><td>76.4</td><td>3.5</td><td>Hagrid's Magical Creatures Motorbike Adventure</td><td>Friends (3-4)</td><td>Off-Peak (Weekend)</td><td>One-Day</td><td>45-54</td><td>2024-12-23</td></tr><tr><td>378</td><td>0</td><td>14.65178972268704300</td><td>888.59</td><td>110.5</td><td>8.0</td><td>Spider-Man Ride</td><td>Family (2+2)</td><td>Peak (Summer)</td><td>Multi-Day</td><td>45-54</td><td>2024-11-11</td></tr><tr><td>379</td><td>0</td><td>10.94459230127846900</td><td>1100.52</td><td>36.2</td><td>2.9</td><td>Transformers: The Ride</td><td>Family (2+2)</td><td>Off-Peak (Weekday)</td><td>Multi-Day</td><td>18-24</td><td>2024-10-24</td></tr><tr><td>380</td><td>1</td><td>25.37165426037818200</td><td>234.91</td><td>30.0</td><td>5.6</td><td>Transformers: The Ride</td><td>Family (2 adults)</td><td>Peak (Summer)</td><td>Annual Pass</td><td>25-34</td><td>2025-06-06</td></tr><tr><td>381</td><td>1</td><td>9.89552283785514500</td><td>936.62</td><td>21.4</td><td>6.5</td><td>Transformers: The Ride</td><td>Family (2+2)</td><td>Off-Peak (Weekday)</td><td>Multi-Day</td><td>35-44</td><td>2024-12-23</td></tr><tr><td>382</td><td>0</td><td>10.70915897266255500</td><td>845.37</td><td>34.9</td><td>4.5</td><td>The Incredible Hulk Coaster</td><td>Family (2 adults)</td><td>Peak (Summer)</td><td>One-Day</td><td>45-54</td><td>2024-06-18</td></tr><tr><td>383</td><td>0</td><td>24.86767542388393800</td><td>345.97</td><td>80.6</td><td>3.7</td><td>Transformers: The Ride</td><td>Large Group (5+)</td><td>Off-Peak (Weekend)</td><td>Multi-Day</td><td>55+</td><td>2024-08-06</td></tr><tr><td>384</td><td>0</td><td>2.28134560361344360</td><td>1002.07</td><td>89.1</td><td>8.2</td><td>Spider-Man Ride</td><td>Family (2+2)</td><td>Peak (Summer)</td><td>One-Day</td><td>18-24</td><td>2025-03-28</td></tr><tr><td>385</td><td>1</td><td>10.81193353709035000</td><td>934.92</td><td>43.1</td><td>6.1</td><td>Spider-Man Ride</td><td>Solo</td><td>Off-Peak (Weekday)</td><td>Annual Pass</td><td>25-34</td><td>2024-09-30</td></tr><tr><td>386</td><td>1</td><td>12.74193583618499700</td><td>719.72</td><td>55.8</td><td>4.1</td><td>The Incredible Hulk Coaster</td><td>Family (2+2)</td><td>Peak (Summer)</td><td>One-Day</td><td>45-54</td><td>2025-05-21</td></tr><tr><td>387</td><td>0</td><td>3.16330113987808300</td><td>326.26</td><td>32.9</td><td>4.5</td><td>Revenge of the Mummy</td><td>Couple</td><td>Off-Peak (Weekday)</td><td>Annual Pass</td><td>25-34</td><td>2025-03-02</td></tr><tr><td>388</td><td>0</td><td>30.01022905545391200</td><td>834.16</td><td>78.4</td><td>2.7</td><td>Harry Potter and the Escape</td><td>Family (2 adults)</td><td>Off-Peak (Weekday)</td><td>Multi-Day</td><td>55+</td><td>2025-06-01</td></tr><tr><td>389</td><td>1</td><td>8.41081991573313700</td><td>941.93</td><td>18.4</td><td>6.4</td><td>Revenge of the Mummy</td><td>Solo</td><td>Off-Peak (Weekday)</td><td>Annual Pass</td><td>25-34</td><td>2025-03-13</td></tr><tr><td>390</td><td>0</td><td>6.05133524150215400</td><td>495.01</td><td>22.8</td><td>3.7</td><td>Revenge of the Mummy</td><td>Friends (3-4)</td><td>Peak (Holiday)</td><td>Annual Pass</td><td>18-24</td><td>2024-12-03</td></tr><tr><td>391</td><td>0</td><td>21.11985606082580700</td><td>485.20</td><td>36.4</td><td>7.1</td><td>Harry Potter and the Escape</td><td>Family (2+2)</td><td>Off-Peak (Weekday)</td><td>Annual Pass</td><td>45-54</td><td>2024-09-25</td></tr><tr><td>392</td><td>1</td><td>6.32596378912946000</td><td>827.83</td><td>35.3</td><td>5.0</td><td>Transformers: The Ride</td><td>Couple</td><td>Off-Peak (Weekday)</td><td>VIP Experience</td><td>55+</td><td>2024-07-31</td></tr><tr><td>393</td><td>1</td><td>5.55201872206389900</td><td>637.62</td><td>58.2</td><td>2.8</td><td>Harry Potter and the Escape</td><td>Solo</td><td>Off-Peak (Weekend)</td><td>One-Day</td><td>25-34</td><td>2024-08-10</td></tr><tr><td>394</td><td>0</td><td>21.15706383715481200</td><td>1173.89</td><td>86.7</td><td>6.2</td><td>Harry Potter and the Escape</td><td>Family (2 adults)</td><td>Peak (Summer)</td><td>One-Day</td><td>18-24</td><td>2025-04-28</td></tr><tr><td>395</td><td>0</td><td>6.89221617393388500</td><td>562.50</td><td>48.3</td><td>6.5</td><td>Revenge of the Mummy</td><td>Couple</td><td>Off-Peak (Weekend)</td><td>One-Day</td><td>45-54</td><td>2024-10-20</td></tr><tr><td>396</td><td>0</td><td>7.93311515000026400</td><td>535.71</td><td>40.2</td><td>2.8</td><td>Transformers: The Ride</td><td>Solo</td><td>Peak (Summer)</td><td>Multi-Day</td><td>35-44</td><td>2024-10-17</td></tr><tr><td>397</td><td>0</td><td>10.57130475206840200</td><td>591.44</td><td>37.6</td><td>5.4</td><td>Transformers: The Ride</td><td>Couple</td><td>Peak (Holiday)</td><td>Annual Pass</td><td>25-34</td><td>2025-05-01</td></tr><tr><td>398</td><td>0</td><td>13.53616038988752400</td><td>750.72</td><td>38.5</td><td>4.9</td><td>Transformers: The Ride</td><td>Solo</td><td>Off-Peak (Weekend)</td><td>Annual Pass</td><td>45-54</td><td>2024-12-24</td></tr><tr><td>399</td><td>1</td><td>17.26683795621651000</td><td>922.63</td><td>23.3</td><td>4.5</td><td>Jurassic Park River Adventure</td><td>Family (2+2)</td><td>Off-Peak (Weekend)</td><td>One-Day</td><td>55+</td><td>2024-12-04</td></tr><tr><td>400</td><td>0</td><td>6.95363182135839400</td><td>822.73</td><td>78.2</td><td>3.8</td><td>The Incredible Hulk Coaster</td><td>Friends (3-4)</td><td>Off-Peak (Weekend)</td><td>Multi-Day</td><td>55+</td><td>2025-06-08</td></tr><tr><td>401</td><td>0</td><td>9.70288909660448500</td><td>1078.50</td><td>17.9</td><td>5.3</td><td>Hagrid's Magical Creatures Motorbike Adventure</td><td>Couple</td><td>Off-Peak (Weekday)</td><td>Multi-Day</td><td>45-54</td><td>2024-11-04</td></tr><tr><td>402</td><td>0</td><td>8.02032842484678500</td><td>930.57</td><td>19.1</td><td>5.7</td><td>Harry Potter and the Escape</td><td>Family (2+2)</td><td>Off-Peak (Weekday)</td><td>Multi-Day</td><td>45-54</td><td>2024-10-08</td></tr><tr><td>403</td><td>1</td><td>28.73152322664603300</td><td>889.62</td><td>90.6</td><td>8.2</td><td>Jurassic Park River Adventure</td><td>Family (2+2)</td><td>Peak (Holiday)</td><td>One-Day</td><td>45-54</td><td>2025-01-18</td></tr><tr><td>404</td><td>0</td><td>16.78507994945275000</td><td>1255.00</td><td>71.3</td><td>6.1</td><td>The Incredible Hulk Coaster</td><td>Family (2+2)</td><td>Peak (Summer)</td><td>Annual Pass</td><td>25-34</td><td>2024-06-21</td></tr><tr><td>405</td><td>0</td><td>4.10192735422095900</td><td>840.39</td><td>40.7</td><td>7.8</td><td>The Incredible Hulk Coaster</td><td>Family (2 adults)</td><td>Peak (Holiday)</td><td>One-Day</td><td>55+</td><td>2025-04-02</td></tr><tr><td>406</td><td>1</td><td>13.29527639984535000</td><td>709.43</td><td>44.9</td><td>8.5</td><td>The Incredible Hulk Coaster</td><td>Family (2 adults)</td><td>Off-Peak (Weekend)</td><td>VIP Experience</td><td>18-24</td><td>2024-12-16</td></tr><tr><td>407</td><td>1</td><td>0.17337015033575320</td><td>1296.76</td><td>45.7</td><td>2.6</td><td>Spider-Man Ride</td><td>Couple</td><td>Off-Peak (Weekend)</td><td>One-Day</td><td>55+</td><td>2025-05-19</td></tr><tr><td>408</td><td>1</td><td>1.21939691343068040</td><td>365.15</td><td>77.3</td><td>6.4</td><td>Harry Potter and the Escape</td><td>Family (2 adults)</td><td>Peak (Summer)</td><td>One-Day</td><td>25-34</td><td>2024-12-14</td></tr><tr><td>409</td><td>0</td><td>0.38463204363055260</td><td>1201.07</td><td>100.3</td><td>5.9</td><td>Harry Potter and the Escape</td><td>Solo</td><td>Off-Peak (Weekend)</td><td>VIP Experience</td><td>45-54</td><td>2025-05-08</td></tr><tr><td>410</td><td>1</td><td>5.78456042262704350</td><td>861.19</td><td>45.5</td><td>2.8</td><td>Jurassic Park River Adventure</td><td>Family (2+2)</td><td>Peak (Summer)</td><td>Annual Pass</td><td>55+</td><td>2024-07-18</td></tr><tr><td>411</td><td>0</td><td>10.14147785907180200</td><td>718.92</td><td>17.8</td><td>2.7</td><td>Hagrid's Magical Creatures Motorbike Adventure</td><td>Couple</td><td>Peak (Summer)</td><td>Multi-Day</td><td>35-44</td><td>2024-07-12</td></tr><tr><td>412</td><td>0</td><td>4.61477322351465900</td><td>404.05</td><td>51.4</td><td>4.5</td><td>Jurassic Park River Adventure</td><td>Solo</td><td>Off-Peak (Weekday)</td><td>Annual Pass</td><td>45-54</td><td>2024-08-15</td></tr><tr><td>413</td><td>1</td><td>18.18396310516923700</td><td>945.98</td><td>81.1</td><td>4.7</td><td>Harry Potter and the Escape</td><td>Friends (3-4)</td><td>Off-Peak (Weekday)</td><td>VIP Experience</td><td>18-24</td><td>2025-05-25</td></tr><tr><td>414</td><td>0</td><td>21.98437662938039600</td><td>800.47</td><td>95.2</td><td>2.6</td><td>Spider-Man Ride</td><td>Solo</td><td>Off-Peak (Weekend)</td><td>Annual Pass</td><td>55+</td><td>2025-01-15</td></tr><tr><td>415</td><td>0</td><td>13.47304550199943300</td><td>1294.58</td><td>105.5</td><td>3.1</td><td>Jurassic Park River Adventure</td><td>Friends (3-4)</td><td>Off-Peak (Weekday)</td><td>VIP Experience</td><td>45-54</td><td>2024-12-29</td></tr><tr><td>416</td><td>0</td><td>15.08533151120498600</td><td>1218.60</td><td>59.5</td><td>7.6</td><td>Hagrid's Magical Creatures Motorbike Adventure</td><td>Couple</td><td>Peak (Holiday)</td><td>Annual Pass</td><td>35-44</td><td>2025-03-12</td></tr><tr><td>417</td><td>0</td><td>25.33713525709682000</td><td>113.90</td><td>40.7</td><td>8.0</td><td>Jurassic Park River Adventure</td><td>Couple</td><td>Off-Peak (Weekday)</td><td>Annual Pass</td><td>45-54</td><td>2024-12-14</td></tr><tr><td>418</td><td>0</td><td>16.16566152693795600</td><td>1034.48</td><td>34.0</td><td>6.4</td><td>The Incredible Hulk Coaster</td><td>Family (2 adults)</td><td>Off-Peak (Weekday)</td><td>Annual Pass</td><td>55+</td><td>2024-07-05</td></tr><tr><td>419</td><td>1</td><td>29.56506161492951000</td><td>1253.50</td><td>40.8</td><td>7.4</td><td>The Incredible Hulk Coaster</td><td>Couple</td><td>Off-Peak (Weekend)</td><td>Annual Pass</td><td>18-24</td><td>2024-09-20</td></tr><tr><td>420</td><td>1</td><td>24.10604918177999800</td><td>984.43</td><td>55.4</td><td>3.4</td><td>Harry Potter and the Escape</td><td>Friends (3-4)</td><td>Peak (Summer)</td><td>Multi-Day</td><td>25-34</td><td>2024-11-07</td></tr><tr><td>421</td><td>0</td><td>6.81593954711325800</td><td>511.83</td><td>59.9</td><td>4.0</td><td>The Incredible Hulk Coaster</td><td>Family (2+2)</td><td>Peak (Summer)</td><td>Multi-Day</td><td>18-24</td><td>2024-07-26</td></tr><tr><td>422</td><td>1</td><td>4.14623458051830300</td><td>905.27</td><td>78.8</td><td>5.7</td><td>Jurassic Park River Adventure</td><td>Couple</td><td>Peak (Holiday)</td><td>Annual Pass</td><td>25-34</td><td>2024-10-01</td></tr><tr><td>423</td><td>0</td><td>10.03476592064262000</td><td>1025.41</td><td>108.4</td><td>5.1</td><td>The Incredible Hulk Coaster</td><td>Couple</td><td>Peak (Summer)</td><td>One-Day</td><td>18-24</td><td>2024-10-07</td></tr><tr><td>424</td><td>0</td><td>1.71824647724201670</td><td>981.68</td><td>45.3</td><td>4.4</td><td>The Incredible Hulk Coaster</td><td>Family (2+2)</td><td>Peak (Summer)</td><td>Annual Pass</td><td>35-44</td><td>2025-01-21</td></tr><tr><td>425</td><td>0</td><td>0.44924165249130643</td><td>461.63</td><td>71.8</td><td>3.3</td><td>The Incredible Hulk Coaster</td><td>Large Group (5+)</td><td>Off-Peak (Weekend)</td><td>One-Day</td><td>55+</td><td>2025-02-06</td></tr><tr><td>426</td><td>0</td><td>3.66893313413089400</td><td>748.87</td><td>45.1</td><td>4.9</td><td>Hagrid's Magical Creatures Motorbike Adventure</td><td>Solo</td><td>Off-Peak (Weekday)</td><td>One-Day</td><td>35-44</td><td>2024-08-11</td></tr><tr><td>427</td><td>0</td><td>37.78890669999207000</td><td>1063.32</td><td>29.2</td><td>4.4</td><td>Spider-Man Ride</td><td>Family (2 adults)</td><td>Off-Peak (Weekend)</td><td>Multi-Day</td><td>55+</td><td>2024-11-20</td></tr><tr><td>428</td><td>0</td><td>0.63151095310745380</td><td>988.91</td><td>65.2</td><td>3.6</td><td>Harry Potter and the Escape</td><td>Solo</td><td>Off-Peak (Weekday)</td><td>One-Day</td><td>55+</td><td>2025-02-14</td></tr><tr><td>429</td><td>0</td><td>29.71870643109920000</td><td>730.48</td><td>53.6</td><td>3.1</td><td>Revenge of the Mummy</td><td>Family (2 adults)</td><td>Peak (Summer)</td><td>Multi-Day</td><td>18-24</td><td>2025-06-15</td></tr><tr><td>430</td><td>1</td><td>14.76424753927598100</td><td>993.15</td><td>25.3</td><td>8.4</td><td>Jurassic Park River Adventure</td><td>Friends (3-4)</td><td>Off-Peak (Weekend)</td><td>VIP Experience</td><td>25-34</td><td>2025-05-22</td></tr><tr><td>431</td><td>0</td><td>17.75677535189085000</td><td>677.97</td><td>43.1</td><td>4.6</td><td>The Incredible Hulk Coaster</td><td>Family (2+2)</td><td>Off-Peak (Weekend)</td><td>Multi-Day</td><td>55+</td><td>2024-11-10</td></tr><tr><td>432</td><td>0</td><td>21.87272357632174300</td><td>575.19</td><td>70.5</td><td>5.3</td><td>Transformers: The Ride</td><td>Family (2 adults)</td><td>Off-Peak (Weekday)</td><td>One-Day</td><td>55+</td><td>2025-04-13</td></tr><tr><td>433</td><td>0</td><td>9.72625997426549600</td><td>444.08</td><td>97.6</td><td>7.3</td><td>Jurassic Park River Adventure</td><td>Family (2+2)</td><td>Peak (Summer)</td><td>Multi-Day</td><td>45-54</td><td>2025-03-06</td></tr><tr><td>434</td><td>0</td><td>0.74704736685888350</td><td>942.34</td><td>38.6</td><td>2.7</td><td>Transformers: The Ride</td><td>Family (2 adults)</td><td>Off-Peak (Weekday)</td><td>One-Day</td><td>45-54</td><td>2024-08-02</td></tr><tr><td>435</td><td>0</td><td>1.35981949606590850</td><td>1003.80</td><td>43.3</td><td>6.0</td><td>Revenge of the Mummy</td><td>Friends (3-4)</td><td>Peak (Summer)</td><td>One-Day</td><td>18-24</td><td>2024-09-14</td></tr><tr><td>436</td><td>1</td><td>21.50838152201250300</td><td>628.74</td><td>49.3</td><td>4.0</td><td>Harry Potter and the Escape</td><td>Family (2 adults)</td><td>Off-Peak (Weekday)</td><td>VIP Experience</td><td>55+</td><td>2025-04-01</td></tr><tr><td>437</td><td>0</td><td>1.10864412962454880</td><td>881.54</td><td>29.4</td><td>8.3</td><td>Hagrid's Magical Creatures Motorbike Adventure</td><td>Family (2+2)</td><td>Peak (Summer)</td><td>One-Day</td><td>45-54</td><td>2024-09-11</td></tr><tr><td>438</td><td>0</td><td>8.67158849676604900</td><td>1182.05</td><td>59.1</td><td>3.7</td><td>The Incredible Hulk Coaster</td><td>Couple</td><td>Peak (Summer)</td><td>One-Day</td><td>45-54</td><td>2024-10-01</td></tr><tr><td>439</td><td>0</td><td>11.60454410225962900</td><td>1179.65</td><td>64.4</td><td>2.5</td><td>The Incredible Hulk Coaster</td><td>Couple</td><td>Off-Peak (Weekday)</td><td>One-Day</td><td>18-24</td><td>2024-11-14</td></tr><tr><td>440</td><td>1</td><td>11.41403389758605300</td><td>799.35</td><td>67.5</td><td>7.4</td><td>Jurassic Park River Adventure</td><td>Family (2+2)</td><td>Off-Peak (Weekday)</td><td>One-Day</td><td>25-34</td><td>2025-05-27</td></tr><tr><td>441</td><td>1</td><td>5.69153347125682350</td><td>636.64</td><td>45.4</td><td>3.9</td><td>The Incredible Hulk Coaster</td><td>Large Group (5+)</td><td>Peak (Summer)</td><td>Multi-Day</td><td>35-44</td><td>2025-03-25</td></tr><tr><td>442</td><td>0</td><td>16.87786825703902200</td><td>753.97</td><td>31.4</td><td>4.3</td><td>Spider-Man Ride</td><td>Large Group (5+)</td><td>Off-Peak (Weekday)</td><td>Annual Pass</td><td>18-24</td><td>2025-04-12</td></tr><tr><td>443</td><td>0</td><td>3.17619259935788800</td><td>1010.08</td><td>77.1</td><td>6.2</td><td>Revenge of the Mummy</td><td>Friends (3-4)</td><td>Peak (Summer)</td><td>One-Day</td><td>18-24</td><td>2024-10-16</td></tr><tr><td>444</td><td>0</td><td>4.52525147364302300</td><td>897.84</td><td>87.9</td><td>6.6</td><td>Revenge of the Mummy</td><td>Solo</td><td>Off-Peak (Weekend)</td><td>VIP Experience</td><td>45-54</td><td>2025-01-17</td></tr><tr><td>445</td><td>0</td><td>1.60960820160114840</td><td>623.39</td><td>30.1</td><td>5.5</td><td>Hagrid's Magical Creatures Motorbike Adventure</td><td>Friends (3-4)</td><td>Off-Peak (Weekend)</td><td>VIP Experience</td><td>35-44</td><td>2025-01-21</td></tr><tr><td>446</td><td>1</td><td>9.93032450250836600</td><td>813.14</td><td>43.6</td><td>7.0</td><td>Revenge of the Mummy</td><td>Friends (3-4)</td><td>Peak (Holiday)</td><td>Annual Pass</td><td>25-34</td><td>2024-09-04</td></tr><tr><td>447</td><td>0</td><td>9.83953283785322200</td><td>827.71</td><td>41.7</td><td>4.2</td><td>Harry Potter and the Escape</td><td>Large Group (5+)</td><td>Off-Peak (Weekend)</td><td>VIP Experience</td><td>25-34</td><td>2024-12-25</td></tr><tr><td>448</td><td>1</td><td>19.78999358777363300</td><td>945.87</td><td>104.5</td><td>5.4</td><td>Harry Potter and the Escape</td><td>Family (2 adults)</td><td>Off-Peak (Weekday)</td><td>One-Day</td><td>25-34</td><td>2024-08-31</td></tr><tr><td>449</td><td>1</td><td>5.72148785045206800</td><td>487.54</td><td>43.4</td><td>4.3</td><td>Spider-Man Ride</td><td>Family (2+2)</td><td>Off-Peak (Weekend)</td><td>VIP Experience</td><td>35-44</td><td>2024-12-05</td></tr><tr><td>450</td><td>0</td><td>11.72512085743580000</td><td>1152.07</td><td>40.1</td><td>4.2</td><td>Revenge of the Mummy</td><td>Friends (3-4)</td><td>Off-Peak (Weekend)</td><td>One-Day</td><td>18-24</td><td>2024-10-05</td></tr><tr><td>451</td><td>0</td><td>11.39971826496467600</td><td>997.40</td><td>43.3</td><td>7.1</td><td>Spider-Man Ride</td><td>Family (2+2)</td><td>Off-Peak (Weekend)</td><td>VIP Experience</td><td>45-54</td><td>2024-08-24</td></tr><tr><td>452</td><td>1</td><td>8.43157192982723200</td><td>1384.39</td><td>61.5</td><td>6.8</td><td>The Incredible Hulk Coaster</td><td>Friends (3-4)</td><td>Off-Peak (Weekday)</td><td>One-Day</td><td>55+</td><td>2025-05-28</td></tr><tr><td>453</td><td>0</td><td>5.05889759828031900</td><td>855.20</td><td>25.6</td><td>6.9</td><td>Jurassic Park River Adventure</td><td>Solo</td><td>Off-Peak (Weekend)</td><td>One-Day</td><td>18-24</td><td>2025-01-29</td></tr><tr><td>454</td><td>0</td><td>1.88151887092445060</td><td>583.63</td><td>53.0</td><td>8.5</td><td>Hagrid's Magical Creatures Motorbike Adventure</td><td>Solo</td><td>Off-Peak (Weekday)</td><td>One-Day</td><td>35-44</td><td>2025-04-04</td></tr><tr><td>455</td><td>0</td><td>16.61844773330220000</td><td>998.58</td><td>57.0</td><td>4.0</td><td>Jurassic Park River Adventure</td><td>Family (2+2)</td><td>Peak (Holiday)</td><td>VIP Experience</td><td>55+</td><td>2025-06-16</td></tr><tr><td>456</td><td>1</td><td>0.58592328494653300</td><td>969.54</td><td>41.0</td><td>7.3</td><td>Spider-Man Ride</td><td>Friends (3-4)</td><td>Off-Peak (Weekend)</td><td>VIP Experience</td><td>45-54</td><td>2024-07-06</td></tr><tr><td>457</td><td>0</td><td>33.13807710283869000</td><td>696.93</td><td>54.4</td><td>4.1</td><td>Harry Potter and the Escape</td><td>Couple</td><td>Peak (Holiday)</td><td>VIP Experience</td><td>35-44</td><td>2024-09-30</td></tr><tr><td>458</td><td>1</td><td>28.37088171028209500</td><td>503.33</td><td>36.7</td><td>8.3</td><td>The Incredible Hulk Coaster</td><td>Family (2+2)</td><td>Peak (Holiday)</td><td>VIP Experience</td><td>45-54</td><td>2024-09-13</td></tr><tr><td>459</td><td>0</td><td>11.18083345956897500</td><td>755.08</td><td>36.6</td><td>7.8</td><td>Hagrid's Magical Creatures Motorbike Adventure</td><td>Solo</td><td>Off-Peak (Weekday)</td><td>One-Day</td><td>55+</td><td>2025-06-14</td></tr><tr><td>460</td><td>1</td><td>15.38778552712162700</td><td>578.27</td><td>67.5</td><td>4.0</td><td>Revenge of the Mummy</td><td>Friends (3-4)</td><td>Peak (Summer)</td><td>Annual Pass</td><td>35-44</td><td>2024-11-28</td></tr><tr><td>461</td><td>0</td><td>19.78105182326902400</td><td>675.11</td><td>25.3</td><td>3.6</td><td>Spider-Man Ride</td><td>Couple</td><td>Peak (Holiday)</td><td>VIP Experience</td><td>45-54</td><td>2024-12-14</td></tr><tr><td>462</td><td>0</td><td>17.64731718100761500</td><td>560.20</td><td>75.3</td><td>2.9</td><td>Revenge of the Mummy</td><td>Solo</td><td>Off-Peak (Weekday)</td><td>One-Day</td><td>55+</td><td>2024-12-09</td></tr><tr><td>463</td><td>0</td><td>14.41389837049586500</td><td>1088.08</td><td>36.0</td><td>6.0</td><td>Spider-Man Ride</td><td>Solo</td><td>Off-Peak (Weekend)</td><td>One-Day</td><td>35-44</td><td>2024-09-03</td></tr><tr><td>464</td><td>0</td><td>8.96852581233682900</td><td>1178.51</td><td>65.0</td><td>4.3</td><td>Transformers: The Ride</td><td>Large Group (5+)</td><td>Off-Peak (Weekend)</td><td>VIP Experience</td><td>18-24</td><td>2025-03-16</td></tr><tr><td>465</td><td>0</td><td>4.58436512235191200</td><td>455.63</td><td>63.7</td><td>4.3</td><td>The Incredible Hulk Coaster</td><td>Solo</td><td>Peak (Holiday)</td><td>Annual Pass</td><td>45-54</td><td>2024-11-07</td></tr><tr><td>466</td><td>0</td><td>7.79871203190853100</td><td>740.92</td><td>86.4</td><td>5.2</td><td>Jurassic Park River Adventure</td><td>Family (2 adults)</td><td>Off-Peak (Weekday)</td><td>Annual Pass</td><td>18-24</td><td>2024-08-22</td></tr><tr><td>467</td><td>0</td><td>6.12583191116753700</td><td>844.93</td><td>18.8</td><td>5.8</td><td>The Incredible Hulk Coaster</td><td>Family (2+2)</td><td>Off-Peak (Weekend)</td><td>Multi-Day</td><td>18-24</td><td>2024-08-27</td></tr><tr><td>468</td><td>0</td><td>7.86000607115083200</td><td>499.37</td><td>63.9</td><td>6.8</td><td>Revenge of the Mummy</td><td>Couple</td><td>Peak (Holiday)</td><td>VIP Experience</td><td>55+</td><td>2024-12-06</td></tr><tr><td>469</td><td>0</td><td>8.80650439744838600</td><td>904.72</td><td>71.1</td><td>8.1</td><td>Revenge of the Mummy</td><td>Couple</td><td>Peak (Holiday)</td><td>VIP Experience</td><td>25-34</td><td>2024-09-05</td></tr><tr><td>470</td><td>0</td><td>7.34172379894236300</td><td>478.00</td><td>38.1</td><td>2.8</td><td>Spider-Man Ride</td><td>Family (2 adults)</td><td>Peak (Summer)</td><td>VIP Experience</td><td>25-34</td><td>2024-08-09</td></tr><tr><td>471</td><td>0</td><td>15.74428513360515000</td><td>1278.42</td><td>58.1</td><td>7.4</td><td>Transformers: The Ride</td><td>Solo</td><td>Off-Peak (Weekend)</td><td>Multi-Day</td><td>45-54</td><td>2024-11-22</td></tr><tr><td>472</td><td>0</td><td>20.69104622555017000</td><td>911.73</td><td>89.6</td><td>6.3</td><td>Harry Potter and the Escape</td><td>Family (2 adults)</td><td>Peak (Holiday)</td><td>VIP Experience</td><td>18-24</td><td>2024-08-25</td></tr><tr><td>473</td><td>1</td><td>14.28495696599899000</td><td>870.22</td><td>77.0</td><td>3.2</td><td>The Incredible Hulk Coaster</td><td>Family (2+2)</td><td>Off-Peak (Weekend)</td><td>Annual Pass</td><td>45-54</td><td>2025-03-19</td></tr><tr><td>474</td><td>0</td><td>12.90037863868035500</td><td>889.55</td><td>43.8</td><td>4.7</td><td>Jurassic Park River Adventure</td><td>Solo</td><td>Peak (Holiday)</td><td>VIP Experience</td><td>55+</td><td>2025-02-28</td></tr><tr><td>475</td><td>0</td><td>7.80861184494116800</td><td>426.07</td><td>42.9</td><td>5.1</td><td>Jurassic Park River Adventure</td><td>Large Group (5+)</td><td>Off-Peak (Weekday)</td><td>One-Day</td><td>25-34</td><td>2024-07-16</td></tr><tr><td>476</td><td>0</td><td>19.30491148772634300</td><td>437.53</td><td>62.6</td><td>7.4</td><td>Transformers: The Ride</td><td>Large Group (5+)</td><td>Peak (Holiday)</td><td>Multi-Day</td><td>55+</td><td>2025-01-27</td></tr><tr><td>477</td><td>0</td><td>1.50100533444615710</td><td>317.93</td><td>39.9</td><td>3.6</td><td>Hagrid's Magical Creatures Motorbike Adventure</td><td>Solo</td><td>Peak (Holiday)</td><td>VIP Experience</td><td>18-24</td><td>2024-09-18</td></tr><tr><td>478</td><td>1</td><td>16.70589201107937800</td><td>724.29</td><td>78.3</td><td>4.3</td><td>Harry Potter and the Escape</td><td>Family (2+2)</td><td>Peak (Summer)</td><td>VIP Experience</td><td>45-54</td><td>2024-12-27</td></tr><tr><td>479</td><td>0</td><td>24.95304220510487500</td><td>766.08</td><td>51.4</td><td>2.7</td><td>Jurassic Park River Adventure</td><td>Large Group (5+)</td><td>Off-Peak (Weekday)</td><td>Annual Pass</td><td>35-44</td><td>2024-06-24</td></tr><tr><td>480</td><td>1</td><td>5.42967699124570750</td><td>1084.13</td><td>55.7</td><td>5.5</td><td>The Incredible Hulk Coaster</td><td>Large Group (5+)</td><td>Peak (Summer)</td><td>Annual Pass</td><td>25-34</td><td>2025-02-06</td></tr><tr><td>481</td><td>0</td><td>21.62387144657684600</td><td>120.54</td><td>62.8</td><td>6.5</td><td>The Incredible Hulk Coaster</td><td>Couple</td><td>Off-Peak (Weekend)</td><td>VIP Experience</td><td>18-24</td><td>2024-08-20</td></tr><tr><td>482</td><td>0</td><td>26.87397304664761000</td><td>269.97</td><td>58.2</td><td>3.9</td><td>Revenge of the Mummy</td><td>Family (2+2)</td><td>Peak (Summer)</td><td>Multi-Day</td><td>18-24</td><td>2025-05-09</td></tr><tr><td>483</td><td>0</td><td>16.71992287893647200</td><td>1058.55</td><td>57.8</td><td>8.3</td><td>Revenge of the Mummy</td><td>Couple</td><td>Peak (Holiday)</td><td>Annual Pass</td><td>35-44</td><td>2024-07-10</td></tr><tr><td>484</td><td>1</td><td>8.11516261050417300</td><td>632.91</td><td>51.7</td><td>8.0</td><td>The Incredible Hulk Coaster</td><td>Couple</td><td>Peak (Summer)</td><td>Annual Pass</td><td>45-54</td><td>2024-11-03</td></tr><tr><td>485</td><td>0</td><td>15.74251557608666700</td><td>1055.50</td><td>51.0</td><td>4.9</td><td>Hagrid's Magical Creatures Motorbike Adventure</td><td>Solo</td><td>Peak (Holiday)</td><td>Annual Pass</td><td>25-34</td><td>2025-05-15</td></tr><tr><td>486</td><td>1</td><td>3.32225247933125530</td><td>640.67</td><td>48.0</td><td>6.7</td><td>Revenge of the Mummy</td><td>Couple</td><td>Off-Peak (Weekend)</td><td>Multi-Day</td><td>25-34</td><td>2024-07-20</td></tr><tr><td>487</td><td>0</td><td>11.95438953156151200</td><td>886.54</td><td>78.4</td><td>3.5</td><td>Transformers: The Ride</td><td>Solo</td><td>Peak (Holiday)</td><td>Annual Pass</td><td>45-54</td><td>2025-05-18</td></tr><tr><td>488</td><td>0</td><td>32.20773618889196400</td><td>581.55</td><td>48.3</td><td>7.6</td><td>Jurassic Park River Adventure</td><td>Solo</td><td>Peak (Holiday)</td><td>VIP Experience</td><td>18-24</td><td>2024-07-14</td></tr><tr><td>489</td><td>1</td><td>15.18634420776736200</td><td>1043.23</td><td>25.3</td><td>8.0</td><td>The Incredible Hulk Coaster</td><td>Family (2 adults)</td><td>Peak (Summer)</td><td>VIP Experience</td><td>55+</td><td>2025-03-13</td></tr><tr><td>490</td><td>0</td><td>7.18604358175742950</td><td>481.74</td><td>36.5</td><td>2.8</td><td>The Incredible Hulk Coaster</td><td>Friends (3-4)</td><td>Off-Peak (Weekend)</td><td>One-Day</td><td>25-34</td><td>2024-09-26</td></tr><tr><td>491</td><td>0</td><td>12.66102221613781300</td><td>1766.80</td><td>32.2</td><td>8.1</td><td>Revenge of the Mummy</td><td>Family (2+2)</td><td>Peak (Summer)</td><td>Multi-Day</td><td>45-54</td><td>2025-02-18</td></tr><tr><td>492</td><td>0</td><td>15.71733360030515000</td><td>1062.26</td><td>46.0</td><td>4.3</td><td>Hagrid's Magical Creatures Motorbike Adventure</td><td>Couple</td><td>Peak (Holiday)</td><td>Multi-Day</td><td>35-44</td><td>2024-11-12</td></tr><tr><td>493</td><td>1</td><td>8.70701314925126900</td><td>925.99</td><td>41.3</td><td>7.4</td><td>Harry Potter and the Escape</td><td>Solo</td><td>Off-Peak (Weekend)</td><td>One-Day</td><td>45-54</td><td>2025-01-23</td></tr><tr><td>494</td><td>0</td><td>10.43853997745285300</td><td>761.93</td><td>91.9</td><td>4.9</td><td>Transformers: The Ride</td><td>Large Group (5+)</td><td>Peak (Summer)</td><td>VIP Experience</td><td>25-34</td><td>2024-12-27</td></tr><tr><td>495</td><td>0</td><td>4.34618831125742300</td><td>485.59</td><td>37.2</td><td>3.4</td><td>Spider-Man Ride</td><td>Family (2+2)</td><td>Off-Peak (Weekday)</td><td>Multi-Day</td><td>55+</td><td>2025-03-09</td></tr><tr><td>496</td><td>0</td><td>5.27711420385405900</td><td>672.90</td><td>61.4</td><td>4.5</td><td>Spider-Man Ride</td><td>Large Group (5+)</td><td>Peak (Summer)</td><td>Multi-Day</td><td>18-24</td><td>2025-02-04</td></tr><tr><td>497</td><td>0</td><td>16.59183623092228000</td><td>780.44</td><td>34.2</td><td>2.8</td><td>The Incredible Hulk Coaster</td><td>Family (2 adults)</td><td>Off-Peak (Weekend)</td><td>Multi-Day</td><td>35-44</td><td>2024-07-05</td></tr><tr><td>498</td><td>0</td><td>3.66876534448201100</td><td>905.22</td><td>67.1</td><td>4.9</td><td>Revenge of the Mummy</td><td>Large Group (5+)</td><td>Off-Peak (Weekend)</td><td>One-Day</td><td>35-44</td><td>2025-06-15</td></tr><tr><td>499</td><td>0</td><td>5.95167657972670200</td><td>686.12</td><td>39.5</td><td>6.7</td><td>Transformers: The Ride</td><td>Friends (3-4)</td><td>Off-Peak (Weekend)</td><td>VIP Experience</td><td>45-54</td><td>2025-04-16</td></tr><tr><td>500</td><td>1</td><td>14.81453064026456300</td><td>695.47</td><td>52.2</td><td>8.3</td><td>Hagrid's Magical Creatures Motorbike Adventure</td><td>Couple</td><td>Off-Peak (Weekday)</td><td>One-Day</td><td>25-34</td><td>2024-07-08</td></tr></tbody></table></div>"
      ]
     },
     "metadata": {
      "application/vnd.databricks.v1+output": {
       "addedWidgets": {},
       "aggData": [],
       "aggError": "",
       "aggOverflow": false,
       "aggSchema": [],
       "aggSeriesLimitReached": false,
       "aggType": "",
       "arguments": {},
       "columnCustomDisplayInfos": {},
       "data": [
        [
         "1",
         "0",
         "9.86849973612838700",
         "935.18",
         "53.4",
         "3.5",
         "Transformers: The Ride",
         "Family (2+2)",
         "Peak (Summer)",
         "One-Day",
         "45-54",
         "2024-10-18"
        ],
        [
         "2",
         "0",
         "2.85282410046208100",
         "1053.48",
         "23.9",
         "5.6",
         "The Incredible Hulk Coaster",
         "Family (2 adults)",
         "Off-Peak (Weekend)",
         "One-Day",
         "55+",
         "2024-10-13"
        ],
        [
         "3",
         "0",
         "5.00418779832708800",
         "1053.65",
         "103.8",
         "7.0",
         "The Incredible Hulk Coaster",
         "Family (2 adults)",
         "Peak (Holiday)",
         "VIP Experience",
         "18-24",
         "2024-10-12"
        ],
        [
         "4",
         "1",
         "46.44851673084228600",
         "949.19",
         "55.9",
         "6.4",
         "Hagrid's Magical Creatures Motorbike Adventure",
         "Couple",
         "Off-Peak (Weekend)",
         "Annual Pass",
         "18-24",
         "2024-08-14"
        ],
        [
         "5",
         "1",
         "9.76785602065858600",
         "790.06",
         "49.6",
         "4.8",
         "Transformers: The Ride",
         "Family (2 adults)",
         "Peak (Summer)",
         "One-Day",
         "55+",
         "2024-09-08"
        ],
        [
         "6",
         "0",
         "17.32772917802489600",
         "562.49",
         "69.1",
         "4.1",
         "Revenge of the Mummy",
         "Couple",
         "Peak (Holiday)",
         "Annual Pass",
         "45-54",
         "2024-12-14"
        ],
        [
         "7",
         "1",
         "8.96317421616424000",
         "618.41",
         "52.5",
         "5.2",
         "Jurassic Park River Adventure",
         "Solo",
         "Peak (Holiday)",
         "Annual Pass",
         "45-54",
         "2024-08-09"
        ],
        [
         "8",
         "0",
         "6.71497473934111600",
         "907.71",
         "55.9",
         "4.8",
         "The Incredible Hulk Coaster",
         "Large Group (5+)",
         "Off-Peak (Weekend)",
         "Multi-Day",
         "18-24",
         "2025-02-21"
        ],
        [
         "9",
         "1",
         "2.74431833462668200",
         "1073.43",
         "35.5",
         "6.2",
         "Spider-Man Ride",
         "Family (2+2)",
         "Peak (Holiday)",
         "Annual Pass",
         "35-44",
         "2025-04-08"
        ],
        [
         "10",
         "1",
         "15.56773218101206300",
         "575.23",
         "78.0",
         "6.0",
         "Harry Potter and the Escape",
         "Family (2+2)",
         "Off-Peak (Weekday)",
         "Annual Pass",
         "45-54",
         "2025-04-18"
        ],
        [
         "11",
         "1",
         "7.83526731400310400",
         "1054.71",
         "66.2",
         "8.0",
         "Hagrid's Magical Creatures Motorbike Adventure",
         "Large Group (5+)",
         "Off-Peak (Weekend)",
         "VIP Experience",
         "45-54",
         "2024-08-14"
        ],
        [
         "12",
         "1",
         "5.34454949326166950",
         "372.74",
         "79.2",
         "8.2",
         "Hagrid's Magical Creatures Motorbike Adventure",
         "Solo",
         "Off-Peak (Weekday)",
         "Multi-Day",
         "25-34",
         "2025-04-24"
        ],
        [
         "13",
         "0",
         "28.05178305257216200",
         "464.56",
         "68.3",
         "4.0",
         "Jurassic Park River Adventure",
         "Solo",
         "Off-Peak (Weekday)",
         "Annual Pass",
         "25-34",
         "2024-06-22"
        ],
        [
         "14",
         "0",
         "6.59278561086561200",
         "1073.64",
         "92.1",
         "4.0",
         "Transformers: The Ride",
         "Friends (3-4)",
         "Off-Peak (Weekday)",
         "One-Day",
         "25-34",
         "2024-06-19"
        ],
        [
         "15",
         "0",
         "27.48173680884878300",
         "610.76",
         "64.5",
         "8.0",
         "Hagrid's Magical Creatures Motorbike Adventure",
         "Friends (3-4)",
         "Off-Peak (Weekday)",
         "Annual Pass",
         "18-24",
         "2025-01-29"
        ],
        [
         "16",
         "1",
         "18.58779505684696000",
         "784.76",
         "73.8",
         "4.7",
         "Transformers: The Ride",
         "Family (2 adults)",
         "Off-Peak (Weekend)",
         "Annual Pass",
         "45-54",
         "2025-02-22"
        ],
        [
         "17",
         "1",
         "3.24481867358174900",
         "573.62",
         "27.9",
         "6.9",
         "Hagrid's Magical Creatures Motorbike Adventure",
         "Large Group (5+)",
         "Peak (Holiday)",
         "Annual Pass",
         "18-24",
         "2025-04-15"
        ],
        [
         "18",
         "0",
         "4.77793406975153900",
         "657.71",
         "24.6",
         "3.1",
         "Jurassic Park River Adventure",
         "Large Group (5+)",
         "Peak (Holiday)",
         "Annual Pass",
         "35-44",
         "2024-08-15"
        ],
        [
         "19",
         "1",
         "17.58606061152096000",
         "825.98",
         "41.7",
         "8.5",
         "The Incredible Hulk Coaster",
         "Friends (3-4)",
         "Off-Peak (Weekday)",
         "Multi-Day",
         "55+",
         "2024-10-01"
        ],
        [
         "20",
         "0",
         "5.70605451014582100",
         "1349.73",
         "66.7",
         "4.7",
         "Spider-Man Ride",
         "Solo",
         "Peak (Holiday)",
         "Annual Pass",
         "45-54",
         "2024-06-25"
        ],
        [
         "21",
         "0",
         "5.47302158428345550",
         "488.28",
         "73.0",
         "7.7",
         "Revenge of the Mummy",
         "Solo",
         "Peak (Holiday)",
         "VIP Experience",
         "25-34",
         "2025-05-07"
        ],
        [
         "22",
         "0",
         "4.15325137304643500",
         "1558.72",
         "56.0",
         "6.4",
         "Harry Potter and the Escape",
         "Couple",
         "Off-Peak (Weekday)",
         "One-Day",
         "45-54",
         "2024-06-25"
        ],
        [
         "23",
         "0",
         "22.50738063991865800",
         "1377.67",
         "80.3",
         "5.2",
         "Transformers: The Ride",
         "Large Group (5+)",
         "Peak (Summer)",
         "Annual Pass",
         "18-24",
         "2025-01-11"
        ],
        [
         "24",
         "0",
         "9.05760690265045700",
         "854.46",
         "68.1",
         "8.1",
         "Hagrid's Magical Creatures Motorbike Adventure",
         "Large Group (5+)",
         "Off-Peak (Weekday)",
         "Multi-Day",
         "25-34",
         "2024-07-12"
        ],
        [
         "25",
         "1",
         "0.40045284089872290",
         "727.89",
         "43.9",
         "7.9",
         "Spider-Man Ride",
         "Large Group (5+)",
         "Off-Peak (Weekday)",
         "Multi-Day",
         "35-44",
         "2024-10-31"
        ],
        [
         "26",
         "0",
         "20.18576013142091000",
         "813.16",
         "83.5",
         "4.4",
         "Spider-Man Ride",
         "Large Group (5+)",
         "Peak (Summer)",
         "Multi-Day",
         "45-54",
         "2024-12-09"
        ],
        [
         "27",
         "0",
         "19.33665618509833800",
         "931.41",
         "25.3",
         "3.3",
         "Revenge of the Mummy",
         "Solo",
         "Off-Peak (Weekday)",
         "Multi-Day",
         "25-34",
         "2024-12-15"
        ],
        [
         "28",
         "0",
         "0.25711964405177680",
         "1382.52",
         "44.8",
         "7.3",
         "Transformers: The Ride",
         "Solo",
         "Off-Peak (Weekend)",
         "Annual Pass",
         "25-34",
         "2025-06-13"
        ],
        [
         "29",
         "0",
         "7.66240974015693300",
         "837.15",
         "36.6",
         "6.8",
         "Hagrid's Magical Creatures Motorbike Adventure",
         "Friends (3-4)",
         "Off-Peak (Weekend)",
         "Annual Pass",
         "55+",
         "2025-05-04"
        ],
        [
         "30",
         "1",
         "4.41893307661619900",
         "983.98",
         "30.8",
         "4.7",
         "The Incredible Hulk Coaster",
         "Couple",
         "Peak (Summer)",
         "VIP Experience",
         "35-44",
         "2024-09-30"
        ],
        [
         "31",
         "0",
         "12.76764934452880200",
         "693.92",
         "93.3",
         "5.1",
         "The Incredible Hulk Coaster",
         "Family (2 adults)",
         "Peak (Summer)",
         "One-Day",
         "55+",
         "2025-01-22"
        ],
        [
         "32",
         "0",
         "30.66291624870400400",
         "804.21",
         "21.3",
         "4.0",
         "Hagrid's Magical Creatures Motorbike Adventure",
         "Family (2 adults)",
         "Peak (Holiday)",
         "VIP Experience",
         "35-44",
         "2025-04-27"
        ],
        [
         "33",
         "1",
         "2.78896337682261740",
         "1248.14",
         "28.8",
         "2.8",
         "Spider-Man Ride",
         "Couple",
         "Peak (Summer)",
         "Annual Pass",
         "25-34",
         "2025-02-10"
        ],
        [
         "34",
         "1",
         "25.25836605442580000",
         "500.88",
         "56.2",
         "5.3",
         "Jurassic Park River Adventure",
         "Large Group (5+)",
         "Off-Peak (Weekend)",
         "Annual Pass",
         "55+",
         "2024-10-06"
        ],
        [
         "35",
         "0",
         "11.25165746816122500",
         "976.47",
         "29.9",
         "4.9",
         "The Incredible Hulk Coaster",
         "Large Group (5+)",
         "Peak (Summer)",
         "Annual Pass",
         "35-44",
         "2025-02-21"
        ],
        [
         "36",
         "0",
         "12.25987225233388100",
         "50.00",
         "60.6",
         "7.6",
         "Jurassic Park River Adventure",
         "Couple",
         "Peak (Summer)",
         "Annual Pass",
         "25-34",
         "2024-12-17"
        ],
        [
         "37",
         "1",
         "9.84913634255934800",
         "700.33",
         "85.2",
         "4.1",
         "Hagrid's Magical Creatures Motorbike Adventure",
         "Friends (3-4)",
         "Peak (Holiday)",
         "Multi-Day",
         "18-24",
         "2025-01-30"
        ],
        [
         "38",
         "0",
         "15.26704097486618000",
         "1009.65",
         "95.5",
         "8.2",
         "The Incredible Hulk Coaster",
         "Solo",
         "Peak (Holiday)",
         "Multi-Day",
         "45-54",
         "2025-04-18"
        ],
        [
         "39",
         "0",
         "18.46570131208890700",
         "821.76",
         "38.1",
         "2.5",
         "Revenge of the Mummy",
         "Large Group (5+)",
         "Peak (Summer)",
         "VIP Experience",
         "55+",
         "2024-08-12"
        ],
        [
         "40",
         "0",
         "7.90153789111172500",
         "876.95",
         "80.8",
         "7.1",
         "Harry Potter and the Escape",
         "Couple",
         "Peak (Summer)",
         "Annual Pass",
         "18-24",
         "2024-12-19"
        ],
        [
         "41",
         "0",
         "5.44820211950405800",
         "1200.12",
         "33.8",
         "3.1",
         "Hagrid's Magical Creatures Motorbike Adventure",
         "Solo",
         "Peak (Holiday)",
         "Multi-Day",
         "25-34",
         "2025-03-26"
        ],
        [
         "42",
         "1",
         "15.25399704939385800",
         "929.85",
         "26.6",
         "3.9",
         "Transformers: The Ride",
         "Friends (3-4)",
         "Peak (Holiday)",
         "VIP Experience",
         "18-24",
         "2025-03-16"
        ],
        [
         "43",
         "0",
         "20.57454619002363600",
         "875.14",
         "39.8",
         "5.8",
         "The Incredible Hulk Coaster",
         "Couple",
         "Peak (Holiday)",
         "One-Day",
         "18-24",
         "2024-12-09"
        ],
        [
         "44",
         "0",
         "9.67413680602292400",
         "649.30",
         "77.0",
         "2.8",
         "Revenge of the Mummy",
         "Friends (3-4)",
         "Off-Peak (Weekend)",
         "Multi-Day",
         "18-24",
         "2024-12-25"
        ],
        [
         "45",
         "0",
         "10.98931889919662900",
         "786.49",
         "33.0",
         "3.9",
         "Hagrid's Magical Creatures Motorbike Adventure",
         "Friends (3-4)",
         "Peak (Summer)",
         "One-Day",
         "55+",
         "2024-07-22"
        ],
        [
         "46",
         "0",
         "17.01002070445401800",
         "158.72",
         "60.9",
         "7.5",
         "The Incredible Hulk Coaster",
         "Couple",
         "Peak (Summer)",
         "One-Day",
         "18-24",
         "2024-10-20"
        ],
        [
         "47",
         "1",
         "6.90283415544370500",
         "1031.82",
         "101.7",
         "4.5",
         "Harry Potter and the Escape",
         "Family (2+2)",
         "Off-Peak (Weekend)",
         "Multi-Day",
         "45-54",
         "2024-10-24"
        ],
        [
         "48",
         "0",
         "17.47587334095901200",
         "844.07",
         "56.7",
         "3.0",
         "Transformers: The Ride",
         "Solo",
         "Peak (Holiday)",
         "One-Day",
         "35-44",
         "2025-06-18"
        ],
        [
         "49",
         "1",
         "4.54421066657055600",
         "744.04",
         "36.9",
         "7.1",
         "The Incredible Hulk Coaster",
         "Family (2+2)",
         "Off-Peak (Weekday)",
         "Multi-Day",
         "45-54",
         "2024-08-12"
        ],
        [
         "50",
         "0",
         "18.69981111273133200",
         "694.85",
         "89.6",
         "6.3",
         "Spider-Man Ride",
         "Family (2+2)",
         "Peak (Summer)",
         "VIP Experience",
         "18-24",
         "2024-10-27"
        ],
        [
         "51",
         "1",
         "10.22625938671620300",
         "761.65",
         "26.3",
         "8.4",
         "Harry Potter and the Escape",
         "Couple",
         "Peak (Holiday)",
         "One-Day",
         "45-54",
         "2024-11-08"
        ],
        [
         "52",
         "0",
         "20.59576266974156000",
         "1394.22",
         "65.9",
         "6.6",
         "The Incredible Hulk Coaster",
         "Large Group (5+)",
         "Off-Peak (Weekday)",
         "Multi-Day",
         "18-24",
         "2025-04-09"
        ],
        [
         "53",
         "0",
         "8.00281935361772800",
         "866.31",
         "42.6",
         "4.4",
         "Jurassic Park River Adventure",
         "Couple",
         "Peak (Holiday)",
         "One-Day",
         "35-44",
         "2025-04-02"
        ],
        [
         "54",
         "1",
         "17.98843898519593000",
         "615.14",
         "51.9",
         "5.3",
         "The Incredible Hulk Coaster",
         "Large Group (5+)",
         "Off-Peak (Weekday)",
         "VIP Experience",
         "45-54",
         "2025-02-16"
        ],
        [
         "55",
         "0",
         "3.28389402268509500",
         "1023.33",
         "82.3",
         "7.5",
         "Hagrid's Magical Creatures Motorbike Adventure",
         "Solo",
         "Off-Peak (Weekday)",
         "VIP Experience",
         "45-54",
         "2024-06-24"
        ],
        [
         "56",
         "0",
         "10.37163952389141200",
         "1022.95",
         "67.5",
         "6.7",
         "The Incredible Hulk Coaster",
         "Couple",
         "Off-Peak (Weekend)",
         "One-Day",
         "55+",
         "2025-05-27"
        ],
        [
         "57",
         "0",
         "2.15047552772024100",
         "480.39",
         "39.7",
         "7.9",
         "Spider-Man Ride",
         "Friends (3-4)",
         "Peak (Holiday)",
         "One-Day",
         "55+",
         "2025-04-07"
        ],
        [
         "58",
         "1",
         "7.11431272316720800",
         "1481.71",
         "14.6",
         "3.6",
         "Revenge of the Mummy",
         "Large Group (5+)",
         "Peak (Holiday)",
         "One-Day",
         "55+",
         "2024-09-01"
        ],
        [
         "59",
         "0",
         "13.01615827265877000",
         "741.24",
         "79.8",
         "4.4",
         "Revenge of the Mummy",
         "Family (2+2)",
         "Off-Peak (Weekday)",
         "Annual Pass",
         "55+",
         "2024-12-15"
        ],
        [
         "60",
         "0",
         "11.53580461859520200",
         "955.34",
         "75.2",
         "4.9",
         "The Incredible Hulk Coaster",
         "Couple",
         "Peak (Summer)",
         "Multi-Day",
         "35-44",
         "2024-12-13"
        ],
        [
         "61",
         "1",
         "21.70200893861655800",
         "704.22",
         "67.6",
         "7.9",
         "Jurassic Park River Adventure",
         "Couple",
         "Peak (Holiday)",
         "VIP Experience",
         "25-34",
         "2025-04-19"
        ],
        [
         "62",
         "0",
         "3.70379549228676550",
         "845.13",
         "54.1",
         "3.4",
         "Transformers: The Ride",
         "Friends (3-4)",
         "Off-Peak (Weekend)",
         "Multi-Day",
         "55+",
         "2024-12-02"
        ],
        [
         "63",
         "1",
         "41.16172085828056000",
         "1050.98",
         "30.4",
         "6.5",
         "Transformers: The Ride",
         "Large Group (5+)",
         "Off-Peak (Weekday)",
         "Annual Pass",
         "45-54",
         "2024-11-22"
        ],
        [
         "64",
         "1",
         "15.29234425109879000",
         "1034.44",
         "69.8",
         "7.5",
         "The Incredible Hulk Coaster",
         "Solo",
         "Peak (Holiday)",
         "Annual Pass",
         "25-34",
         "2024-12-12"
        ],
        [
         "65",
         "1",
         "1.22391294994361800",
         "619.17",
         "57.6",
         "3.4",
         "The Incredible Hulk Coaster",
         "Couple",
         "Off-Peak (Weekend)",
         "Annual Pass",
         "55+",
         "2024-09-11"
        ],
        [
         "66",
         "1",
         "29.52470205782896400",
         "1529.21",
         "66.7",
         "4.4",
         "Harry Potter and the Escape",
         "Couple",
         "Peak (Summer)",
         "Annual Pass",
         "25-34",
         "2024-08-12"
        ],
        [
         "67",
         "1",
         "16.76044991104980400",
         "471.98",
         "89.8",
         "7.2",
         "Harry Potter and the Escape",
         "Couple",
         "Off-Peak (Weekday)",
         "Multi-Day",
         "55+",
         "2024-11-18"
        ],
        [
         "68",
         "0",
         "12.01213168861904600",
         "1009.83",
         "67.8",
         "7.1",
         "Hagrid's Magical Creatures Motorbike Adventure",
         "Friends (3-4)",
         "Peak (Holiday)",
         "VIP Experience",
         "25-34",
         "2024-11-30"
        ],
        [
         "69",
         "1",
         "13.27527571628058400",
         "850.58",
         "46.3",
         "7.4",
         "Jurassic Park River Adventure",
         "Large Group (5+)",
         "Off-Peak (Weekend)",
         "VIP Experience",
         "35-44",
         "2025-05-14"
        ],
        [
         "70",
         "0",
         "12.13210616571451800",
         "869.71",
         "81.9",
         "3.9",
         "Spider-Man Ride",
         "Solo",
         "Off-Peak (Weekend)",
         "One-Day",
         "35-44",
         "2024-11-27"
        ],
        [
         "71",
         "1",
         "6.94014657431548000",
         "882.73",
         "96.8",
         "3.5",
         "Harry Potter and the Escape",
         "Friends (3-4)",
         "Off-Peak (Weekday)",
         "VIP Experience",
         "35-44",
         "2025-01-22"
        ],
        [
         "72",
         "0",
         "13.84856084275844700",
         "335.32",
         "39.2",
         "7.2",
         "Jurassic Park River Adventure",
         "Large Group (5+)",
         "Off-Peak (Weekend)",
         "One-Day",
         "35-44",
         "2024-08-01"
        ],
        [
         "73",
         "1",
         "34.04849660866731400",
         "517.42",
         "74.2",
         "3.5",
         "Hagrid's Magical Creatures Motorbike Adventure",
         "Solo",
         "Off-Peak (Weekday)",
         "Multi-Day",
         "45-54",
         "2024-06-21"
        ],
        [
         "74",
         "1",
         "21.82244615025987000",
         "1112.51",
         "82.5",
         "6.7",
         "Jurassic Park River Adventure",
         "Couple",
         "Off-Peak (Weekend)",
         "One-Day",
         "18-24",
         "2024-07-21"
        ],
        [
         "75",
         "1",
         "39.26000005906619000",
         "931.30",
         "18.7",
         "3.9",
         "The Incredible Hulk Coaster",
         "Family (2 adults)",
         "Peak (Summer)",
         "Multi-Day",
         "45-54",
         "2024-06-23"
        ],
        [
         "76",
         "1",
         "23.88789902243358300",
         "993.32",
         "75.3",
         "6.9",
         "Hagrid's Magical Creatures Motorbike Adventure",
         "Couple",
         "Peak (Holiday)",
         "Multi-Day",
         "35-44",
         "2025-01-18"
        ],
        [
         "77",
         "0",
         "0.26209571220060890",
         "561.90",
         "81.5",
         "7.5",
         "Harry Potter and the Escape",
         "Family (2 adults)",
         "Peak (Summer)",
         "Multi-Day",
         "25-34",
         "2024-07-30"
        ],
        [
         "78",
         "1",
         "33.62053851776347000",
         "504.01",
         "79.5",
         "8.2",
         "Jurassic Park River Adventure",
         "Family (2+2)",
         "Off-Peak (Weekend)",
         "VIP Experience",
         "45-54",
         "2025-01-17"
        ],
        [
         "79",
         "1",
         "15.82779122115241300",
         "570.87",
         "59.4",
         "3.9",
         "Harry Potter and the Escape",
         "Family (2+2)",
         "Off-Peak (Weekday)",
         "Multi-Day",
         "25-34",
         "2025-03-06"
        ],
        [
         "80",
         "1",
         "17.28151257328472000",
         "774.02",
         "82.4",
         "6.0",
         "Harry Potter and the Escape",
         "Family (2 adults)",
         "Off-Peak (Weekend)",
         "One-Day",
         "25-34",
         "2024-09-23"
        ],
        [
         "81",
         "0",
         "10.51178206400722300",
         "877.24",
         "34.5",
         "3.5",
         "The Incredible Hulk Coaster",
         "Solo",
         "Peak (Summer)",
         "One-Day",
         "25-34",
         "2025-01-12"
        ],
        [
         "82",
         "0",
         "3.61833746652923000",
         "408.35",
         "59.0",
         "7.6",
         "Jurassic Park River Adventure",
         "Large Group (5+)",
         "Off-Peak (Weekday)",
         "Multi-Day",
         "55+",
         "2024-08-16"
        ],
        [
         "83",
         "0",
         "6.20187558227995300",
         "434.03",
         "91.6",
         "6.6",
         "Hagrid's Magical Creatures Motorbike Adventure",
         "Family (2+2)",
         "Peak (Holiday)",
         "Multi-Day",
         "25-34",
         "2024-12-18"
        ],
        [
         "84",
         "1",
         "37.16596660891500000",
         "799.12",
         "69.3",
         "5.4",
         "Hagrid's Magical Creatures Motorbike Adventure",
         "Friends (3-4)",
         "Peak (Summer)",
         "VIP Experience",
         "35-44",
         "2024-09-16"
        ],
        [
         "85",
         "0",
         "10.89944298517605300",
         "1180.91",
         "41.7",
         "5.5",
         "Hagrid's Magical Creatures Motorbike Adventure",
         "Solo",
         "Peak (Summer)",
         "VIP Experience",
         "55+",
         "2025-03-05"
        ],
        [
         "86",
         "1",
         "12.54417071831260900",
         "610.30",
         "52.1",
         "8.5",
         "Harry Potter and the Escape",
         "Couple",
         "Off-Peak (Weekend)",
         "One-Day",
         "55+",
         "2024-08-15"
        ],
        [
         "87",
         "0",
         "9.84337637223902600",
         "1080.65",
         "45.6",
         "2.8",
         "The Incredible Hulk Coaster",
         "Friends (3-4)",
         "Peak (Summer)",
         "Multi-Day",
         "18-24",
         "2024-08-31"
        ],
        [
         "88",
         "0",
         "24.22602127279396500",
         "650.36",
         "25.1",
         "6.9",
         "Harry Potter and the Escape",
         "Couple",
         "Off-Peak (Weekday)",
         "Annual Pass",
         "55+",
         "2024-07-24"
        ],
        [
         "89",
         "0",
         "10.63518920914546200",
         "728.44",
         "19.0",
         "6.9",
         "Hagrid's Magical Creatures Motorbike Adventure",
         "Large Group (5+)",
         "Off-Peak (Weekday)",
         "Multi-Day",
         "55+",
         "2024-07-11"
        ],
        [
         "90",
         "1",
         "28.34980619422977800",
         "570.94",
         "28.5",
         "5.2",
         "Spider-Man Ride",
         "Family (2 adults)",
         "Off-Peak (Weekday)",
         "Annual Pass",
         "55+",
         "2025-03-07"
        ],
        [
         "91",
         "1",
         "9.71050543012427500",
         "681.41",
         "23.1",
         "3.0",
         "Hagrid's Magical Creatures Motorbike Adventure",
         "Couple",
         "Peak (Holiday)",
         "Annual Pass",
         "45-54",
         "2024-08-13"
        ],
        [
         "92",
         "1",
         "10.88790333151802500",
         "1075.49",
         "20.1",
         "7.1",
         "Spider-Man Ride",
         "Friends (3-4)",
         "Peak (Summer)",
         "One-Day",
         "35-44",
         "2025-01-25"
        ],
        [
         "93",
         "0",
         "4.23861862818423400",
         "757.20",
         "114.4",
         "8.4",
         "Hagrid's Magical Creatures Motorbike Adventure",
         "Friends (3-4)",
         "Off-Peak (Weekend)",
         "Annual Pass",
         "25-34",
         "2025-04-28"
        ],
        [
         "94",
         "1",
         "13.15156793938853500",
         "734.41",
         "25.3",
         "3.4",
         "Transformers: The Ride",
         "Family (2 adults)",
         "Peak (Summer)",
         "Annual Pass",
         "55+",
         "2024-06-22"
        ],
        [
         "95",
         "0",
         "10.67800323392615300",
         "1422.99",
         "75.7",
         "3.1",
         "Jurassic Park River Adventure",
         "Couple",
         "Peak (Summer)",
         "Multi-Day",
         "25-34",
         "2024-07-12"
        ],
        [
         "96",
         "1",
         "12.77783411531925100",
         "1287.57",
         "87.2",
         "7.9",
         "Jurassic Park River Adventure",
         "Couple",
         "Off-Peak (Weekend)",
         "VIP Experience",
         "18-24",
         "2024-08-28"
        ],
        [
         "97",
         "0",
         "22.73631113297727800",
         "886.17",
         "46.5",
         "3.7",
         "The Incredible Hulk Coaster",
         "Solo",
         "Off-Peak (Weekend)",
         "One-Day",
         "45-54",
         "2025-04-19"
        ],
        [
         "98",
         "1",
         "22.46800054599411200",
         "222.40",
         "84.1",
         "7.9",
         "Spider-Man Ride",
         "Family (2 adults)",
         "Peak (Summer)",
         "Annual Pass",
         "18-24",
         "2025-02-21"
        ],
        [
         "99",
         "0",
         "39.99218020135119600",
         "883.94",
         "58.3",
         "3.0",
         "Revenge of the Mummy",
         "Family (2+2)",
         "Peak (Holiday)",
         "One-Day",
         "45-54",
         "2024-07-13"
        ],
        [
         "100",
         "0",
         "1.30966102078318300",
         "502.01",
         "65.3",
         "5.6",
         "The Incredible Hulk Coaster",
         "Family (2 adults)",
         "Peak (Summer)",
         "Annual Pass",
         "55+",
         "2025-01-11"
        ],
        [
         "101",
         "0",
         "19.58888658754238000",
         "961.96",
         "43.9",
         "5.4",
         "Hagrid's Magical Creatures Motorbike Adventure",
         "Friends (3-4)",
         "Off-Peak (Weekday)",
         "Annual Pass",
         "35-44",
         "2025-04-21"
        ],
        [
         "102",
         "0",
         "14.91702278437204200",
         "425.69",
         "46.0",
         "5.2",
         "The Incredible Hulk Coaster",
         "Couple",
         "Off-Peak (Weekday)",
         "One-Day",
         "25-34",
         "2024-11-21"
        ],
        [
         "103",
         "0",
         "16.78675977125123000",
         "1031.09",
         "104.2",
         "8.5",
         "Revenge of the Mummy",
         "Couple",
         "Off-Peak (Weekend)",
         "VIP Experience",
         "18-24",
         "2025-01-13"
        ],
        [
         "104",
         "1",
         "4.89722753599491000",
         "614.94",
         "105.9",
         "6.6",
         "The Incredible Hulk Coaster",
         "Solo",
         "Peak (Summer)",
         "Multi-Day",
         "18-24",
         "2025-04-13"
        ],
        [
         "105",
         "0",
         "11.79335648598701500",
         "1503.73",
         "51.0",
         "5.6",
         "The Incredible Hulk Coaster",
         "Couple",
         "Peak (Summer)",
         "Multi-Day",
         "55+",
         "2024-10-17"
        ],
        [
         "106",
         "1",
         "19.42939697737526200",
         "506.44",
         "86.3",
         "8.5",
         "Transformers: The Ride",
         "Friends (3-4)",
         "Off-Peak (Weekday)",
         "Multi-Day",
         "35-44",
         "2025-04-19"
        ],
        [
         "107",
         "0",
         "7.83956785187730500",
         "738.20",
         "17.9",
         "7.4",
         "Harry Potter and the Escape",
         "Large Group (5+)",
         "Off-Peak (Weekday)",
         "Multi-Day",
         "25-34",
         "2025-02-12"
        ],
        [
         "108",
         "1",
         "20.96937824701544500",
         "986.83",
         "60.7",
         "7.5",
         "Transformers: The Ride",
         "Couple",
         "Peak (Holiday)",
         "One-Day",
         "18-24",
         "2025-02-23"
        ],
        [
         "109",
         "0",
         "20.20465177685173700",
         "1106.82",
         "44.1",
         "4.9",
         "The Incredible Hulk Coaster",
         "Solo",
         "Off-Peak (Weekend)",
         "One-Day",
         "18-24",
         "2025-05-26"
        ],
        [
         "110",
         "1",
         "1.23152291491457200",
         "1048.60",
         "52.7",
         "3.7",
         "Hagrid's Magical Creatures Motorbike Adventure",
         "Family (2 adults)",
         "Off-Peak (Weekend)",
         "One-Day",
         "35-44",
         "2025-01-23"
        ],
        [
         "111",
         "0",
         "0.81885177746611800",
         "960.58",
         "28.0",
         "4.0",
         "Transformers: The Ride",
         "Family (2 adults)",
         "Peak (Holiday)",
         "Multi-Day",
         "45-54",
         "2025-04-11"
        ],
        [
         "112",
         "0",
         "5.47681129382270800",
         "503.97",
         "32.9",
         "7.2",
         "Hagrid's Magical Creatures Motorbike Adventure",
         "Family (2 adults)",
         "Off-Peak (Weekend)",
         "Annual Pass",
         "25-34",
         "2024-12-31"
        ],
        [
         "113",
         "1",
         "14.59806444699379200",
         "810.25",
         "26.8",
         "5.9",
         "Spider-Man Ride",
         "Friends (3-4)",
         "Off-Peak (Weekday)",
         "VIP Experience",
         "18-24",
         "2024-11-23"
        ],
        [
         "114",
         "1",
         "15.41266764216666000",
         "1123.60",
         "50.2",
         "7.3",
         "Revenge of the Mummy",
         "Family (2 adults)",
         "Peak (Holiday)",
         "VIP Experience",
         "45-54",
         "2024-08-14"
        ],
        [
         "115",
         "1",
         "13.96996470742708500",
         "744.17",
         "46.1",
         "3.3",
         "Harry Potter and the Escape",
         "Solo",
         "Off-Peak (Weekday)",
         "VIP Experience",
         "45-54",
         "2025-01-14"
        ],
        [
         "116",
         "0",
         "3.12725847161487460",
         "744.72",
         "44.4",
         "2.6",
         "Transformers: The Ride",
         "Family (2+2)",
         "Off-Peak (Weekend)",
         "Annual Pass",
         "45-54",
         "2024-07-07"
        ],
        [
         "117",
         "0",
         "12.68294021045099600",
         "990.15",
         "44.5",
         "5.1",
         "Revenge of the Mummy",
         "Couple",
         "Off-Peak (Weekday)",
         "Multi-Day",
         "25-34",
         "2024-07-22"
        ],
        [
         "118",
         "0",
         "27.19676503998944700",
         "692.84",
         "33.0",
         "6.7",
         "Hagrid's Magical Creatures Motorbike Adventure",
         "Large Group (5+)",
         "Off-Peak (Weekend)",
         "VIP Experience",
         "45-54",
         "2024-11-16"
        ],
        [
         "119",
         "0",
         "15.41542512943755100",
         "689.31",
         "65.3",
         "7.1",
         "Hagrid's Magical Creatures Motorbike Adventure",
         "Family (2+2)",
         "Off-Peak (Weekday)",
         "VIP Experience",
         "45-54",
         "2025-02-26"
        ],
        [
         "120",
         "1",
         "27.58594156535410000",
         "657.29",
         "82.3",
         "8.3",
         "Harry Potter and the Escape",
         "Couple",
         "Peak (Summer)",
         "One-Day",
         "18-24",
         "2025-06-12"
        ],
        [
         "121",
         "0",
         "31.53477609229939600",
         "438.13",
         "27.3",
         "4.0",
         "Hagrid's Magical Creatures Motorbike Adventure",
         "Large Group (5+)",
         "Peak (Holiday)",
         "Multi-Day",
         "55+",
         "2024-08-15"
        ],
        [
         "122",
         "0",
         "2.49475331486439830",
         "783.69",
         "40.2",
         "8.1",
         "Revenge of the Mummy",
         "Couple",
         "Peak (Summer)",
         "One-Day",
         "35-44",
         "2025-05-29"
        ],
        [
         "123",
         "1",
         "4.36097252323353900",
         "107.56",
         "30.6",
         "2.7",
         "Harry Potter and the Escape",
         "Friends (3-4)",
         "Off-Peak (Weekday)",
         "One-Day",
         "25-34",
         "2025-05-26"
        ],
        [
         "124",
         "0",
         "1.51078809394488060",
         "1206.79",
         "81.9",
         "4.8",
         "Harry Potter and the Escape",
         "Large Group (5+)",
         "Peak (Summer)",
         "Multi-Day",
         "35-44",
         "2024-10-28"
        ],
        [
         "125",
         "0",
         "14.05789556346394400",
         "706.59",
         "31.8",
         "8.3",
         "Hagrid's Magical Creatures Motorbike Adventure",
         "Large Group (5+)",
         "Peak (Summer)",
         "VIP Experience",
         "25-34",
         "2024-07-29"
        ],
        [
         "126",
         "0",
         "4.56084472742506600",
         "616.45",
         "66.8",
         "3.9",
         "Transformers: The Ride",
         "Large Group (5+)",
         "Off-Peak (Weekday)",
         "Multi-Day",
         "25-34",
         "2025-03-18"
        ],
        [
         "127",
         "0",
         "7.51271195303792500",
         "769.39",
         "51.5",
         "4.9",
         "Jurassic Park River Adventure",
         "Friends (3-4)",
         "Peak (Holiday)",
         "One-Day",
         "45-54",
         "2024-11-18"
        ],
        [
         "128",
         "0",
         "12.22220593752904900",
         "278.97",
         "87.3",
         "3.0",
         "Spider-Man Ride",
         "Family (2 adults)",
         "Off-Peak (Weekday)",
         "Annual Pass",
         "45-54",
         "2025-06-16"
        ],
        [
         "129",
         "0",
         "1.18724312180056120",
         "1103.93",
         "34.9",
         "6.7",
         "The Incredible Hulk Coaster",
         "Family (2+2)",
         "Peak (Holiday)",
         "VIP Experience",
         "25-34",
         "2025-06-05"
        ],
        [
         "130",
         "1",
         "15.54646509963961200",
         "892.80",
         "52.0",
         "3.8",
         "The Incredible Hulk Coaster",
         "Family (2+2)",
         "Peak (Summer)",
         "Annual Pass",
         "55+",
         "2025-02-13"
        ],
        [
         "131",
         "1",
         "9.50703825439607400",
         "704.54",
         "103.2",
         "6.4",
         "Jurassic Park River Adventure",
         "Family (2 adults)",
         "Off-Peak (Weekend)",
         "One-Day",
         "45-54",
         "2024-07-11"
        ],
        [
         "132",
         "1",
         "12.81184802941861000",
         "759.63",
         "32.6",
         "8.1",
         "Hagrid's Magical Creatures Motorbike Adventure",
         "Family (2+2)",
         "Off-Peak (Weekday)",
         "VIP Experience",
         "35-44",
         "2024-12-19"
        ],
        [
         "133",
         "1",
         "3.89467885578788660",
         "1469.63",
         "60.8",
         "5.5",
         "Revenge of the Mummy",
         "Solo",
         "Off-Peak (Weekday)",
         "Annual Pass",
         "45-54",
         "2025-01-20"
        ],
        [
         "134",
         "0",
         "3.92357792468888500",
         "1073.16",
         "34.2",
         "8.4",
         "Transformers: The Ride",
         "Friends (3-4)",
         "Off-Peak (Weekday)",
         "VIP Experience",
         "18-24",
         "2024-12-30"
        ],
        [
         "135",
         "0",
         "10.09661776268121400",
         "300.57",
         "39.3",
         "8.5",
         "Spider-Man Ride",
         "Couple",
         "Peak (Summer)",
         "Annual Pass",
         "18-24",
         "2025-03-23"
        ],
        [
         "136",
         "0",
         "23.41898417753090200",
         "716.88",
         "49.4",
         "4.5",
         "Revenge of the Mummy",
         "Large Group (5+)",
         "Off-Peak (Weekend)",
         "VIP Experience",
         "45-54",
         "2024-12-05"
        ],
        [
         "137",
         "0",
         "18.98694813412072700",
         "759.67",
         "93.5",
         "3.9",
         "Harry Potter and the Escape",
         "Friends (3-4)",
         "Off-Peak (Weekend)",
         "Annual Pass",
         "45-54",
         "2025-04-29"
        ],
        [
         "138",
         "0",
         "18.12961877453990700",
         "926.97",
         "67.2",
         "4.5",
         "Spider-Man Ride",
         "Solo",
         "Off-Peak (Weekend)",
         "VIP Experience",
         "45-54",
         "2024-08-31"
        ],
        [
         "139",
         "0",
         "14.35391993405268500",
         "323.34",
         "26.1",
         "5.0",
         "The Incredible Hulk Coaster",
         "Large Group (5+)",
         "Off-Peak (Weekend)",
         "One-Day",
         "18-24",
         "2024-10-05"
        ],
        [
         "140",
         "0",
         "21.09403123125824000",
         "729.97",
         "46.1",
         "8.4",
         "Hagrid's Magical Creatures Motorbike Adventure",
         "Solo",
         "Off-Peak (Weekday)",
         "Annual Pass",
         "18-24",
         "2025-02-04"
        ],
        [
         "141",
         "0",
         "19.51314749917684600",
         "725.48",
         "55.2",
         "3.1",
         "Harry Potter and the Escape",
         "Family (2+2)",
         "Peak (Summer)",
         "VIP Experience",
         "55+",
         "2024-12-15"
        ],
        [
         "142",
         "1",
         "2.86762194709470000",
         "420.86",
         "47.1",
         "3.5",
         "Jurassic Park River Adventure",
         "Solo",
         "Peak (Holiday)",
         "Annual Pass",
         "18-24",
         "2024-07-30"
        ],
        [
         "143",
         "0",
         "17.85814626933430200",
         "795.04",
         "73.7",
         "3.5",
         "Harry Potter and the Escape",
         "Family (2+2)",
         "Off-Peak (Weekend)",
         "One-Day",
         "45-54",
         "2024-08-13"
        ],
        [
         "144",
         "0",
         "27.49739236051483000",
         "1063.60",
         "40.9",
         "4.1",
         "Harry Potter and the Escape",
         "Family (2+2)",
         "Off-Peak (Weekday)",
         "Multi-Day",
         "55+",
         "2024-10-15"
        ],
        [
         "145",
         "0",
         "15.00833108375245600",
         "1413.68",
         "57.0",
         "7.5",
         "The Incredible Hulk Coaster",
         "Solo",
         "Off-Peak (Weekend)",
         "VIP Experience",
         "45-54",
         "2024-12-25"
        ],
        [
         "146",
         "0",
         "12.09153614020492600",
         "969.94",
         "82.9",
         "6.0",
         "Transformers: The Ride",
         "Solo",
         "Peak (Holiday)",
         "Multi-Day",
         "35-44",
         "2025-06-04"
        ],
        [
         "147",
         "0",
         "16.66255724150119700",
         "818.09",
         "84.5",
         "6.1",
         "Revenge of the Mummy",
         "Friends (3-4)",
         "Off-Peak (Weekend)",
         "VIP Experience",
         "55+",
         "2025-06-09"
        ],
        [
         "148",
         "0",
         "20.82911988674400300",
         "1097.09",
         "69.8",
         "6.4",
         "The Incredible Hulk Coaster",
         "Family (2 adults)",
         "Off-Peak (Weekday)",
         "One-Day",
         "45-54",
         "2024-09-04"
        ],
        [
         "149",
         "0",
         "7.21050575764697400",
         "479.56",
         "53.6",
         "2.8",
         "Revenge of the Mummy",
         "Large Group (5+)",
         "Off-Peak (Weekend)",
         "VIP Experience",
         "35-44",
         "2025-02-22"
        ],
        [
         "150",
         "1",
         "20.32084307361928000",
         "722.87",
         "43.5",
         "4.3",
         "Jurassic Park River Adventure",
         "Family (2 adults)",
         "Peak (Holiday)",
         "One-Day",
         "55+",
         "2024-12-13"
        ],
        [
         "151",
         "0",
         "14.86606933029856300",
         "652.34",
         "104.1",
         "2.8",
         "Transformers: The Ride",
         "Couple",
         "Off-Peak (Weekend)",
         "Annual Pass",
         "25-34",
         "2024-09-01"
        ],
        [
         "152",
         "0",
         "33.45192163053475000",
         "964.86",
         "56.1",
         "6.9",
         "Hagrid's Magical Creatures Motorbike Adventure",
         "Family (2 adults)",
         "Peak (Summer)",
         "One-Day",
         "18-24",
         "2025-01-09"
        ],
        [
         "153",
         "0",
         "4.44140741518824300",
         "1051.15",
         "57.7",
         "3.4",
         "Transformers: The Ride",
         "Family (2+2)",
         "Off-Peak (Weekday)",
         "One-Day",
         "45-54",
         "2024-07-18"
        ],
        [
         "154",
         "0",
         "0.59769980798938200",
         "800.45",
         "104.0",
         "6.1",
         "Revenge of the Mummy",
         "Family (2 adults)",
         "Peak (Holiday)",
         "Multi-Day",
         "35-44",
         "2024-12-29"
        ],
        [
         "155",
         "0",
         "1.71233795688288780",
         "577.88",
         "74.3",
         "4.7",
         "Transformers: The Ride",
         "Couple",
         "Peak (Holiday)",
         "One-Day",
         "18-24",
         "2025-05-24"
        ],
        [
         "156",
         "1",
         "4.07751945647985200",
         "1087.39",
         "99.8",
         "6.4",
         "The Incredible Hulk Coaster",
         "Couple",
         "Off-Peak (Weekday)",
         "Annual Pass",
         "55+",
         "2025-05-14"
        ],
        [
         "157",
         "1",
         "0.14787821342448737",
         "1643.89",
         "35.8",
         "5.8",
         "Revenge of the Mummy",
         "Solo",
         "Peak (Summer)",
         "VIP Experience",
         "25-34",
         "2024-11-07"
        ],
        [
         "158",
         "1",
         "25.29437230962999000",
         "284.82",
         "69.0",
         "4.6",
         "Spider-Man Ride",
         "Family (2+2)",
         "Peak (Summer)",
         "Annual Pass",
         "18-24",
         "2025-03-12"
        ],
        [
         "159",
         "1",
         "2.18078541069456480",
         "947.47",
         "87.4",
         "5.2",
         "Jurassic Park River Adventure",
         "Couple",
         "Off-Peak (Weekday)",
         "Annual Pass",
         "45-54",
         "2025-04-16"
        ],
        [
         "160",
         "1",
         "9.75444744258399500",
         "927.84",
         "55.0",
         "4.7",
         "Spider-Man Ride",
         "Family (2 adults)",
         "Peak (Summer)",
         "Annual Pass",
         "18-24",
         "2024-07-20"
        ],
        [
         "161",
         "0",
         "11.42071084329764500",
         "800.22",
         "72.9",
         "2.9",
         "Transformers: The Ride",
         "Solo",
         "Off-Peak (Weekday)",
         "Annual Pass",
         "45-54",
         "2024-08-18"
        ],
        [
         "162",
         "0",
         "17.95704555457504000",
         "797.22",
         "108.1",
         "6.6",
         "The Incredible Hulk Coaster",
         "Family (2 adults)",
         "Peak (Summer)",
         "Multi-Day",
         "45-54",
         "2025-02-28"
        ],
        [
         "163",
         "1",
         "14.46140343285292000",
         "647.93",
         "50.3",
         "3.8",
         "Jurassic Park River Adventure",
         "Couple",
         "Peak (Summer)",
         "One-Day",
         "25-34",
         "2024-08-14"
        ],
        [
         "164",
         "0",
         "12.14513401107165800",
         "1258.86",
         "70.5",
         "2.9",
         "The Incredible Hulk Coaster",
         "Family (2 adults)",
         "Off-Peak (Weekday)",
         "VIP Experience",
         "18-24",
         "2025-01-17"
        ],
        [
         "165",
         "0",
         "11.04486343022857000",
         "903.10",
         "38.3",
         "4.5",
         "Spider-Man Ride",
         "Couple",
         "Peak (Holiday)",
         "Annual Pass",
         "55+",
         "2024-08-24"
        ],
        [
         "166",
         "0",
         "16.68610813764931000",
         "1026.13",
         "73.3",
         "6.2",
         "The Incredible Hulk Coaster",
         "Large Group (5+)",
         "Peak (Summer)",
         "VIP Experience",
         "25-34",
         "2025-01-24"
        ],
        [
         "167",
         "0",
         "6.43036493705232550",
         "357.83",
         "100.2",
         "4.0",
         "Jurassic Park River Adventure",
         "Solo",
         "Peak (Summer)",
         "VIP Experience",
         "35-44",
         "2025-03-14"
        ],
        [
         "168",
         "0",
         "3.41739224939090840",
         "702.17",
         "34.6",
         "2.9",
         "Harry Potter and the Escape",
         "Friends (3-4)",
         "Off-Peak (Weekend)",
         "Multi-Day",
         "55+",
         "2025-03-06"
        ],
        [
         "169",
         "0",
         "17.96752370826965600",
         "883.39",
         "77.7",
         "4.4",
         "Jurassic Park River Adventure",
         "Family (2+2)",
         "Peak (Holiday)",
         "Annual Pass",
         "25-34",
         "2025-03-17"
        ],
        [
         "170",
         "1",
         "5.65437396748047400",
         "1064.01",
         "94.7",
         "5.5",
         "Hagrid's Magical Creatures Motorbike Adventure",
         "Large Group (5+)",
         "Peak (Holiday)",
         "Annual Pass",
         "55+",
         "2024-12-14"
        ],
        [
         "171",
         "0",
         "3.09444378578889800",
         "764.03",
         "104.7",
         "3.6",
         "Revenge of the Mummy",
         "Family (2 adults)",
         "Off-Peak (Weekday)",
         "One-Day",
         "45-54",
         "2025-03-13"
        ],
        [
         "172",
         "1",
         "6.59712888877966600",
         "1333.48",
         "44.4",
         "2.6",
         "Transformers: The Ride",
         "Friends (3-4)",
         "Peak (Holiday)",
         "Multi-Day",
         "45-54",
         "2024-08-03"
        ],
        [
         "173",
         "0",
         "5.66657035183462100",
         "808.35",
         "50.4",
         "3.6",
         "Revenge of the Mummy",
         "Family (2 adults)",
         "Off-Peak (Weekend)",
         "Annual Pass",
         "45-54",
         "2025-02-04"
        ],
        [
         "174",
         "1",
         "15.13612253489377200",
         "718.17",
         "18.1",
         "8.2",
         "Revenge of the Mummy",
         "Friends (3-4)",
         "Peak (Holiday)",
         "Annual Pass",
         "18-24",
         "2025-01-30"
        ],
        [
         "175",
         "0",
         "1.53482664156949440",
         "1466.81",
         "39.6",
         "3.3",
         "Hagrid's Magical Creatures Motorbike Adventure",
         "Couple",
         "Peak (Summer)",
         "Annual Pass",
         "45-54",
         "2025-01-09"
        ],
        [
         "176",
         "0",
         "7.37471031751943900",
         "1166.31",
         "43.0",
         "3.8",
         "Harry Potter and the Escape",
         "Family (2+2)",
         "Peak (Holiday)",
         "VIP Experience",
         "35-44",
         "2025-03-28"
        ],
        [
         "177",
         "0",
         "1.35606929215033430",
         "184.46",
         "67.2",
         "5.0",
         "Harry Potter and the Escape",
         "Couple",
         "Off-Peak (Weekend)",
         "One-Day",
         "25-34",
         "2024-07-13"
        ],
        [
         "178",
         "1",
         "0.38894884681429710",
         "1062.65",
         "71.4",
         "5.6",
         "Spider-Man Ride",
         "Solo",
         "Off-Peak (Weekday)",
         "One-Day",
         "18-24",
         "2024-06-18"
        ],
        [
         "179",
         "0",
         "9.39113229432131300",
         "961.26",
         "100.2",
         "7.3",
         "Transformers: The Ride",
         "Solo",
         "Off-Peak (Weekday)",
         "Annual Pass",
         "45-54",
         "2024-10-26"
        ],
        [
         "180",
         "0",
         "2.29741367724722000",
         "1080.27",
         "84.3",
         "7.2",
         "Jurassic Park River Adventure",
         "Solo",
         "Peak (Holiday)",
         "One-Day",
         "45-54",
         "2024-08-29"
        ],
        [
         "181",
         "1",
         "3.34691303937222600",
         "644.40",
         "17.3",
         "6.5",
         "Spider-Man Ride",
         "Solo",
         "Off-Peak (Weekend)",
         "Multi-Day",
         "18-24",
         "2024-09-21"
        ],
        [
         "182",
         "0",
         "12.85743902411906900",
         "682.85",
         "51.6",
         "6.3",
         "Hagrid's Magical Creatures Motorbike Adventure",
         "Solo",
         "Peak (Summer)",
         "Multi-Day",
         "35-44",
         "2024-07-29"
        ],
        [
         "183",
         "0",
         "0.71022176597071120",
         "1003.01",
         "69.1",
         "4.0",
         "Hagrid's Magical Creatures Motorbike Adventure",
         "Family (2+2)",
         "Off-Peak (Weekend)",
         "VIP Experience",
         "35-44",
         "2024-12-29"
        ],
        [
         "184",
         "0",
         "17.43217881390745000",
         "1250.98",
         "17.5",
         "8.4",
         "Spider-Man Ride",
         "Family (2 adults)",
         "Peak (Holiday)",
         "One-Day",
         "35-44",
         "2025-03-03"
        ],
        [
         "185",
         "1",
         "1.19767551384361400",
         "1527.42",
         "47.8",
         "7.6",
         "Transformers: The Ride",
         "Large Group (5+)",
         "Peak (Summer)",
         "Annual Pass",
         "55+",
         "2025-02-19"
        ],
        [
         "186",
         "0",
         "34.25613784420370000",
         "845.10",
         "79.9",
         "3.5",
         "The Incredible Hulk Coaster",
         "Family (2+2)",
         "Off-Peak (Weekend)",
         "Multi-Day",
         "45-54",
         "2024-12-05"
        ],
        [
         "187",
         "0",
         "0.72661520957638350",
         "351.74",
         "89.3",
         "6.8",
         "The Incredible Hulk Coaster",
         "Family (2+2)",
         "Peak (Holiday)",
         "Multi-Day",
         "45-54",
         "2025-01-16"
        ],
        [
         "188",
         "0",
         "14.48377277499449900",
         "286.16",
         "52.5",
         "8.5",
         "Jurassic Park River Adventure",
         "Couple",
         "Peak (Summer)",
         "Annual Pass",
         "35-44",
         "2024-08-14"
        ],
        [
         "189",
         "1",
         "23.79226192069952400",
         "738.22",
         "64.2",
         "7.2",
         "The Incredible Hulk Coaster",
         "Couple",
         "Off-Peak (Weekend)",
         "VIP Experience",
         "18-24",
         "2024-09-06"
        ],
        [
         "190",
         "0",
         "5.80689388449755500",
         "936.74",
         "58.2",
         "6.0",
         "Transformers: The Ride",
         "Friends (3-4)",
         "Peak (Holiday)",
         "One-Day",
         "18-24",
         "2024-11-27"
        ],
        [
         "191",
         "0",
         "39.16720343492834600",
         "1075.84",
         "50.9",
         "6.5",
         "Hagrid's Magical Creatures Motorbike Adventure",
         "Large Group (5+)",
         "Peak (Summer)",
         "Multi-Day",
         "35-44",
         "2025-04-06"
        ],
        [
         "192",
         "0",
         "21.22040919219550400",
         "608.10",
         "53.9",
         "2.8",
         "Revenge of the Mummy",
         "Solo",
         "Peak (Holiday)",
         "Annual Pass",
         "18-24",
         "2024-09-28"
        ],
        [
         "193",
         "0",
         "3.28311984418282500",
         "297.39",
         "78.3",
         "6.5",
         "Hagrid's Magical Creatures Motorbike Adventure",
         "Friends (3-4)",
         "Off-Peak (Weekday)",
         "Annual Pass",
         "55+",
         "2024-11-26"
        ],
        [
         "194",
         "0",
         "5.91415718988781200",
         "608.29",
         "34.8",
         "5.1",
         "Revenge of the Mummy",
         "Solo",
         "Peak (Holiday)",
         "One-Day",
         "25-34",
         "2025-03-20"
        ],
        [
         "195",
         "0",
         "8.10287166670773500",
         "1072.47",
         "79.3",
         "5.8",
         "Transformers: The Ride",
         "Solo",
         "Peak (Holiday)",
         "Annual Pass",
         "25-34",
         "2025-01-29"
        ],
        [
         "196",
         "0",
         "10.90340353490578300",
         "669.99",
         "50.7",
         "3.7",
         "Revenge of the Mummy",
         "Family (2 adults)",
         "Peak (Summer)",
         "Multi-Day",
         "25-34",
         "2024-11-18"
        ],
        [
         "197",
         "0",
         "2.99376320093841470",
         "1074.06",
         "12.3",
         "6.2",
         "Transformers: The Ride",
         "Couple",
         "Peak (Holiday)",
         "VIP Experience",
         "55+",
         "2024-07-15"
        ],
        [
         "198",
         "0",
         "28.77553153640660400",
         "473.06",
         "38.2",
         "7.2",
         "Harry Potter and the Escape",
         "Couple",
         "Peak (Holiday)",
         "VIP Experience",
         "25-34",
         "2025-05-15"
        ],
        [
         "199",
         "0",
         "2.01180511146419900",
         "1252.86",
         "86.0",
         "5.9",
         "Revenge of the Mummy",
         "Family (2 adults)",
         "Off-Peak (Weekday)",
         "VIP Experience",
         "35-44",
         "2024-11-10"
        ],
        [
         "200",
         "1",
         "14.68165194263938700",
         "1222.81",
         "34.6",
         "6.1",
         "Harry Potter and the Escape",
         "Couple",
         "Peak (Holiday)",
         "Annual Pass",
         "45-54",
         "2024-09-14"
        ],
        [
         "201",
         "0",
         "5.63883127581621050",
         "1058.04",
         "64.3",
         "6.7",
         "Transformers: The Ride",
         "Solo",
         "Off-Peak (Weekend)",
         "One-Day",
         "45-54",
         "2025-06-06"
        ],
        [
         "202",
         "0",
         "10.27324574220778300",
         "1407.53",
         "68.9",
         "5.4",
         "Revenge of the Mummy",
         "Couple",
         "Peak (Summer)",
         "One-Day",
         "25-34",
         "2025-05-05"
        ],
        [
         "203",
         "1",
         "4.93233051060430900",
         "922.60",
         "97.2",
         "5.8",
         "Spider-Man Ride",
         "Friends (3-4)",
         "Off-Peak (Weekend)",
         "Annual Pass",
         "35-44",
         "2025-05-22"
        ],
        [
         "204",
         "1",
         "18.10732108211295400",
         "844.83",
         "66.3",
         "6.7",
         "Jurassic Park River Adventure",
         "Couple",
         "Peak (Summer)",
         "One-Day",
         "35-44",
         "2024-08-04"
        ],
        [
         "205",
         "0",
         "11.53500298876320300",
         "671.62",
         "109.5",
         "6.0",
         "Transformers: The Ride",
         "Solo",
         "Peak (Summer)",
         "Annual Pass",
         "55+",
         "2025-02-27"
        ],
        [
         "206",
         "0",
         "16.77759500448348000",
         "975.73",
         "59.2",
         "7.6",
         "Transformers: The Ride",
         "Family (2+2)",
         "Off-Peak (Weekday)",
         "VIP Experience",
         "35-44",
         "2024-07-25"
        ],
        [
         "207",
         "0",
         "26.60454959928716000",
         "1204.73",
         "22.8",
         "4.8",
         "Jurassic Park River Adventure",
         "Solo",
         "Off-Peak (Weekend)",
         "One-Day",
         "25-34",
         "2024-10-12"
        ],
        [
         "208",
         "0",
         "15.56066477743356200",
         "945.14",
         "35.5",
         "6.7",
         "Spider-Man Ride",
         "Couple",
         "Peak (Holiday)",
         "One-Day",
         "25-34",
         "2024-08-28"
        ],
        [
         "209",
         "0",
         "3.79000826585133400",
         "547.23",
         "24.5",
         "4.8",
         "Harry Potter and the Escape",
         "Large Group (5+)",
         "Off-Peak (Weekday)",
         "VIP Experience",
         "25-34",
         "2024-12-01"
        ],
        [
         "210",
         "0",
         "8.17696780960983500",
         "485.94",
         "89.3",
         "8.4",
         "Jurassic Park River Adventure",
         "Large Group (5+)",
         "Off-Peak (Weekend)",
         "Multi-Day",
         "35-44",
         "2025-01-08"
        ],
        [
         "211",
         "0",
         "5.23154259751757600",
         "739.61",
         "102.0",
         "8.0",
         "Harry Potter and the Escape",
         "Family (2+2)",
         "Peak (Holiday)",
         "One-Day",
         "35-44",
         "2025-04-02"
        ],
        [
         "212",
         "1",
         "13.09581372713153500",
         "848.27",
         "38.8",
         "7.9",
         "Hagrid's Magical Creatures Motorbike Adventure",
         "Solo",
         "Off-Peak (Weekend)",
         "One-Day",
         "45-54",
         "2025-01-28"
        ],
        [
         "213",
         "1",
         "9.49577114080307200",
         "953.76",
         "89.5",
         "3.3",
         "Harry Potter and the Escape",
         "Large Group (5+)",
         "Peak (Summer)",
         "Annual Pass",
         "25-34",
         "2024-10-21"
        ],
        [
         "214",
         "1",
         "21.83590917625404000",
         "1464.20",
         "65.3",
         "2.8",
         "Transformers: The Ride",
         "Friends (3-4)",
         "Off-Peak (Weekend)",
         "VIP Experience",
         "55+",
         "2025-05-27"
        ],
        [
         "215",
         "1",
         "6.20823091312840300",
         "256.87",
         "80.4",
         "7.8",
         "Hagrid's Magical Creatures Motorbike Adventure",
         "Family (2 adults)",
         "Off-Peak (Weekend)",
         "Multi-Day",
         "55+",
         "2025-04-08"
        ],
        [
         "216",
         "0",
         "16.99634583802098600",
         "415.75",
         "90.0",
         "4.1",
         "Harry Potter and the Escape",
         "Family (2 adults)",
         "Off-Peak (Weekend)",
         "One-Day",
         "45-54",
         "2024-11-13"
        ],
        [
         "217",
         "1",
         "2.00634960166616950",
         "933.25",
         "40.6",
         "5.2",
         "Transformers: The Ride",
         "Large Group (5+)",
         "Peak (Summer)",
         "One-Day",
         "35-44",
         "2025-05-31"
        ],
        [
         "218",
         "0",
         "13.13669606288261700",
         "1047.92",
         "97.8",
         "3.4",
         "The Incredible Hulk Coaster",
         "Solo",
         "Peak (Holiday)",
         "VIP Experience",
         "25-34",
         "2024-09-09"
        ],
        [
         "219",
         "0",
         "35.67438810567633000",
         "748.73",
         "33.2",
         "8.3",
         "Harry Potter and the Escape",
         "Solo",
         "Off-Peak (Weekday)",
         "VIP Experience",
         "55+",
         "2025-05-05"
        ],
        [
         "220",
         "0",
         "14.52398609102646900",
         "634.78",
         "47.2",
         "7.3",
         "Jurassic Park River Adventure",
         "Friends (3-4)",
         "Off-Peak (Weekday)",
         "VIP Experience",
         "45-54",
         "2025-02-12"
        ],
        [
         "221",
         "0",
         "10.73480220293304700",
         "1447.69",
         "47.5",
         "2.7",
         "Spider-Man Ride",
         "Friends (3-4)",
         "Peak (Holiday)",
         "Annual Pass",
         "18-24",
         "2025-04-28"
        ],
        [
         "222",
         "0",
         "10.22669202900859500",
         "1288.18",
         "51.5",
         "5.2",
         "Spider-Man Ride",
         "Solo",
         "Off-Peak (Weekend)",
         "One-Day",
         "45-54",
         "2024-06-18"
        ],
        [
         "223",
         "1",
         "22.34914507508308000",
         "671.84",
         "35.1",
         "6.6",
         "Jurassic Park River Adventure",
         "Family (2 adults)",
         "Off-Peak (Weekend)",
         "Multi-Day",
         "35-44",
         "2024-11-21"
        ],
        [
         "224",
         "1",
         "7.98816485457213000",
         "927.85",
         "57.7",
         "6.1",
         "Revenge of the Mummy",
         "Family (2+2)",
         "Peak (Holiday)",
         "Annual Pass",
         "35-44",
         "2025-06-07"
        ],
        [
         "225",
         "0",
         "14.46098356580473300",
         "807.43",
         "79.6",
         "4.0",
         "Jurassic Park River Adventure",
         "Solo",
         "Off-Peak (Weekend)",
         "Annual Pass",
         "35-44",
         "2025-06-12"
        ],
        [
         "226",
         "0",
         "7.51792282135596600",
         "840.49",
         "52.2",
         "7.9",
         "Harry Potter and the Escape",
         "Family (2 adults)",
         "Peak (Summer)",
         "Multi-Day",
         "55+",
         "2024-08-20"
        ],
        [
         "227",
         "0",
         "18.68615952145710700",
         "552.41",
         "114.2",
         "7.0",
         "The Incredible Hulk Coaster",
         "Large Group (5+)",
         "Off-Peak (Weekend)",
         "Annual Pass",
         "35-44",
         "2025-04-18"
        ],
        [
         "228",
         "1",
         "27.77994832108063500",
         "1172.39",
         "45.9",
         "3.1",
         "Spider-Man Ride",
         "Family (2+2)",
         "Off-Peak (Weekend)",
         "One-Day",
         "55+",
         "2025-05-03"
        ],
        [
         "229",
         "0",
         "35.22166540150483600",
         "1107.41",
         "63.7",
         "3.0",
         "Spider-Man Ride",
         "Friends (3-4)",
         "Off-Peak (Weekend)",
         "Annual Pass",
         "45-54",
         "2024-08-02"
        ],
        [
         "230",
         "0",
         "20.07300628171263300",
         "632.94",
         "50.2",
         "7.1",
         "Harry Potter and the Escape",
         "Friends (3-4)",
         "Peak (Summer)",
         "Annual Pass",
         "45-54",
         "2025-03-10"
        ],
        [
         "231",
         "1",
         "5.12422760838528650",
         "1003.14",
         "87.3",
         "8.5",
         "Transformers: The Ride",
         "Solo",
         "Off-Peak (Weekday)",
         "Multi-Day",
         "25-34",
         "2025-02-16"
        ],
        [
         "232",
         "0",
         "21.71718487389711800",
         "738.93",
         "65.4",
         "7.2",
         "Spider-Man Ride",
         "Solo",
         "Peak (Summer)",
         "VIP Experience",
         "45-54",
         "2025-05-05"
        ],
        [
         "233",
         "1",
         "2.15369879066118500",
         "156.62",
         "39.9",
         "5.2",
         "Revenge of the Mummy",
         "Friends (3-4)",
         "Off-Peak (Weekend)",
         "Annual Pass",
         "25-34",
         "2025-04-18"
        ],
        [
         "234",
         "0",
         "12.36559030009000700",
         "544.39",
         "31.9",
         "7.9",
         "The Incredible Hulk Coaster",
         "Couple",
         "Off-Peak (Weekend)",
         "Annual Pass",
         "45-54",
         "2025-05-08"
        ],
        [
         "235",
         "1",
         "19.69128214691931700",
         "505.33",
         "75.5",
         "4.7",
         "Revenge of the Mummy",
         "Friends (3-4)",
         "Peak (Holiday)",
         "VIP Experience",
         "18-24",
         "2025-04-05"
        ],
        [
         "236",
         "1",
         "9.13809085612238200",
         "812.72",
         "24.1",
         "3.1",
         "Jurassic Park River Adventure",
         "Solo",
         "Peak (Summer)",
         "Multi-Day",
         "35-44",
         "2024-09-01"
        ],
        [
         "237",
         "0",
         "8.13607024015524300",
         "249.85",
         "86.8",
         "5.4",
         "Revenge of the Mummy",
         "Family (2+2)",
         "Off-Peak (Weekend)",
         "Multi-Day",
         "18-24",
         "2024-09-14"
        ],
        [
         "238",
         "1",
         "1.25861288886942600",
         "639.35",
         "46.7",
         "8.3",
         "Hagrid's Magical Creatures Motorbike Adventure",
         "Solo",
         "Peak (Summer)",
         "Annual Pass",
         "35-44",
         "2025-04-20"
        ],
        [
         "239",
         "0",
         "8.42817548659106200",
         "885.93",
         "39.5",
         "7.3",
         "The Incredible Hulk Coaster",
         "Family (2 adults)",
         "Off-Peak (Weekend)",
         "VIP Experience",
         "25-34",
         "2025-06-14"
        ],
        [
         "240",
         "0",
         "0.83141862753656360",
         "973.08",
         "31.5",
         "3.7",
         "Harry Potter and the Escape",
         "Family (2 adults)",
         "Off-Peak (Weekend)",
         "One-Day",
         "25-34",
         "2024-09-30"
        ],
        [
         "241",
         "1",
         "2.32912333429175120",
         "1720.02",
         "77.3",
         "8.3",
         "Transformers: The Ride",
         "Large Group (5+)",
         "Off-Peak (Weekday)",
         "VIP Experience",
         "55+",
         "2025-02-02"
        ],
        [
         "242",
         "0",
         "8.33393456878443600",
         "899.15",
         "44.5",
         "3.4",
         "The Incredible Hulk Coaster",
         "Couple",
         "Off-Peak (Weekday)",
         "VIP Experience",
         "18-24",
         "2024-07-23"
        ],
        [
         "243",
         "1",
         "14.11404007311342700",
         "1277.86",
         "38.6",
         "6.1",
         "Jurassic Park River Adventure",
         "Family (2+2)",
         "Peak (Summer)",
         "Multi-Day",
         "18-24",
         "2025-06-02"
        ],
        [
         "244",
         "1",
         "7.75405285341679650",
         "1007.54",
         "69.6",
         "7.7",
         "Spider-Man Ride",
         "Large Group (5+)",
         "Peak (Summer)",
         "VIP Experience",
         "45-54",
         "2024-08-03"
        ],
        [
         "245",
         "1",
         "29.24494121852700300",
         "1091.02",
         "43.2",
         "3.8",
         "Harry Potter and the Escape",
         "Family (2+2)",
         "Peak (Summer)",
         "Multi-Day",
         "35-44",
         "2025-02-02"
        ],
        [
         "246",
         "1",
         "16.39178948508067200",
         "1227.92",
         "36.8",
         "8.3",
         "Transformers: The Ride",
         "Solo",
         "Peak (Summer)",
         "One-Day",
         "55+",
         "2024-08-23"
        ],
        [
         "247",
         "0",
         "26.99723219365902300",
         "647.25",
         "24.3",
         "6.2",
         "Jurassic Park River Adventure",
         "Solo",
         "Off-Peak (Weekday)",
         "One-Day",
         "35-44",
         "2025-01-01"
        ],
        [
         "248",
         "0",
         "2.79954082882150000",
         "486.48",
         "84.5",
         "6.8",
         "Revenge of the Mummy",
         "Family (2+2)",
         "Peak (Holiday)",
         "Annual Pass",
         "45-54",
         "2024-07-04"
        ],
        [
         "249",
         "0",
         "2.85486955998859630",
         "1119.86",
         "37.8",
         "3.2",
         "Spider-Man Ride",
         "Family (2 adults)",
         "Peak (Summer)",
         "One-Day",
         "35-44",
         "2025-03-21"
        ],
        [
         "250",
         "0",
         "28.34933645585794400",
         "851.68",
         "54.4",
         "6.0",
         "Hagrid's Magical Creatures Motorbike Adventure",
         "Solo",
         "Peak (Holiday)",
         "Multi-Day",
         "18-24",
         "2024-09-02"
        ],
        [
         "251",
         "0",
         "20.36647412015199500",
         "1035.72",
         "36.2",
         "5.5",
         "Harry Potter and the Escape",
         "Family (2+2)",
         "Peak (Summer)",
         "Annual Pass",
         "45-54",
         "2024-08-10"
        ],
        [
         "252",
         "1",
         "18.01294875142559300",
         "1221.98",
         "50.8",
         "5.6",
         "Harry Potter and the Escape",
         "Family (2 adults)",
         "Off-Peak (Weekday)",
         "Multi-Day",
         "25-34",
         "2025-02-21"
        ],
        [
         "253",
         "1",
         "5.48881780244490600",
         "1568.49",
         "48.7",
         "3.6",
         "Revenge of the Mummy",
         "Family (2 adults)",
         "Peak (Summer)",
         "VIP Experience",
         "25-34",
         "2025-01-10"
        ],
        [
         "254",
         "1",
         "28.63093924152787300",
         "496.29",
         "20.8",
         "4.0",
         "Hagrid's Magical Creatures Motorbike Adventure",
         "Couple",
         "Off-Peak (Weekend)",
         "Multi-Day",
         "25-34",
         "2024-09-13"
        ],
        [
         "255",
         "0",
         "5.53937671612158800",
         "854.29",
         "38.5",
         "4.1",
         "Revenge of the Mummy",
         "Large Group (5+)",
         "Off-Peak (Weekday)",
         "One-Day",
         "25-34",
         "2024-10-21"
        ],
        [
         "256",
         "0",
         "9.49519798769507200",
         "364.81",
         "77.3",
         "3.8",
         "Harry Potter and the Escape",
         "Family (2+2)",
         "Peak (Summer)",
         "Annual Pass",
         "25-34",
         "2024-09-28"
        ],
        [
         "257",
         "0",
         "30.09969819281277700",
         "1202.70",
         "73.4",
         "5.9",
         "Transformers: The Ride",
         "Large Group (5+)",
         "Peak (Holiday)",
         "One-Day",
         "25-34",
         "2025-05-08"
        ],
        [
         "258",
         "0",
         "20.56935906653083300",
         "641.81",
         "46.1",
         "7.3",
         "Jurassic Park River Adventure",
         "Family (2 adults)",
         "Off-Peak (Weekend)",
         "Multi-Day",
         "45-54",
         "2024-09-01"
        ],
        [
         "259",
         "0",
         "30.24937715950231600",
         "1294.22",
         "91.5",
         "4.0",
         "Spider-Man Ride",
         "Large Group (5+)",
         "Off-Peak (Weekday)",
         "Annual Pass",
         "18-24",
         "2025-01-13"
        ],
        [
         "260",
         "0",
         "17.24449254374301000",
         "582.57",
         "87.0",
         "4.0",
         "Transformers: The Ride",
         "Family (2+2)",
         "Peak (Holiday)",
         "Annual Pass",
         "45-54",
         "2025-05-01"
        ],
        [
         "261",
         "0",
         "6.19167437330665200",
         "533.38",
         "85.2",
         "6.1",
         "Revenge of the Mummy",
         "Solo",
         "Off-Peak (Weekend)",
         "Annual Pass",
         "18-24",
         "2024-11-01"
        ],
        [
         "262",
         "1",
         "26.34415670497778000",
         "879.52",
         "41.5",
         "8.1",
         "The Incredible Hulk Coaster",
         "Family (2 adults)",
         "Off-Peak (Weekday)",
         "One-Day",
         "18-24",
         "2024-07-01"
        ],
        [
         "263",
         "0",
         "13.58365515730573500",
         "699.06",
         "57.4",
         "7.3",
         "Harry Potter and the Escape",
         "Family (2+2)",
         "Off-Peak (Weekday)",
         "VIP Experience",
         "18-24",
         "2024-09-30"
        ],
        [
         "264",
         "0",
         "12.04491705130078000",
         "628.41",
         "63.3",
         "8.2",
         "The Incredible Hulk Coaster",
         "Family (2 adults)",
         "Peak (Summer)",
         "One-Day",
         "35-44",
         "2025-04-18"
        ],
        [
         "265",
         "0",
         "12.37718923656136600",
         "574.72",
         "54.4",
         "6.1",
         "Jurassic Park River Adventure",
         "Large Group (5+)",
         "Off-Peak (Weekday)",
         "Annual Pass",
         "35-44",
         "2024-10-11"
        ],
        [
         "266",
         "0",
         "3.15342791021807500",
         "982.37",
         "39.7",
         "3.1",
         "Jurassic Park River Adventure",
         "Solo",
         "Off-Peak (Weekend)",
         "One-Day",
         "35-44",
         "2024-12-30"
        ],
        [
         "267",
         "0",
         "3.29280432757941800",
         "708.08",
         "27.9",
         "6.2",
         "Jurassic Park River Adventure",
         "Family (2+2)",
         "Off-Peak (Weekday)",
         "VIP Experience",
         "35-44",
         "2025-01-17"
        ],
        [
         "268",
         "0",
         "8.70128003160199100",
         "816.41",
         "77.6",
         "6.9",
         "Transformers: The Ride",
         "Large Group (5+)",
         "Off-Peak (Weekend)",
         "Annual Pass",
         "25-34",
         "2024-08-13"
        ],
        [
         "269",
         "0",
         "13.81402144335294600",
         "603.47",
         "49.5",
         "5.2",
         "Harry Potter and the Escape",
         "Solo",
         "Peak (Holiday)",
         "One-Day",
         "18-24",
         "2024-09-21"
        ],
        [
         "270",
         "1",
         "1.61748065755524670",
         "472.95",
         "54.7",
         "4.8",
         "Jurassic Park River Adventure",
         "Large Group (5+)",
         "Off-Peak (Weekend)",
         "Multi-Day",
         "35-44",
         "2024-07-26"
        ],
        [
         "271",
         "0",
         "21.92356286575081000",
         "737.24",
         "54.9",
         "5.4",
         "Revenge of the Mummy",
         "Solo",
         "Peak (Holiday)",
         "VIP Experience",
         "45-54",
         "2024-07-16"
        ],
        [
         "272",
         "0",
         "0.80795349208240070",
         "450.49",
         "42.3",
         "5.6",
         "Hagrid's Magical Creatures Motorbike Adventure",
         "Friends (3-4)",
         "Peak (Summer)",
         "Annual Pass",
         "45-54",
         "2024-12-13"
        ],
        [
         "273",
         "0",
         "14.85644597794262500",
         "553.12",
         "40.9",
         "2.7",
         "Spider-Man Ride",
         "Couple",
         "Off-Peak (Weekend)",
         "Annual Pass",
         "25-34",
         "2024-09-04"
        ],
        [
         "274",
         "1",
         "21.39265589571142000",
         "664.02",
         "70.3",
         "6.3",
         "Revenge of the Mummy",
         "Large Group (5+)",
         "Peak (Holiday)",
         "VIP Experience",
         "18-24",
         "2024-06-28"
        ],
        [
         "275",
         "1",
         "7.03180847870670800",
         "633.27",
         "63.9",
         "6.7",
         "Spider-Man Ride",
         "Solo",
         "Off-Peak (Weekend)",
         "One-Day",
         "55+",
         "2024-10-29"
        ],
        [
         "276",
         "0",
         "27.85973542415686700",
         "885.84",
         "79.3",
         "3.2",
         "Jurassic Park River Adventure",
         "Friends (3-4)",
         "Peak (Holiday)",
         "Annual Pass",
         "25-34",
         "2024-11-16"
        ],
        [
         "277",
         "1",
         "10.56797088079475300",
         "1062.30",
         "82.7",
         "5.6",
         "Hagrid's Magical Creatures Motorbike Adventure",
         "Couple",
         "Peak (Holiday)",
         "Multi-Day",
         "35-44",
         "2024-12-11"
        ],
        [
         "278",
         "0",
         "1.48566529214837800",
         "1402.91",
         "56.0",
         "5.6",
         "Harry Potter and the Escape",
         "Couple",
         "Peak (Holiday)",
         "Multi-Day",
         "18-24",
         "2025-05-11"
        ],
        [
         "279",
         "0",
         "4.09010143046310500",
         "310.56",
         "78.3",
         "4.7",
         "Revenge of the Mummy",
         "Family (2+2)",
         "Peak (Holiday)",
         "Multi-Day",
         "35-44",
         "2024-12-21"
        ],
        [
         "280",
         "0",
         "8.81976678758951700",
         "534.57",
         "72.8",
         "4.5",
         "Revenge of the Mummy",
         "Family (2 adults)",
         "Off-Peak (Weekend)",
         "Multi-Day",
         "55+",
         "2025-06-07"
        ],
        [
         "281",
         "1",
         "23.76565238654475000",
         "688.59",
         "69.7",
         "2.8",
         "Transformers: The Ride",
         "Large Group (5+)",
         "Off-Peak (Weekday)",
         "Multi-Day",
         "45-54",
         "2025-05-23"
        ],
        [
         "282",
         "0",
         "0.09027993616313634",
         "829.25",
         "43.2",
         "6.3",
         "Revenge of the Mummy",
         "Large Group (5+)",
         "Off-Peak (Weekend)",
         "One-Day",
         "45-54",
         "2024-07-03"
        ],
        [
         "283",
         "1",
         "7.48909094538348100",
         "600.25",
         "54.5",
         "4.4",
         "Spider-Man Ride",
         "Large Group (5+)",
         "Peak (Summer)",
         "VIP Experience",
         "25-34",
         "2024-12-01"
        ],
        [
         "284",
         "0",
         "1.60089084455035510",
         "660.33",
         "28.8",
         "8.1",
         "Spider-Man Ride",
         "Couple",
         "Peak (Summer)",
         "One-Day",
         "25-34",
         "2025-01-22"
        ],
        [
         "285",
         "0",
         "11.65245467182154300",
         "663.79",
         "72.8",
         "5.2",
         "Jurassic Park River Adventure",
         "Friends (3-4)",
         "Off-Peak (Weekend)",
         "Annual Pass",
         "25-34",
         "2025-02-18"
        ],
        [
         "286",
         "0",
         "2.50046301188263160",
         "998.62",
         "53.4",
         "7.5",
         "Hagrid's Magical Creatures Motorbike Adventure",
         "Couple",
         "Off-Peak (Weekend)",
         "Annual Pass",
         "55+",
         "2025-06-15"
        ],
        [
         "287",
         "1",
         "6.96638115482861050",
         "950.77",
         "99.4",
         "4.4",
         "Transformers: The Ride",
         "Large Group (5+)",
         "Off-Peak (Weekday)",
         "VIP Experience",
         "18-24",
         "2024-07-04"
        ],
        [
         "288",
         "0",
         "6.16639478295624950",
         "1478.11",
         "41.0",
         "6.2",
         "Harry Potter and the Escape",
         "Solo",
         "Off-Peak (Weekend)",
         "Multi-Day",
         "55+",
         "2025-05-26"
        ],
        [
         "289",
         "0",
         "20.44555745009660400",
         "951.49",
         "56.2",
         "6.4",
         "The Incredible Hulk Coaster",
         "Family (2 adults)",
         "Peak (Holiday)",
         "One-Day",
         "25-34",
         "2024-08-23"
        ],
        [
         "290",
         "0",
         "8.42093600502531100",
         "1026.51",
         "86.8",
         "3.7",
         "The Incredible Hulk Coaster",
         "Couple",
         "Off-Peak (Weekend)",
         "Annual Pass",
         "18-24",
         "2025-02-16"
        ],
        [
         "291",
         "0",
         "2.17018634169286170",
         "759.08",
         "44.0",
         "5.3",
         "Hagrid's Magical Creatures Motorbike Adventure",
         "Large Group (5+)",
         "Off-Peak (Weekend)",
         "Multi-Day",
         "55+",
         "2024-12-28"
        ],
        [
         "292",
         "0",
         "7.78904290989140100",
         "392.63",
         "12.5",
         "7.6",
         "Hagrid's Magical Creatures Motorbike Adventure",
         "Solo",
         "Off-Peak (Weekend)",
         "Annual Pass",
         "35-44",
         "2025-06-05"
        ],
        [
         "293",
         "0",
         "7.61582600751769200",
         "1283.35",
         "44.8",
         "3.8",
         "The Incredible Hulk Coaster",
         "Friends (3-4)",
         "Peak (Holiday)",
         "Multi-Day",
         "55+",
         "2024-10-10"
        ],
        [
         "294",
         "0",
         "18.69962490754742400",
         "738.61",
         "32.7",
         "2.6",
         "Harry Potter and the Escape",
         "Solo",
         "Peak (Holiday)",
         "Annual Pass",
         "35-44",
         "2024-10-11"
        ],
        [
         "295",
         "0",
         "2.82592466360766540",
         "542.37",
         "90.4",
         "3.6",
         "The Incredible Hulk Coaster",
         "Solo",
         "Peak (Summer)",
         "Annual Pass",
         "35-44",
         "2025-01-13"
        ],
        [
         "296",
         "1",
         "11.79621516794997000",
         "1169.45",
         "15.2",
         "5.3",
         "Spider-Man Ride",
         "Friends (3-4)",
         "Peak (Holiday)",
         "One-Day",
         "45-54",
         "2024-12-23"
        ],
        [
         "297",
         "1",
         "14.20176430092684100",
         "677.09",
         "49.8",
         "7.7",
         "Revenge of the Mummy",
         "Large Group (5+)",
         "Peak (Summer)",
         "Multi-Day",
         "45-54",
         "2025-02-10"
        ],
        [
         "298",
         "0",
         "37.90611365104780400",
         "829.75",
         "96.6",
         "3.6",
         "The Incredible Hulk Coaster",
         "Large Group (5+)",
         "Off-Peak (Weekend)",
         "Multi-Day",
         "35-44",
         "2025-04-08"
        ],
        [
         "299",
         "1",
         "12.45044463017209100",
         "1072.93",
         "73.4",
         "3.0",
         "Hagrid's Magical Creatures Motorbike Adventure",
         "Large Group (5+)",
         "Peak (Summer)",
         "Multi-Day",
         "35-44",
         "2025-02-26"
        ],
        [
         "300",
         "1",
         "1.65151094821777990",
         "1020.27",
         "67.3",
         "4.5",
         "Hagrid's Magical Creatures Motorbike Adventure",
         "Family (2+2)",
         "Peak (Holiday)",
         "Annual Pass",
         "45-54",
         "2025-02-08"
        ],
        [
         "301",
         "0",
         "19.15439620063202500",
         "702.50",
         "48.6",
         "3.3",
         "Jurassic Park River Adventure",
         "Solo",
         "Off-Peak (Weekend)",
         "Multi-Day",
         "18-24",
         "2024-07-20"
        ],
        [
         "302",
         "0",
         "14.77599339433868600",
         "806.43",
         "43.3",
         "4.0",
         "Revenge of the Mummy",
         "Solo",
         "Peak (Summer)",
         "Multi-Day",
         "18-24",
         "2024-08-14"
        ],
        [
         "303",
         "0",
         "29.64591862233462600",
         "903.49",
         "79.1",
         "5.5",
         "Revenge of the Mummy",
         "Family (2 adults)",
         "Off-Peak (Weekday)",
         "VIP Experience",
         "45-54",
         "2025-04-24"
        ],
        [
         "304",
         "0",
         "11.32534440056560700",
         "874.04",
         "38.2",
         "3.3",
         "Hagrid's Magical Creatures Motorbike Adventure",
         "Friends (3-4)",
         "Peak (Holiday)",
         "Annual Pass",
         "35-44",
         "2025-03-12"
        ],
        [
         "305",
         "0",
         "30.54308265507339000",
         "804.37",
         "47.5",
         "4.4",
         "Jurassic Park River Adventure",
         "Friends (3-4)",
         "Off-Peak (Weekend)",
         "VIP Experience",
         "25-34",
         "2025-06-17"
        ],
        [
         "306",
         "0",
         "19.38959829586097800",
         "799.58",
         "34.5",
         "8.2",
         "Transformers: The Ride",
         "Solo",
         "Peak (Summer)",
         "Multi-Day",
         "18-24",
         "2025-05-04"
        ],
        [
         "307",
         "1",
         "17.99723160724641200",
         "755.79",
         "55.3",
         "3.8",
         "Hagrid's Magical Creatures Motorbike Adventure",
         "Family (2 adults)",
         "Off-Peak (Weekend)",
         "Multi-Day",
         "18-24",
         "2024-09-22"
        ],
        [
         "308",
         "0",
         "18.85202490697791000",
         "917.97",
         "58.8",
         "6.7",
         "Spider-Man Ride",
         "Solo",
         "Off-Peak (Weekend)",
         "VIP Experience",
         "55+",
         "2025-04-30"
        ],
        [
         "309",
         "0",
         "1.77566996763586400",
         "948.04",
         "46.0",
         "3.8",
         "Spider-Man Ride",
         "Large Group (5+)",
         "Off-Peak (Weekend)",
         "Multi-Day",
         "18-24",
         "2025-01-16"
        ],
        [
         "310",
         "1",
         "8.94369574339051400",
         "1307.65",
         "111.7",
         "3.8",
         "Spider-Man Ride",
         "Friends (3-4)",
         "Peak (Summer)",
         "Annual Pass",
         "55+",
         "2024-10-05"
        ],
        [
         "311",
         "0",
         "1.36339508042060760",
         "646.92",
         "49.5",
         "7.0",
         "Harry Potter and the Escape",
         "Solo",
         "Off-Peak (Weekend)",
         "Annual Pass",
         "55+",
         "2024-07-02"
        ],
        [
         "312",
         "0",
         "13.95326045107680100",
         "533.13",
         "111.2",
         "6.3",
         "Jurassic Park River Adventure",
         "Friends (3-4)",
         "Peak (Holiday)",
         "Annual Pass",
         "35-44",
         "2024-12-10"
        ],
        [
         "313",
         "1",
         "2.79157660614026500",
         "900.20",
         "45.0",
         "8.3",
         "The Incredible Hulk Coaster",
         "Family (2+2)",
         "Peak (Summer)",
         "VIP Experience",
         "45-54",
         "2024-11-17"
        ],
        [
         "314",
         "0",
         "7.14917422490426300",
         "1186.60",
         "50.5",
         "6.5",
         "Jurassic Park River Adventure",
         "Solo",
         "Peak (Holiday)",
         "One-Day",
         "18-24",
         "2025-01-27"
        ],
        [
         "315",
         "0",
         "9.63674097244641300",
         "846.62",
         "108.3",
         "3.1",
         "Revenge of the Mummy",
         "Solo",
         "Peak (Holiday)",
         "One-Day",
         "35-44",
         "2024-12-12"
        ],
        [
         "316",
         "0",
         "6.72642460446377200",
         "854.03",
         "53.8",
         "7.7",
         "Revenge of the Mummy",
         "Couple",
         "Off-Peak (Weekend)",
         "Multi-Day",
         "45-54",
         "2024-12-01"
        ],
        [
         "317",
         "0",
         "4.69061855088277800",
         "1466.40",
         "58.4",
         "2.8",
         "Harry Potter and the Escape",
         "Family (2+2)",
         "Off-Peak (Weekend)",
         "VIP Experience",
         "55+",
         "2025-03-27"
        ],
        [
         "318",
         "0",
         "13.22149778133257500",
         "369.84",
         "93.8",
         "4.6",
         "Jurassic Park River Adventure",
         "Family (2 adults)",
         "Peak (Holiday)",
         "Multi-Day",
         "55+",
         "2024-07-07"
        ],
        [
         "319",
         "0",
         "12.61125267669609200",
         "731.03",
         "31.3",
         "5.7",
         "Hagrid's Magical Creatures Motorbike Adventure",
         "Family (2 adults)",
         "Off-Peak (Weekend)",
         "VIP Experience",
         "25-34",
         "2025-06-16"
        ],
        [
         "320",
         "1",
         "20.97447075920154800",
         "542.30",
         "82.8",
         "4.4",
         "Harry Potter and the Escape",
         "Family (2+2)",
         "Off-Peak (Weekday)",
         "Multi-Day",
         "35-44",
         "2024-11-25"
        ],
        [
         "321",
         "0",
         "10.77108739706566400",
         "1357.87",
         "74.0",
         "8.3",
         "Revenge of the Mummy",
         "Solo",
         "Peak (Holiday)",
         "One-Day",
         "35-44",
         "2025-04-25"
        ],
        [
         "322",
         "0",
         "4.75137141044167950",
         "1032.87",
         "91.0",
         "3.6",
         "Jurassic Park River Adventure",
         "Large Group (5+)",
         "Off-Peak (Weekday)",
         "Annual Pass",
         "18-24",
         "2024-11-13"
        ],
        [
         "323",
         "1",
         "34.37983911961073000",
         "1380.29",
         "29.5",
         "8.3",
         "Harry Potter and the Escape",
         "Family (2+2)",
         "Off-Peak (Weekend)",
         "One-Day",
         "25-34",
         "2025-01-11"
        ],
        [
         "324",
         "1",
         "13.50541878914625500",
         "468.23",
         "34.9",
         "6.0",
         "Jurassic Park River Adventure",
         "Family (2 adults)",
         "Peak (Summer)",
         "Multi-Day",
         "18-24",
         "2025-06-11"
        ],
        [
         "325",
         "0",
         "11.73830340874154700",
         "882.41",
         "73.9",
         "6.3",
         "Spider-Man Ride",
         "Friends (3-4)",
         "Peak (Summer)",
         "Annual Pass",
         "35-44",
         "2025-01-22"
        ],
        [
         "326",
         "0",
         "16.61867976456038300",
         "822.15",
         "61.1",
         "2.7",
         "Jurassic Park River Adventure",
         "Large Group (5+)",
         "Off-Peak (Weekday)",
         "Annual Pass",
         "25-34",
         "2024-11-10"
        ],
        [
         "327",
         "0",
         "18.83683531859195500",
         "723.54",
         "54.9",
         "4.1",
         "Harry Potter and the Escape",
         "Couple",
         "Peak (Holiday)",
         "VIP Experience",
         "25-34",
         "2024-10-07"
        ],
        [
         "328",
         "1",
         "2.78221811835757700",
         "1042.70",
         "29.5",
         "7.5",
         "Jurassic Park River Adventure",
         "Large Group (5+)",
         "Peak (Holiday)",
         "Annual Pass",
         "25-34",
         "2024-07-15"
        ],
        [
         "329",
         "0",
         "8.88730446830323500",
         "50.00",
         "47.7",
         "3.2",
         "Harry Potter and the Escape",
         "Family (2 adults)",
         "Off-Peak (Weekend)",
         "Annual Pass",
         "25-34",
         "2024-10-27"
        ],
        [
         "330",
         "0",
         "14.92582246191377500",
         "270.47",
         "58.7",
         "3.3",
         "Revenge of the Mummy",
         "Large Group (5+)",
         "Off-Peak (Weekday)",
         "Annual Pass",
         "45-54",
         "2024-08-27"
        ],
        [
         "331",
         "0",
         "31.72039884193952700",
         "808.87",
         "62.3",
         "8.4",
         "Transformers: The Ride",
         "Large Group (5+)",
         "Peak (Holiday)",
         "VIP Experience",
         "55+",
         "2025-03-09"
        ],
        [
         "332",
         "0",
         "0.71821661792147440",
         "1001.97",
         "69.5",
         "3.7",
         "Jurassic Park River Adventure",
         "Couple",
         "Off-Peak (Weekend)",
         "VIP Experience",
         "18-24",
         "2025-02-14"
        ],
        [
         "333",
         "0",
         "24.31067795579410000",
         "1095.11",
         "103.6",
         "7.8",
         "Spider-Man Ride",
         "Friends (3-4)",
         "Peak (Summer)",
         "VIP Experience",
         "35-44",
         "2024-12-15"
        ],
        [
         "334",
         "0",
         "23.80765549406944400",
         "948.54",
         "27.1",
         "4.8",
         "Spider-Man Ride",
         "Couple",
         "Peak (Summer)",
         "One-Day",
         "55+",
         "2025-05-15"
        ],
        [
         "335",
         "0",
         "17.98057656329003300",
         "907.01",
         "71.3",
         "6.2",
         "Hagrid's Magical Creatures Motorbike Adventure",
         "Friends (3-4)",
         "Off-Peak (Weekend)",
         "Multi-Day",
         "18-24",
         "2024-12-08"
        ],
        [
         "336",
         "0",
         "21.14185657082225200",
         "908.99",
         "46.4",
         "6.1",
         "The Incredible Hulk Coaster",
         "Friends (3-4)",
         "Off-Peak (Weekday)",
         "Annual Pass",
         "45-54",
         "2025-02-20"
        ],
        [
         "337",
         "0",
         "25.82371195988989000",
         "364.95",
         "40.8",
         "5.1",
         "Harry Potter and the Escape",
         "Friends (3-4)",
         "Peak (Holiday)",
         "Multi-Day",
         "35-44",
         "2024-12-01"
        ],
        [
         "338",
         "1",
         "10.22658222937655600",
         "1075.19",
         "74.8",
         "4.2",
         "Revenge of the Mummy",
         "Solo",
         "Off-Peak (Weekday)",
         "Annual Pass",
         "55+",
         "2025-01-24"
        ],
        [
         "339",
         "0",
         "5.40132907218097550",
         "1268.46",
         "14.8",
         "7.7",
         "Jurassic Park River Adventure",
         "Family (2 adults)",
         "Off-Peak (Weekend)",
         "One-Day",
         "45-54",
         "2024-08-12"
        ],
        [
         "340",
         "0",
         "11.96191197899548300",
         "1113.35",
         "49.3",
         "4.8",
         "Transformers: The Ride",
         "Friends (3-4)",
         "Peak (Summer)",
         "Annual Pass",
         "45-54",
         "2024-11-17"
        ],
        [
         "341",
         "0",
         "5.69143908422243300",
         "572.89",
         "37.7",
         "7.6",
         "Harry Potter and the Escape",
         "Large Group (5+)",
         "Peak (Holiday)",
         "Multi-Day",
         "55+",
         "2025-05-09"
        ],
        [
         "342",
         "0",
         "32.38117812763733000",
         "487.22",
         "13.7",
         "3.6",
         "Harry Potter and the Escape",
         "Couple",
         "Peak (Holiday)",
         "VIP Experience",
         "18-24",
         "2024-11-21"
        ],
        [
         "343",
         "1",
         "3.00961585665697750",
         "1333.16",
         "54.5",
         "5.8",
         "Harry Potter and the Escape",
         "Solo",
         "Peak (Summer)",
         "Annual Pass",
         "35-44",
         "2024-10-02"
        ],
        [
         "344",
         "0",
         "2.09086369668536550",
         "886.27",
         "74.3",
         "7.0",
         "Transformers: The Ride",
         "Couple",
         "Peak (Summer)",
         "Multi-Day",
         "25-34",
         "2024-11-16"
        ],
        [
         "345",
         "0",
         "4.58630417393275400",
         "908.38",
         "95.6",
         "7.3",
         "Jurassic Park River Adventure",
         "Friends (3-4)",
         "Off-Peak (Weekday)",
         "Multi-Day",
         "25-34",
         "2025-01-30"
        ],
        [
         "346",
         "1",
         "5.71528998670738100",
         "449.95",
         "46.8",
         "6.7",
         "The Incredible Hulk Coaster",
         "Couple",
         "Off-Peak (Weekend)",
         "Multi-Day",
         "18-24",
         "2024-07-10"
        ],
        [
         "347",
         "1",
         "23.82546929944895000",
         "799.16",
         "53.5",
         "7.5",
         "The Incredible Hulk Coaster",
         "Friends (3-4)",
         "Off-Peak (Weekday)",
         "One-Day",
         "55+",
         "2025-02-11"
        ],
        [
         "348",
         "0",
         "2.96514669671334300",
         "815.13",
         "60.7",
         "4.3",
         "Harry Potter and the Escape",
         "Solo",
         "Off-Peak (Weekend)",
         "Multi-Day",
         "45-54",
         "2024-06-24"
        ],
        [
         "349",
         "0",
         "11.17027672972803600",
         "680.33",
         "98.9",
         "5.0",
         "Harry Potter and the Escape",
         "Couple",
         "Peak (Holiday)",
         "VIP Experience",
         "35-44",
         "2025-02-22"
        ],
        [
         "350",
         "0",
         "5.78687691093471200",
         "1096.84",
         "111.4",
         "4.9",
         "Spider-Man Ride",
         "Friends (3-4)",
         "Peak (Holiday)",
         "One-Day",
         "25-34",
         "2024-07-25"
        ],
        [
         "351",
         "0",
         "12.41684369645314400",
         "630.43",
         "44.2",
         "8.1",
         "Spider-Man Ride",
         "Family (2+2)",
         "Peak (Holiday)",
         "Multi-Day",
         "25-34",
         "2025-02-21"
        ],
        [
         "352",
         "0",
         "32.70795429946063000",
         "888.89",
         "50.1",
         "4.3",
         "Jurassic Park River Adventure",
         "Solo",
         "Peak (Holiday)",
         "VIP Experience",
         "45-54",
         "2025-02-06"
        ],
        [
         "353",
         "1",
         "13.71656918227933100",
         "1110.68",
         "54.8",
         "5.2",
         "The Incredible Hulk Coaster",
         "Family (2+2)",
         "Peak (Holiday)",
         "Annual Pass",
         "25-34",
         "2024-08-31"
        ],
        [
         "354",
         "0",
         "21.32792412351493600",
         "625.65",
         "25.7",
         "7.3",
         "Harry Potter and the Escape",
         "Family (2 adults)",
         "Off-Peak (Weekend)",
         "Multi-Day",
         "45-54",
         "2025-02-22"
        ],
        [
         "355",
         "1",
         "7.98486931265304100",
         "666.75",
         "45.8",
         "7.2",
         "Harry Potter and the Escape",
         "Family (2 adults)",
         "Peak (Holiday)",
         "One-Day",
         "35-44",
         "2025-02-24"
        ],
        [
         "356",
         "0",
         "11.20553029168586000",
         "1198.39",
         "33.0",
         "6.3",
         "Harry Potter and the Escape",
         "Large Group (5+)",
         "Peak (Summer)",
         "Multi-Day",
         "55+",
         "2025-06-18"
        ],
        [
         "357",
         "0",
         "7.79576999564740500",
         "771.29",
         "90.9",
         "4.1",
         "Spider-Man Ride",
         "Large Group (5+)",
         "Off-Peak (Weekday)",
         "VIP Experience",
         "25-34",
         "2024-10-20"
        ],
        [
         "358",
         "1",
         "9.25124654425810400",
         "863.64",
         "76.8",
         "7.4",
         "Jurassic Park River Adventure",
         "Couple",
         "Off-Peak (Weekend)",
         "Multi-Day",
         "25-34",
         "2024-10-04"
        ],
        [
         "359",
         "1",
         "5.86215060960929800",
         "877.65",
         "35.5",
         "5.5",
         "Harry Potter and the Escape",
         "Large Group (5+)",
         "Off-Peak (Weekday)",
         "One-Day",
         "18-24",
         "2025-05-13"
        ],
        [
         "360",
         "0",
         "33.70908793237406000",
         "886.01",
         "84.2",
         "4.5",
         "The Incredible Hulk Coaster",
         "Large Group (5+)",
         "Peak (Summer)",
         "Multi-Day",
         "18-24",
         "2025-05-26"
        ],
        [
         "361",
         "0",
         "5.57014856914705200",
         "835.95",
         "49.2",
         "8.4",
         "Jurassic Park River Adventure",
         "Large Group (5+)",
         "Peak (Summer)",
         "Annual Pass",
         "25-34",
         "2025-01-10"
        ],
        [
         "362",
         "1",
         "25.24602272040046800",
         "717.17",
         "52.0",
         "7.6",
         "The Incredible Hulk Coaster",
         "Couple",
         "Off-Peak (Weekend)",
         "One-Day",
         "35-44",
         "2024-11-26"
        ],
        [
         "363",
         "1",
         "1.46624520972250540",
         "871.71",
         "85.8",
         "2.8",
         "The Incredible Hulk Coaster",
         "Family (2+2)",
         "Off-Peak (Weekday)",
         "Annual Pass",
         "55+",
         "2025-02-27"
        ],
        [
         "364",
         "0",
         "6.85861864353333200",
         "1284.72",
         "77.5",
         "4.0",
         "Harry Potter and the Escape",
         "Family (2+2)",
         "Peak (Holiday)",
         "Multi-Day",
         "45-54",
         "2025-01-31"
        ],
        [
         "365",
         "0",
         "4.50576806269100600",
         "1297.08",
         "46.2",
         "7.5",
         "The Incredible Hulk Coaster",
         "Friends (3-4)",
         "Peak (Holiday)",
         "One-Day",
         "35-44",
         "2025-01-20"
        ],
        [
         "366",
         "1",
         "10.27155353508473500",
         "1019.00",
         "17.2",
         "7.9",
         "Hagrid's Magical Creatures Motorbike Adventure",
         "Family (2+2)",
         "Off-Peak (Weekday)",
         "Annual Pass",
         "55+",
         "2025-01-11"
        ],
        [
         "367",
         "1",
         "14.88664602275339100",
         "699.04",
         "56.7",
         "6.9",
         "Transformers: The Ride",
         "Large Group (5+)",
         "Off-Peak (Weekend)",
         "One-Day",
         "18-24",
         "2025-02-18"
        ],
        [
         "368",
         "1",
         "14.91640525448271300",
         "954.38",
         "65.7",
         "5.5",
         "Spider-Man Ride",
         "Solo",
         "Off-Peak (Weekday)",
         "VIP Experience",
         "45-54",
         "2024-10-20"
        ],
        [
         "369",
         "1",
         "5.71705257889177100",
         "1306.47",
         "39.2",
         "6.3",
         "Transformers: The Ride",
         "Family (2 adults)",
         "Off-Peak (Weekend)",
         "Multi-Day",
         "25-34",
         "2024-08-24"
        ],
        [
         "370",
         "0",
         "10.11663506780565000",
         "512.95",
         "27.4",
         "5.8",
         "Jurassic Park River Adventure",
         "Family (2 adults)",
         "Off-Peak (Weekday)",
         "VIP Experience",
         "25-34",
         "2025-02-08"
        ],
        [
         "371",
         "0",
         "12.36597057766717700",
         "685.33",
         "52.1",
         "3.8",
         "Hagrid's Magical Creatures Motorbike Adventure",
         "Large Group (5+)",
         "Off-Peak (Weekend)",
         "VIP Experience",
         "25-34",
         "2025-02-01"
        ],
        [
         "372",
         "0",
         "29.24118585806404600",
         "351.47",
         "95.4",
         "2.6",
         "The Incredible Hulk Coaster",
         "Couple",
         "Peak (Holiday)",
         "Annual Pass",
         "55+",
         "2025-03-26"
        ],
        [
         "373",
         "0",
         "20.98822377761316500",
         "1078.38",
         "67.1",
         "3.2",
         "Revenge of the Mummy",
         "Family (2 adults)",
         "Off-Peak (Weekend)",
         "Multi-Day",
         "25-34",
         "2024-10-20"
        ],
        [
         "374",
         "1",
         "6.50589069023893000",
         "362.44",
         "109.4",
         "7.2",
         "Jurassic Park River Adventure",
         "Family (2+2)",
         "Peak (Summer)",
         "VIP Experience",
         "55+",
         "2024-08-19"
        ],
        [
         "375",
         "0",
         "26.69805349795095000",
         "408.01",
         "86.3",
         "7.6",
         "Spider-Man Ride",
         "Family (2+2)",
         "Off-Peak (Weekend)",
         "Annual Pass",
         "55+",
         "2024-09-20"
        ],
        [
         "376",
         "1",
         "4.88535983700178460",
         "1046.65",
         "87.0",
         "7.1",
         "Hagrid's Magical Creatures Motorbike Adventure",
         "Family (2 adults)",
         "Off-Peak (Weekend)",
         "Annual Pass",
         "25-34",
         "2024-10-17"
        ],
        [
         "377",
         "0",
         "4.74681082976561300",
         "737.25",
         "76.4",
         "3.5",
         "Hagrid's Magical Creatures Motorbike Adventure",
         "Friends (3-4)",
         "Off-Peak (Weekend)",
         "One-Day",
         "45-54",
         "2024-12-23"
        ],
        [
         "378",
         "0",
         "14.65178972268704300",
         "888.59",
         "110.5",
         "8.0",
         "Spider-Man Ride",
         "Family (2+2)",
         "Peak (Summer)",
         "Multi-Day",
         "45-54",
         "2024-11-11"
        ],
        [
         "379",
         "0",
         "10.94459230127846900",
         "1100.52",
         "36.2",
         "2.9",
         "Transformers: The Ride",
         "Family (2+2)",
         "Off-Peak (Weekday)",
         "Multi-Day",
         "18-24",
         "2024-10-24"
        ],
        [
         "380",
         "1",
         "25.37165426037818200",
         "234.91",
         "30.0",
         "5.6",
         "Transformers: The Ride",
         "Family (2 adults)",
         "Peak (Summer)",
         "Annual Pass",
         "25-34",
         "2025-06-06"
        ],
        [
         "381",
         "1",
         "9.89552283785514500",
         "936.62",
         "21.4",
         "6.5",
         "Transformers: The Ride",
         "Family (2+2)",
         "Off-Peak (Weekday)",
         "Multi-Day",
         "35-44",
         "2024-12-23"
        ],
        [
         "382",
         "0",
         "10.70915897266255500",
         "845.37",
         "34.9",
         "4.5",
         "The Incredible Hulk Coaster",
         "Family (2 adults)",
         "Peak (Summer)",
         "One-Day",
         "45-54",
         "2024-06-18"
        ],
        [
         "383",
         "0",
         "24.86767542388393800",
         "345.97",
         "80.6",
         "3.7",
         "Transformers: The Ride",
         "Large Group (5+)",
         "Off-Peak (Weekend)",
         "Multi-Day",
         "55+",
         "2024-08-06"
        ],
        [
         "384",
         "0",
         "2.28134560361344360",
         "1002.07",
         "89.1",
         "8.2",
         "Spider-Man Ride",
         "Family (2+2)",
         "Peak (Summer)",
         "One-Day",
         "18-24",
         "2025-03-28"
        ],
        [
         "385",
         "1",
         "10.81193353709035000",
         "934.92",
         "43.1",
         "6.1",
         "Spider-Man Ride",
         "Solo",
         "Off-Peak (Weekday)",
         "Annual Pass",
         "25-34",
         "2024-09-30"
        ],
        [
         "386",
         "1",
         "12.74193583618499700",
         "719.72",
         "55.8",
         "4.1",
         "The Incredible Hulk Coaster",
         "Family (2+2)",
         "Peak (Summer)",
         "One-Day",
         "45-54",
         "2025-05-21"
        ],
        [
         "387",
         "0",
         "3.16330113987808300",
         "326.26",
         "32.9",
         "4.5",
         "Revenge of the Mummy",
         "Couple",
         "Off-Peak (Weekday)",
         "Annual Pass",
         "25-34",
         "2025-03-02"
        ],
        [
         "388",
         "0",
         "30.01022905545391200",
         "834.16",
         "78.4",
         "2.7",
         "Harry Potter and the Escape",
         "Family (2 adults)",
         "Off-Peak (Weekday)",
         "Multi-Day",
         "55+",
         "2025-06-01"
        ],
        [
         "389",
         "1",
         "8.41081991573313700",
         "941.93",
         "18.4",
         "6.4",
         "Revenge of the Mummy",
         "Solo",
         "Off-Peak (Weekday)",
         "Annual Pass",
         "25-34",
         "2025-03-13"
        ],
        [
         "390",
         "0",
         "6.05133524150215400",
         "495.01",
         "22.8",
         "3.7",
         "Revenge of the Mummy",
         "Friends (3-4)",
         "Peak (Holiday)",
         "Annual Pass",
         "18-24",
         "2024-12-03"
        ],
        [
         "391",
         "0",
         "21.11985606082580700",
         "485.20",
         "36.4",
         "7.1",
         "Harry Potter and the Escape",
         "Family (2+2)",
         "Off-Peak (Weekday)",
         "Annual Pass",
         "45-54",
         "2024-09-25"
        ],
        [
         "392",
         "1",
         "6.32596378912946000",
         "827.83",
         "35.3",
         "5.0",
         "Transformers: The Ride",
         "Couple",
         "Off-Peak (Weekday)",
         "VIP Experience",
         "55+",
         "2024-07-31"
        ],
        [
         "393",
         "1",
         "5.55201872206389900",
         "637.62",
         "58.2",
         "2.8",
         "Harry Potter and the Escape",
         "Solo",
         "Off-Peak (Weekend)",
         "One-Day",
         "25-34",
         "2024-08-10"
        ],
        [
         "394",
         "0",
         "21.15706383715481200",
         "1173.89",
         "86.7",
         "6.2",
         "Harry Potter and the Escape",
         "Family (2 adults)",
         "Peak (Summer)",
         "One-Day",
         "18-24",
         "2025-04-28"
        ],
        [
         "395",
         "0",
         "6.89221617393388500",
         "562.50",
         "48.3",
         "6.5",
         "Revenge of the Mummy",
         "Couple",
         "Off-Peak (Weekend)",
         "One-Day",
         "45-54",
         "2024-10-20"
        ],
        [
         "396",
         "0",
         "7.93311515000026400",
         "535.71",
         "40.2",
         "2.8",
         "Transformers: The Ride",
         "Solo",
         "Peak (Summer)",
         "Multi-Day",
         "35-44",
         "2024-10-17"
        ],
        [
         "397",
         "0",
         "10.57130475206840200",
         "591.44",
         "37.6",
         "5.4",
         "Transformers: The Ride",
         "Couple",
         "Peak (Holiday)",
         "Annual Pass",
         "25-34",
         "2025-05-01"
        ],
        [
         "398",
         "0",
         "13.53616038988752400",
         "750.72",
         "38.5",
         "4.9",
         "Transformers: The Ride",
         "Solo",
         "Off-Peak (Weekend)",
         "Annual Pass",
         "45-54",
         "2024-12-24"
        ],
        [
         "399",
         "1",
         "17.26683795621651000",
         "922.63",
         "23.3",
         "4.5",
         "Jurassic Park River Adventure",
         "Family (2+2)",
         "Off-Peak (Weekend)",
         "One-Day",
         "55+",
         "2024-12-04"
        ],
        [
         "400",
         "0",
         "6.95363182135839400",
         "822.73",
         "78.2",
         "3.8",
         "The Incredible Hulk Coaster",
         "Friends (3-4)",
         "Off-Peak (Weekend)",
         "Multi-Day",
         "55+",
         "2025-06-08"
        ],
        [
         "401",
         "0",
         "9.70288909660448500",
         "1078.50",
         "17.9",
         "5.3",
         "Hagrid's Magical Creatures Motorbike Adventure",
         "Couple",
         "Off-Peak (Weekday)",
         "Multi-Day",
         "45-54",
         "2024-11-04"
        ],
        [
         "402",
         "0",
         "8.02032842484678500",
         "930.57",
         "19.1",
         "5.7",
         "Harry Potter and the Escape",
         "Family (2+2)",
         "Off-Peak (Weekday)",
         "Multi-Day",
         "45-54",
         "2024-10-08"
        ],
        [
         "403",
         "1",
         "28.73152322664603300",
         "889.62",
         "90.6",
         "8.2",
         "Jurassic Park River Adventure",
         "Family (2+2)",
         "Peak (Holiday)",
         "One-Day",
         "45-54",
         "2025-01-18"
        ],
        [
         "404",
         "0",
         "16.78507994945275000",
         "1255.00",
         "71.3",
         "6.1",
         "The Incredible Hulk Coaster",
         "Family (2+2)",
         "Peak (Summer)",
         "Annual Pass",
         "25-34",
         "2024-06-21"
        ],
        [
         "405",
         "0",
         "4.10192735422095900",
         "840.39",
         "40.7",
         "7.8",
         "The Incredible Hulk Coaster",
         "Family (2 adults)",
         "Peak (Holiday)",
         "One-Day",
         "55+",
         "2025-04-02"
        ],
        [
         "406",
         "1",
         "13.29527639984535000",
         "709.43",
         "44.9",
         "8.5",
         "The Incredible Hulk Coaster",
         "Family (2 adults)",
         "Off-Peak (Weekend)",
         "VIP Experience",
         "18-24",
         "2024-12-16"
        ],
        [
         "407",
         "1",
         "0.17337015033575320",
         "1296.76",
         "45.7",
         "2.6",
         "Spider-Man Ride",
         "Couple",
         "Off-Peak (Weekend)",
         "One-Day",
         "55+",
         "2025-05-19"
        ],
        [
         "408",
         "1",
         "1.21939691343068040",
         "365.15",
         "77.3",
         "6.4",
         "Harry Potter and the Escape",
         "Family (2 adults)",
         "Peak (Summer)",
         "One-Day",
         "25-34",
         "2024-12-14"
        ],
        [
         "409",
         "0",
         "0.38463204363055260",
         "1201.07",
         "100.3",
         "5.9",
         "Harry Potter and the Escape",
         "Solo",
         "Off-Peak (Weekend)",
         "VIP Experience",
         "45-54",
         "2025-05-08"
        ],
        [
         "410",
         "1",
         "5.78456042262704350",
         "861.19",
         "45.5",
         "2.8",
         "Jurassic Park River Adventure",
         "Family (2+2)",
         "Peak (Summer)",
         "Annual Pass",
         "55+",
         "2024-07-18"
        ],
        [
         "411",
         "0",
         "10.14147785907180200",
         "718.92",
         "17.8",
         "2.7",
         "Hagrid's Magical Creatures Motorbike Adventure",
         "Couple",
         "Peak (Summer)",
         "Multi-Day",
         "35-44",
         "2024-07-12"
        ],
        [
         "412",
         "0",
         "4.61477322351465900",
         "404.05",
         "51.4",
         "4.5",
         "Jurassic Park River Adventure",
         "Solo",
         "Off-Peak (Weekday)",
         "Annual Pass",
         "45-54",
         "2024-08-15"
        ],
        [
         "413",
         "1",
         "18.18396310516923700",
         "945.98",
         "81.1",
         "4.7",
         "Harry Potter and the Escape",
         "Friends (3-4)",
         "Off-Peak (Weekday)",
         "VIP Experience",
         "18-24",
         "2025-05-25"
        ],
        [
         "414",
         "0",
         "21.98437662938039600",
         "800.47",
         "95.2",
         "2.6",
         "Spider-Man Ride",
         "Solo",
         "Off-Peak (Weekend)",
         "Annual Pass",
         "55+",
         "2025-01-15"
        ],
        [
         "415",
         "0",
         "13.47304550199943300",
         "1294.58",
         "105.5",
         "3.1",
         "Jurassic Park River Adventure",
         "Friends (3-4)",
         "Off-Peak (Weekday)",
         "VIP Experience",
         "45-54",
         "2024-12-29"
        ],
        [
         "416",
         "0",
         "15.08533151120498600",
         "1218.60",
         "59.5",
         "7.6",
         "Hagrid's Magical Creatures Motorbike Adventure",
         "Couple",
         "Peak (Holiday)",
         "Annual Pass",
         "35-44",
         "2025-03-12"
        ],
        [
         "417",
         "0",
         "25.33713525709682000",
         "113.90",
         "40.7",
         "8.0",
         "Jurassic Park River Adventure",
         "Couple",
         "Off-Peak (Weekday)",
         "Annual Pass",
         "45-54",
         "2024-12-14"
        ],
        [
         "418",
         "0",
         "16.16566152693795600",
         "1034.48",
         "34.0",
         "6.4",
         "The Incredible Hulk Coaster",
         "Family (2 adults)",
         "Off-Peak (Weekday)",
         "Annual Pass",
         "55+",
         "2024-07-05"
        ],
        [
         "419",
         "1",
         "29.56506161492951000",
         "1253.50",
         "40.8",
         "7.4",
         "The Incredible Hulk Coaster",
         "Couple",
         "Off-Peak (Weekend)",
         "Annual Pass",
         "18-24",
         "2024-09-20"
        ],
        [
         "420",
         "1",
         "24.10604918177999800",
         "984.43",
         "55.4",
         "3.4",
         "Harry Potter and the Escape",
         "Friends (3-4)",
         "Peak (Summer)",
         "Multi-Day",
         "25-34",
         "2024-11-07"
        ],
        [
         "421",
         "0",
         "6.81593954711325800",
         "511.83",
         "59.9",
         "4.0",
         "The Incredible Hulk Coaster",
         "Family (2+2)",
         "Peak (Summer)",
         "Multi-Day",
         "18-24",
         "2024-07-26"
        ],
        [
         "422",
         "1",
         "4.14623458051830300",
         "905.27",
         "78.8",
         "5.7",
         "Jurassic Park River Adventure",
         "Couple",
         "Peak (Holiday)",
         "Annual Pass",
         "25-34",
         "2024-10-01"
        ],
        [
         "423",
         "0",
         "10.03476592064262000",
         "1025.41",
         "108.4",
         "5.1",
         "The Incredible Hulk Coaster",
         "Couple",
         "Peak (Summer)",
         "One-Day",
         "18-24",
         "2024-10-07"
        ],
        [
         "424",
         "0",
         "1.71824647724201670",
         "981.68",
         "45.3",
         "4.4",
         "The Incredible Hulk Coaster",
         "Family (2+2)",
         "Peak (Summer)",
         "Annual Pass",
         "35-44",
         "2025-01-21"
        ],
        [
         "425",
         "0",
         "0.44924165249130643",
         "461.63",
         "71.8",
         "3.3",
         "The Incredible Hulk Coaster",
         "Large Group (5+)",
         "Off-Peak (Weekend)",
         "One-Day",
         "55+",
         "2025-02-06"
        ],
        [
         "426",
         "0",
         "3.66893313413089400",
         "748.87",
         "45.1",
         "4.9",
         "Hagrid's Magical Creatures Motorbike Adventure",
         "Solo",
         "Off-Peak (Weekday)",
         "One-Day",
         "35-44",
         "2024-08-11"
        ],
        [
         "427",
         "0",
         "37.78890669999207000",
         "1063.32",
         "29.2",
         "4.4",
         "Spider-Man Ride",
         "Family (2 adults)",
         "Off-Peak (Weekend)",
         "Multi-Day",
         "55+",
         "2024-11-20"
        ],
        [
         "428",
         "0",
         "0.63151095310745380",
         "988.91",
         "65.2",
         "3.6",
         "Harry Potter and the Escape",
         "Solo",
         "Off-Peak (Weekday)",
         "One-Day",
         "55+",
         "2025-02-14"
        ],
        [
         "429",
         "0",
         "29.71870643109920000",
         "730.48",
         "53.6",
         "3.1",
         "Revenge of the Mummy",
         "Family (2 adults)",
         "Peak (Summer)",
         "Multi-Day",
         "18-24",
         "2025-06-15"
        ],
        [
         "430",
         "1",
         "14.76424753927598100",
         "993.15",
         "25.3",
         "8.4",
         "Jurassic Park River Adventure",
         "Friends (3-4)",
         "Off-Peak (Weekend)",
         "VIP Experience",
         "25-34",
         "2025-05-22"
        ],
        [
         "431",
         "0",
         "17.75677535189085000",
         "677.97",
         "43.1",
         "4.6",
         "The Incredible Hulk Coaster",
         "Family (2+2)",
         "Off-Peak (Weekend)",
         "Multi-Day",
         "55+",
         "2024-11-10"
        ],
        [
         "432",
         "0",
         "21.87272357632174300",
         "575.19",
         "70.5",
         "5.3",
         "Transformers: The Ride",
         "Family (2 adults)",
         "Off-Peak (Weekday)",
         "One-Day",
         "55+",
         "2025-04-13"
        ],
        [
         "433",
         "0",
         "9.72625997426549600",
         "444.08",
         "97.6",
         "7.3",
         "Jurassic Park River Adventure",
         "Family (2+2)",
         "Peak (Summer)",
         "Multi-Day",
         "45-54",
         "2025-03-06"
        ],
        [
         "434",
         "0",
         "0.74704736685888350",
         "942.34",
         "38.6",
         "2.7",
         "Transformers: The Ride",
         "Family (2 adults)",
         "Off-Peak (Weekday)",
         "One-Day",
         "45-54",
         "2024-08-02"
        ],
        [
         "435",
         "0",
         "1.35981949606590850",
         "1003.80",
         "43.3",
         "6.0",
         "Revenge of the Mummy",
         "Friends (3-4)",
         "Peak (Summer)",
         "One-Day",
         "18-24",
         "2024-09-14"
        ],
        [
         "436",
         "1",
         "21.50838152201250300",
         "628.74",
         "49.3",
         "4.0",
         "Harry Potter and the Escape",
         "Family (2 adults)",
         "Off-Peak (Weekday)",
         "VIP Experience",
         "55+",
         "2025-04-01"
        ],
        [
         "437",
         "0",
         "1.10864412962454880",
         "881.54",
         "29.4",
         "8.3",
         "Hagrid's Magical Creatures Motorbike Adventure",
         "Family (2+2)",
         "Peak (Summer)",
         "One-Day",
         "45-54",
         "2024-09-11"
        ],
        [
         "438",
         "0",
         "8.67158849676604900",
         "1182.05",
         "59.1",
         "3.7",
         "The Incredible Hulk Coaster",
         "Couple",
         "Peak (Summer)",
         "One-Day",
         "45-54",
         "2024-10-01"
        ],
        [
         "439",
         "0",
         "11.60454410225962900",
         "1179.65",
         "64.4",
         "2.5",
         "The Incredible Hulk Coaster",
         "Couple",
         "Off-Peak (Weekday)",
         "One-Day",
         "18-24",
         "2024-11-14"
        ],
        [
         "440",
         "1",
         "11.41403389758605300",
         "799.35",
         "67.5",
         "7.4",
         "Jurassic Park River Adventure",
         "Family (2+2)",
         "Off-Peak (Weekday)",
         "One-Day",
         "25-34",
         "2025-05-27"
        ],
        [
         "441",
         "1",
         "5.69153347125682350",
         "636.64",
         "45.4",
         "3.9",
         "The Incredible Hulk Coaster",
         "Large Group (5+)",
         "Peak (Summer)",
         "Multi-Day",
         "35-44",
         "2025-03-25"
        ],
        [
         "442",
         "0",
         "16.87786825703902200",
         "753.97",
         "31.4",
         "4.3",
         "Spider-Man Ride",
         "Large Group (5+)",
         "Off-Peak (Weekday)",
         "Annual Pass",
         "18-24",
         "2025-04-12"
        ],
        [
         "443",
         "0",
         "3.17619259935788800",
         "1010.08",
         "77.1",
         "6.2",
         "Revenge of the Mummy",
         "Friends (3-4)",
         "Peak (Summer)",
         "One-Day",
         "18-24",
         "2024-10-16"
        ],
        [
         "444",
         "0",
         "4.52525147364302300",
         "897.84",
         "87.9",
         "6.6",
         "Revenge of the Mummy",
         "Solo",
         "Off-Peak (Weekend)",
         "VIP Experience",
         "45-54",
         "2025-01-17"
        ],
        [
         "445",
         "0",
         "1.60960820160114840",
         "623.39",
         "30.1",
         "5.5",
         "Hagrid's Magical Creatures Motorbike Adventure",
         "Friends (3-4)",
         "Off-Peak (Weekend)",
         "VIP Experience",
         "35-44",
         "2025-01-21"
        ],
        [
         "446",
         "1",
         "9.93032450250836600",
         "813.14",
         "43.6",
         "7.0",
         "Revenge of the Mummy",
         "Friends (3-4)",
         "Peak (Holiday)",
         "Annual Pass",
         "25-34",
         "2024-09-04"
        ],
        [
         "447",
         "0",
         "9.83953283785322200",
         "827.71",
         "41.7",
         "4.2",
         "Harry Potter and the Escape",
         "Large Group (5+)",
         "Off-Peak (Weekend)",
         "VIP Experience",
         "25-34",
         "2024-12-25"
        ],
        [
         "448",
         "1",
         "19.78999358777363300",
         "945.87",
         "104.5",
         "5.4",
         "Harry Potter and the Escape",
         "Family (2 adults)",
         "Off-Peak (Weekday)",
         "One-Day",
         "25-34",
         "2024-08-31"
        ],
        [
         "449",
         "1",
         "5.72148785045206800",
         "487.54",
         "43.4",
         "4.3",
         "Spider-Man Ride",
         "Family (2+2)",
         "Off-Peak (Weekend)",
         "VIP Experience",
         "35-44",
         "2024-12-05"
        ],
        [
         "450",
         "0",
         "11.72512085743580000",
         "1152.07",
         "40.1",
         "4.2",
         "Revenge of the Mummy",
         "Friends (3-4)",
         "Off-Peak (Weekend)",
         "One-Day",
         "18-24",
         "2024-10-05"
        ],
        [
         "451",
         "0",
         "11.39971826496467600",
         "997.40",
         "43.3",
         "7.1",
         "Spider-Man Ride",
         "Family (2+2)",
         "Off-Peak (Weekend)",
         "VIP Experience",
         "45-54",
         "2024-08-24"
        ],
        [
         "452",
         "1",
         "8.43157192982723200",
         "1384.39",
         "61.5",
         "6.8",
         "The Incredible Hulk Coaster",
         "Friends (3-4)",
         "Off-Peak (Weekday)",
         "One-Day",
         "55+",
         "2025-05-28"
        ],
        [
         "453",
         "0",
         "5.05889759828031900",
         "855.20",
         "25.6",
         "6.9",
         "Jurassic Park River Adventure",
         "Solo",
         "Off-Peak (Weekend)",
         "One-Day",
         "18-24",
         "2025-01-29"
        ],
        [
         "454",
         "0",
         "1.88151887092445060",
         "583.63",
         "53.0",
         "8.5",
         "Hagrid's Magical Creatures Motorbike Adventure",
         "Solo",
         "Off-Peak (Weekday)",
         "One-Day",
         "35-44",
         "2025-04-04"
        ],
        [
         "455",
         "0",
         "16.61844773330220000",
         "998.58",
         "57.0",
         "4.0",
         "Jurassic Park River Adventure",
         "Family (2+2)",
         "Peak (Holiday)",
         "VIP Experience",
         "55+",
         "2025-06-16"
        ],
        [
         "456",
         "1",
         "0.58592328494653300",
         "969.54",
         "41.0",
         "7.3",
         "Spider-Man Ride",
         "Friends (3-4)",
         "Off-Peak (Weekend)",
         "VIP Experience",
         "45-54",
         "2024-07-06"
        ],
        [
         "457",
         "0",
         "33.13807710283869000",
         "696.93",
         "54.4",
         "4.1",
         "Harry Potter and the Escape",
         "Couple",
         "Peak (Holiday)",
         "VIP Experience",
         "35-44",
         "2024-09-30"
        ],
        [
         "458",
         "1",
         "28.37088171028209500",
         "503.33",
         "36.7",
         "8.3",
         "The Incredible Hulk Coaster",
         "Family (2+2)",
         "Peak (Holiday)",
         "VIP Experience",
         "45-54",
         "2024-09-13"
        ],
        [
         "459",
         "0",
         "11.18083345956897500",
         "755.08",
         "36.6",
         "7.8",
         "Hagrid's Magical Creatures Motorbike Adventure",
         "Solo",
         "Off-Peak (Weekday)",
         "One-Day",
         "55+",
         "2025-06-14"
        ],
        [
         "460",
         "1",
         "15.38778552712162700",
         "578.27",
         "67.5",
         "4.0",
         "Revenge of the Mummy",
         "Friends (3-4)",
         "Peak (Summer)",
         "Annual Pass",
         "35-44",
         "2024-11-28"
        ],
        [
         "461",
         "0",
         "19.78105182326902400",
         "675.11",
         "25.3",
         "3.6",
         "Spider-Man Ride",
         "Couple",
         "Peak (Holiday)",
         "VIP Experience",
         "45-54",
         "2024-12-14"
        ],
        [
         "462",
         "0",
         "17.64731718100761500",
         "560.20",
         "75.3",
         "2.9",
         "Revenge of the Mummy",
         "Solo",
         "Off-Peak (Weekday)",
         "One-Day",
         "55+",
         "2024-12-09"
        ],
        [
         "463",
         "0",
         "14.41389837049586500",
         "1088.08",
         "36.0",
         "6.0",
         "Spider-Man Ride",
         "Solo",
         "Off-Peak (Weekend)",
         "One-Day",
         "35-44",
         "2024-09-03"
        ],
        [
         "464",
         "0",
         "8.96852581233682900",
         "1178.51",
         "65.0",
         "4.3",
         "Transformers: The Ride",
         "Large Group (5+)",
         "Off-Peak (Weekend)",
         "VIP Experience",
         "18-24",
         "2025-03-16"
        ],
        [
         "465",
         "0",
         "4.58436512235191200",
         "455.63",
         "63.7",
         "4.3",
         "The Incredible Hulk Coaster",
         "Solo",
         "Peak (Holiday)",
         "Annual Pass",
         "45-54",
         "2024-11-07"
        ],
        [
         "466",
         "0",
         "7.79871203190853100",
         "740.92",
         "86.4",
         "5.2",
         "Jurassic Park River Adventure",
         "Family (2 adults)",
         "Off-Peak (Weekday)",
         "Annual Pass",
         "18-24",
         "2024-08-22"
        ],
        [
         "467",
         "0",
         "6.12583191116753700",
         "844.93",
         "18.8",
         "5.8",
         "The Incredible Hulk Coaster",
         "Family (2+2)",
         "Off-Peak (Weekend)",
         "Multi-Day",
         "18-24",
         "2024-08-27"
        ],
        [
         "468",
         "0",
         "7.86000607115083200",
         "499.37",
         "63.9",
         "6.8",
         "Revenge of the Mummy",
         "Couple",
         "Peak (Holiday)",
         "VIP Experience",
         "55+",
         "2024-12-06"
        ],
        [
         "469",
         "0",
         "8.80650439744838600",
         "904.72",
         "71.1",
         "8.1",
         "Revenge of the Mummy",
         "Couple",
         "Peak (Holiday)",
         "VIP Experience",
         "25-34",
         "2024-09-05"
        ],
        [
         "470",
         "0",
         "7.34172379894236300",
         "478.00",
         "38.1",
         "2.8",
         "Spider-Man Ride",
         "Family (2 adults)",
         "Peak (Summer)",
         "VIP Experience",
         "25-34",
         "2024-08-09"
        ],
        [
         "471",
         "0",
         "15.74428513360515000",
         "1278.42",
         "58.1",
         "7.4",
         "Transformers: The Ride",
         "Solo",
         "Off-Peak (Weekend)",
         "Multi-Day",
         "45-54",
         "2024-11-22"
        ],
        [
         "472",
         "0",
         "20.69104622555017000",
         "911.73",
         "89.6",
         "6.3",
         "Harry Potter and the Escape",
         "Family (2 adults)",
         "Peak (Holiday)",
         "VIP Experience",
         "18-24",
         "2024-08-25"
        ],
        [
         "473",
         "1",
         "14.28495696599899000",
         "870.22",
         "77.0",
         "3.2",
         "The Incredible Hulk Coaster",
         "Family (2+2)",
         "Off-Peak (Weekend)",
         "Annual Pass",
         "45-54",
         "2025-03-19"
        ],
        [
         "474",
         "0",
         "12.90037863868035500",
         "889.55",
         "43.8",
         "4.7",
         "Jurassic Park River Adventure",
         "Solo",
         "Peak (Holiday)",
         "VIP Experience",
         "55+",
         "2025-02-28"
        ],
        [
         "475",
         "0",
         "7.80861184494116800",
         "426.07",
         "42.9",
         "5.1",
         "Jurassic Park River Adventure",
         "Large Group (5+)",
         "Off-Peak (Weekday)",
         "One-Day",
         "25-34",
         "2024-07-16"
        ],
        [
         "476",
         "0",
         "19.30491148772634300",
         "437.53",
         "62.6",
         "7.4",
         "Transformers: The Ride",
         "Large Group (5+)",
         "Peak (Holiday)",
         "Multi-Day",
         "55+",
         "2025-01-27"
        ],
        [
         "477",
         "0",
         "1.50100533444615710",
         "317.93",
         "39.9",
         "3.6",
         "Hagrid's Magical Creatures Motorbike Adventure",
         "Solo",
         "Peak (Holiday)",
         "VIP Experience",
         "18-24",
         "2024-09-18"
        ],
        [
         "478",
         "1",
         "16.70589201107937800",
         "724.29",
         "78.3",
         "4.3",
         "Harry Potter and the Escape",
         "Family (2+2)",
         "Peak (Summer)",
         "VIP Experience",
         "45-54",
         "2024-12-27"
        ],
        [
         "479",
         "0",
         "24.95304220510487500",
         "766.08",
         "51.4",
         "2.7",
         "Jurassic Park River Adventure",
         "Large Group (5+)",
         "Off-Peak (Weekday)",
         "Annual Pass",
         "35-44",
         "2024-06-24"
        ],
        [
         "480",
         "1",
         "5.42967699124570750",
         "1084.13",
         "55.7",
         "5.5",
         "The Incredible Hulk Coaster",
         "Large Group (5+)",
         "Peak (Summer)",
         "Annual Pass",
         "25-34",
         "2025-02-06"
        ],
        [
         "481",
         "0",
         "21.62387144657684600",
         "120.54",
         "62.8",
         "6.5",
         "The Incredible Hulk Coaster",
         "Couple",
         "Off-Peak (Weekend)",
         "VIP Experience",
         "18-24",
         "2024-08-20"
        ],
        [
         "482",
         "0",
         "26.87397304664761000",
         "269.97",
         "58.2",
         "3.9",
         "Revenge of the Mummy",
         "Family (2+2)",
         "Peak (Summer)",
         "Multi-Day",
         "18-24",
         "2025-05-09"
        ],
        [
         "483",
         "0",
         "16.71992287893647200",
         "1058.55",
         "57.8",
         "8.3",
         "Revenge of the Mummy",
         "Couple",
         "Peak (Holiday)",
         "Annual Pass",
         "35-44",
         "2024-07-10"
        ],
        [
         "484",
         "1",
         "8.11516261050417300",
         "632.91",
         "51.7",
         "8.0",
         "The Incredible Hulk Coaster",
         "Couple",
         "Peak (Summer)",
         "Annual Pass",
         "45-54",
         "2024-11-03"
        ],
        [
         "485",
         "0",
         "15.74251557608666700",
         "1055.50",
         "51.0",
         "4.9",
         "Hagrid's Magical Creatures Motorbike Adventure",
         "Solo",
         "Peak (Holiday)",
         "Annual Pass",
         "25-34",
         "2025-05-15"
        ],
        [
         "486",
         "1",
         "3.32225247933125530",
         "640.67",
         "48.0",
         "6.7",
         "Revenge of the Mummy",
         "Couple",
         "Off-Peak (Weekend)",
         "Multi-Day",
         "25-34",
         "2024-07-20"
        ],
        [
         "487",
         "0",
         "11.95438953156151200",
         "886.54",
         "78.4",
         "3.5",
         "Transformers: The Ride",
         "Solo",
         "Peak (Holiday)",
         "Annual Pass",
         "45-54",
         "2025-05-18"
        ],
        [
         "488",
         "0",
         "32.20773618889196400",
         "581.55",
         "48.3",
         "7.6",
         "Jurassic Park River Adventure",
         "Solo",
         "Peak (Holiday)",
         "VIP Experience",
         "18-24",
         "2024-07-14"
        ],
        [
         "489",
         "1",
         "15.18634420776736200",
         "1043.23",
         "25.3",
         "8.0",
         "The Incredible Hulk Coaster",
         "Family (2 adults)",
         "Peak (Summer)",
         "VIP Experience",
         "55+",
         "2025-03-13"
        ],
        [
         "490",
         "0",
         "7.18604358175742950",
         "481.74",
         "36.5",
         "2.8",
         "The Incredible Hulk Coaster",
         "Friends (3-4)",
         "Off-Peak (Weekend)",
         "One-Day",
         "25-34",
         "2024-09-26"
        ],
        [
         "491",
         "0",
         "12.66102221613781300",
         "1766.80",
         "32.2",
         "8.1",
         "Revenge of the Mummy",
         "Family (2+2)",
         "Peak (Summer)",
         "Multi-Day",
         "45-54",
         "2025-02-18"
        ],
        [
         "492",
         "0",
         "15.71733360030515000",
         "1062.26",
         "46.0",
         "4.3",
         "Hagrid's Magical Creatures Motorbike Adventure",
         "Couple",
         "Peak (Holiday)",
         "Multi-Day",
         "35-44",
         "2024-11-12"
        ],
        [
         "493",
         "1",
         "8.70701314925126900",
         "925.99",
         "41.3",
         "7.4",
         "Harry Potter and the Escape",
         "Solo",
         "Off-Peak (Weekend)",
         "One-Day",
         "45-54",
         "2025-01-23"
        ],
        [
         "494",
         "0",
         "10.43853997745285300",
         "761.93",
         "91.9",
         "4.9",
         "Transformers: The Ride",
         "Large Group (5+)",
         "Peak (Summer)",
         "VIP Experience",
         "25-34",
         "2024-12-27"
        ],
        [
         "495",
         "0",
         "4.34618831125742300",
         "485.59",
         "37.2",
         "3.4",
         "Spider-Man Ride",
         "Family (2+2)",
         "Off-Peak (Weekday)",
         "Multi-Day",
         "55+",
         "2025-03-09"
        ],
        [
         "496",
         "0",
         "5.27711420385405900",
         "672.90",
         "61.4",
         "4.5",
         "Spider-Man Ride",
         "Large Group (5+)",
         "Peak (Summer)",
         "Multi-Day",
         "18-24",
         "2025-02-04"
        ],
        [
         "497",
         "0",
         "16.59183623092228000",
         "780.44",
         "34.2",
         "2.8",
         "The Incredible Hulk Coaster",
         "Family (2 adults)",
         "Off-Peak (Weekend)",
         "Multi-Day",
         "35-44",
         "2024-07-05"
        ],
        [
         "498",
         "0",
         "3.66876534448201100",
         "905.22",
         "67.1",
         "4.9",
         "Revenge of the Mummy",
         "Large Group (5+)",
         "Off-Peak (Weekend)",
         "One-Day",
         "35-44",
         "2025-06-15"
        ],
        [
         "499",
         "0",
         "5.95167657972670200",
         "686.12",
         "39.5",
         "6.7",
         "Transformers: The Ride",
         "Friends (3-4)",
         "Off-Peak (Weekend)",
         "VIP Experience",
         "45-54",
         "2025-04-16"
        ],
        [
         "500",
         "1",
         "14.81453064026456300",
         "695.47",
         "52.2",
         "8.3",
         "Hagrid's Magical Creatures Motorbike Adventure",
         "Couple",
         "Off-Peak (Weekday)",
         "One-Day",
         "25-34",
         "2024-07-08"
        ]
       ],
       "datasetInfos": [],
       "dbfsResultPath": null,
       "isJsonSchema": true,
       "metadata": {},
       "overflow": false,
       "plotOptions": {
        "customPlotOptions": {},
        "displayType": "table",
        "pivotAggregation": null,
        "pivotColumns": null,
        "xColumns": null,
        "yColumns": null
       },
       "removedWidgets": [],
       "schema": [
        {
         "metadata": "{}",
         "name": "CUSTOMERID",
         "type": "\"decimal(38,0)\""
        },
        {
         "metadata": "{}",
         "name": "PASTSKIPPASS",
         "type": "\"decimal(38,0)\""
        },
        {
         "metadata": "{}",
         "name": "VISITFREQUENCY",
         "type": "\"decimal(38,17)\""
        },
        {
         "metadata": "{}",
         "name": "TOTALSPENDINGUSD",
         "type": "\"decimal(38,2)\""
        },
        {
         "metadata": "{}",
         "name": "AVGQUEUETIMEMIN",
         "type": "\"decimal(38,1)\""
        },
        {
         "metadata": "{}",
         "name": "AVGRIDETIMEMIN",
         "type": "\"decimal(38,1)\""
        },
        {
         "metadata": "{}",
         "name": "PREFERREDRIDE",
         "type": "\"string\""
        },
        {
         "metadata": "{}",
         "name": "GROUPTYPE",
         "type": "\"string\""
        },
        {
         "metadata": "{}",
         "name": "VISITTIMING",
         "type": "\"string\""
        },
        {
         "metadata": "{}",
         "name": "TICKETTYPE",
         "type": "\"string\""
        },
        {
         "metadata": "{}",
         "name": "AGEGROUP",
         "type": "\"string\""
        },
        {
         "metadata": "{}",
         "name": "LASTVISITDATE",
         "type": "\"date\""
        }
       ],
       "type": "table"
      }
     },
     "output_type": "display_data"
    }
   ],
   "source": [
    "display(spark.read.table(f'{iceberg_catalog}.{iceberg_schema}.theme_park_visitor_iceberg'))"
   ]
  },
  {
   "cell_type": "markdown",
   "metadata": {
    "application/vnd.databricks.v1+cell": {
     "cellMetadata": {},
     "inputWidgets": {},
     "nuid": "8cfcf7a8-c790-4302-b587-4ccf4360b0a6",
     "showTitle": false,
     "tableResultSettingsMap": {},
     "title": ""
    }
   },
   "source": [
    "## Snowflake Reads Databricks Tables\n",
    "Connect to Unity Catalog's Iceberg REST APIs from Snowflake to read a single source data file as Iceberg.\n",
    "- Write a table to UC\n",
    "- Generate Iceberg Metadata\n",
    "- Enable Snowflake & Databricks Catalog Integration\n",
    "<img src=\"./setup/snowflake_reads_databricks_arch.png\" width=\"800\">\n",
    "\n",
    "### Documentation\n",
    "We will be following this awesome blog, [here](https://www.databricks.com/blog/read-unity-catalog-tables-in-snowflake)!"
   ]
  },
  {
   "cell_type": "markdown",
   "metadata": {
    "application/vnd.databricks.v1+cell": {
     "cellMetadata": {},
     "inputWidgets": {},
     "nuid": "8ed0a07b-4d07-4727-b372-dd4802cf0a0b",
     "showTitle": false,
     "tableResultSettingsMap": {},
     "title": ""
    }
   },
   "source": []
  },
  {
   "cell_type": "code",
   "execution_count": 0,
   "metadata": {
    "application/vnd.databricks.v1+cell": {
     "cellMetadata": {},
     "inputWidgets": {},
     "nuid": "029303f3-784f-4bfd-8be6-10faeb8e5d4f",
     "showTitle": true,
     "tableResultSettingsMap": {},
     "title": "Configure Catalog and Schema Widgets"
    }
   },
   "outputs": [],
   "source": [
    "dbutils.widgets.text(\"catalog\", \"\")\n",
    "dbutils.widgets.text(\"schema\", \"\")\n",
    "\n",
    "catalog = dbutils.widgets.get(\"catalog\")\n",
    "schema = dbutils.widgets.get(\"schema\")"
   ]
  },
  {
   "cell_type": "code",
   "execution_count": 0,
   "metadata": {
    "application/vnd.databricks.v1+cell": {
     "cellMetadata": {
      "byteLimit": 2048000,
      "implicitDf": true,
      "rowLimit": 10000
     },
     "inputWidgets": {},
     "nuid": "54aa2e76-68f6-43f6-bfab-9b41d94ddd07",
     "showTitle": true,
     "tableResultSettingsMap": {},
     "title": "Create Iceberg Table"
    }
   },
   "outputs": [
    {
     "output_type": "display_data",
     "data": {
      "text/html": [
       "<style scoped>\n",
       "  .table-result-container {\n",
       "    max-height: 300px;\n",
       "    overflow: auto;\n",
       "  }\n",
       "  table, th, td {\n",
       "    border: 1px solid black;\n",
       "    border-collapse: collapse;\n",
       "  }\n",
       "  th, td {\n",
       "    padding: 5px;\n",
       "  }\n",
       "  th {\n",
       "    text-align: left;\n",
       "  }\n",
       "</style><div class='table-result-container'><table class='table-result'><thead style='background-color: white'><tr><th>num_affected_rows</th><th>num_inserted_rows</th></tr></thead><tbody></tbody></table></div>"
      ]
     },
     "metadata": {
      "application/vnd.databricks.v1+output": {
       "addedWidgets": {},
       "aggData": [],
       "aggError": "",
       "aggOverflow": false,
       "aggSchema": [],
       "aggSeriesLimitReached": false,
       "aggType": "",
       "arguments": {},
       "columnCustomDisplayInfos": {},
       "data": [],
       "datasetInfos": [
        {
         "name": "_sqldf",
         "schema": {
          "fields": [
           {
            "metadata": {},
            "name": "num_affected_rows",
            "nullable": true,
            "type": "long"
           },
           {
            "metadata": {},
            "name": "num_inserted_rows",
            "nullable": true,
            "type": "long"
           }
          ],
          "type": "struct"
         },
         "tableIdentifier": null,
         "typeStr": "pyspark.sql.connect.dataframe.DataFrame"
        }
       ],
       "dbfsResultPath": null,
       "isJsonSchema": true,
       "metadata": {
        "createTempViewForImplicitDf": true,
        "dataframeName": "_sqldf",
        "executionCount": 108
       },
       "overflow": false,
       "plotOptions": {
        "customPlotOptions": {},
        "displayType": "table",
        "pivotAggregation": null,
        "pivotColumns": null,
        "xColumns": null,
        "yColumns": null
       },
       "removedWidgets": [],
       "schema": [
        {
         "metadata": "{}",
         "name": "num_affected_rows",
         "type": "\"long\""
        },
        {
         "metadata": "{}",
         "name": "num_inserted_rows",
         "type": "\"long\""
        }
       ],
       "type": "table"
      }
     },
     "output_type": "display_data"
    }
   ],
   "source": [
    "%sql\n",
    "CREATE TABLE sb.theme_park.visitors_metric_view_snowflake_V2\n",
    "as\n",
    "SELECT\n",
    " date_format(`Month`, 'yyyy-MM') as `Month`,\n",
    " MEASURE(TotalVisits) as `Total_Visits`,\n",
    " MEASURE(TotalRevenue) as `Total_Revenue`,\n",
    " MEASURE(TotalSpendingPerCustomer) as `Avg_Spending_per_CX`\n",
    "FROM sb.theme_park.visitors_metric_view -- hear is the metric view\n",
    "GROUP BY ALL\n",
    "ORDER BY 1 ASC"
   ]
  },
  {
   "cell_type": "code",
   "execution_count": 0,
   "metadata": {
    "application/vnd.databricks.v1+cell": {
     "cellMetadata": {
      "byteLimit": 2048000,
      "implicitDf": true,
      "rowLimit": 10000
     },
     "inputWidgets": {},
     "nuid": "59d0ab1e-af75-43cf-bb80-3176b6348db0",
     "showTitle": true,
     "tableResultSettingsMap": {},
     "title": "Purge Deletion Vectors that are enabled"
    }
   },
   "outputs": [
    {
     "output_type": "display_data",
     "data": {
      "text/html": [
       "<style scoped>\n",
       "  .table-result-container {\n",
       "    max-height: 300px;\n",
       "    overflow: auto;\n",
       "  }\n",
       "  table, th, td {\n",
       "    border: 1px solid black;\n",
       "    border-collapse: collapse;\n",
       "  }\n",
       "  th, td {\n",
       "    padding: 5px;\n",
       "  }\n",
       "  th {\n",
       "    text-align: left;\n",
       "  }\n",
       "</style><div class='table-result-container'><table class='table-result'><thead style='background-color: white'><tr><th>path</th><th>metrics</th></tr></thead><tbody><tr><td>s3://databricks-e2demofieldengwest/b169b504-4c54-49f2-bc3a-adf4b128f36d/tables/e9d49fac-dd75-4a94-9c74-73d9fad52cf4</td><td>List(1, 1, List(2304, 2304, 2304.0, 1, 2304), List(1648, 1648, 1648.0, 1, 1648), 0, null, null, 0, 1, 1, 0, true, 0, 0, 1750387413573, 1750387415085, 8, 1, null, List(0, 0), null, 4, 4, 194, 0, null)</td></tr></tbody></table></div>"
      ]
     },
     "metadata": {
      "application/vnd.databricks.v1+output": {
       "addedWidgets": {},
       "aggData": [],
       "aggError": "",
       "aggOverflow": false,
       "aggSchema": [],
       "aggSeriesLimitReached": false,
       "aggType": "",
       "arguments": {},
       "columnCustomDisplayInfos": {},
       "data": [
        [
         "s3://databricks-e2demofieldengwest/b169b504-4c54-49f2-bc3a-adf4b128f36d/tables/e9d49fac-dd75-4a94-9c74-73d9fad52cf4",
         [
          1,
          1,
          [
           2304,
           2304,
           2304.0,
           1,
           2304
          ],
          [
           1648,
           1648,
           1648.0,
           1,
           1648
          ],
          0,
          null,
          null,
          0,
          1,
          1,
          0,
          true,
          0,
          0,
          1750387413573,
          1750387415085,
          8,
          1,
          null,
          [
           0,
           0
          ],
          null,
          4,
          4,
          194,
          0,
          null
         ]
        ]
       ],
       "datasetInfos": [
        {
         "name": "_sqldf",
         "schema": {
          "fields": [
           {
            "metadata": {},
            "name": "path",
            "nullable": true,
            "type": "string"
           },
           {
            "metadata": {},
            "name": "metrics",
            "nullable": true,
            "type": {
             "fields": [
              {
               "metadata": {},
               "name": "numFilesAdded",
               "nullable": false,
               "type": "long"
              },
              {
               "metadata": {},
               "name": "numFilesRemoved",
               "nullable": false,
               "type": "long"
              },
              {
               "metadata": {},
               "name": "filesAdded",
               "nullable": true,
               "type": {
                "fields": [
                 {
                  "metadata": {},
                  "name": "min",
                  "nullable": true,
                  "type": "long"
                 },
                 {
                  "metadata": {},
                  "name": "max",
                  "nullable": true,
                  "type": "long"
                 },
                 {
                  "metadata": {},
                  "name": "avg",
                  "nullable": false,
                  "type": "double"
                 },
                 {
                  "metadata": {},
                  "name": "totalFiles",
                  "nullable": false,
                  "type": "long"
                 },
                 {
                  "metadata": {},
                  "name": "totalSize",
                  "nullable": false,
                  "type": "long"
                 }
                ],
                "type": "struct"
               }
              },
              {
               "metadata": {},
               "name": "filesRemoved",
               "nullable": true,
               "type": {
                "fields": [
                 {
                  "metadata": {},
                  "name": "min",
                  "nullable": true,
                  "type": "long"
                 },
                 {
                  "metadata": {},
                  "name": "max",
                  "nullable": true,
                  "type": "long"
                 },
                 {
                  "metadata": {},
                  "name": "avg",
                  "nullable": false,
                  "type": "double"
                 },
                 {
                  "metadata": {},
                  "name": "totalFiles",
                  "nullable": false,
                  "type": "long"
                 },
                 {
                  "metadata": {},
                  "name": "totalSize",
                  "nullable": false,
                  "type": "long"
                 }
                ],
                "type": "struct"
               }
              },
              {
               "metadata": {},
               "name": "partitionsOptimized",
               "nullable": false,
               "type": "long"
              },
              {
               "metadata": {},
               "name": "zOrderStats",
               "nullable": true,
               "type": {
                "fields": [
                 {
                  "metadata": {},
                  "name": "strategyName",
                  "nullable": true,
                  "type": "string"
                 },
                 {
                  "metadata": {},
                  "name": "inputCubeFiles",
                  "nullable": true,
                  "type": {
                   "fields": [
                    {
                     "metadata": {},
                     "name": "num",
                     "nullable": false,
                     "type": "long"
                    },
                    {
                     "metadata": {},
                     "name": "size",
                     "nullable": false,
                     "type": "long"
                    }
                   ],
                   "type": "struct"
                  }
                 },
                 {
                  "metadata": {},
                  "name": "inputOtherFiles",
                  "nullable": true,
                  "type": {
                   "fields": [
                    {
                     "metadata": {},
                     "name": "num",
                     "nullable": false,
                     "type": "long"
                    },
                    {
                     "metadata": {},
                     "name": "size",
                     "nullable": false,
                     "type": "long"
                    }
                   ],
                   "type": "struct"
                  }
                 },
                 {
                  "metadata": {},
                  "name": "inputNumCubes",
                  "nullable": false,
                  "type": "long"
                 },
                 {
                  "metadata": {},
                  "name": "mergedFiles",
                  "nullable": true,
                  "type": {
                   "fields": [
                    {
                     "metadata": {},
                     "name": "num",
                     "nullable": false,
                     "type": "long"
                    },
                    {
                     "metadata": {},
                     "name": "size",
                     "nullable": false,
                     "type": "long"
                    }
                   ],
                   "type": "struct"
                  }
                 },
                 {
                  "metadata": {},
                  "name": "numOutputCubes",
                  "nullable": false,
                  "type": "long"
                 },
                 {
                  "metadata": {},
                  "name": "mergedNumCubes",
                  "nullable": true,
                  "type": "long"
                 }
                ],
                "type": "struct"
               }
              },
              {
               "metadata": {},
               "name": "clusteringStats",
               "nullable": true,
               "type": {
                "fields": [
                 {
                  "metadata": {},
                  "name": "inputZCubeFiles",
                  "nullable": true,
                  "type": {
                   "fields": [
                    {
                     "metadata": {},
                     "name": "numFiles",
                     "nullable": false,
                     "type": "long"
                    },
                    {
                     "metadata": {},
                     "name": "size",
                     "nullable": false,
                     "type": "long"
                    }
                   ],
                   "type": "struct"
                  }
                 },
                 {
                  "metadata": {},
                  "name": "inputOtherFiles",
                  "nullable": true,
                  "type": {
                   "fields": [
                    {
                     "metadata": {},
                     "name": "numFiles",
                     "nullable": false,
                     "type": "long"
                    },
                    {
                     "metadata": {},
                     "name": "size",
                     "nullable": false,
                     "type": "long"
                    }
                   ],
                   "type": "struct"
                  }
                 },
                 {
                  "metadata": {},
                  "name": "inputNumZCubes",
                  "nullable": false,
                  "type": "long"
                 },
                 {
                  "metadata": {},
                  "name": "mergedFiles",
                  "nullable": true,
                  "type": {
                   "fields": [
                    {
                     "metadata": {},
                     "name": "numFiles",
                     "nullable": false,
                     "type": "long"
                    },
                    {
                     "metadata": {},
                     "name": "size",
                     "nullable": false,
                     "type": "long"
                    }
                   ],
                   "type": "struct"
                  }
                 },
                 {
                  "metadata": {},
                  "name": "numOutputZCubes",
                  "nullable": false,
                  "type": "long"
                 }
                ],
                "type": "struct"
               }
              },
              {
               "metadata": {},
               "name": "numBins",
               "nullable": false,
               "type": "long"
              },
              {
               "metadata": {},
               "name": "numBatches",
               "nullable": false,
               "type": "long"
              },
              {
               "metadata": {},
               "name": "totalConsideredFiles",
               "nullable": false,
               "type": "long"
              },
              {
               "metadata": {},
               "name": "totalFilesSkipped",
               "nullable": false,
               "type": "long"
              },
              {
               "metadata": {},
               "name": "preserveInsertionOrder",
               "nullable": false,
               "type": "boolean"
              },
              {
               "metadata": {},
               "name": "numFilesSkippedToReduceWriteAmplification",
               "nullable": false,
               "type": "long"
              },
              {
               "metadata": {},
               "name": "numBytesSkippedToReduceWriteAmplification",
               "nullable": false,
               "type": "long"
              },
              {
               "metadata": {},
               "name": "startTimeMs",
               "nullable": false,
               "type": "long"
              },
              {
               "metadata": {},
               "name": "endTimeMs",
               "nullable": false,
               "type": "long"
              },
              {
               "metadata": {},
               "name": "totalClusterParallelism",
               "nullable": false,
               "type": "long"
              },
              {
               "metadata": {},
               "name": "totalScheduledTasks",
               "nullable": false,
               "type": "long"
              },
              {
               "metadata": {},
               "name": "autoCompactParallelismStats",
               "nullable": true,
               "type": {
                "fields": [
                 {
                  "metadata": {},
                  "name": "maxClusterActiveParallelism",
                  "nullable": true,
                  "type": "long"
                 },
                 {
                  "metadata": {},
                  "name": "minClusterActiveParallelism",
                  "nullable": true,
                  "type": "long"
                 },
                 {
                  "metadata": {},
                  "name": "maxSessionActiveParallelism",
                  "nullable": true,
                  "type": "long"
                 },
                 {
                  "metadata": {},
                  "name": "minSessionActiveParallelism",
                  "nullable": true,
                  "type": "long"
                 }
                ],
                "type": "struct"
               }
              },
              {
               "metadata": {},
               "name": "deletionVectorStats",
               "nullable": true,
               "type": {
                "fields": [
                 {
                  "metadata": {},
                  "name": "numDeletionVectorsRemoved",
                  "nullable": false,
                  "type": "long"
                 },
                 {
                  "metadata": {},
                  "name": "numDeletionVectorRowsRemoved",
                  "nullable": false,
                  "type": "long"
                 }
                ],
                "type": "struct"
               }
              },
              {
               "metadata": {},
               "name": "recompressionCodec",
               "nullable": true,
               "type": "string"
              },
              {
               "metadata": {},
               "name": "numTableColumns",
               "nullable": false,
               "type": "long"
              },
              {
               "metadata": {},
               "name": "numTableColumnsWithStats",
               "nullable": false,
               "type": "long"
              },
              {
               "metadata": {},
               "name": "totalTaskExecutionTimeMs",
               "nullable": false,
               "type": "long"
              },
              {
               "metadata": {},
               "name": "skippedArchivedFiles",
               "nullable": false,
               "type": "long"
              },
              {
               "metadata": {},
               "name": "clusteringMetrics",
               "nullable": true,
               "type": {
                "fields": [
                 {
                  "metadata": {},
                  "name": "sizeOfTableInBytesBeforeLazyClustering",
                  "nullable": false,
                  "type": "long"
                 },
                 {
                  "metadata": {},
                  "name": "isNewMetadataCreated",
                  "nullable": false,
                  "type": "boolean"
                 },
                 {
                  "metadata": {},
                  "name": "isPOTriggered",
                  "nullable": false,
                  "type": "boolean"
                 },
                 {
                  "metadata": {},
                  "name": "isFull",
                  "nullable": false,
                  "type": "boolean"
                 },
                 {
                  "metadata": {},
                  "name": "approxClusteringQuality",
                  "nullable": true,
                  "type": "double"
                 },
                 {
                  "metadata": {},
                  "name": "approxClusteringQualityPerColumn",
                  "nullable": true,
                  "type": {
                   "containsNull": false,
                   "elementType": "double",
                   "type": "array"
                  }
                 },
                 {
                  "metadata": {},
                  "name": "approxClusteringCoverage",
                  "nullable": true,
                  "type": "double"
                 },
                 {
                  "metadata": {},
                  "name": "numFilesSkippedWithoutStats",
                  "nullable": false,
                  "type": "long"
                 },
                 {
                  "metadata": {},
                  "name": "numFilesClassifiedToIntermediateNodes",
                  "nullable": false,
                  "type": "long"
                 },
                 {
                  "metadata": {},
                  "name": "sizeOfFilesClassifiedToIntermediateNodesInBytes",
                  "nullable": false,
                  "type": "long"
                 },
                 {
                  "metadata": {},
                  "name": "logicalSizeOfFilesClassifiedToIntermediateNodesInBytes",
                  "nullable": false,
                  "type": "long"
                 },
                 {
                  "metadata": {},
                  "name": "numFilesClassifiedToLeafNodes",
                  "nullable": false,
                  "type": "long"
                 },
                 {
                  "metadata": {},
                  "name": "sizeOfFilesClassifiedToLeafNodesInBytes",
                  "nullable": false,
                  "type": "long"
                 },
                 {
                  "metadata": {},
                  "name": "logicalSizeOfFilesClassifiedToLeafNodesInBytes",
                  "nullable": false,
                  "type": "long"
                 },
                 {
                  "metadata": {},
                  "name": "numThreadsForClassifier",
                  "nullable": true,
                  "type": "integer"
                 },
                 {
                  "metadata": {},
                  "name": "clusterThresholdStrategy",
                  "nullable": true,
                  "type": "string"
                 },
                 {
                  "metadata": {},
                  "name": "minFileSize",
                  "nullable": false,
                  "type": "long"
                 },
                 {
                  "metadata": {},
                  "name": "maxFileSize",
                  "nullable": false,
                  "type": "long"
                 },
                 {
                  "metadata": {},
                  "name": "nodeMinNumFilesToCompact",
                  "nullable": false,
                  "type": "long"
                 },
                 {
                  "metadata": {},
                  "name": "numIdealFiles",
                  "nullable": false,
                  "type": "long"
                 },
                 {
                  "metadata": {},
                  "name": "numIdealFilesWithTrimmedStringMaxValue",
                  "nullable": false,
                  "type": "long"
                 },
                 {
                  "metadata": {},
                  "name": "numAddedFilesWithSameMinMaxOnClusteringColumns",
                  "nullable": true,
                  "type": {
                   "containsNull": false,
                   "elementType": "long",
                   "type": "array"
                  }
                 },
                 {
                  "metadata": {},
                  "name": "numClusteringTasksPlanned",
                  "nullable": false,
                  "type": "integer"
                 },
                 {
                  "metadata": {},
                  "name": "numCompactionTasksPlanned",
                  "nullable": false,
                  "type": "integer"
                 },
                 {
                  "metadata": {},
                  "name": "numOptimizeBatchesPlanned",
                  "nullable": false,
                  "type": "integer"
                 },
                 {
                  "metadata": {},
                  "name": "numLeafNodesExpanded",
                  "nullable": false,
                  "type": "long"
                 },
                 {
                  "metadata": {},
                  "name": "numLeafNodesClustered",
                  "nullable": false,
                  "type": "long"
                 },
                 {
                  "metadata": {},
                  "name": "numGetFilesForNodeCalls",
                  "nullable": false,
                  "type": "long"
                 },
                 {
                  "metadata": {},
                  "name": "numSamplingJobs",
                  "nullable": false,
                  "type": "long"
                 },
                 {
                  "metadata": {},
                  "name": "numLeafNodesCompacted",
                  "nullable": false,
                  "type": "long"
                 },
                 {
                  "metadata": {},
                  "name": "numIntermediateNodesCompacted",
                  "nullable": false,
                  "type": "long"
                 },
                 {
                  "metadata": {},
                  "name": "totalSizeOfDataToCompactInBytes",
                  "nullable": false,
                  "type": "long"
                 },
                 {
                  "metadata": {},
                  "name": "totalLogicalSizeOfDataToCompactInBytes",
                  "nullable": false,
                  "type": "long"
                 },
                 {
                  "metadata": {},
                  "name": "numIntermediateNodesClustered",
                  "nullable": false,
                  "type": "long"
                 },
                 {
                  "metadata": {},
                  "name": "numFilesSkippedAfterExpansion",
                  "nullable": false,
                  "type": "long"
                 },
                 {
                  "metadata": {},
                  "name": "totalSizeOfFilesSkippedAfterExpansionInBytes",
                  "nullable": false,
                  "type": "long"
                 },
                 {
                  "metadata": {},
                  "name": "totalLogicalSizeOfFilesSkippedAfterExpansionInBytes",
                  "nullable": false,
                  "type": "long"
                 },
                 {
                  "metadata": {},
                  "name": "totalSizeOfDataToRewriteInBytes",
                  "nullable": false,
                  "type": "long"
                 },
                 {
                  "metadata": {},
                  "name": "totalLogicalSizeOfDataToRewriteInBytes",
                  "nullable": false,
                  "type": "long"
                 },
                 {
                  "metadata": {},
                  "name": "timeMetrics",
                  "nullable": true,
                  "type": {
                   "fields": [
                    {
                     "metadata": {},
                     "name": "classifierTimeMs",
                     "nullable": false,
                     "type": "long"
                    },
                    {
                     "metadata": {},
                     "name": "optimizerTimeMs",
                     "nullable": false,
                     "type": "long"
                    },
                    {
                     "metadata": {},
                     "name": "metadataLoadTimeMs",
                     "nullable": false,
                     "type": "long"
                    },
                    {
                     "metadata": {},
                     "name": "totalGetFilesForNodeCallsTimeMs",
                     "nullable": false,
                     "type": "long"
                    },
                    {
                     "metadata": {},
                     "name": "totalSamplingTimeMs",
                     "nullable": false,
                     "type": "long"
                    },
                    {
                     "metadata": {},
                     "name": "metadataCreationTimeMs",
                     "nullable": false,
                     "type": "long"
                    }
                   ],
                   "type": "struct"
                  }
                 },
                 {
                  "metadata": {},
                  "name": "maxOptimizeBatchesInParallel",
                  "nullable": false,
                  "type": "long"
                 },
                 {
                  "metadata": {},
                  "name": "currentIteration",
                  "nullable": false,
                  "type": "integer"
                 },
                 {
                  "metadata": {},
                  "name": "maxIterations",
                  "nullable": false,
                  "type": "integer"
                 },
                 {
                  "metadata": {},
                  "name": "clusteringStrategy",
                  "nullable": true,
                  "type": "string"
                 }
                ],
                "type": "struct"
               }
              }
             ],
             "type": "struct"
            }
           }
          ],
          "type": "struct"
         },
         "tableIdentifier": null,
         "typeStr": "pyspark.sql.connect.dataframe.DataFrame"
        }
       ],
       "dbfsResultPath": null,
       "isJsonSchema": true,
       "metadata": {
        "createTempViewForImplicitDf": true,
        "dataframeName": "_sqldf",
        "executionCount": 109
       },
       "overflow": false,
       "plotOptions": {
        "customPlotOptions": {},
        "displayType": "table",
        "pivotAggregation": null,
        "pivotColumns": null,
        "xColumns": null,
        "yColumns": null
       },
       "removedWidgets": [],
       "schema": [
        {
         "metadata": "{}",
         "name": "path",
         "type": "\"string\""
        },
        {
         "metadata": "{}",
         "name": "metrics",
         "type": "{\"fields\":[{\"metadata\":{},\"name\":\"numFilesAdded\",\"nullable\":false,\"type\":\"long\"},{\"metadata\":{},\"name\":\"numFilesRemoved\",\"nullable\":false,\"type\":\"long\"},{\"metadata\":{},\"name\":\"filesAdded\",\"nullable\":true,\"type\":{\"fields\":[{\"metadata\":{},\"name\":\"min\",\"nullable\":true,\"type\":\"long\"},{\"metadata\":{},\"name\":\"max\",\"nullable\":true,\"type\":\"long\"},{\"metadata\":{},\"name\":\"avg\",\"nullable\":false,\"type\":\"double\"},{\"metadata\":{},\"name\":\"totalFiles\",\"nullable\":false,\"type\":\"long\"},{\"metadata\":{},\"name\":\"totalSize\",\"nullable\":false,\"type\":\"long\"}],\"type\":\"struct\"}},{\"metadata\":{},\"name\":\"filesRemoved\",\"nullable\":true,\"type\":{\"fields\":[{\"metadata\":{},\"name\":\"min\",\"nullable\":true,\"type\":\"long\"},{\"metadata\":{},\"name\":\"max\",\"nullable\":true,\"type\":\"long\"},{\"metadata\":{},\"name\":\"avg\",\"nullable\":false,\"type\":\"double\"},{\"metadata\":{},\"name\":\"totalFiles\",\"nullable\":false,\"type\":\"long\"},{\"metadata\":{},\"name\":\"totalSize\",\"nullable\":false,\"type\":\"long\"}],\"type\":\"struct\"}},{\"metadata\":{},\"name\":\"partitionsOptimized\",\"nullable\":false,\"type\":\"long\"},{\"metadata\":{},\"name\":\"zOrderStats\",\"nullable\":true,\"type\":{\"fields\":[{\"metadata\":{},\"name\":\"strategyName\",\"nullable\":true,\"type\":\"string\"},{\"metadata\":{},\"name\":\"inputCubeFiles\",\"nullable\":true,\"type\":{\"fields\":[{\"metadata\":{},\"name\":\"num\",\"nullable\":false,\"type\":\"long\"},{\"metadata\":{},\"name\":\"size\",\"nullable\":false,\"type\":\"long\"}],\"type\":\"struct\"}},{\"metadata\":{},\"name\":\"inputOtherFiles\",\"nullable\":true,\"type\":{\"fields\":[{\"metadata\":{},\"name\":\"num\",\"nullable\":false,\"type\":\"long\"},{\"metadata\":{},\"name\":\"size\",\"nullable\":false,\"type\":\"long\"}],\"type\":\"struct\"}},{\"metadata\":{},\"name\":\"inputNumCubes\",\"nullable\":false,\"type\":\"long\"},{\"metadata\":{},\"name\":\"mergedFiles\",\"nullable\":true,\"type\":{\"fields\":[{\"metadata\":{},\"name\":\"num\",\"nullable\":false,\"type\":\"long\"},{\"metadata\":{},\"name\":\"size\",\"nullable\":false,\"type\":\"long\"}],\"type\":\"struct\"}},{\"metadata\":{},\"name\":\"numOutputCubes\",\"nullable\":false,\"type\":\"long\"},{\"metadata\":{},\"name\":\"mergedNumCubes\",\"nullable\":true,\"type\":\"long\"}],\"type\":\"struct\"}},{\"metadata\":{},\"name\":\"clusteringStats\",\"nullable\":true,\"type\":{\"fields\":[{\"metadata\":{},\"name\":\"inputZCubeFiles\",\"nullable\":true,\"type\":{\"fields\":[{\"metadata\":{},\"name\":\"numFiles\",\"nullable\":false,\"type\":\"long\"},{\"metadata\":{},\"name\":\"size\",\"nullable\":false,\"type\":\"long\"}],\"type\":\"struct\"}},{\"metadata\":{},\"name\":\"inputOtherFiles\",\"nullable\":true,\"type\":{\"fields\":[{\"metadata\":{},\"name\":\"numFiles\",\"nullable\":false,\"type\":\"long\"},{\"metadata\":{},\"name\":\"size\",\"nullable\":false,\"type\":\"long\"}],\"type\":\"struct\"}},{\"metadata\":{},\"name\":\"inputNumZCubes\",\"nullable\":false,\"type\":\"long\"},{\"metadata\":{},\"name\":\"mergedFiles\",\"nullable\":true,\"type\":{\"fields\":[{\"metadata\":{},\"name\":\"numFiles\",\"nullable\":false,\"type\":\"long\"},{\"metadata\":{},\"name\":\"size\",\"nullable\":false,\"type\":\"long\"}],\"type\":\"struct\"}},{\"metadata\":{},\"name\":\"numOutputZCubes\",\"nullable\":false,\"type\":\"long\"}],\"type\":\"struct\"}},{\"metadata\":{},\"name\":\"numBins\",\"nullable\":false,\"type\":\"long\"},{\"metadata\":{},\"name\":\"numBatches\",\"nullable\":false,\"type\":\"long\"},{\"metadata\":{},\"name\":\"totalConsideredFiles\",\"nullable\":false,\"type\":\"long\"},{\"metadata\":{},\"name\":\"totalFilesSkipped\",\"nullable\":false,\"type\":\"long\"},{\"metadata\":{},\"name\":\"preserveInsertionOrder\",\"nullable\":false,\"type\":\"boolean\"},{\"metadata\":{},\"name\":\"numFilesSkippedToReduceWriteAmplification\",\"nullable\":false,\"type\":\"long\"},{\"metadata\":{},\"name\":\"numBytesSkippedToReduceWriteAmplification\",\"nullable\":false,\"type\":\"long\"},{\"metadata\":{},\"name\":\"startTimeMs\",\"nullable\":false,\"type\":\"long\"},{\"metadata\":{},\"name\":\"endTimeMs\",\"nullable\":false,\"type\":\"long\"},{\"metadata\":{},\"name\":\"totalClusterParallelism\",\"nullable\":false,\"type\":\"long\"},{\"metadata\":{},\"name\":\"totalScheduledTasks\",\"nullable\":false,\"type\":\"long\"},{\"metadata\":{},\"name\":\"autoCompactParallelismStats\",\"nullable\":true,\"type\":{\"fields\":[{\"metadata\":{},\"name\":\"maxClusterActiveParallelism\",\"nullable\":true,\"type\":\"long\"},{\"metadata\":{},\"name\":\"minClusterActiveParallelism\",\"nullable\":true,\"type\":\"long\"},{\"metadata\":{},\"name\":\"maxSessionActiveParallelism\",\"nullable\":true,\"type\":\"long\"},{\"metadata\":{},\"name\":\"minSessionActiveParallelism\",\"nullable\":true,\"type\":\"long\"}],\"type\":\"struct\"}},{\"metadata\":{},\"name\":\"deletionVectorStats\",\"nullable\":true,\"type\":{\"fields\":[{\"metadata\":{},\"name\":\"numDeletionVectorsRemoved\",\"nullable\":false,\"type\":\"long\"},{\"metadata\":{},\"name\":\"numDeletionVectorRowsRemoved\",\"nullable\":false,\"type\":\"long\"}],\"type\":\"struct\"}},{\"metadata\":{},\"name\":\"recompressionCodec\",\"nullable\":true,\"type\":\"string\"},{\"metadata\":{},\"name\":\"numTableColumns\",\"nullable\":false,\"type\":\"long\"},{\"metadata\":{},\"name\":\"numTableColumnsWithStats\",\"nullable\":false,\"type\":\"long\"},{\"metadata\":{},\"name\":\"totalTaskExecutionTimeMs\",\"nullable\":false,\"type\":\"long\"},{\"metadata\":{},\"name\":\"skippedArchivedFiles\",\"nullable\":false,\"type\":\"long\"},{\"metadata\":{},\"name\":\"clusteringMetrics\",\"nullable\":true,\"type\":{\"fields\":[{\"metadata\":{},\"name\":\"sizeOfTableInBytesBeforeLazyClustering\",\"nullable\":false,\"type\":\"long\"},{\"metadata\":{},\"name\":\"isNewMetadataCreated\",\"nullable\":false,\"type\":\"boolean\"},{\"metadata\":{},\"name\":\"isPOTriggered\",\"nullable\":false,\"type\":\"boolean\"},{\"metadata\":{},\"name\":\"isFull\",\"nullable\":false,\"type\":\"boolean\"},{\"metadata\":{},\"name\":\"approxClusteringQuality\",\"nullable\":true,\"type\":\"double\"},{\"metadata\":{},\"name\":\"approxClusteringQualityPerColumn\",\"nullable\":true,\"type\":{\"containsNull\":false,\"elementType\":\"double\",\"type\":\"array\"}},{\"metadata\":{},\"name\":\"approxClusteringCoverage\",\"nullable\":true,\"type\":\"double\"},{\"metadata\":{},\"name\":\"numFilesSkippedWithoutStats\",\"nullable\":false,\"type\":\"long\"},{\"metadata\":{},\"name\":\"numFilesClassifiedToIntermediateNodes\",\"nullable\":false,\"type\":\"long\"},{\"metadata\":{},\"name\":\"sizeOfFilesClassifiedToIntermediateNodesInBytes\",\"nullable\":false,\"type\":\"long\"},{\"metadata\":{},\"name\":\"logicalSizeOfFilesClassifiedToIntermediateNodesInBytes\",\"nullable\":false,\"type\":\"long\"},{\"metadata\":{},\"name\":\"numFilesClassifiedToLeafNodes\",\"nullable\":false,\"type\":\"long\"},{\"metadata\":{},\"name\":\"sizeOfFilesClassifiedToLeafNodesInBytes\",\"nullable\":false,\"type\":\"long\"},{\"metadata\":{},\"name\":\"logicalSizeOfFilesClassifiedToLeafNodesInBytes\",\"nullable\":false,\"type\":\"long\"},{\"metadata\":{},\"name\":\"numThreadsForClassifier\",\"nullable\":true,\"type\":\"integer\"},{\"metadata\":{},\"name\":\"clusterThresholdStrategy\",\"nullable\":true,\"type\":\"string\"},{\"metadata\":{},\"name\":\"minFileSize\",\"nullable\":false,\"type\":\"long\"},{\"metadata\":{},\"name\":\"maxFileSize\",\"nullable\":false,\"type\":\"long\"},{\"metadata\":{},\"name\":\"nodeMinNumFilesToCompact\",\"nullable\":false,\"type\":\"long\"},{\"metadata\":{},\"name\":\"numIdealFiles\",\"nullable\":false,\"type\":\"long\"},{\"metadata\":{},\"name\":\"numIdealFilesWithTrimmedStringMaxValue\",\"nullable\":false,\"type\":\"long\"},{\"metadata\":{},\"name\":\"numAddedFilesWithSameMinMaxOnClusteringColumns\",\"nullable\":true,\"type\":{\"containsNull\":false,\"elementType\":\"long\",\"type\":\"array\"}},{\"metadata\":{},\"name\":\"numClusteringTasksPlanned\",\"nullable\":false,\"type\":\"integer\"},{\"metadata\":{},\"name\":\"numCompactionTasksPlanned\",\"nullable\":false,\"type\":\"integer\"},{\"metadata\":{},\"name\":\"numOptimizeBatchesPlanned\",\"nullable\":false,\"type\":\"integer\"},{\"metadata\":{},\"name\":\"numLeafNodesExpanded\",\"nullable\":false,\"type\":\"long\"},{\"metadata\":{},\"name\":\"numLeafNodesClustered\",\"nullable\":false,\"type\":\"long\"},{\"metadata\":{},\"name\":\"numGetFilesForNodeCalls\",\"nullable\":false,\"type\":\"long\"},{\"metadata\":{},\"name\":\"numSamplingJobs\",\"nullable\":false,\"type\":\"long\"},{\"metadata\":{},\"name\":\"numLeafNodesCompacted\",\"nullable\":false,\"type\":\"long\"},{\"metadata\":{},\"name\":\"numIntermediateNodesCompacted\",\"nullable\":false,\"type\":\"long\"},{\"metadata\":{},\"name\":\"totalSizeOfDataToCompactInBytes\",\"nullable\":false,\"type\":\"long\"},{\"metadata\":{},\"name\":\"totalLogicalSizeOfDataToCompactInBytes\",\"nullable\":false,\"type\":\"long\"},{\"metadata\":{},\"name\":\"numIntermediateNodesClustered\",\"nullable\":false,\"type\":\"long\"},{\"metadata\":{},\"name\":\"numFilesSkippedAfterExpansion\",\"nullable\":false,\"type\":\"long\"},{\"metadata\":{},\"name\":\"totalSizeOfFilesSkippedAfterExpansionInBytes\",\"nullable\":false,\"type\":\"long\"},{\"metadata\":{},\"name\":\"totalLogicalSizeOfFilesSkippedAfterExpansionInBytes\",\"nullable\":false,\"type\":\"long\"},{\"metadata\":{},\"name\":\"totalSizeOfDataToRewriteInBytes\",\"nullable\":false,\"type\":\"long\"},{\"metadata\":{},\"name\":\"totalLogicalSizeOfDataToRewriteInBytes\",\"nullable\":false,\"type\":\"long\"},{\"metadata\":{},\"name\":\"timeMetrics\",\"nullable\":true,\"type\":{\"fields\":[{\"metadata\":{},\"name\":\"classifierTimeMs\",\"nullable\":false,\"type\":\"long\"},{\"metadata\":{},\"name\":\"optimizerTimeMs\",\"nullable\":false,\"type\":\"long\"},{\"metadata\":{},\"name\":\"metadataLoadTimeMs\",\"nullable\":false,\"type\":\"long\"},{\"metadata\":{},\"name\":\"totalGetFilesForNodeCallsTimeMs\",\"nullable\":false,\"type\":\"long\"},{\"metadata\":{},\"name\":\"totalSamplingTimeMs\",\"nullable\":false,\"type\":\"long\"},{\"metadata\":{},\"name\":\"metadataCreationTimeMs\",\"nullable\":false,\"type\":\"long\"}],\"type\":\"struct\"}},{\"metadata\":{},\"name\":\"maxOptimizeBatchesInParallel\",\"nullable\":false,\"type\":\"long\"},{\"metadata\":{},\"name\":\"currentIteration\",\"nullable\":false,\"type\":\"integer\"},{\"metadata\":{},\"name\":\"maxIterations\",\"nullable\":false,\"type\":\"integer\"},{\"metadata\":{},\"name\":\"clusteringStrategy\",\"nullable\":true,\"type\":\"string\"}],\"type\":\"struct\"}}],\"type\":\"struct\"}"
        }
       ],
       "type": "table"
      }
     },
     "output_type": "display_data"
    }
   ],
   "source": [
    "%sql\n",
    "-- iceberg v2 does not support deletion vectors, v3 does\n",
    "REORG TABLE sb.theme_park.visitors_metric_view_snowflake_V2 APPLY (UPGRADE UNIFORM(ICEBERG_COMPAT_VERSION=2));"
   ]
  },
  {
   "cell_type": "code",
   "execution_count": 0,
   "metadata": {
    "application/vnd.databricks.v1+cell": {
     "cellMetadata": {
      "byteLimit": 2048000,
      "implicitDf": true,
      "rowLimit": 10000
     },
     "inputWidgets": {},
     "nuid": "a041f9b5-8ec9-413a-b13f-a4148dd88ede",
     "showTitle": true,
     "tableResultSettingsMap": {},
     "title": "Configure Delta Table Properties for Visitor Metrics"
    }
   },
   "outputs": [],
   "source": [
    "%sql\n",
    "ALTER TABLE sb.theme_park.visitors_metric_view_snowflake_V2 SET TBLPROPERTIES(\n",
    "  'delta.columnMapping.mode' = 'name',\n",
    "  'delta.enableIcebergCompatV2' = 'true',\n",
    "  'delta.universalFormat.enabledFormats' = 'iceberg');"
   ]
  },
  {
   "cell_type": "markdown",
   "metadata": {
    "application/vnd.databricks.v1+cell": {
     "cellMetadata": {},
     "inputWidgets": {},
     "nuid": "5208f94f-ce8b-4f1c-bc96-f6cc80c617c2",
     "showTitle": false,
     "tableResultSettingsMap": {},
     "title": ""
    }
   },
   "source": [
    "# Authentication\n",
    "It is recommended to use a service principal for both development and production workloads.\n",
    "\n",
    "What you'll need:\n",
    "- Create Service Principal in Workspace Admin Settings\n",
    "- Save `client id` & `secret`"
   ]
  },
  {
   "cell_type": "markdown",
   "metadata": {
    "application/vnd.databricks.v1+cell": {
     "cellMetadata": {},
     "inputWidgets": {},
     "nuid": "1e20c18e-c954-402d-9c59-9c6bd6bb7c36",
     "showTitle": false,
     "tableResultSettingsMap": {},
     "title": ""
    }
   },
   "source": [
    "# Databricks Table in Snowflake\n",
    "Snowflake Horizon catalog is able to connect to UC's Iceberg REST Catalog. After setting up the catalog integration, we will use Snowflake's [vended credentials](https://docs.snowflake.com/en/user-guide/tables-iceberg-configure-catalog-integration-vended-credentials) for Iceberg to simplify access to underlying storage.\n",
    "![](./setup/snowflake_read_databricks_worksheet)"
   ]
  }
 ],
 "metadata": {
  "application/vnd.databricks.v1+notebook": {
   "computePreferences": null,
   "dashboards": [],
   "environmentMetadata": {
    "base_environment": "",
    "environment_version": "2"
   },
   "inputWidgetPreferences": null,
   "language": "python",
   "notebookMetadata": {
    "mostRecentlyExecutedCommandWithImplicitDF": {
     "commandId": 2038282820262392,
     "dataframes": [
      "_sqldf"
     ]
    },
    "pythonIndentUnit": 2
   },
   "notebookName": "snowflake-intero & metric views",
   "widgets": {
    "catalog": {
     "currentValue": "sb",
     "nuid": "6feb4d32-d854-444a-a00d-2e1dd8634e8c",
     "typedWidgetInfo": {
      "autoCreated": false,
      "defaultValue": "",
      "label": null,
      "name": "catalog",
      "options": {
       "widgetDisplayType": "Text",
       "validationRegex": null
      },
      "parameterDataType": "String"
     },
     "widgetInfo": {
      "widgetType": "text",
      "defaultValue": "",
      "label": null,
      "name": "catalog",
      "options": {
       "widgetType": "text",
       "autoCreated": null,
       "validationRegex": null
      }
     }
    },
    "iceberg_catalog": {
     "currentValue": "snowflake_theme_park_connection_catalog",
     "nuid": "25042e97-51b0-414a-a96c-aa0220f11a01",
     "typedWidgetInfo": {
      "autoCreated": false,
      "defaultValue": "",
      "label": null,
      "name": "iceberg_catalog",
      "options": {
       "widgetDisplayType": "Text",
       "validationRegex": null
      },
      "parameterDataType": "String"
     },
     "widgetInfo": {
      "widgetType": "text",
      "defaultValue": "",
      "label": null,
      "name": "iceberg_catalog",
      "options": {
       "widgetType": "text",
       "autoCreated": null,
       "validationRegex": null
      }
     }
    },
    "iceberg_schema": {
     "currentValue": "visitor_data",
     "nuid": "33eb7c30-72fa-4b99-9ba6-583da17cfb55",
     "typedWidgetInfo": {
      "autoCreated": false,
      "defaultValue": "",
      "label": null,
      "name": "iceberg_schema",
      "options": {
       "widgetDisplayType": "Text",
       "validationRegex": null
      },
      "parameterDataType": "String"
     },
     "widgetInfo": {
      "widgetType": "text",
      "defaultValue": "",
      "label": null,
      "name": "iceberg_schema",
      "options": {
       "widgetType": "text",
       "autoCreated": null,
       "validationRegex": null
      }
     }
    },
    "schema": {
     "currentValue": "theme_park",
     "nuid": "f9e40e2c-d2d9-4e2b-bb7b-9b26b9df7071",
     "typedWidgetInfo": {
      "autoCreated": false,
      "defaultValue": "",
      "label": null,
      "name": "schema",
      "options": {
       "widgetDisplayType": "Text",
       "validationRegex": null
      },
      "parameterDataType": "String"
     },
     "widgetInfo": {
      "widgetType": "text",
      "defaultValue": "",
      "label": null,
      "name": "schema",
      "options": {
       "widgetType": "text",
       "autoCreated": null,
       "validationRegex": null
      }
     }
    }
   }
  },
  "language_info": {
   "name": "python"
  }
 },
 "nbformat": 4,
 "nbformat_minor": 0
}